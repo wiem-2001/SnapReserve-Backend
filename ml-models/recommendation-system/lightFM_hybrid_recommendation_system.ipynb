{
 "cells": [
  {
   "cell_type": "markdown",
   "id": "c75fc8b9-13f4-4c7d-b616-ff375a134672",
   "metadata": {},
   "source": [
    "<h1 style=\"color:red;\">Data Loading, Exploration and Preprocessing</h1>"
   ]
  },
  {
   "cell_type": "code",
   "execution_count": 196,
   "id": "ceb7f003-ee26-480d-b0bd-c500ebf6df4f",
   "metadata": {},
   "outputs": [],
   "source": [
    "import pandas as pd\n",
    "import numpy as np\n",
    "import matplotlib.pyplot as plt\n",
    "import seaborn as sns\n",
    "from sklearn.preprocessing import MinMaxScaler\n",
    "from lightfm.data import Dataset\n",
    "from lightfm.cross_validation import random_train_test_split\n",
    "import optuna\n",
    "from lightfm import LightFM\n",
    "from lightfm.evaluation import precision_at_k, recall_at_k, auc_score\n",
    "import joblib"
   ]
  },
  {
   "cell_type": "code",
   "execution_count": 198,
   "id": "d247e325-37be-4a77-a400-1417841836f0",
   "metadata": {},
   "outputs": [
    {
     "name": "stdout",
     "output_type": "stream",
     "text": [
      "Numpy: 1.26.4\n",
      "scikit-learn: 1.5.1\n",
      "joblib: 1.4.2\n"
     ]
    }
   ],
   "source": [
    "import numpy\n",
    "import sklearn\n",
    "import joblib\n",
    "\n",
    "print(\"Numpy:\", numpy.__version__)\n",
    "print(\"scikit-learn:\", sklearn.__version__)\n",
    "print(\"joblib:\", joblib.__version__)\n"
   ]
  },
  {
   "cell_type": "code",
   "execution_count": 200,
   "id": "1fdf0624-dd39-4c49-8d68-30de633b713f",
   "metadata": {},
   "outputs": [
    {
     "name": "stdout",
     "output_type": "stream",
     "text": [
      "Users:\n",
      "                    cme7e180w0000gb1cjl1rkynu\n",
      "user_0 male   26-35                  attendee\n",
      "user_1 female 26-35                  attendee\n",
      "user_2 male   26-35                  attendee\n",
      "user_3 male   36-50                  attendee\n",
      "user_4 male   26-35                  attendee\n",
      "\n",
      "Events:\n",
      "  event_id category  popularity_score  event_date  is_weekend\n",
      "0  event_0   Sports              0.96  2025-09-06        True\n",
      "1  event_1    Movie              0.20  2025-08-04       False\n",
      "2  event_2    Movie              0.95  2025-07-29       False\n",
      "3  event_3    Movie              0.99  2025-09-13        True\n",
      "4  event_4  Theater              0.71  2025-08-14       False\n",
      "\n",
      "Interactions:\n",
      "    user_id   event_id\n",
      "0  user_870  event_209\n",
      "1  user_101  event_120\n",
      "2  user_628   event_19\n",
      "3  user_134  event_127\n",
      "4   user_57  event_190\n"
     ]
    }
   ],
   "source": [
    "users = pd.read_csv('synthetic_users.csv') \n",
    "events = pd.read_csv('synthetic_events.csv') \n",
    "interactions = pd.read_csv('synthetic_interactions.csv')  \n",
    "\n",
    "print(\"Users:\")\n",
    "print(users.head())\n",
    "print(\"\\nEvents:\")\n",
    "print(events.head())\n",
    "print(\"\\nInteractions:\")\n",
    "print(interactions.head())"
   ]
  },
  {
   "cell_type": "code",
   "execution_count": 202,
   "id": "f174dde1-c868-44e5-aba8-78431d4d3ca7",
   "metadata": {},
   "outputs": [
    {
     "name": "stdout",
     "output_type": "stream",
     "text": [
      "<class 'pandas.core.frame.DataFrame'>\n",
      "MultiIndex: 1000 entries, ('user_0', 'male', '26-35') to ('user_999', 'male', '36-50')\n",
      "Data columns (total 1 columns):\n",
      " #   Column                     Non-Null Count  Dtype \n",
      "---  ------                     --------------  ----- \n",
      " 0   cme7e180w0000gb1cjl1rkynu  1000 non-null   object\n",
      "dtypes: object(1)\n",
      "memory usage: 52.2+ KB\n"
     ]
    }
   ],
   "source": [
    "users.info()"
   ]
  },
  {
   "cell_type": "code",
   "execution_count": 204,
   "id": "e5ac4894-dea5-4b90-8dbf-5afc7aa1010f",
   "metadata": {},
   "outputs": [
    {
     "name": "stdout",
     "output_type": "stream",
     "text": [
      "<class 'pandas.core.frame.DataFrame'>\n",
      "RangeIndex: 550 entries, 0 to 549\n",
      "Data columns (total 5 columns):\n",
      " #   Column            Non-Null Count  Dtype  \n",
      "---  ------            --------------  -----  \n",
      " 0   event_id          550 non-null    object \n",
      " 1   category          550 non-null    object \n",
      " 2   popularity_score  550 non-null    float64\n",
      " 3   event_date        550 non-null    object \n",
      " 4   is_weekend        550 non-null    bool   \n",
      "dtypes: bool(1), float64(1), object(3)\n",
      "memory usage: 17.9+ KB\n"
     ]
    }
   ],
   "source": [
    "events.info()"
   ]
  },
  {
   "cell_type": "code",
   "execution_count": 206,
   "id": "921dc186-c9ad-4c1a-934c-21ae38105440",
   "metadata": {},
   "outputs": [
    {
     "name": "stdout",
     "output_type": "stream",
     "text": [
      "<class 'pandas.core.frame.DataFrame'>\n",
      "RangeIndex: 1398 entries, 0 to 1397\n",
      "Data columns (total 2 columns):\n",
      " #   Column    Non-Null Count  Dtype \n",
      "---  ------    --------------  ----- \n",
      " 0   user_id   1398 non-null   object\n",
      " 1   event_id  1398 non-null   object\n",
      "dtypes: object(2)\n",
      "memory usage: 22.0+ KB\n"
     ]
    }
   ],
   "source": [
    "interactions.info()"
   ]
  },
  {
   "cell_type": "markdown",
   "id": "fe0aca21-b908-4178-a921-44cdde9122de",
   "metadata": {},
   "source": [
    "<h2>Exploratory Data Analysis (EDA) - Users</h2>"
   ]
  },
  {
   "cell_type": "code",
   "execution_count": 213,
   "id": "c684c8b8-90b8-431d-821c-784774b30c78",
   "metadata": {},
   "outputs": [
    {
     "data": {
      "text/plain": [
       "<Figure size 1400x400 with 0 Axes>"
      ]
     },
     "metadata": {},
     "output_type": "display_data"
    }
   ],
   "source": [
    "plt.figure(figsize=(14, 4))\n",
    "\n",
    "plot_idx = 1\n",
    "\n",
    "if 'gender' in users.columns:\n",
    "    plt.subplot(1, 3, plot_idx)\n",
    "    sns.countplot(data=users, x='gender')\n",
    "    plt.title('Gender Distribution')\n",
    "    plot_idx += 1\n",
    "\n",
    "if 'age_group' in users.columns:\n",
    "    plt.subplot(1, 3, plot_idx)\n",
    "    sns.countplot(data=users, x='age_group')\n",
    "    plt.title('Age Group Distribution')\n",
    "    plot_idx += 1\n",
    "\n",
    "# if 'role' in users.columns:\n",
    "#     plt.subplot(1, 3, plot_idx)\n",
    "#     sns.countplot(data=users, x='role')\n",
    "#     plt.title('Role Distribution')\n",
    "    plot_idx += 1\n",
    "\n",
    "plt.tight_layout()\n",
    "plt.show()\n"
   ]
  },
  {
   "cell_type": "markdown",
   "id": "d7e30195-9cf2-43bd-beca-3c8b936d787b",
   "metadata": {},
   "source": [
    "<h2>Exploratory Data Analysis (EDA) - Events</h2>"
   ]
  },
  {
   "cell_type": "code",
   "execution_count": 216,
   "id": "e35ebb92-58f6-450e-af54-4d4cc0300c88",
   "metadata": {},
   "outputs": [
    {
     "name": "stdout",
     "output_type": "stream",
     "text": [
      "Columns in events: Index(['event_id', 'category', 'popularity_score', 'event_date', 'is_weekend'], dtype='object')\n",
      "Is 'category' column present? True\n",
      "Events DataFrame empty? False\n"
     ]
    },
    {
     "data": {
      "image/png": "[encoded data removed]",
      "text/plain": [
       "<Figure size 1000x400 with 2 Axes>"
      ]
     },
     "metadata": {},
     "output_type": "display_data"
    }
   ],
   "source": [
    "print(\"Columns in events:\", events.columns)\n",
    "print(\"Is 'category' column present?\", 'category' in events.columns)\n",
    "print(\"Events DataFrame empty?\", events.empty)\n",
    "\n",
    "plt.figure(figsize=(10,4))\n",
    "\n",
    "plt.subplot(1,2,1)\n",
    "if 'category' in events.columns and not events.empty:\n",
    "    sns.countplot(data=events, x='category')\n",
    "    plt.title('Event Category Distribution')\n",
    "    plt.xticks(rotation=45)\n",
    "else:\n",
    "    print(\"Skipping countplot: 'category' column missing or events is empty\")\n",
    "\n",
    "plt.subplot(1,2,2)\n",
    "if not events.empty:\n",
    "    sns.histplot(data=events, x='popularity_score', bins=20)\n",
    "    plt.title('Popularity Score Distribution')\n",
    "else:\n",
    "    print(\"Skipping histplot: events DataFrame is empty\")\n",
    "\n",
    "plt.tight_layout()\n",
    "plt.show()\n"
   ]
  },
  {
   "cell_type": "markdown",
   "id": "148da7f7-6a61-48f6-a0fb-9ebf04b5051a",
   "metadata": {},
   "source": [
    "<h2>Interaction Counts Analysis</h2>"
   ]
  },
  {
   "cell_type": "code",
   "execution_count": 219,
   "id": "378ab920-924f-4672-a6e1-c01b19bec4db",
   "metadata": {},
   "outputs": [
    {
     "name": "stdout",
     "output_type": "stream",
     "text": [
      "\n",
      "Interactions per user:\n",
      "count    645.000000\n",
      "mean       2.167442\n",
      "std       15.551154\n",
      "min        1.000000\n",
      "25%        1.000000\n",
      "50%        1.000000\n",
      "75%        2.000000\n",
      "max      396.000000\n",
      "Name: count, dtype: float64\n",
      "\n",
      "Interactions per event:\n",
      "count     95.000000\n",
      "mean      14.715789\n",
      "std       40.492622\n",
      "min        1.000000\n",
      "25%        3.000000\n",
      "50%        9.000000\n",
      "75%       17.000000\n",
      "max      396.000000\n",
      "Name: count, dtype: float64\n"
     ]
    }
   ],
   "source": [
    "print(\"\\nInteractions per user:\")\n",
    "if 'user_id' in interactions.columns:\n",
    "    print(interactions['user_id'].value_counts().describe())\n",
    "else:\n",
    "    print(\" 'user_id' column is missing in interactions.\")\n",
    "\n",
    "print(\"\\nInteractions per event:\")\n",
    "if 'event_id' in interactions.columns:\n",
    "    print(interactions['event_id'].value_counts().describe())\n",
    "else:\n",
    "    print(\"'event_id' column is missing in interactions.\")\n"
   ]
  },
  {
   "cell_type": "markdown",
   "id": "e919a3c3-a7e1-4ef2-b4ca-265c26bad8d0",
   "metadata": {},
   "source": [
    "<h2>Removing uneeded data (users with role organizer )  </h2>"
   ]
  },
  {
   "cell_type": "code",
   "execution_count": 222,
   "id": "fd87f8b0-4315-42f8-b284-2b6f6b2000f4",
   "metadata": {},
   "outputs": [],
   "source": [
    "# users = users[users['role'] != 'organizer']\n",
    "# print(f\"Users after removing organizers: {users.shape[0]}\")"
   ]
  },
  {
   "cell_type": "markdown",
   "id": "91fd0b68-489b-4c24-b8a9-07691f9ecd51",
   "metadata": {},
   "source": [
    "<h2>Remove interactions related to removed users</h2>"
   ]
  },
  {
   "cell_type": "code",
   "execution_count": 228,
   "id": "2b5ec41f-2559-42cb-92be-24a54c288d8c",
   "metadata": {},
   "outputs": [],
   "source": [
    "# valid_user_ids = set(users['user_id'])\n",
    "# interactions = interactions[interactions['user_id'].isin(valid_user_ids)]\n",
    "# print(f\"Interactions after removing organizer-related ones: {interactions.shape[0]}\")"
   ]
  },
  {
   "cell_type": "markdown",
   "id": "8eefb547-96dc-40bb-a5a4-ec7fc6119ae5",
   "metadata": {},
   "source": [
    "<h2>Encode categorical columns</h2>"
   ]
  },
  {
   "cell_type": "code",
   "execution_count": 231,
   "id": "a8062905-8f4d-45e4-8971-21b30cdecffc",
   "metadata": {},
   "outputs": [
    {
     "name": "stdout",
     "output_type": "stream",
     "text": [
      "Column 'gender' not found in users DataFrame.\n",
      "Column 'age_group' not found in users DataFrame.\n",
      "Column 'role' not found in users DataFrame.\n",
      "\n",
      "Encoded Users sample:\n",
      "                    cme7e180w0000gb1cjl1rkynu\n",
      "user_0 male   26-35                  attendee\n",
      "user_1 female 26-35                  attendee\n",
      "user_2 male   26-35                  attendee\n",
      "user_3 male   36-50                  attendee\n",
      "user_4 male   26-35                  attendee\n",
      "\n",
      "Encoded Events sample:\n",
      "  event_id  category  popularity_score  event_date  is_weekend\n",
      "0  event_0         8              0.96  2025-09-06        True\n",
      "1  event_1         5              0.20  2025-08-04       False\n",
      "2  event_2         5              0.95  2025-07-29       False\n",
      "3  event_3         5              0.99  2025-09-13        True\n",
      "4  event_4        10              0.71  2025-08-14       False\n"
     ]
    }
   ],
   "source": [
    "users_encoded = users.copy()\n",
    "\n",
    "for col in ['gender', 'age_group', 'role']:\n",
    "    if col in users.columns:\n",
    "        users_encoded[col] = users_encoded[col].astype('category').cat.codes\n",
    "    else:\n",
    "        print(f\"Column '{col}' not found in users DataFrame.\")\n",
    "\n",
    "events_encoded = events.copy()  \n",
    "\n",
    "if 'category' in events.columns:\n",
    "    events_encoded['category'] = events_encoded['category'].astype('category').cat.codes\n",
    "else:\n",
    "    print(\"Column 'category' not found in events DataFrame.\")\n",
    "\n",
    "print(\"\\nEncoded Users sample:\")\n",
    "print(users_encoded.head())\n",
    "\n",
    "print(\"\\nEncoded Events sample:\")\n",
    "print(events_encoded.head())\n"
   ]
  },
  {
   "cell_type": "markdown",
   "id": "fcee7feb-3031-4cff-b4b8-56b5cc97ec8d",
   "metadata": {},
   "source": [
    "<h2>Scale popularity_score</h2>"
   ]
  },
  {
   "cell_type": "code",
   "execution_count": 234,
   "id": "9cb64092-ad59-42f8-b1cb-2eb966080bbb",
   "metadata": {},
   "outputs": [],
   "source": [
    "scaler = MinMaxScaler()\n",
    "events_encoded['popularity_score'] = scaler.fit_transform(events_encoded[['popularity_score']])"
   ]
  },
  {
   "cell_type": "markdown",
   "id": "1da855b1-1837-4e25-83bd-4d25dc52c259",
   "metadata": {},
   "source": [
    "<h2>Convert event_date to datetime format</h2>"
   ]
  },
  {
   "cell_type": "code",
   "execution_count": 237,
   "id": "770705cd-c184-4f25-98ca-a972f23c922e",
   "metadata": {},
   "outputs": [],
   "source": [
    "events_encoded['event_date'] = pd.to_datetime(events_encoded['event_date'])"
   ]
  },
  {
   "cell_type": "markdown",
   "id": "cfd4e97c-8c02-4555-afc2-ad36577c3682",
   "metadata": {},
   "source": [
    "<h2>Final check: print samples and shapes after cleaning and encoding</h2>"
   ]
  },
  {
   "cell_type": "code",
   "execution_count": 240,
   "id": "e4950393-bf35-45aa-9f42-b005ca92c4ca",
   "metadata": {},
   "outputs": [
    {
     "name": "stdout",
     "output_type": "stream",
     "text": [
      "\n",
      "Cleaned Users Sample:\n",
      "                    cme7e180w0000gb1cjl1rkynu\n",
      "user_0 male   26-35                  attendee\n",
      "user_1 female 26-35                  attendee\n",
      "user_2 male   26-35                  attendee\n",
      "user_3 male   36-50                  attendee\n",
      "user_4 male   26-35                  attendee\n",
      "\n",
      "Cleaned Events Sample:\n",
      "  event_id  category  popularity_score event_date  is_weekend\n",
      "0  event_0         8          0.969697 2025-09-06        True\n",
      "1  event_1         5          0.202020 2025-08-04       False\n",
      "2  event_2         5          0.959596 2025-07-29       False\n",
      "3  event_3         5          1.000000 2025-09-13        True\n",
      "4  event_4        10          0.717172 2025-08-14       False\n",
      "\n",
      "Cleaned Interactions Sample:\n",
      "    user_id   event_id\n",
      "0  user_870  event_209\n",
      "1  user_101  event_120\n",
      "2  user_628   event_19\n",
      "3  user_134  event_127\n",
      "4   user_57  event_190\n"
     ]
    }
   ],
   "source": [
    "print(\"\\nCleaned Users Sample:\")\n",
    "print(users_encoded.head())\n",
    "\n",
    "print(\"\\nCleaned Events Sample:\")\n",
    "print(events_encoded.head())\n",
    "\n",
    "print(\"\\nCleaned Interactions Sample:\")\n",
    "print(interactions.head())"
   ]
  },
  {
   "cell_type": "markdown",
   "id": "674821bf-3c90-4ab6-883b-9d3f703d21fe",
   "metadata": {},
   "source": [
    "<h1 style=\"color:red;\">LightFM Dataset Preparation</h1>"
   ]
  },
  {
   "cell_type": "markdown",
   "id": "4299a597-9187-4740-b7f5-69628b1f54fb",
   "metadata": {},
   "source": [
    "<h2>Build interaction matrix from (user_id, event_id) pairs</h2> "
   ]
  },
  {
   "cell_type": "code",
   "execution_count": 120,
   "id": "8327ff8c-d597-4f73-9544-af0772cf85b9",
   "metadata": {},
   "outputs": [
    {
     "name": "stdout",
     "output_type": "stream",
     "text": [
      "Interaction matrix shape: (909, 510)\n",
      "User features sparse: (909, 916)\n",
      "Item features sparse: (510, 524)\n"
     ]
    }
   ],
   "source": [
    "dataset = Dataset()\n",
    "\n",
    "user_ids = users_encoded['user_id'].unique()\n",
    "event_ids = events_encoded['event_id'].unique()\n",
    "\n",
    "user_features_raw = users_encoded.set_index('user_id')[['gender', 'age_group', 'role']]\n",
    "user_feature_tuples = [\n",
    "    (uid, [f\"gender:{g}\", f\"age_group:{a}\", f\"role:{r}\"])\n",
    "    for uid, g, a, r in zip(user_features_raw.index, user_features_raw['gender'], user_features_raw['age_group'], user_features_raw['role'])\n",
    "]\n",
    "\n",
    "event_features_raw = events_encoded.set_index('event_id')[['category', 'popularity_score', 'is_weekend']]\n",
    "event_feature_tuples = [\n",
    "    (eid, [f\"category:{c}\", f\"is_weekend:{w}\"])\n",
    "    for eid, c, w in zip(event_features_raw.index, event_features_raw['category'], event_features_raw['is_weekend'])\n",
    "]\n",
    "\n",
    "dataset.fit(\n",
    "    users=user_ids,\n",
    "    items=event_ids,\n",
    "    user_features=set(f for _, feats in user_feature_tuples for f in feats),\n",
    "    item_features=set(f for _, feats in event_feature_tuples for f in feats)\n",
    ")\n",
    "\n",
    "(interactions_matrix, weights) = dataset.build_interactions(\n",
    "    [(row['user_id'], row['event_id']) for idx, row in interactions.iterrows()]\n",
    ")\n",
    "print(f\"Interaction matrix shape: {interactions_matrix.shape}\")\n",
    "\n",
    "user_features = dataset.build_user_features(user_feature_tuples)\n",
    "item_features = dataset.build_item_features(event_feature_tuples)\n",
    "\n",
    "print(\"User features sparse:\", user_features.shape)\n",
    "print(\"Item features sparse:\", item_features.shape)\n"
   ]
  },
  {
   "cell_type": "markdown",
   "id": "f3c48d8b-b0a1-4000-9dd9-5c52b947fa59",
   "metadata": {},
   "source": [
    "<h1 style=\"color:red;\">Training</h1>"
   ]
  },
  {
   "cell_type": "markdown",
   "id": "3c25d66b-2f1c-41db-b6cc-98065ed9f976",
   "metadata": {},
   "source": [
    "<h2>Train-Test Split</h2>"
   ]
  },
  {
   "cell_type": "code",
   "execution_count": 124,
   "id": "a6182f4d-bb09-47d5-aef9-82943754a837",
   "metadata": {},
   "outputs": [
    {
     "name": "stdout",
     "output_type": "stream",
     "text": [
      "Train interactions: 7444 | Test interactions: 1861\n"
     ]
    }
   ],
   "source": [
    "train, test = random_train_test_split(interactions_matrix, test_percentage=0.2, random_state=42)\n",
    "print(f\"Train interactions: {train.nnz} | Test interactions: {test.nnz}\")"
   ]
  },
  {
   "cell_type": "markdown",
   "id": "3d81d42b-9b69-4133-ad8d-e1c5e3fc14e5",
   "metadata": {},
   "source": [
    "<h2>Hyperparameter Tuning with Optuna</h2>\n",
    "<p>We use Optuna to automatically and efficiently find the best hyperparameters for the LightFM model. Optuna intelligently explores the parameter space by learning from previous trials, allowing faster convergence to optimal values compared to manual or random searches. This results in improved model performance with fewer training iterations and less computational effort.</p>"
   ]
  },
  {
   "cell_type": "code",
   "execution_count": 127,
   "id": "c8478bc9-6876-4d55-80a6-6e7ced261335",
   "metadata": {},
   "outputs": [
    {
     "name": "stderr",
     "output_type": "stream",
     "text": [
      "[I 2025-08-13 01:00:07,232] A new study created in memory with name: no-name-6743589b-841e-44df-ac26-da49a1a9dd70\n",
      "[I 2025-08-13 01:00:10,559] Trial 0 finished with value: 0.04408060386776924 and parameters: {'no_components': 55, 'learning_rate': 0.006581803248538284, 'item_alpha': 2.2917208145174193e-06, 'user_alpha': 0.00036320247955426964}. Best is trial 0 with value: 0.04408060386776924.\n",
      "[I 2025-08-13 01:00:12,463] Trial 1 finished with value: 0.04408060386776924 and parameters: {'no_components': 26, 'learning_rate': 0.005545529001236596, 'item_alpha': 2.856189355194743e-05, 'user_alpha': 9.666740607702326e-06}. Best is trial 0 with value: 0.04408060386776924.\n",
      "[I 2025-08-13 01:00:14,940] Trial 2 finished with value: 0.04408060386776924 and parameters: {'no_components': 31, 'learning_rate': 0.0002994965563594809, 'item_alpha': 0.00017042262592973956, 'user_alpha': 0.00038555749511956126}. Best is trial 0 with value: 0.04408060386776924.\n",
      "[I 2025-08-13 01:00:18,541] Trial 3 finished with value: 0.04408060386776924 and parameters: {'no_components': 57, 'learning_rate': 0.00040706655414224645, 'item_alpha': 0.00012631428813842033, 'user_alpha': 0.00012346720489345305}. Best is trial 0 with value: 0.04408060386776924.\n",
      "[I 2025-08-13 01:00:22,411] Trial 4 finished with value: 0.035768263041973114 and parameters: {'no_components': 53, 'learning_rate': 0.00713696775255691, 'item_alpha': 0.0013287816867974592, 'user_alpha': 0.007408905676459182}. Best is trial 0 with value: 0.04408060386776924.\n",
      "[I 2025-08-13 01:00:25,821] Trial 5 finished with value: 0.04408060386776924 and parameters: {'no_components': 44, 'learning_rate': 0.00036535043670364836, 'item_alpha': 0.0026519569037134144, 'user_alpha': 3.962619009732031e-05}. Best is trial 0 with value: 0.04408060386776924.\n",
      "[I 2025-08-13 01:00:31,913] Trial 6 finished with value: 0.04408060386776924 and parameters: {'no_components': 86, 'learning_rate': 0.0005778708601742524, 'item_alpha': 7.165967120825568e-06, 'user_alpha': 1.7211422348837624e-05}. Best is trial 0 with value: 0.04408060386776924.\n",
      "[I 2025-08-13 01:00:33,611] Trial 7 finished with value: 0.035768263041973114 and parameters: {'no_components': 20, 'learning_rate': 0.027621485983030433, 'item_alpha': 0.0011251811074849737, 'user_alpha': 0.0006498983386478436}. Best is trial 0 with value: 0.04408060386776924.\n",
      "[I 2025-08-13 01:00:39,247] Trial 8 finished with value: 0.04408060386776924 and parameters: {'no_components': 91, 'learning_rate': 0.04836757347684028, 'item_alpha': 8.475436823914593e-06, 'user_alpha': 0.00023673250883001184}. Best is trial 0 with value: 0.04408060386776924.\n",
      "[I 2025-08-13 01:00:41,682] Trial 9 finished with value: 0.04408060386776924 and parameters: {'no_components': 25, 'learning_rate': 0.0006308768708988147, 'item_alpha': 0.00017027615582636068, 'user_alpha': 5.124187310632267e-06}. Best is trial 0 with value: 0.04408060386776924.\n",
      "[I 2025-08-13 01:00:47,231] Trial 10 finished with value: 0.04408060386776924 and parameters: {'no_components': 76, 'learning_rate': 0.0022324374782870856, 'item_alpha': 1.1244869233812697e-06, 'user_alpha': 0.003503664106240915}. Best is trial 0 with value: 0.04408060386776924.\n",
      "[I 2025-08-13 01:00:52,911] Trial 11 finished with value: 0.04408060386776924 and parameters: {'no_components': 71, 'learning_rate': 0.006777105498501898, 'item_alpha': 8.537103083576995e-06, 'user_alpha': 1.3614117765591901e-06}. Best is trial 0 with value: 0.04408060386776924.\n",
      "[I 2025-08-13 01:00:56,100] Trial 12 finished with value: 0.04408060386776924 and parameters: {'no_components': 38, 'learning_rate': 0.0029465556439622585, 'item_alpha': 2.151463466049792e-06, 'user_alpha': 1.1961909986050217e-05}. Best is trial 0 with value: 0.04408060386776924.\n",
      "[I 2025-08-13 01:00:59,854] Trial 13 finished with value: 0.04408060386776924 and parameters: {'no_components': 45, 'learning_rate': 0.014917020690875945, 'item_alpha': 3.1930517386940956e-05, 'user_alpha': 0.0010349522882446226}. Best is trial 0 with value: 0.04408060386776924.\n",
      "[I 2025-08-13 01:01:04,751] Trial 14 finished with value: 0.04408060386776924 and parameters: {'no_components': 67, 'learning_rate': 0.0015106626472320293, 'item_alpha': 3.11068455861563e-05, 'user_alpha': 5.863792524406804e-05}. Best is trial 0 with value: 0.04408060386776924.\n",
      "[I 2025-08-13 01:01:07,032] Trial 15 finished with value: 0.04408060386776924 and parameters: {'no_components': 32, 'learning_rate': 0.09716797331280452, 'item_alpha': 3.802054200962639e-05, 'user_alpha': 1.351973558556919e-06}. Best is trial 0 with value: 0.04408060386776924.\n",
      "[I 2025-08-13 01:01:10,211] Trial 16 finished with value: 0.04408060386776924 and parameters: {'no_components': 53, 'learning_rate': 0.008662442762409428, 'item_alpha': 3.067794440028917e-06, 'user_alpha': 6.54922120248402e-06}. Best is trial 0 with value: 0.04408060386776924.\n",
      "[I 2025-08-13 01:01:16,031] Trial 17 finished with value: 0.04408060386776924 and parameters: {'no_components': 98, 'learning_rate': 0.00011542873203426192, 'item_alpha': 0.0004888714973034893, 'user_alpha': 0.001829872525932991}. Best is trial 0 with value: 0.04408060386776924.\n",
      "[I 2025-08-13 01:01:19,207] Trial 18 finished with value: 0.04408060386776924 and parameters: {'no_components': 46, 'learning_rate': 0.01850113361760418, 'item_alpha': 1.8188681466312893e-05, 'user_alpha': 0.00017550677880037155}. Best is trial 0 with value: 0.04408060386776924.\n",
      "[I 2025-08-13 01:01:23,322] Trial 19 finished with value: 0.04408060386776924 and parameters: {'no_components': 66, 'learning_rate': 0.0013601661020513182, 'item_alpha': 3.963459803867415e-06, 'user_alpha': 4.075681023906395e-05}. Best is trial 0 with value: 0.04408060386776924.\n"
     ]
    },
    {
     "name": "stdout",
     "output_type": "stream",
     "text": [
      "Best parameters: {'no_components': 55, 'learning_rate': 0.006581803248538284, 'item_alpha': 2.2917208145174193e-06, 'user_alpha': 0.00036320247955426964}\n",
      "Best Precision@5: 0.04408060386776924\n"
     ]
    }
   ],
   "source": [
    "def objective(trial):\n",
    "\n",
    "    model = LightFM(\n",
    "        no_components=trial.suggest_int(\"no_components\", 20, 100),\n",
    "        learning_rate=trial.suggest_float(\"learning_rate\", 1e-4, 1e-1, log=True),\n",
    "        item_alpha=trial.suggest_float(\"item_alpha\", 1e-6, 1e-2, log=True),\n",
    "        user_alpha=trial.suggest_float(\"user_alpha\", 1e-6, 1e-2, log=True),\n",
    "        loss=\"logistic\",\n",
    "        random_state=42\n",
    "    )\n",
    "\n",
    " \n",
    "    model.fit(train,\n",
    "              user_features=user_features,\n",
    "              item_features=item_features,\n",
    "              epochs=20,\n",
    "              num_threads=4,\n",
    "              verbose=False)\n",
    "\n",
    "\n",
    "    precision = precision_at_k(model, test,\n",
    "                               user_features=user_features,\n",
    "                               item_features=item_features,\n",
    "                               k=5).mean()\n",
    "    return precision\n",
    "\n",
    "\n",
    "study = optuna.create_study(direction=\"maximize\")\n",
    "study.optimize(objective, n_trials=20)\n",
    "\n",
    "print(\"Best parameters:\", study.best_params)\n",
    "print(\"Best Precision@5:\", study.best_value)"
   ]
  },
  {
   "cell_type": "markdown",
   "id": "c8d5969f-8b74-4477-9aba-43f5d4ef8481",
   "metadata": {},
   "source": [
    "<h2> Train Final Model with Best Parameters</h2>"
   ]
  },
  {
   "cell_type": "code",
   "execution_count": 130,
   "id": "fe715b8d-ce1b-44d0-ab11-6707f1100cb7",
   "metadata": {},
   "outputs": [
    {
     "data": {
      "text/plain": [
       "<lightfm.lightfm.LightFM at 0x1a18e1d3b60>"
      ]
     },
     "execution_count": 130,
     "metadata": {},
     "output_type": "execute_result"
    }
   ],
   "source": [
    "best_params = study.best_params\n",
    "model = LightFM(**best_params, random_state=42)\n",
    "\n",
    "model.fit(train,\n",
    "          user_features=user_features,\n",
    "          item_features=item_features,\n",
    "          epochs=20,\n",
    "          num_threads=4)"
   ]
  },
  {
   "cell_type": "markdown",
   "id": "473dda97-072a-4ddf-8419-c77032bf3f43",
   "metadata": {},
   "source": [
    "<h1 style=\"color:red;\">Evaluation</h1>\n",
    "<ol>\n",
    "    <li> <b>Precision@5: 0.0541</b>\n",
    "This means that, on average, about 5.4% of the top 5 recommendations for a user are relevant or actually interacted with by the user. It reflects the accuracy of the top recommendations.</li>\n",
    "    <li> <b>Recall@5: 0.1214</b>\n",
    "This indicates that the system is able to retrieve around 12.1% of all relevant items (items the user interacted with) within the top 5 recommendations. It shows how well the system covers the user’s interests.</li>\n",
    "    <li><b> AUC Score: 0.7430</b>\n",
    "       \n",
    "The Area Under the Curve (AUC) score of 0.743 means the model has a good overall ability to distinguish between items a user will interact with and those they will not. A score closer to 1 is better, so 0.743 shows solid predictive performance.\n",
    "\n",
    "</li>\n",
    "</ol>"
   ]
  },
  {
   "cell_type": "code",
   "execution_count": 133,
   "id": "cdf3bb08-b714-45ef-823c-9110a68ae32e",
   "metadata": {},
   "outputs": [
    {
     "name": "stdout",
     "output_type": "stream",
     "text": [
      "Precision@5: 0.0441\n",
      "Recall@5: 0.1004\n",
      "AUC Score: 0.6847\n"
     ]
    }
   ],
   "source": [
    "precision = precision_at_k(model, test,\n",
    "                           user_features=user_features,\n",
    "                           item_features=item_features,\n",
    "                           k=5).mean()\n",
    "recall = recall_at_k(model, test,\n",
    "                     user_features=user_features,\n",
    "                     item_features=item_features,\n",
    "                     k=5).mean()\n",
    "auc = auc_score(model, test,\n",
    "                user_features=user_features,\n",
    "                item_features=item_features).mean()\n",
    "\n",
    "print(f\"Precision@5: {precision:.4f}\")\n",
    "print(f\"Recall@5: {recall:.4f}\")\n",
    "print(f\"AUC Score: {auc:.4f}\")\n"
   ]
  },
  {
   "cell_type": "markdown",
   "id": "24be664c-6852-45fa-8e44-5ee6e6ae4883",
   "metadata": {},
   "source": [
    "<h2>Generate Top-N Recommendations</h2>"
   ]
  },
  {
   "cell_type": "code",
   "execution_count": 136,
   "id": "31c00220-ad4c-436c-9354-9c2d16d63e0d",
   "metadata": {},
   "outputs": [],
   "source": [
    "def generate_recommendations(model, user_ids, interactions_matrix, user_features, item_features, n=5):\n",
    "    n_users, n_items = interactions_matrix.shape\n",
    "    recommendations = {}\n",
    "\n",
    "    for user_idx in range(n_users):\n",
    "        scores = model.predict(user_ids=user_idx,\n",
    "                               item_ids=np.arange(n_items),\n",
    "                               user_features=user_features,\n",
    "                               item_features=item_features)\n",
    "\n",
    "        known_items = interactions_matrix.tocsr()[user_idx].indices\n",
    "        scores[known_items] = -np.inf \n",
    "\n",
    "        top_items = np.argsort(-scores)[:n]\n",
    "        recommendations[user_ids[user_idx]] = top_items\n",
    "\n",
    "    return recommendations"
   ]
  },
  {
   "cell_type": "markdown",
   "id": "8345703d-659d-4efd-aac5-67892467de89",
   "metadata": {},
   "source": [
    "<h2>Mapping & Displaying Recommendations (for user with id 0 )</h2> <p>this is used to have a better insight about the recommendation performance and the pattern followed</p>"
   ]
  },
  {
   "cell_type": "code",
   "execution_count": 139,
   "id": "0745943d-4a14-48a7-b382-9907488b9fb1",
   "metadata": {},
   "outputs": [
    {
     "name": "stdout",
     "output_type": "stream",
     "text": [
      "Internal user ID 0 corresponds to user_id: user_0\n",
      "Events user interacted with:\n",
      "     user_id   event_id\n",
      "61    user_0   event_99\n",
      "1310  user_0  event_310\n",
      "2927  user_0  event_405\n",
      "3228  user_0  event_199\n",
      "3373  user_0  event_355\n",
      "5340  user_0  event_127\n",
      "7251  user_0   event_19\n",
      "7598  user_0  event_269\n",
      "9849  user_0  event_269\n",
      "  user_id   event_id  category  popularity_score  event_date  is_weekend\n",
      "0  user_0   event_99      Tech              0.94  2025-08-10        True\n",
      "1  user_0  event_310      Tech              0.98  2025-08-01       False\n",
      "2  user_0  event_405      Tech              0.91  2025-08-26       False\n",
      "3  user_0  event_199    Sports              0.97  2025-09-14        True\n",
      "4  user_0  event_355      Tech              0.92  2025-09-17       False\n",
      "5  user_0  event_127  Workshop              0.97  2025-07-31       False\n",
      "6  user_0   event_19    Sports              0.98  2025-08-02        True\n",
      "7  user_0  event_269  Workshop              0.97  2025-09-01       False\n",
      "8  user_0  event_269  Workshop              0.97  2025-09-01       False\n"
     ]
    }
   ],
   "source": [
    "user_id_map, user_feature_map, item_id_map, item_feature_map = dataset.mapping()\n",
    "inv_user_id_map = {v: k for k, v in user_id_map.items()}\n",
    "real_user_id = inv_user_id_map[0]\n",
    "print(f\"Internal user ID 0 corresponds to user_id: {real_user_id}\")\n",
    "user_interactions = interactions[interactions['user_id'] == real_user_id]\n",
    "print(\"Events user interacted with:\")\n",
    "print(user_interactions)\n",
    "interacted_event_info = user_interactions.merge(events, on='event_id', how='left')\n",
    "print(interacted_event_info)"
   ]
  },
  {
   "cell_type": "markdown",
   "id": "6116b03a-616e-4753-8872-4ea249d63843",
   "metadata": {},
   "source": [
    "<h2>Exploring Recommendation Diversity and Novelty</h2> <p>To evaluate the quality of our recommendation system beyond accuracy, we analyze how diverse (varied) and serendipitous (unexpected but relevant) the suggested items are. This helps ensure users receive a mix of familiar and novel content that keeps the experience engaging and personalized.</p>\n",
    "<ol>\n",
    "    <li>A lower value of Diversity means less variation in content types.\n",
    "</li>\n",
    "<li>A high Serendipity score means that many of the recommended items are new to the user and highly popular, indicating that the system is effectively introducing appealing and unexpected content.</li>\n",
    "</ol>"
   ]
  },
  {
   "cell_type": "code",
   "execution_count": 142,
   "id": "88dd5311-0a7c-443d-986c-2874e714bdfd",
   "metadata": {},
   "outputs": [],
   "source": [
    "def get_recommendations_for_user(user_id, model, dataset, user_features, item_features, events_df, top_n=10):\n",
    "    user_mapping = dataset.mapping()[0]\n",
    "    event_mapping = dataset.mapping()[2] \n",
    "    inv_event_mapping = {v: k for k, v in event_mapping.items()}\n",
    "\n",
    "    if user_id not in user_mapping:\n",
    "        raise ValueError(f\"User {user_id} not in dataset.\")\n",
    "\n",
    "    user_internal_id = user_mapping[user_id]\n",
    "\n",
    "    scores = model.predict(user_internal_id, np.arange(len(event_mapping)), user_features=user_features, item_features=item_features)\n",
    "\n",
    "    top_items_idx = np.argsort(-scores)[:top_n]\n",
    "    \n",
    "    recommended_event_ids = [inv_event_mapping[i] for i in top_items_idx]\n",
    "\n",
    "    return recommended_event_ids, scores[top_items_idx]"
   ]
  },
  {
   "cell_type": "code",
   "execution_count": 246,
   "id": "db11b851-b0bf-49af-80fc-433421827c17",
   "metadata": {},
   "outputs": [
    {
     "name": "stdout",
     "output_type": "stream",
     "text": [
      "Error: User cmeabw1zm000tgbzgsx6yltft not in dataset.\n"
     ]
    }
   ],
   "source": [
    "# Set the user ID to test\n",
    "test_user_id = \"user_0\"\n",
    "\n",
    "# Call the function\n",
    "try:\n",
    "    recommended_ids, scores = get_recommendations_for_user(\n",
    "        user_id=test_user_id,\n",
    "        model=model,\n",
    "        dataset=dataset,\n",
    "        user_features=user_features,\n",
    "        item_features=item_features,\n",
    "        events_df=events_encoded,  \n",
    "        top_n=5\n",
    "    )\n",
    "\n",
    "    print(\"Recommended Event IDs:\", recommended_ids)\n",
    "    print(\"Scores:\", scores)\n",
    "\n",
    "except ValueError as e:\n",
    "    print(\"Error:\", e)\n"
   ]
  },
  {
   "cell_type": "code",
   "execution_count": 146,
   "id": "6b4fe7b4-0a2c-48c4-a284-03f1d8d05f0e",
   "metadata": {},
   "outputs": [],
   "source": [
    "\n",
    "def diversity(recommendations, events_df):\n",
    "    categories = events_df[events_df['event_id'].isin(recommendations)]['category']\n",
    "    if len(categories) == 0:\n",
    "        return 0\n",
    "    return categories.nunique() / len(categories)"
   ]
  },
  {
   "cell_type": "code",
   "execution_count": 148,
   "id": "11f3a41c-4c21-4e3a-879b-cc6eea7250cb",
   "metadata": {},
   "outputs": [],
   "source": [
    "def serendipity(recommendations, user_history, events_df):\n",
    "    novel_items = set(recommendations) - set(user_history)\n",
    "    if len(recommendations) == 0:\n",
    "        return 0\n",
    "    top_serendipitous = events_df[\n",
    "        (events_df['event_id'].isin(novel_items)) & \n",
    "        (events_df['popularity_score'] > 0.9)\n",
    "    ]\n",
    "    return len(top_serendipitous) / len(recommendations)"
   ]
  },
  {
   "cell_type": "code",
   "execution_count": 155,
   "id": "026fd917-1623-4080-9b9a-ea98705424f2",
   "metadata": {},
   "outputs": [
    {
     "name": "stdout",
     "output_type": "stream",
     "text": [
      "Recommendations for user_0: ['cmdryoz04000bgb6s6v26zjyr', 'event_5', 'event_177', 'event_17', 'event_120', 'event_2', 'event_310', 'event_141', 'event_139', 'event_329']\n",
      "Diversity: 0.182\n",
      "Serendipity: 0.700\n"
     ]
    }
   ],
   "source": [
    "user_to_test = 'user_0'\n",
    "\n",
    "user_history = interactions[interactions['user_id'] == user_to_test]['event_id'].tolist()\n",
    "\n",
    "recommended_events, rec_scores = get_recommendations_for_user(\n",
    "    user_id=user_to_test,\n",
    "    model=model,\n",
    "    dataset=dataset,\n",
    "    user_features=user_features,\n",
    "    item_features=item_features,\n",
    "    events_df=events_encoded,\n",
    "    top_n=10\n",
    ")\n",
    "\n",
    "div_score = diversity(recommended_events, events_encoded)\n",
    "ser_score = serendipity(recommended_events, user_history, events_encoded)\n",
    "\n",
    "print(f\"Recommendations for {user_to_test}: {recommended_events}\")\n",
    "print(f\"Diversity: {div_score:.3f}\")\n",
    "print(f\"Serendipity: {ser_score:.3f}\")\n"
   ]
  },
  {
   "cell_type": "markdown",
   "id": "b7e0393a-941c-4db0-8bf5-c063a0804c28",
   "metadata": {},
   "source": [
    "<h2>Export the model</h2>"
   ]
  },
  {
   "cell_type": "code",
   "execution_count": 158,
   "id": "46e6caf6-7467-4fb5-a883-d22213e1ab6c",
   "metadata": {},
   "outputs": [
    {
     "data": {
      "text/plain": [
       "['recommendation_dataset.pkl']"
      ]
     },
     "execution_count": 158,
     "metadata": {},
     "output_type": "execute_result"
    }
   ],
   "source": [
    "joblib.dump(model, 'recommendation_model.pkl')\n",
    "joblib.dump(scaler, 'recommendation_scaler.pkl')\n",
    "joblib.dump(user_features, 'recommendation_user_features.pkl')\n",
    "joblib.dump(item_features, 'recommendation_item_features.pkl')\n",
    "joblib.dump(dataset, 'recommendation_dataset.pkl')\n"
   ]
  },
  {
   "cell_type": "code",
   "execution_count": null,
   "id": "5db036bc-b6f8-415e-80df-022927830d53",
   "metadata": {},
   "outputs": [],
   "source": []
  }
 ],
 "metadata": {
  "kernelspec": {
   "display_name": "Python [conda env:base] *",
   "language": "python",
   "name": "conda-base-py"
  },
  "language_info": {
   "codemirror_mode": {
    "name": "ipython",
    "version": 3
   },
   "file_extension": ".py",
   "mimetype": "text/x-python",
   "name": "python",
   "nbconvert_exporter": "python",
   "pygments_lexer": "ipython3",
   "version": "3.12.7"
  }
 },
 "nbformat": 4,
 "nbformat_minor": 5
}
