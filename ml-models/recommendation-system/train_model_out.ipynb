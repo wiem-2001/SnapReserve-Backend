{
 "cells": [
  {
   "cell_type": "markdown",
   "id": "c75fc8b9-13f4-4c7d-b616-ff375a134672",
   "metadata": {
    "papermill": {
     "duration": 0.015344,
     "end_time": "2025-08-01T23:33:05.516655",
     "exception": false,
     "start_time": "2025-08-01T23:33:05.501311",
     "status": "completed"
    },
    "tags": []
   },
   "source": [
    "<h1 style=\"color:red;\">Data Loading, Exploration and Preprocessing</h1>"
   ]
  },
  {
   "cell_type": "code",
   "execution_count": 1,
   "id": "ceb7f003-ee26-480d-b0bd-c500ebf6df4f",
   "metadata": {
    "execution": {
     "iopub.execute_input": "2025-08-01T23:33:05.557767Z",
     "iopub.status.busy": "2025-08-01T23:33:05.556768Z",
     "iopub.status.idle": "2025-08-01T23:33:09.550781Z",
     "shell.execute_reply": "2025-08-01T23:33:09.550781Z"
    },
    "papermill": {
     "duration": 4.016356,
     "end_time": "2025-08-01T23:33:09.555316",
     "exception": false,
     "start_time": "2025-08-01T23:33:05.538960",
     "status": "completed"
    },
    "tags": []
   },
   "outputs": [
    {
     "name": "stderr",
     "output_type": "stream",
     "text": [
      "C:\\Users\\wiemb\\SnapReserve\\SnapReserve-Backend\\venv\\Lib\\site-packages\\lightfm\\_lightfm_fast.py:9: UserWarning: LightFM was compiled without OpenMP support. Only a single thread will be used.\n",
      "  warnings.warn(\n"
     ]
    }
   ],
   "source": [
    "import pandas as pd\n",
    "import numpy as np\n",
    "import matplotlib.pyplot as plt\n",
    "import seaborn as sns\n",
    "from sklearn.preprocessing import MinMaxScaler\n",
    "from lightfm.data import Dataset\n",
    "from lightfm.cross_validation import random_train_test_split\n",
    "import optuna\n",
    "from lightfm import LightFM\n",
    "from lightfm.evaluation import precision_at_k, recall_at_k, auc_score\n",
    "import joblib"
   ]
  },
  {
   "cell_type": "code",
   "execution_count": 2,
   "id": "1fdf0624-dd39-4c49-8d68-30de633b713f",
   "metadata": {
    "execution": {
     "iopub.execute_input": "2025-08-01T23:33:09.591088Z",
     "iopub.status.busy": "2025-08-01T23:33:09.590103Z",
     "iopub.status.idle": "2025-08-01T23:33:09.681584Z",
     "shell.execute_reply": "2025-08-01T23:33:09.680232Z"
    },
    "papermill": {
     "duration": 0.108354,
     "end_time": "2025-08-01T23:33:09.683890",
     "exception": false,
     "start_time": "2025-08-01T23:33:09.575536",
     "status": "completed"
    },
    "tags": []
   },
   "outputs": [
    {
     "name": "stdout",
     "output_type": "stream",
     "text": [
      "Users:\n",
      "  user_id  gender age_group      role\n",
      "0  user_0    male     26-35  attendee\n",
      "1  user_1  female     26-35  attendee\n",
      "2  user_2    male     26-35  attendee\n",
      "3  user_3    male     36-50  attendee\n",
      "4  user_4    male     26-35  attendee\n",
      "\n",
      "Events:\n",
      "  event_id category  popularity_score  event_date  is_weekend\n",
      "0  event_0   Sports              0.96  2025-09-06        True\n",
      "1  event_1    Movie              0.20  2025-08-04       False\n",
      "2  event_2    Movie              0.95  2025-07-29       False\n",
      "3  event_3    Movie              0.99  2025-09-13        True\n",
      "4  event_4  Theater              0.71  2025-08-14       False\n",
      "\n",
      "Interactions:\n",
      "    user_id   event_id\n",
      "0  user_870  event_209\n",
      "1  user_101  event_120\n",
      "2  user_628   event_19\n",
      "3  user_134  event_127\n",
      "4   user_57  event_190\n"
     ]
    }
   ],
   "source": [
    "users = pd.read_csv('synthetic_users.csv') \n",
    "events = pd.read_csv('synthetic_events.csv') \n",
    "interactions = pd.read_csv('synthetic_interactions.csv')  \n",
    "\n",
    "print(\"Users:\")\n",
    "print(users.head())\n",
    "print(\"\\nEvents:\")\n",
    "print(events.head())\n",
    "print(\"\\nInteractions:\")\n",
    "print(interactions.head())"
   ]
  },
  {
   "cell_type": "code",
   "execution_count": 3,
   "id": "f174dde1-c868-44e5-aba8-78431d4d3ca7",
   "metadata": {
    "execution": {
     "iopub.execute_input": "2025-08-01T23:33:09.714263Z",
     "iopub.status.busy": "2025-08-01T23:33:09.714263Z",
     "iopub.status.idle": "2025-08-01T23:33:09.727002Z",
     "shell.execute_reply": "2025-08-01T23:33:09.724990Z"
    },
    "papermill": {
     "duration": 0.030532,
     "end_time": "2025-08-01T23:33:09.730016",
     "exception": false,
     "start_time": "2025-08-01T23:33:09.699484",
     "status": "completed"
    },
    "tags": []
   },
   "outputs": [
    {
     "name": "stdout",
     "output_type": "stream",
     "text": [
      "<class 'pandas.core.frame.DataFrame'>\n",
      "RangeIndex: 1036 entries, 0 to 1035\n",
      "Data columns (total 4 columns):\n",
      " #   Column     Non-Null Count  Dtype \n",
      "---  ------     --------------  ----- \n",
      " 0   user_id    1036 non-null   object\n",
      " 1   gender     1036 non-null   object\n",
      " 2   age_group  1036 non-null   object\n",
      " 3   role       1036 non-null   object\n",
      "dtypes: object(4)\n",
      "memory usage: 32.5+ KB\n"
     ]
    }
   ],
   "source": [
    "users.info()"
   ]
  },
  {
   "cell_type": "code",
   "execution_count": 4,
   "id": "e5ac4894-dea5-4b90-8dbf-5afc7aa1010f",
   "metadata": {
    "execution": {
     "iopub.execute_input": "2025-08-01T23:33:09.756307Z",
     "iopub.status.busy": "2025-08-01T23:33:09.755311Z",
     "iopub.status.idle": "2025-08-01T23:33:09.768112Z",
     "shell.execute_reply": "2025-08-01T23:33:09.768112Z"
    },
    "papermill": {
     "duration": 0.031037,
     "end_time": "2025-08-01T23:33:09.770605",
     "exception": false,
     "start_time": "2025-08-01T23:33:09.739568",
     "status": "completed"
    },
    "tags": []
   },
   "outputs": [
    {
     "name": "stdout",
     "output_type": "stream",
     "text": [
      "<class 'pandas.core.frame.DataFrame'>\n",
      "RangeIndex: 518 entries, 0 to 517\n",
      "Data columns (total 5 columns):\n",
      " #   Column            Non-Null Count  Dtype  \n",
      "---  ------            --------------  -----  \n",
      " 0   event_id          518 non-null    object \n",
      " 1   category          518 non-null    object \n",
      " 2   popularity_score  518 non-null    float64\n",
      " 3   event_date        518 non-null    object \n",
      " 4   is_weekend        518 non-null    bool   \n",
      "dtypes: bool(1), float64(1), object(3)\n",
      "memory usage: 16.8+ KB\n"
     ]
    }
   ],
   "source": [
    "events.info()"
   ]
  },
  {
   "cell_type": "code",
   "execution_count": 5,
   "id": "921dc186-c9ad-4c1a-934c-21ae38105440",
   "metadata": {
    "execution": {
     "iopub.execute_input": "2025-08-01T23:33:09.796273Z",
     "iopub.status.busy": "2025-08-01T23:33:09.795272Z",
     "iopub.status.idle": "2025-08-01T23:33:09.807328Z",
     "shell.execute_reply": "2025-08-01T23:33:09.806822Z"
    },
    "papermill": {
     "duration": 0.029147,
     "end_time": "2025-08-01T23:33:09.810338",
     "exception": false,
     "start_time": "2025-08-01T23:33:09.781191",
     "status": "completed"
    },
    "tags": []
   },
   "outputs": [
    {
     "name": "stdout",
     "output_type": "stream",
     "text": [
      "<class 'pandas.core.frame.DataFrame'>\n",
      "RangeIndex: 10567 entries, 0 to 10566\n",
      "Data columns (total 2 columns):\n",
      " #   Column    Non-Null Count  Dtype \n",
      "---  ------    --------------  ----- \n",
      " 0   user_id   10567 non-null  object\n",
      " 1   event_id  10567 non-null  object\n",
      "dtypes: object(2)\n",
      "memory usage: 165.2+ KB\n"
     ]
    }
   ],
   "source": [
    "interactions.info()"
   ]
  },
  {
   "cell_type": "markdown",
   "id": "fe0aca21-b908-4178-a921-44cdde9122de",
   "metadata": {
    "papermill": {
     "duration": 0.012046,
     "end_time": "2025-08-01T23:33:09.833023",
     "exception": false,
     "start_time": "2025-08-01T23:33:09.820977",
     "status": "completed"
    },
    "tags": []
   },
   "source": [
    "<h2>Exploratory Data Analysis (EDA) - Users</h2>"
   ]
  },
  {
   "cell_type": "code",
   "execution_count": 6,
   "id": "c684c8b8-90b8-431d-821c-784774b30c78",
   "metadata": {
    "execution": {
     "iopub.execute_input": "2025-08-01T23:33:09.857662Z",
     "iopub.status.busy": "2025-08-01T23:33:09.857662Z",
     "iopub.status.idle": "2025-08-01T23:33:10.750558Z",
     "shell.execute_reply": "2025-08-01T23:33:10.749489Z"
    },
    "papermill": {
     "duration": 0.90698,
     "end_time": "2025-08-01T23:33:10.752076",
     "exception": false,
     "start_time": "2025-08-01T23:33:09.845096",
     "status": "completed"
    },
    "tags": []
   },
   "outputs": [
    {
     "data": {
      "image/png": "[encoded data removed]",
      "text/plain": [
       "<Figure size 1400x400 with 3 Axes>"
      ]
     },
     "metadata": {},
     "output_type": "display_data"
    }
   ],
   "source": [
    "plt.figure(figsize=(14, 4))\n",
    "\n",
    "plot_idx = 1\n",
    "\n",
    "if 'gender' in users.columns:\n",
    "    plt.subplot(1, 3, plot_idx)\n",
    "    sns.countplot(data=users, x='gender')\n",
    "    plt.title('Gender Distribution')\n",
    "    plot_idx += 1\n",
    "\n",
    "if 'age_group' in users.columns:\n",
    "    plt.subplot(1, 3, plot_idx)\n",
    "    sns.countplot(data=users, x='age_group')\n",
    "    plt.title('Age Group Distribution')\n",
    "    plot_idx += 1\n",
    "\n",
    "if 'role' in users.columns:\n",
    "    plt.subplot(1, 3, plot_idx)\n",
    "    sns.countplot(data=users, x='role')\n",
    "    plt.title('Role Distribution')\n",
    "    plot_idx += 1\n",
    "\n",
    "plt.tight_layout()\n",
    "plt.show()\n"
   ]
  },
  {
   "cell_type": "markdown",
   "id": "d7e30195-9cf2-43bd-beca-3c8b936d787b",
   "metadata": {
    "papermill": {
     "duration": 0.014715,
     "end_time": "2025-08-01T23:33:10.782082",
     "exception": false,
     "start_time": "2025-08-01T23:33:10.767367",
     "status": "completed"
    },
    "tags": []
   },
   "source": [
    "<h2>Exploratory Data Analysis (EDA) - Events</h2>"
   ]
  },
  {
   "cell_type": "code",
   "execution_count": 7,
   "id": "e35ebb92-58f6-450e-af54-4d4cc0300c88",
   "metadata": {
    "execution": {
     "iopub.execute_input": "2025-08-01T23:33:10.809158Z",
     "iopub.status.busy": "2025-08-01T23:33:10.808158Z",
     "iopub.status.idle": "2025-08-01T23:33:11.456886Z",
     "shell.execute_reply": "2025-08-01T23:33:11.455866Z"
    },
    "papermill": {
     "duration": 0.663271,
     "end_time": "2025-08-01T23:33:11.458877",
     "exception": false,
     "start_time": "2025-08-01T23:33:10.795606",
     "status": "completed"
    },
    "tags": []
   },
   "outputs": [
    {
     "name": "stdout",
     "output_type": "stream",
     "text": [
      "Columns in events: Index(['event_id', 'category', 'popularity_score', 'event_date', 'is_weekend'], dtype='object')\n",
      "Is 'category' column present? True\n",
      "Events DataFrame empty? False\n"
     ]
    },
    {
     "data": {
      "image/png": "[encoded data removed]",
      "text/plain": [
       "<Figure size 1000x400 with 2 Axes>"
      ]
     },
     "metadata": {},
     "output_type": "display_data"
    }
   ],
   "source": [
    "print(\"Columns in events:\", events.columns)\n",
    "print(\"Is 'category' column present?\", 'category' in events.columns)\n",
    "print(\"Events DataFrame empty?\", events.empty)\n",
    "\n",
    "plt.figure(figsize=(10,4))\n",
    "\n",
    "plt.subplot(1,2,1)\n",
    "if 'category' in events.columns and not events.empty:\n",
    "    sns.countplot(data=events, x='category')\n",
    "    plt.title('Event Category Distribution')\n",
    "    plt.xticks(rotation=45)\n",
    "else:\n",
    "    print(\"Skipping countplot: 'category' column missing or events is empty\")\n",
    "\n",
    "plt.subplot(1,2,2)\n",
    "if not events.empty:\n",
    "    sns.histplot(data=events, x='popularity_score', bins=20)\n",
    "    plt.title('Popularity Score Distribution')\n",
    "else:\n",
    "    print(\"Skipping histplot: events DataFrame is empty\")\n",
    "\n",
    "plt.tight_layout()\n",
    "plt.show()\n"
   ]
  },
  {
   "cell_type": "markdown",
   "id": "148da7f7-6a61-48f6-a0fb-9ebf04b5051a",
   "metadata": {
    "papermill": {
     "duration": 0.01558,
     "end_time": "2025-08-01T23:33:11.488014",
     "exception": false,
     "start_time": "2025-08-01T23:33:11.472434",
     "status": "completed"
    },
    "tags": []
   },
   "source": [
    "<h2>Interaction Counts Analysis</h2>"
   ]
  },
  {
   "cell_type": "code",
   "execution_count": 8,
   "id": "378ab920-924f-4672-a6e1-c01b19bec4db",
   "metadata": {
    "execution": {
     "iopub.execute_input": "2025-08-01T23:33:11.518521Z",
     "iopub.status.busy": "2025-08-01T23:33:11.518521Z",
     "iopub.status.idle": "2025-08-01T23:33:11.538442Z",
     "shell.execute_reply": "2025-08-01T23:33:11.537434Z"
    },
    "papermill": {
     "duration": 0.036049,
     "end_time": "2025-08-01T23:33:11.540477",
     "exception": false,
     "start_time": "2025-08-01T23:33:11.504428",
     "status": "completed"
    },
    "tags": []
   },
   "outputs": [
    {
     "name": "stdout",
     "output_type": "stream",
     "text": [
      "\n",
      "Interactions per user:\n",
      "count    1001.000000\n",
      "mean       10.556444\n",
      "std        17.872746\n",
      "min         2.000000\n",
      "25%         8.000000\n",
      "50%        10.000000\n",
      "75%        12.000000\n",
      "max       567.000000\n",
      "Name: count, dtype: float64\n",
      "\n",
      "Interactions per event:\n",
      "count    140.000000\n",
      "mean      75.478571\n",
      "std       87.829746\n",
      "min        1.000000\n",
      "25%        3.000000\n",
      "50%       33.000000\n",
      "75%      135.500000\n",
      "max      435.000000\n",
      "Name: count, dtype: float64\n"
     ]
    }
   ],
   "source": [
    "print(\"\\nInteractions per user:\")\n",
    "if 'user_id' in interactions.columns:\n",
    "    print(interactions['user_id'].value_counts().describe())\n",
    "else:\n",
    "    print(\" 'user_id' column is missing in interactions.\")\n",
    "\n",
    "print(\"\\nInteractions per event:\")\n",
    "if 'event_id' in interactions.columns:\n",
    "    print(interactions['event_id'].value_counts().describe())\n",
    "else:\n",
    "    print(\"'event_id' column is missing in interactions.\")\n"
   ]
  },
  {
   "cell_type": "markdown",
   "id": "e919a3c3-a7e1-4ef2-b4ca-265c26bad8d0",
   "metadata": {
    "papermill": {
     "duration": 0.017068,
     "end_time": "2025-08-01T23:33:11.573581",
     "exception": false,
     "start_time": "2025-08-01T23:33:11.556513",
     "status": "completed"
    },
    "tags": []
   },
   "source": [
    "<h2>Removing uneeded data (users with role organizer )  </h2>"
   ]
  },
  {
   "cell_type": "code",
   "execution_count": 9,
   "id": "fd87f8b0-4315-42f8-b284-2b6f6b2000f4",
   "metadata": {
    "execution": {
     "iopub.execute_input": "2025-08-01T23:33:11.609291Z",
     "iopub.status.busy": "2025-08-01T23:33:11.608291Z",
     "iopub.status.idle": "2025-08-01T23:33:11.619544Z",
     "shell.execute_reply": "2025-08-01T23:33:11.617887Z"
    },
    "papermill": {
     "duration": 0.027858,
     "end_time": "2025-08-01T23:33:11.620464",
     "exception": false,
     "start_time": "2025-08-01T23:33:11.592606",
     "status": "completed"
    },
    "tags": []
   },
   "outputs": [
    {
     "name": "stdout",
     "output_type": "stream",
     "text": [
      "Users after removing organizers: 944\n"
     ]
    }
   ],
   "source": [
    "users = users[users['role'] != 'organizer']\n",
    "print(f\"Users after removing organizers: {users.shape[0]}\")"
   ]
  },
  {
   "cell_type": "markdown",
   "id": "91fd0b68-489b-4c24-b8a9-07691f9ecd51",
   "metadata": {
    "papermill": {
     "duration": 0.017272,
     "end_time": "2025-08-01T23:33:11.652440",
     "exception": false,
     "start_time": "2025-08-01T23:33:11.635168",
     "status": "completed"
    },
    "tags": []
   },
   "source": [
    "<h2>Remove interactions related to removed users</h2>"
   ]
  },
  {
   "cell_type": "code",
   "execution_count": 10,
   "id": "2b5ec41f-2559-42cb-92be-24a54c288d8c",
   "metadata": {
    "execution": {
     "iopub.execute_input": "2025-08-01T23:33:11.702466Z",
     "iopub.status.busy": "2025-08-01T23:33:11.700916Z",
     "iopub.status.idle": "2025-08-01T23:33:11.717045Z",
     "shell.execute_reply": "2025-08-01T23:33:11.716034Z"
    },
    "papermill": {
     "duration": 0.048004,
     "end_time": "2025-08-01T23:33:11.718091",
     "exception": false,
     "start_time": "2025-08-01T23:33:11.670087",
     "status": "completed"
    },
    "tags": []
   },
   "outputs": [
    {
     "name": "stdout",
     "output_type": "stream",
     "text": [
      "Interactions after removing organizer-related ones: 9653"
     ]
    },
    {
     "name": "stdout",
     "output_type": "stream",
     "text": [
      "\n"
     ]
    }
   ],
   "source": [
    "valid_user_ids = set(users['user_id'])\n",
    "interactions = interactions[interactions['user_id'].isin(valid_user_ids)]\n",
    "print(f\"Interactions after removing organizer-related ones: {interactions.shape[0]}\")"
   ]
  },
  {
   "cell_type": "markdown",
   "id": "8eefb547-96dc-40bb-a5a4-ec7fc6119ae5",
   "metadata": {
    "papermill": {
     "duration": 0.029291,
     "end_time": "2025-08-01T23:33:11.779579",
     "exception": false,
     "start_time": "2025-08-01T23:33:11.750288",
     "status": "completed"
    },
    "tags": []
   },
   "source": [
    "<h2>Encode categorical columns</h2>"
   ]
  },
  {
   "cell_type": "code",
   "execution_count": 11,
   "id": "a8062905-8f4d-45e4-8971-21b30cdecffc",
   "metadata": {
    "execution": {
     "iopub.execute_input": "2025-08-01T23:33:11.827279Z",
     "iopub.status.busy": "2025-08-01T23:33:11.826281Z",
     "iopub.status.idle": "2025-08-01T23:33:11.856651Z",
     "shell.execute_reply": "2025-08-01T23:33:11.855621Z"
    },
    "papermill": {
     "duration": 0.057518,
     "end_time": "2025-08-01T23:33:11.859649",
     "exception": false,
     "start_time": "2025-08-01T23:33:11.802131",
     "status": "completed"
    },
    "tags": []
   },
   "outputs": [
    {
     "name": "stdout",
     "output_type": "stream",
     "text": [
      "\n",
      "Encoded Users sample:\n",
      "  user_id  gender  age_group  role\n",
      "0  user_0       2          2     1\n",
      "1  user_1       1          2     1\n",
      "2  user_2       2          2     1\n",
      "3  user_3       2          3     1\n",
      "4  user_4       2          2     1\n",
      "\n",
      "Encoded Events sample:\n",
      "  event_id  category  popularity_score  event_date  is_weekend\n",
      "0  event_0         4              0.96  2025-09-06        True\n",
      "1  event_1         2              0.20  2025-08-04       False\n",
      "2  event_2         2              0.95  2025-07-29       False\n",
      "3  event_3         2              0.99  2025-09-13        True\n",
      "4  event_4         6              0.71  2025-08-14       False\n"
     ]
    }
   ],
   "source": [
    "users_encoded = users.copy()\n",
    "\n",
    "for col in ['gender', 'age_group', 'role']:\n",
    "    if col in users.columns:\n",
    "        users_encoded[col] = users_encoded[col].astype('category').cat.codes\n",
    "    else:\n",
    "        print(f\"Column '{col}' not found in users DataFrame.\")\n",
    "\n",
    "events_encoded = events.copy()  # this line is essential!\n",
    "\n",
    "if 'category' in events.columns:\n",
    "    events_encoded['category'] = events_encoded['category'].astype('category').cat.codes\n",
    "else:\n",
    "    print(\"Column 'category' not found in events DataFrame.\")\n",
    "\n",
    "print(\"\\nEncoded Users sample:\")\n",
    "print(users_encoded.head())\n",
    "\n",
    "print(\"\\nEncoded Events sample:\")\n",
    "print(events_encoded.head())\n"
   ]
  },
  {
   "cell_type": "markdown",
   "id": "fcee7feb-3031-4cff-b4b8-56b5cc97ec8d",
   "metadata": {
    "papermill": {
     "duration": 0.013566,
     "end_time": "2025-08-01T23:33:11.892314",
     "exception": false,
     "start_time": "2025-08-01T23:33:11.878748",
     "status": "completed"
    },
    "tags": []
   },
   "source": [
    "<h2>Scale popularity_score</h2>"
   ]
  },
  {
   "cell_type": "code",
   "execution_count": 12,
   "id": "9cb64092-ad59-42f8-b1cb-2eb966080bbb",
   "metadata": {
    "execution": {
     "iopub.execute_input": "2025-08-01T23:33:11.924637Z",
     "iopub.status.busy": "2025-08-01T23:33:11.923639Z",
     "iopub.status.idle": "2025-08-01T23:33:11.935544Z",
     "shell.execute_reply": "2025-08-01T23:33:11.934499Z"
    },
    "papermill": {
     "duration": 0.030721,
     "end_time": "2025-08-01T23:33:11.937588",
     "exception": false,
     "start_time": "2025-08-01T23:33:11.906867",
     "status": "completed"
    },
    "tags": []
   },
   "outputs": [],
   "source": [
    "scaler = MinMaxScaler()\n",
    "events_encoded['popularity_score'] = scaler.fit_transform(events_encoded[['popularity_score']])"
   ]
  },
  {
   "cell_type": "markdown",
   "id": "1da855b1-1837-4e25-83bd-4d25dc52c259",
   "metadata": {
    "papermill": {
     "duration": 0.016019,
     "end_time": "2025-08-01T23:33:11.967475",
     "exception": false,
     "start_time": "2025-08-01T23:33:11.951456",
     "status": "completed"
    },
    "tags": []
   },
   "source": [
    "<h2>Convert event_date to datetime format</h2>"
   ]
  },
  {
   "cell_type": "code",
   "execution_count": 13,
   "id": "770705cd-c184-4f25-98ca-a972f23c922e",
   "metadata": {
    "execution": {
     "iopub.execute_input": "2025-08-01T23:33:12.002279Z",
     "iopub.status.busy": "2025-08-01T23:33:12.001270Z",
     "iopub.status.idle": "2025-08-01T23:33:12.059663Z",
     "shell.execute_reply": "2025-08-01T23:33:12.057532Z"
    },
    "papermill": {
     "duration": 0.077604,
     "end_time": "2025-08-01T23:33:12.062285",
     "exception": false,
     "start_time": "2025-08-01T23:33:11.984681",
     "status": "completed"
    },
    "tags": []
   },
   "outputs": [],
   "source": [
    "events_encoded['event_date'] = pd.to_datetime(events_encoded['event_date'])"
   ]
  },
  {
   "cell_type": "markdown",
   "id": "cfd4e97c-8c02-4555-afc2-ad36577c3682",
   "metadata": {
    "papermill": {
     "duration": 0.019969,
     "end_time": "2025-08-01T23:33:12.105568",
     "exception": false,
     "start_time": "2025-08-01T23:33:12.085599",
     "status": "completed"
    },
    "tags": []
   },
   "source": [
    "<h2>Final check: print samples and shapes after cleaning and encoding</h2>"
   ]
  },
  {
   "cell_type": "code",
   "execution_count": 14,
   "id": "e4950393-bf35-45aa-9f42-b005ca92c4ca",
   "metadata": {
    "execution": {
     "iopub.execute_input": "2025-08-01T23:33:12.145104Z",
     "iopub.status.busy": "2025-08-01T23:33:12.144116Z",
     "iopub.status.idle": "2025-08-01T23:33:12.165749Z",
     "shell.execute_reply": "2025-08-01T23:33:12.164206Z"
    },
    "papermill": {
     "duration": 0.044055,
     "end_time": "2025-08-01T23:33:12.166796",
     "exception": false,
     "start_time": "2025-08-01T23:33:12.122741",
     "status": "completed"
    },
    "tags": []
   },
   "outputs": [
    {
     "name": "stdout",
     "output_type": "stream",
     "text": [
      "\n",
      "Cleaned Users Sample:\n",
      "  user_id  gender  age_group  role\n",
      "0  user_0       2          2     1\n",
      "1  user_1       1          2     1\n",
      "2  user_2       2          2     1\n",
      "3  user_3       2          3     1\n",
      "4  user_4       2          2     1\n",
      "\n",
      "Cleaned Events Sample:\n",
      "  event_id  category  popularity_score event_date  is_weekend\n",
      "0  event_0         4              0.96 2025-09-06        True\n",
      "1  event_1         2              0.20 2025-08-04       False\n",
      "2  event_2         2              0.95 2025-07-29       False\n",
      "3  event_3         2              0.99 2025-09-13        True\n",
      "4  event_4         6              0.71 2025-08-14       False\n",
      "\n",
      "Cleaned Interactions Sample:\n",
      "    user_id   event_id\n",
      "0  user_870  event_209\n",
      "1  user_101  event_120\n",
      "2  user_628   event_19\n",
      "4   user_57  event_190\n",
      "5  user_430    event_0\n"
     ]
    }
   ],
   "source": [
    "print(\"\\nCleaned Users Sample:\")\n",
    "print(users_encoded.head())\n",
    "\n",
    "print(\"\\nCleaned Events Sample:\")\n",
    "print(events_encoded.head())\n",
    "\n",
    "print(\"\\nCleaned Interactions Sample:\")\n",
    "print(interactions.head())"
   ]
  },
  {
   "cell_type": "markdown",
   "id": "674821bf-3c90-4ab6-883b-9d3f703d21fe",
   "metadata": {
    "papermill": {
     "duration": 0.018274,
     "end_time": "2025-08-01T23:33:12.200457",
     "exception": false,
     "start_time": "2025-08-01T23:33:12.182183",
     "status": "completed"
    },
    "tags": []
   },
   "source": [
    "<h1 style=\"color:red;\">LightFM Dataset Preparation</h1>"
   ]
  },
  {
   "cell_type": "markdown",
   "id": "4299a597-9187-4740-b7f5-69628b1f54fb",
   "metadata": {
    "papermill": {
     "duration": 0.015583,
     "end_time": "2025-08-01T23:33:12.231161",
     "exception": false,
     "start_time": "2025-08-01T23:33:12.215578",
     "status": "completed"
    },
    "tags": []
   },
   "source": [
    "<h2>Build interaction matrix from (user_id, event_id) pairs</h2> "
   ]
  },
  {
   "cell_type": "code",
   "execution_count": 15,
   "id": "8327ff8c-d597-4f73-9544-af0772cf85b9",
   "metadata": {
    "execution": {
     "iopub.execute_input": "2025-08-01T23:33:12.268473Z",
     "iopub.status.busy": "2025-08-01T23:33:12.267504Z",
     "iopub.status.idle": "2025-08-01T23:33:13.105997Z",
     "shell.execute_reply": "2025-08-01T23:33:13.104913Z"
    },
    "papermill": {
     "duration": 0.860701,
     "end_time": "2025-08-01T23:33:13.109934",
     "exception": false,
     "start_time": "2025-08-01T23:33:12.249233",
     "status": "completed"
    },
    "tags": []
   },
   "outputs": [
    {
     "name": "stdout",
     "output_type": "stream",
     "text": [
      "Interaction matrix shape: (910, 506)\n",
      "User features sparse: (910, 920)\n",
      "Item features sparse: (506, 516)\n"
     ]
    }
   ],
   "source": [
    "dataset = Dataset()\n",
    "\n",
    "user_ids = users_encoded['user_id'].unique()\n",
    "event_ids = events_encoded['event_id'].unique()\n",
    "\n",
    "user_features_raw = users_encoded.set_index('user_id')[['gender', 'age_group', 'role']]\n",
    "user_feature_tuples = [\n",
    "    (uid, [f\"gender:{g}\", f\"age_group:{a}\", f\"role:{r}\"])\n",
    "    for uid, g, a, r in zip(user_features_raw.index, user_features_raw['gender'], user_features_raw['age_group'], user_features_raw['role'])\n",
    "]\n",
    "\n",
    "event_features_raw = events_encoded.set_index('event_id')[['category', 'popularity_score', 'is_weekend']]\n",
    "event_feature_tuples = [\n",
    "    (eid, [f\"category:{c}\", f\"is_weekend:{w}\"])\n",
    "    for eid, c, w in zip(event_features_raw.index, event_features_raw['category'], event_features_raw['is_weekend'])\n",
    "]\n",
    "\n",
    "dataset.fit(\n",
    "    users=user_ids,\n",
    "    items=event_ids,\n",
    "    user_features=set(f for _, feats in user_feature_tuples for f in feats),\n",
    "    item_features=set(f for _, feats in event_feature_tuples for f in feats)\n",
    ")\n",
    "\n",
    "(interactions_matrix, weights) = dataset.build_interactions(\n",
    "    [(row['user_id'], row['event_id']) for idx, row in interactions.iterrows()]\n",
    ")\n",
    "print(f\"Interaction matrix shape: {interactions_matrix.shape}\")\n",
    "\n",
    "user_features = dataset.build_user_features(user_feature_tuples)\n",
    "item_features = dataset.build_item_features(event_feature_tuples)\n",
    "\n",
    "print(\"User features sparse:\", user_features.shape)\n",
    "print(\"Item features sparse:\", item_features.shape)\n"
   ]
  },
  {
   "cell_type": "markdown",
   "id": "f3c48d8b-b0a1-4000-9dd9-5c52b947fa59",
   "metadata": {
    "papermill": {
     "duration": 0.023117,
     "end_time": "2025-08-01T23:33:13.152097",
     "exception": false,
     "start_time": "2025-08-01T23:33:13.128980",
     "status": "completed"
    },
    "tags": []
   },
   "source": [
    "<h1 style=\"color:red;\">Training</h1>"
   ]
  },
  {
   "cell_type": "markdown",
   "id": "3c25d66b-2f1c-41db-b6cc-98065ed9f976",
   "metadata": {
    "papermill": {
     "duration": 0.019238,
     "end_time": "2025-08-01T23:33:13.198227",
     "exception": false,
     "start_time": "2025-08-01T23:33:13.178989",
     "status": "completed"
    },
    "tags": []
   },
   "source": [
    "<h2>Train-Test Split</h2>"
   ]
  },
  {
   "cell_type": "code",
   "execution_count": 16,
   "id": "a6182f4d-bb09-47d5-aef9-82943754a837",
   "metadata": {
    "execution": {
     "iopub.execute_input": "2025-08-01T23:33:13.236062Z",
     "iopub.status.busy": "2025-08-01T23:33:13.235062Z",
     "iopub.status.idle": "2025-08-01T23:33:13.286896Z",
     "shell.execute_reply": "2025-08-01T23:33:13.285716Z"
    },
    "papermill": {
     "duration": 0.072495,
     "end_time": "2025-08-01T23:33:13.288825",
     "exception": false,
     "start_time": "2025-08-01T23:33:13.216330",
     "status": "completed"
    },
    "tags": []
   },
   "outputs": [
    {
     "name": "stdout",
     "output_type": "stream",
     "text": [
      "Train interactions: 7722 | Test interactions: 1931"
     ]
    },
    {
     "name": "stdout",
     "output_type": "stream",
     "text": [
      "\n"
     ]
    }
   ],
   "source": [
    "train, test = random_train_test_split(interactions_matrix, test_percentage=0.2, random_state=42)\n",
    "print(f\"Train interactions: {train.nnz} | Test interactions: {test.nnz}\")"
   ]
  },
  {
   "cell_type": "markdown",
   "id": "3d81d42b-9b69-4133-ad8d-e1c5e3fc14e5",
   "metadata": {
    "papermill": {
     "duration": 0.019077,
     "end_time": "2025-08-01T23:33:13.332170",
     "exception": false,
     "start_time": "2025-08-01T23:33:13.313093",
     "status": "completed"
    },
    "tags": []
   },
   "source": [
    "<h2>Hyperparameter Tuning with Optuna</h2>\n",
    "<p>We use Optuna to automatically and efficiently find the best hyperparameters for the LightFM model. Optuna intelligently explores the parameter space by learning from previous trials, allowing faster convergence to optimal values compared to manual or random searches. This results in improved model performance with fewer training iterations and less computational effort.</p>"
   ]
  },
  {
   "cell_type": "code",
   "execution_count": 17,
   "id": "c8478bc9-6876-4d55-80a6-6e7ced261335",
   "metadata": {
    "execution": {
     "iopub.execute_input": "2025-08-01T23:33:13.368778Z",
     "iopub.status.busy": "2025-08-01T23:33:13.368778Z",
     "iopub.status.idle": "2025-08-01T23:34:37.385209Z",
     "shell.execute_reply": "2025-08-01T23:34:37.384190Z"
    },
    "papermill": {
     "duration": 84.039572,
     "end_time": "2025-08-01T23:34:37.387207",
     "exception": false,
     "start_time": "2025-08-01T23:33:13.347635",
     "status": "completed"
    },
    "tags": []
   },
   "outputs": [
    {
     "name": "stderr",
     "output_type": "stream",
     "text": [
      "[I 2025-08-02 00:33:13,375] A new study created in memory with name: no-name-c49b653d-e78d-454c-93e9-02aec54fafe8\n"
     ]
    },
    {
     "name": "stderr",
     "output_type": "stream",
     "text": [
      "[I 2025-08-02 00:33:19,517] Trial 0 finished with value: 0.020408162847161293 and parameters: {'no_components': 87, 'learning_rate': 0.001410104819185795, 'item_alpha': 3.8766938816413486e-05, 'user_alpha': 1.1162894284139103e-05}. Best is trial 0 with value: 0.020408162847161293.\n"
     ]
    },
    {
     "name": "stderr",
     "output_type": "stream",
     "text": [
      "[I 2025-08-02 00:33:23,483] Trial 1 finished with value: 0.020408162847161293 and parameters: {'no_components': 59, 'learning_rate': 0.001695934369856132, 'item_alpha': 3.313916130872089e-05, 'user_alpha': 0.0005151016838655913}. Best is trial 0 with value: 0.020408162847161293.\n"
     ]
    },
    {
     "name": "stderr",
     "output_type": "stream",
     "text": [
      "[I 2025-08-02 00:33:28,236] Trial 2 finished with value: 0.020408162847161293 and parameters: {'no_components': 68, 'learning_rate': 0.0005004159416594434, 'item_alpha': 4.936335852636943e-06, 'user_alpha': 0.0014735352316855353}. Best is trial 0 with value: 0.020408162847161293.\n"
     ]
    },
    {
     "name": "stderr",
     "output_type": "stream",
     "text": [
      "[I 2025-08-02 00:33:32,332] Trial 3 finished with value: 0.020408162847161293 and parameters: {'no_components': 56, 'learning_rate': 0.006219765725867572, 'item_alpha': 0.0007337720573981585, 'user_alpha': 0.004451846879491447}. Best is trial 0 with value: 0.020408162847161293.\n"
     ]
    },
    {
     "name": "stderr",
     "output_type": "stream",
     "text": [
      "[I 2025-08-02 00:33:37,048] Trial 4 finished with value: 0.020408162847161293 and parameters: {'no_components': 70, 'learning_rate': 0.003006351015079856, 'item_alpha': 0.004643387956336699, 'user_alpha': 0.002758491757480263}. Best is trial 0 with value: 0.020408162847161293.\n"
     ]
    },
    {
     "name": "stderr",
     "output_type": "stream",
     "text": [
      "[I 2025-08-02 00:33:39,099] Trial 5 finished with value: 0.022448979318141937 and parameters: {'no_components': 20, 'learning_rate': 0.0001811193518267493, 'item_alpha': 0.00026157351407848835, 'user_alpha': 0.0005296402397614604}. Best is trial 5 with value: 0.022448979318141937.\n"
     ]
    },
    {
     "name": "stderr",
     "output_type": "stream",
     "text": [
      "[I 2025-08-02 00:33:43,451] Trial 6 finished with value: 0.022448979318141937 and parameters: {'no_components': 62, 'learning_rate': 0.0012023179509640907, 'item_alpha': 0.0009084523189401644, 'user_alpha': 7.698016932371263e-06}. Best is trial 5 with value: 0.022448979318141937.\n"
     ]
    },
    {
     "name": "stderr",
     "output_type": "stream",
     "text": [
      "[I 2025-08-02 00:33:45,873] Trial 7 finished with value: 0.02015306055545807 and parameters: {'no_components': 28, 'learning_rate': 0.00010499777302557751, 'item_alpha': 0.0002743998053582751, 'user_alpha': 0.002344275555051734}. Best is trial 5 with value: 0.022448979318141937.\n"
     ]
    },
    {
     "name": "stderr",
     "output_type": "stream",
     "text": [
      "[I 2025-08-02 00:33:52,044] Trial 8 finished with value: 0.012244898825883865 and parameters: {'no_components': 97, 'learning_rate': 0.08298921809748487, 'item_alpha': 8.470378054904058e-05, 'user_alpha': 8.019127178961572e-05}. Best is trial 5 with value: 0.022448979318141937.\n"
     ]
    },
    {
     "name": "stderr",
     "output_type": "stream",
     "text": [
      "[I 2025-08-02 00:33:54,727] Trial 9 finished with value: 0.012244898825883865 and parameters: {'no_components': 39, 'learning_rate': 0.014005827219106367, 'item_alpha': 0.001508588932839787, 'user_alpha': 0.00010207074197176115}. Best is trial 5 with value: 0.022448979318141937.\n"
     ]
    },
    {
     "name": "stderr",
     "output_type": "stream",
     "text": [
      "[I 2025-08-02 00:33:56,534] Trial 10 finished with value: 0.022448979318141937 and parameters: {'no_components': 20, 'learning_rate': 0.00014617390846549834, 'item_alpha': 1.3335955543998902e-06, 'user_alpha': 1.1108127390227923e-06}. Best is trial 5 with value: 0.022448979318141937.\n"
     ]
    },
    {
     "name": "stderr",
     "output_type": "stream",
     "text": [
      "[I 2025-08-02 00:33:59,538] Trial 11 finished with value: 0.020408162847161293 and parameters: {'no_components': 43, 'learning_rate': 0.0004403282770596848, 'item_alpha': 0.004483306270306379, 'user_alpha': 9.230733120336392e-06}. Best is trial 5 with value: 0.022448979318141937.\n"
     ]
    },
    {
     "name": "stderr",
     "output_type": "stream",
     "text": [
      "[I 2025-08-02 00:34:02,947] Trial 12 finished with value: 0.020408162847161293 and parameters: {'no_components': 45, 'learning_rate': 0.00037482104503404237, 'item_alpha': 0.0003390856693400193, 'user_alpha': 0.00017537957722747017}. Best is trial 5 with value: 0.022448979318141937.\n"
     ]
    },
    {
     "name": "stderr",
     "output_type": "stream",
     "text": [
      "[I 2025-08-02 00:34:08,087] Trial 13 finished with value: 0.026530614122748375 and parameters: {'no_components': 79, 'learning_rate': 0.0010140535677077324, 'item_alpha': 0.0016058093452307018, 'user_alpha': 1.6770068506663315e-05}. Best is trial 13 with value: 0.026530614122748375.\n"
     ]
    },
    {
     "name": "stderr",
     "output_type": "stream",
     "text": [
      "[I 2025-08-02 00:34:13,423] Trial 14 finished with value: 0.022448979318141937 and parameters: {'no_components': 80, 'learning_rate': 0.0002678632944034515, 'item_alpha': 0.008696287481799124, 'user_alpha': 0.00043550243781053494}. Best is trial 13 with value: 0.026530614122748375.\n"
     ]
    },
    {
     "name": "stderr",
     "output_type": "stream",
     "text": [
      "[I 2025-08-02 00:34:19,011] Trial 15 finished with value: 0.022448979318141937 and parameters: {'no_components': 80, 'learning_rate': 0.0007649692827820967, 'item_alpha': 0.00016625883200214155, 'user_alpha': 2.6324064390397772e-05}. Best is trial 13 with value: 0.026530614122748375.\n"
     ]
    },
    {
     "name": "stderr",
     "output_type": "stream",
     "text": [
      "[I 2025-08-02 00:34:25,524] Trial 16 finished with value: 0.020408162847161293 and parameters: {'no_components': 98, 'learning_rate': 0.006300834455983639, 'item_alpha': 1.3358544363424387e-05, 'user_alpha': 2.0502871503169575e-06}. Best is trial 13 with value: 0.026530614122748375.\n"
     ]
    },
    {
     "name": "stderr",
     "output_type": "stream",
     "text": [
      "[I 2025-08-02 00:34:28,171] Trial 17 finished with value: 0.021938776597380638 and parameters: {'no_components': 31, 'learning_rate': 0.00016921189005054317, 'item_alpha': 0.0021606306982578723, 'user_alpha': 3.907000146189517e-05}. Best is trial 13 with value: 0.026530614122748375.\n"
     ]
    },
    {
     "name": "stderr",
     "output_type": "stream",
     "text": [
      "[I 2025-08-02 00:34:31,953] Trial 18 finished with value: 0.012244898825883865 and parameters: {'no_components': 52, 'learning_rate': 0.0312643559599732, 'item_alpha': 0.00047157291543864125, 'user_alpha': 0.0006261593445693542}. Best is trial 13 with value: 0.026530614122748375.\n"
     ]
    },
    {
     "name": "stderr",
     "output_type": "stream",
     "text": [
      "[I 2025-08-02 00:34:37,378] Trial 19 finished with value: 0.020408162847161293 and parameters: {'no_components': 87, 'learning_rate': 0.0008235579227052004, 'item_alpha': 0.00010072908294596157, 'user_alpha': 3.6398920772944715e-06}. Best is trial 13 with value: 0.026530614122748375.\n"
     ]
    },
    {
     "name": "stdout",
     "output_type": "stream",
     "text": [
      "Best parameters: {'no_components': 79, 'learning_rate': 0.0010140535677077324, 'item_alpha': 0.0016058093452307018, 'user_alpha': 1.6770068506663315e-05}\n",
      "Best Precision@5: 0.026530614122748375\n"
     ]
    }
   ],
   "source": [
    "def objective(trial):\n",
    "\n",
    "    model = LightFM(\n",
    "        no_components=trial.suggest_int(\"no_components\", 20, 100),\n",
    "        learning_rate=trial.suggest_float(\"learning_rate\", 1e-4, 1e-1, log=True),\n",
    "        item_alpha=trial.suggest_float(\"item_alpha\", 1e-6, 1e-2, log=True),\n",
    "        user_alpha=trial.suggest_float(\"user_alpha\", 1e-6, 1e-2, log=True),\n",
    "        loss=\"logistic\",\n",
    "        random_state=42\n",
    "    )\n",
    "\n",
    " \n",
    "    model.fit(train,\n",
    "              user_features=user_features,\n",
    "              item_features=item_features,\n",
    "              epochs=20,\n",
    "              num_threads=4,\n",
    "              verbose=False)\n",
    "\n",
    "\n",
    "    precision = precision_at_k(model, test,\n",
    "                               user_features=user_features,\n",
    "                               item_features=item_features,\n",
    "                               k=5).mean()\n",
    "    return precision\n",
    "\n",
    "\n",
    "study = optuna.create_study(direction=\"maximize\")\n",
    "study.optimize(objective, n_trials=20)\n",
    "\n",
    "print(\"Best parameters:\", study.best_params)\n",
    "print(\"Best Precision@5:\", study.best_value)"
   ]
  },
  {
   "cell_type": "markdown",
   "id": "c8d5969f-8b74-4477-9aba-43f5d4ef8481",
   "metadata": {
    "papermill": {
     "duration": 0.020243,
     "end_time": "2025-08-01T23:34:37.426053",
     "exception": false,
     "start_time": "2025-08-01T23:34:37.405810",
     "status": "completed"
    },
    "tags": []
   },
   "source": [
    "<h2> Train Final Model with Best Parameters</h2>"
   ]
  },
  {
   "cell_type": "code",
   "execution_count": 18,
   "id": "fe715b8d-ce1b-44d0-ab11-6707f1100cb7",
   "metadata": {
    "execution": {
     "iopub.execute_input": "2025-08-01T23:34:37.460878Z",
     "iopub.status.busy": "2025-08-01T23:34:37.459921Z",
     "iopub.status.idle": "2025-08-01T23:34:42.205144Z",
     "shell.execute_reply": "2025-08-01T23:34:42.203878Z"
    },
    "papermill": {
     "duration": 4.764793,
     "end_time": "2025-08-01T23:34:42.207171",
     "exception": false,
     "start_time": "2025-08-01T23:34:37.442378",
     "status": "completed"
    },
    "tags": []
   },
   "outputs": [
    {
     "data": {
      "text/plain": [
       "<lightfm.lightfm.LightFM at 0x214b9e96300>"
      ]
     },
     "execution_count": 18,
     "metadata": {},
     "output_type": "execute_result"
    }
   ],
   "source": [
    "best_params = study.best_params\n",
    "model = LightFM(**best_params, random_state=42)\n",
    "\n",
    "model.fit(train,\n",
    "          user_features=user_features,\n",
    "          item_features=item_features,\n",
    "          epochs=20,\n",
    "          num_threads=4)"
   ]
  },
  {
   "cell_type": "markdown",
   "id": "473dda97-072a-4ddf-8419-c77032bf3f43",
   "metadata": {
    "papermill": {
     "duration": 0.020978,
     "end_time": "2025-08-01T23:34:42.247019",
     "exception": false,
     "start_time": "2025-08-01T23:34:42.226041",
     "status": "completed"
    },
    "tags": []
   },
   "source": [
    "<h1 style=\"color:red;\">Evaluation</h1>\n",
    "<ol>\n",
    "    <li> <b>Precision@5: 0.0541</b>\n",
    "This means that, on average, about 5.4% of the top 5 recommendations for a user are relevant or actually interacted with by the user. It reflects the accuracy of the top recommendations.</li>\n",
    "    <li> <b>Recall@5: 0.1214</b>\n",
    "This indicates that the system is able to retrieve around 12.1% of all relevant items (items the user interacted with) within the top 5 recommendations. It shows how well the system covers the user’s interests.</li>\n",
    "    <li><b> AUC Score: 0.7430</b>\n",
    "       \n",
    "The Area Under the Curve (AUC) score of 0.743 means the model has a good overall ability to distinguish between items a user will interact with and those they will not. A score closer to 1 is better, so 0.743 shows solid predictive performance.\n",
    "\n",
    "</li>\n",
    "</ol>"
   ]
  },
  {
   "cell_type": "code",
   "execution_count": 19,
   "id": "cdf3bb08-b714-45ef-823c-9110a68ae32e",
   "metadata": {
    "execution": {
     "iopub.execute_input": "2025-08-01T23:34:42.286906Z",
     "iopub.status.busy": "2025-08-01T23:34:42.286906Z",
     "iopub.status.idle": "2025-08-01T23:34:43.739403Z",
     "shell.execute_reply": "2025-08-01T23:34:43.738363Z"
    },
    "papermill": {
     "duration": 1.473663,
     "end_time": "2025-08-01T23:34:43.740378",
     "exception": false,
     "start_time": "2025-08-01T23:34:42.266715",
     "status": "completed"
    },
    "tags": []
   },
   "outputs": [
    {
     "name": "stdout",
     "output_type": "stream",
     "text": [
      "Precision@5: 0.0265\n",
      "Recall@5: 0.0560\n",
      "AUC Score: 0.6352\n"
     ]
    }
   ],
   "source": [
    "precision = precision_at_k(model, test,\n",
    "                           user_features=user_features,\n",
    "                           item_features=item_features,\n",
    "                           k=5).mean()\n",
    "recall = recall_at_k(model, test,\n",
    "                     user_features=user_features,\n",
    "                     item_features=item_features,\n",
    "                     k=5).mean()\n",
    "auc = auc_score(model, test,\n",
    "                user_features=user_features,\n",
    "                item_features=item_features).mean()\n",
    "\n",
    "print(f\"Precision@5: {precision:.4f}\")\n",
    "print(f\"Recall@5: {recall:.4f}\")\n",
    "print(f\"AUC Score: {auc:.4f}\")\n"
   ]
  },
  {
   "cell_type": "markdown",
   "id": "24be664c-6852-45fa-8e44-5ee6e6ae4883",
   "metadata": {
    "papermill": {
     "duration": 0.019911,
     "end_time": "2025-08-01T23:34:43.779626",
     "exception": false,
     "start_time": "2025-08-01T23:34:43.759715",
     "status": "completed"
    },
    "tags": []
   },
   "source": [
    "<h2>Generate Top-N Recommendations</h2>"
   ]
  },
  {
   "cell_type": "code",
   "execution_count": 20,
   "id": "31c00220-ad4c-436c-9354-9c2d16d63e0d",
   "metadata": {
    "execution": {
     "iopub.execute_input": "2025-08-01T23:34:43.838316Z",
     "iopub.status.busy": "2025-08-01T23:34:43.837286Z",
     "iopub.status.idle": "2025-08-01T23:34:43.846030Z",
     "shell.execute_reply": "2025-08-01T23:34:43.845019Z"
    },
    "papermill": {
     "duration": 0.03952,
     "end_time": "2025-08-01T23:34:43.849109",
     "exception": false,
     "start_time": "2025-08-01T23:34:43.809589",
     "status": "completed"
    },
    "tags": []
   },
   "outputs": [],
   "source": [
    "def generate_recommendations(model, user_ids, interactions_matrix, user_features, item_features, n=5):\n",
    "    n_users, n_items = interactions_matrix.shape\n",
    "    recommendations = {}\n",
    "\n",
    "    for user_idx in range(n_users):\n",
    "        scores = model.predict(user_ids=user_idx,\n",
    "                               item_ids=np.arange(n_items),\n",
    "                               user_features=user_features,\n",
    "                               item_features=item_features)\n",
    "\n",
    "        known_items = interactions_matrix.tocsr()[user_idx].indices\n",
    "        scores[known_items] = -np.inf \n",
    "\n",
    "        top_items = np.argsort(-scores)[:n]\n",
    "        recommendations[user_ids[user_idx]] = top_items\n",
    "\n",
    "    return recommendations"
   ]
  },
  {
   "cell_type": "markdown",
   "id": "8345703d-659d-4efd-aac5-67892467de89",
   "metadata": {
    "papermill": {
     "duration": 0.020004,
     "end_time": "2025-08-01T23:34:43.889574",
     "exception": false,
     "start_time": "2025-08-01T23:34:43.869570",
     "status": "completed"
    },
    "tags": []
   },
   "source": [
    "<h2>Mapping & Displaying Recommendations (for user with id 0 )</h2> <p>this is used to have a better insight about the recommendation performance and the pattern followed</p>"
   ]
  },
  {
   "cell_type": "code",
   "execution_count": 21,
   "id": "0745943d-4a14-48a7-b382-9907488b9fb1",
   "metadata": {
    "execution": {
     "iopub.execute_input": "2025-08-01T23:34:43.927036Z",
     "iopub.status.busy": "2025-08-01T23:34:43.926045Z",
     "iopub.status.idle": "2025-08-01T23:34:43.951277Z",
     "shell.execute_reply": "2025-08-01T23:34:43.950269Z"
    },
    "papermill": {
     "duration": 0.04483,
     "end_time": "2025-08-01T23:34:43.952277",
     "exception": false,
     "start_time": "2025-08-01T23:34:43.907447",
     "status": "completed"
    },
    "tags": []
   },
   "outputs": [
    {
     "name": "stdout",
     "output_type": "stream",
     "text": [
      "Internal user ID 0 corresponds to user_id: user_0\n",
      "Events user interacted with:\n",
      "     user_id   event_id\n",
      "61    user_0   event_99\n",
      "1310  user_0  event_310\n",
      "2927  user_0  event_405\n",
      "3228  user_0  event_199\n",
      "3373  user_0  event_355\n",
      "5340  user_0  event_127\n",
      "7251  user_0   event_19\n",
      "7598  user_0  event_269\n",
      "9849  user_0  event_269\n",
      "  user_id   event_id  category  popularity_score  event_date  is_weekend\n",
      "0  user_0   event_99      Tech              0.94  2025-08-10        True\n",
      "1  user_0  event_310      Tech              0.98  2025-08-01       False\n",
      "2  user_0  event_405      Tech              0.91  2025-08-26       False\n",
      "3  user_0  event_199    Sports              0.97  2025-09-14        True\n",
      "4  user_0  event_355      Tech              0.92  2025-09-17       False\n",
      "5  user_0  event_127  Workshop              0.97  2025-07-31       False\n",
      "6  user_0   event_19    Sports              0.98  2025-08-02        True\n",
      "7  user_0  event_269  Workshop              0.97  2025-09-01       False\n",
      "8  user_0  event_269  Workshop              0.97  2025-09-01       False\n"
     ]
    }
   ],
   "source": [
    "user_id_map, user_feature_map, item_id_map, item_feature_map = dataset.mapping()\n",
    "inv_user_id_map = {v: k for k, v in user_id_map.items()}\n",
    "real_user_id = inv_user_id_map[0]\n",
    "print(f\"Internal user ID 0 corresponds to user_id: {real_user_id}\")\n",
    "user_interactions = interactions[interactions['user_id'] == real_user_id]\n",
    "print(\"Events user interacted with:\")\n",
    "print(user_interactions)\n",
    "interacted_event_info = user_interactions.merge(events, on='event_id', how='left')\n",
    "print(interacted_event_info)"
   ]
  },
  {
   "cell_type": "markdown",
   "id": "6116b03a-616e-4753-8872-4ea249d63843",
   "metadata": {
    "papermill": {
     "duration": 0.02694,
     "end_time": "2025-08-01T23:34:43.998991",
     "exception": false,
     "start_time": "2025-08-01T23:34:43.972051",
     "status": "completed"
    },
    "tags": []
   },
   "source": [
    "<h2>Exploring Recommendation Diversity and Novelty</h2> <p>To evaluate the quality of our recommendation system beyond accuracy, we analyze how diverse (varied) and serendipitous (unexpected but relevant) the suggested items are. This helps ensure users receive a mix of familiar and novel content that keeps the experience engaging and personalized.</p>\n",
    "<ol>\n",
    "    <li>A lower value of Diversity means less variation in content types.\n",
    "</li>\n",
    "<li>A high Serendipity score means that many of the recommended items are new to the user and highly popular, indicating that the system is effectively introducing appealing and unexpected content.</li>\n",
    "</ol>"
   ]
  },
  {
   "cell_type": "code",
   "execution_count": 22,
   "id": "88dd5311-0a7c-443d-986c-2874e714bdfd",
   "metadata": {
    "execution": {
     "iopub.execute_input": "2025-08-01T23:34:44.047033Z",
     "iopub.status.busy": "2025-08-01T23:34:44.045834Z",
     "iopub.status.idle": "2025-08-01T23:34:44.054368Z",
     "shell.execute_reply": "2025-08-01T23:34:44.053789Z"
    },
    "papermill": {
     "duration": 0.031842,
     "end_time": "2025-08-01T23:34:44.056769",
     "exception": false,
     "start_time": "2025-08-01T23:34:44.024927",
     "status": "completed"
    },
    "tags": []
   },
   "outputs": [],
   "source": [
    "def get_recommendations_for_user(user_id, model, dataset, user_features, item_features, events_df, top_n=10):\n",
    "    user_mapping = dataset.mapping()[0]\n",
    "    event_mapping = dataset.mapping()[2] \n",
    "    inv_event_mapping = {v: k for k, v in event_mapping.items()}\n",
    "\n",
    "    if user_id not in user_mapping:\n",
    "        raise ValueError(f\"User {user_id} not in dataset.\")\n",
    "\n",
    "    user_internal_id = user_mapping[user_id]\n",
    "\n",
    "    scores = model.predict(user_internal_id, np.arange(len(event_mapping)), user_features=user_features, item_features=item_features)\n",
    "\n",
    "    top_items_idx = np.argsort(-scores)[:top_n]\n",
    "    \n",
    "    recommended_event_ids = [inv_event_mapping[i] for i in top_items_idx]\n",
    "\n",
    "    return recommended_event_ids, scores[top_items_idx]"
   ]
  },
  {
   "cell_type": "code",
   "execution_count": 23,
   "id": "db11b851-b0bf-49af-80fc-433421827c17",
   "metadata": {
    "execution": {
     "iopub.execute_input": "2025-08-01T23:34:44.095890Z",
     "iopub.status.busy": "2025-08-01T23:34:44.094890Z",
     "iopub.status.idle": "2025-08-01T23:34:44.105546Z",
     "shell.execute_reply": "2025-08-01T23:34:44.104540Z"
    },
    "papermill": {
     "duration": 0.032731,
     "end_time": "2025-08-01T23:34:44.107550",
     "exception": false,
     "start_time": "2025-08-01T23:34:44.074819",
     "status": "completed"
    },
    "tags": []
   },
   "outputs": [
    {
     "name": "stdout",
     "output_type": "stream",
     "text": [
      "Recommended Event IDs: ['cmdryoz04000bgb6s6v26zjyr', 'cmdryq75c000ggb6sybjh54ik', 'cmdrymxwv0001gb6sesbr516b', 'event_5', 'event_177']\n",
      "Scores: [1.0265303  0.92939365 0.91093373 0.84706116 0.8449551 ]\n"
     ]
    }
   ],
   "source": [
    "# Set the user ID to test\n",
    "test_user_id = \"cmdj139f30005gbika35k4jov\"\n",
    "\n",
    "# Call the function\n",
    "try:\n",
    "    recommended_ids, scores = get_recommendations_for_user(\n",
    "        user_id=test_user_id,\n",
    "        model=model,\n",
    "        dataset=dataset,\n",
    "        user_features=user_features,\n",
    "        item_features=item_features,\n",
    "        events_df=events_encoded,  \n",
    "        top_n=5\n",
    "    )\n",
    "\n",
    "    print(\"Recommended Event IDs:\", recommended_ids)\n",
    "    print(\"Scores:\", scores)\n",
    "\n",
    "except ValueError as e:\n",
    "    print(\"Error:\", e)\n"
   ]
  },
  {
   "cell_type": "code",
   "execution_count": 24,
   "id": "6b4fe7b4-0a2c-48c4-a284-03f1d8d05f0e",
   "metadata": {
    "execution": {
     "iopub.execute_input": "2025-08-01T23:34:44.143785Z",
     "iopub.status.busy": "2025-08-01T23:34:44.143785Z",
     "iopub.status.idle": "2025-08-01T23:34:44.150264Z",
     "shell.execute_reply": "2025-08-01T23:34:44.150264Z"
    },
    "papermill": {
     "duration": 0.029076,
     "end_time": "2025-08-01T23:34:44.152761",
     "exception": false,
     "start_time": "2025-08-01T23:34:44.123685",
     "status": "completed"
    },
    "tags": []
   },
   "outputs": [],
   "source": [
    "\n",
    "def diversity(recommendations, events_df):\n",
    "    categories = events_df[events_df['event_id'].isin(recommendations)]['category']\n",
    "    if len(categories) == 0:\n",
    "        return 0\n",
    "    return categories.nunique() / len(categories)"
   ]
  },
  {
   "cell_type": "code",
   "execution_count": 25,
   "id": "11f3a41c-4c21-4e3a-879b-cc6eea7250cb",
   "metadata": {
    "execution": {
     "iopub.execute_input": "2025-08-01T23:34:44.203786Z",
     "iopub.status.busy": "2025-08-01T23:34:44.202757Z",
     "iopub.status.idle": "2025-08-01T23:34:44.209882Z",
     "shell.execute_reply": "2025-08-01T23:34:44.208862Z"
    },
    "papermill": {
     "duration": 0.031842,
     "end_time": "2025-08-01T23:34:44.212873",
     "exception": false,
     "start_time": "2025-08-01T23:34:44.181031",
     "status": "completed"
    },
    "tags": []
   },
   "outputs": [],
   "source": [
    "def serendipity(recommendations, user_history, events_df):\n",
    "    novel_items = set(recommendations) - set(user_history)\n",
    "    if len(recommendations) == 0:\n",
    "        return 0\n",
    "    top_serendipitous = events_df[\n",
    "        (events_df['event_id'].isin(novel_items)) & \n",
    "        (events_df['popularity_score'] > 0.9)\n",
    "    ]\n",
    "    return len(top_serendipitous) / len(recommendations)"
   ]
  },
  {
   "cell_type": "code",
   "execution_count": 26,
   "id": "026fd917-1623-4080-9b9a-ea98705424f2",
   "metadata": {
    "execution": {
     "iopub.execute_input": "2025-08-01T23:34:44.249948Z",
     "iopub.status.busy": "2025-08-01T23:34:44.248947Z",
     "iopub.status.idle": "2025-08-01T23:34:44.307095Z",
     "shell.execute_reply": "2025-08-01T23:34:44.305082Z"
    },
    "papermill": {
     "duration": 0.081402,
     "end_time": "2025-08-01T23:34:44.310139",
     "exception": false,
     "start_time": "2025-08-01T23:34:44.228737",
     "status": "completed"
    },
    "tags": []
   },
   "outputs": [
    {
     "name": "stdout",
     "output_type": "stream",
     "text": [
      "Recommendations for cmdj139f30005gbika35k4jov: ['cmdryoz04000bgb6s6v26zjyr', 'cmdryq75c000ggb6sybjh54ik', 'cmdrymxwv0001gb6sesbr516b', 'event_5', 'event_177', 'event_120', 'event_17', 'event_2', 'event_139', 'event_329']"
     ]
    },
    {
     "name": "stdout",
     "output_type": "stream",
     "text": [
      "\n",
      "Diversity: 0.158\n",
      "Serendipity: 0.500\n"
     ]
    }
   ],
   "source": [
    "user_to_test = 'cmdj139f30005gbika35k4jov'\n",
    "\n",
    "user_history = interactions[interactions['user_id'] == user_to_test]['event_id'].tolist()\n",
    "\n",
    "recommended_events, rec_scores = get_recommendations_for_user(\n",
    "    user_id=user_to_test,\n",
    "    model=model,\n",
    "    dataset=dataset,\n",
    "    user_features=user_features,\n",
    "    item_features=item_features,\n",
    "    events_df=events_encoded,\n",
    "    top_n=10\n",
    ")\n",
    "\n",
    "div_score = diversity(recommended_events, events_encoded)\n",
    "ser_score = serendipity(recommended_events, user_history, events_encoded)\n",
    "\n",
    "print(f\"Recommendations for {user_to_test}: {recommended_events}\")\n",
    "print(f\"Diversity: {div_score:.3f}\")\n",
    "print(f\"Serendipity: {ser_score:.3f}\")\n"
   ]
  },
  {
   "cell_type": "markdown",
   "id": "b7e0393a-941c-4db0-8bf5-c063a0804c28",
   "metadata": {
    "papermill": {
     "duration": 0.028117,
     "end_time": "2025-08-01T23:34:44.374737",
     "exception": false,
     "start_time": "2025-08-01T23:34:44.346620",
     "status": "completed"
    },
    "tags": []
   },
   "source": [
    "<h2>Import the model</h2>"
   ]
  },
  {
   "cell_type": "code",
   "execution_count": 27,
   "id": "46e6caf6-7467-4fb5-a883-d22213e1ab6c",
   "metadata": {
    "execution": {
     "iopub.execute_input": "2025-08-01T23:34:44.418346Z",
     "iopub.status.busy": "2025-08-01T23:34:44.417310Z",
     "iopub.status.idle": "2025-08-01T23:34:44.453874Z",
     "shell.execute_reply": "2025-08-01T23:34:44.452791Z"
    },
    "papermill": {
     "duration": 0.060386,
     "end_time": "2025-08-01T23:34:44.455169",
     "exception": false,
     "start_time": "2025-08-01T23:34:44.394783",
     "status": "completed"
    },
    "tags": []
   },
   "outputs": [
    {
     "data": {
      "text/plain": [
       "['recommendation_dataset.pkl']"
      ]
     },
     "execution_count": 27,
     "metadata": {},
     "output_type": "execute_result"
    }
   ],
   "source": [
    "joblib.dump(model, 'recommendation_model.pkl')\n",
    "joblib.dump(scaler, 'recommendation_scaler.pkl')\n",
    "joblib.dump(user_features, 'recommendation_user_features.pkl')\n",
    "joblib.dump(item_features, 'recommendation_item_features.pkl')\n",
    "joblib.dump(dataset, 'recommendation_dataset.pkl')\n"
   ]
  },
  {
   "cell_type": "code",
   "execution_count": null,
   "id": "176a4c01-ef7a-47dd-a0d1-807a11a058b4",
   "metadata": {
    "papermill": {
     "duration": 0.022901,
     "end_time": "2025-08-01T23:34:44.497699",
     "exception": false,
     "start_time": "2025-08-01T23:34:44.474798",
     "status": "completed"
    },
    "tags": []
   },
   "outputs": [],
   "source": []
  }
 ],
 "metadata": {
  "kernelspec": {
   "display_name": "Python [conda env:base] *",
   "language": "python",
   "name": "conda-base-py"
  },
  "language_info": {
   "codemirror_mode": {
    "name": "ipython",
    "version": 3
   },
   "file_extension": ".py",
   "mimetype": "text/x-python",
   "name": "python",
   "nbconvert_exporter": "python",
   "pygments_lexer": "ipython3",
   "version": "3.12.7"
  },
  "papermill": {
   "default_parameters": {},
   "duration": 101.776043,
   "end_time": "2025-08-01T23:34:45.287983",
   "environment_variables": {},
   "exception": null,
   "input_path": "lightFM_hybrid_recommendation_system.ipynb",
   "output_path": "train_model_out.ipynb",
   "parameters": {},
   "start_time": "2025-08-01T23:33:03.511940",
   "version": "2.6.0"
  }
 },
 "nbformat": 4,
 "nbformat_minor": 5
}