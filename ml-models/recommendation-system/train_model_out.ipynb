{
 "cells": [
  {
   "cell_type": "markdown",
   "id": "c75fc8b9-13f4-4c7d-b616-ff375a134672",
   "metadata": {
    "papermill": {
     "duration": 0.013269,
     "end_time": "2025-08-16T00:02:06.487632",
     "exception": false,
     "start_time": "2025-08-16T00:02:06.474363",
     "status": "completed"
    },
    "tags": []
   },
   "source": [
    "<h1 style=\"color:red;\">Data Loading, Exploration and Preprocessing</h1>"
   ]
  },
  {
   "cell_type": "code",
   "execution_count": 1,
   "id": "ceb7f003-ee26-480d-b0bd-c500ebf6df4f",
   "metadata": {
    "execution": {
     "iopub.execute_input": "2025-08-16T00:02:06.507100Z",
     "iopub.status.busy": "2025-08-16T00:02:06.506103Z",
     "iopub.status.idle": "2025-08-16T00:02:09.773955Z",
     "shell.execute_reply": "2025-08-16T00:02:09.773955Z"
    },
    "papermill": {
     "duration": 3.276775,
     "end_time": "2025-08-16T00:02:09.774960",
     "exception": false,
     "start_time": "2025-08-16T00:02:06.498185",
     "status": "completed"
    },
    "tags": []
   },
   "outputs": [
    {
     "name": "stderr",
     "output_type": "stream",
     "text": [
      "C:\\Users\\wiemb\\SnapReserve\\SnapReserve-Backend\\venv\\Lib\\site-packages\\lightfm\\_lightfm_fast.py:9: UserWarning: LightFM was compiled without OpenMP support. Only a single thread will be used.\n",
      "  warnings.warn(\n"
     ]
    }
   ],
   "source": [
    "import pandas as pd\n",
    "import numpy as np\n",
    "import matplotlib.pyplot as plt\n",
    "import seaborn as sns\n",
    "from sklearn.preprocessing import MinMaxScaler\n",
    "from lightfm.data import Dataset\n",
    "from lightfm.cross_validation import random_train_test_split\n",
    "import optuna\n",
    "from lightfm import LightFM\n",
    "from lightfm.evaluation import precision_at_k, recall_at_k, auc_score\n",
    "import joblib"
   ]
  },
  {
   "cell_type": "code",
   "execution_count": 2,
   "id": "d247e325-37be-4a77-a400-1417841836f0",
   "metadata": {
    "execution": {
     "iopub.execute_input": "2025-08-16T00:02:09.788474Z",
     "iopub.status.busy": "2025-08-16T00:02:09.787474Z",
     "iopub.status.idle": "2025-08-16T00:02:09.791784Z",
     "shell.execute_reply": "2025-08-16T00:02:09.791784Z"
    },
    "papermill": {
     "duration": 0.011323,
     "end_time": "2025-08-16T00:02:09.792797",
     "exception": false,
     "start_time": "2025-08-16T00:02:09.781474",
     "status": "completed"
    },
    "tags": []
   },
   "outputs": [
    {
     "name": "stdout",
     "output_type": "stream",
     "text": [
      "Numpy: 2.3.2\n",
      "scikit-learn: 1.5.1\n",
      "joblib: 1.5.1\n"
     ]
    }
   ],
   "source": [
    "import numpy\n",
    "import sklearn\n",
    "import joblib\n",
    "\n",
    "print(\"Numpy:\", numpy.__version__)\n",
    "print(\"scikit-learn:\", sklearn.__version__)\n",
    "print(\"joblib:\", joblib.__version__)\n"
   ]
  },
  {
   "cell_type": "code",
   "execution_count": 3,
   "id": "1fdf0624-dd39-4c49-8d68-30de633b713f",
   "metadata": {
    "execution": {
     "iopub.execute_input": "2025-08-16T00:02:09.804796Z",
     "iopub.status.busy": "2025-08-16T00:02:09.803796Z",
     "iopub.status.idle": "2025-08-16T00:02:09.825652Z",
     "shell.execute_reply": "2025-08-16T00:02:09.825652Z"
    },
    "papermill": {
     "duration": 0.027861,
     "end_time": "2025-08-16T00:02:09.826658",
     "exception": false,
     "start_time": "2025-08-16T00:02:09.798797",
     "status": "completed"
    },
    "tags": []
   },
   "outputs": [
    {
     "name": "stdout",
     "output_type": "stream",
     "text": [
      "Users:\n",
      "  user_id  gender age_group      role\n",
      "0  user_0    male     26-35  attendee\n",
      "1  user_1  female     26-35  attendee\n",
      "2  user_2    male     26-35  attendee\n",
      "3  user_3    male     36-50  attendee\n",
      "4  user_4    male     26-35  attendee\n",
      "\n",
      "Events:\n",
      "  event_id category  popularity_score  event_date  is_weekend\n",
      "0  event_0   Sports              0.96  2025-09-06        True\n",
      "1  event_1    Movie              0.20  2025-08-04       False\n",
      "2  event_2    Movie              0.95  2025-07-29       False\n",
      "3  event_3    Movie              0.99  2025-09-13        True\n",
      "4  event_4  Theater              0.71  2025-08-14       False\n",
      "\n",
      "Interactions:\n",
      "    user_id   event_id\n",
      "0  user_870  event_209\n",
      "1  user_101  event_120\n",
      "2  user_628   event_19\n",
      "3  user_134  event_127\n",
      "4   user_57  event_190\n"
     ]
    }
   ],
   "source": [
    "users = pd.read_csv('synthetic_users.csv') \n",
    "events = pd.read_csv('synthetic_events.csv') \n",
    "interactions = pd.read_csv('synthetic_interactions.csv')  \n",
    "\n",
    "print(\"Users:\")\n",
    "print(users.head())\n",
    "print(\"\\nEvents:\")\n",
    "print(events.head())\n",
    "print(\"\\nInteractions:\")\n",
    "print(interactions.head())"
   ]
  },
  {
   "cell_type": "code",
   "execution_count": 4,
   "id": "f174dde1-c868-44e5-aba8-78431d4d3ca7",
   "metadata": {
    "execution": {
     "iopub.execute_input": "2025-08-16T00:02:09.839663Z",
     "iopub.status.busy": "2025-08-16T00:02:09.838659Z",
     "iopub.status.idle": "2025-08-16T00:02:09.846492Z",
     "shell.execute_reply": "2025-08-16T00:02:09.846492Z"
    },
    "papermill": {
     "duration": 0.01584,
     "end_time": "2025-08-16T00:02:09.847499",
     "exception": false,
     "start_time": "2025-08-16T00:02:09.831659",
     "status": "completed"
    },
    "tags": []
   },
   "outputs": [
    {
     "name": "stdout",
     "output_type": "stream",
     "text": [
      "<class 'pandas.core.frame.DataFrame'>\n",
      "RangeIndex: 1003 entries, 0 to 1002\n",
      "Data columns (total 4 columns):\n",
      " #   Column     Non-Null Count  Dtype \n",
      "---  ------     --------------  ----- \n",
      " 0   user_id    1003 non-null   object\n",
      " 1   gender     1003 non-null   object\n",
      " 2   age_group  1003 non-null   object\n",
      " 3   role       1003 non-null   object\n",
      "dtypes: object(4)\n",
      "memory usage: 31.5+ KB\n"
     ]
    }
   ],
   "source": [
    "users.info()"
   ]
  },
  {
   "cell_type": "code",
   "execution_count": 5,
   "id": "e5ac4894-dea5-4b90-8dbf-5afc7aa1010f",
   "metadata": {
    "execution": {
     "iopub.execute_input": "2025-08-16T00:02:09.860498Z",
     "iopub.status.busy": "2025-08-16T00:02:09.859500Z",
     "iopub.status.idle": "2025-08-16T00:02:09.865635Z",
     "shell.execute_reply": "2025-08-16T00:02:09.865635Z"
    },
    "papermill": {
     "duration": 0.013143,
     "end_time": "2025-08-16T00:02:09.866642",
     "exception": false,
     "start_time": "2025-08-16T00:02:09.853499",
     "status": "completed"
    },
    "tags": []
   },
   "outputs": [
    {
     "name": "stdout",
     "output_type": "stream",
     "text": [
      "<class 'pandas.core.frame.DataFrame'>\n",
      "RangeIndex: 519 entries, 0 to 518\n",
      "Data columns (total 5 columns):\n",
      " #   Column            Non-Null Count  Dtype  \n",
      "---  ------            --------------  -----  \n",
      " 0   event_id          519 non-null    object \n",
      " 1   category          519 non-null    object \n",
      " 2   popularity_score  519 non-null    float64\n",
      " 3   event_date        519 non-null    object \n",
      " 4   is_weekend        519 non-null    bool   \n",
      "dtypes: bool(1), float64(1), object(3)\n",
      "memory usage: 16.9+ KB\n"
     ]
    }
   ],
   "source": [
    "events.info()"
   ]
  },
  {
   "cell_type": "code",
   "execution_count": 6,
   "id": "921dc186-c9ad-4c1a-934c-21ae38105440",
   "metadata": {
    "execution": {
     "iopub.execute_input": "2025-08-16T00:02:09.878643Z",
     "iopub.status.busy": "2025-08-16T00:02:09.878643Z",
     "iopub.status.idle": "2025-08-16T00:02:09.883887Z",
     "shell.execute_reply": "2025-08-16T00:02:09.883887Z"
    },
    "papermill": {
     "duration": 0.014247,
     "end_time": "2025-08-16T00:02:09.885893",
     "exception": false,
     "start_time": "2025-08-16T00:02:09.871646",
     "status": "completed"
    },
    "tags": []
   },
   "outputs": [
    {
     "name": "stdout",
     "output_type": "stream",
     "text": [
      "<class 'pandas.core.frame.DataFrame'>\n",
      "RangeIndex: 10089 entries, 0 to 10088\n",
      "Data columns (total 2 columns):\n",
      " #   Column    Non-Null Count  Dtype \n",
      "---  ------    --------------  ----- \n",
      " 0   user_id   10089 non-null  object\n",
      " 1   event_id  10089 non-null  object\n",
      "dtypes: object(2)\n",
      "memory usage: 157.8+ KB\n"
     ]
    }
   ],
   "source": [
    "interactions.info()"
   ]
  },
  {
   "cell_type": "markdown",
   "id": "fe0aca21-b908-4178-a921-44cdde9122de",
   "metadata": {
    "papermill": {
     "duration": 0.006001,
     "end_time": "2025-08-16T00:02:09.896893",
     "exception": false,
     "start_time": "2025-08-16T00:02:09.890892",
     "status": "completed"
    },
    "tags": []
   },
   "source": [
    "<h2>Exploratory Data Analysis (EDA) - Users</h2>"
   ]
  },
  {
   "cell_type": "code",
   "execution_count": 7,
   "id": "c684c8b8-90b8-431d-821c-784774b30c78",
   "metadata": {
    "execution": {
     "iopub.execute_input": "2025-08-16T00:02:09.908893Z",
     "iopub.status.busy": "2025-08-16T00:02:09.908893Z",
     "iopub.status.idle": "2025-08-16T00:02:10.246415Z",
     "shell.execute_reply": "2025-08-16T00:02:10.246415Z"
    },
    "papermill": {
     "duration": 0.344998,
     "end_time": "2025-08-16T00:02:10.247890",
     "exception": false,
     "start_time": "2025-08-16T00:02:09.902892",
     "status": "completed"
    },
    "tags": []
   },
   "outputs": [
    {
     "data": {
      "image/png": "[encoded data removed]",
      "text/plain": [
       "<Figure size 1400x400 with 2 Axes>"
      ]
     },
     "metadata": {},
     "output_type": "display_data"
    }
   ],
   "source": [
    "plt.figure(figsize=(14, 4))\n",
    "\n",
    "plot_idx = 1\n",
    "\n",
    "if 'gender' in users.columns:\n",
    "    plt.subplot(1, 3, plot_idx)\n",
    "    sns.countplot(data=users, x='gender')\n",
    "    plt.title('Gender Distribution')\n",
    "    plot_idx += 1\n",
    "\n",
    "if 'age_group' in users.columns:\n",
    "    plt.subplot(1, 3, plot_idx)\n",
    "    sns.countplot(data=users, x='age_group')\n",
    "    plt.title('Age Group Distribution')\n",
    "    plot_idx += 1\n",
    "\n",
    "# if 'role' in users.columns:\n",
    "#     plt.subplot(1, 3, plot_idx)\n",
    "#     sns.countplot(data=users, x='role')\n",
    "#     plt.title('Role Distribution')\n",
    "    plot_idx += 1\n",
    "\n",
    "plt.tight_layout()\n",
    "plt.show()\n"
   ]
  },
  {
   "cell_type": "markdown",
   "id": "d7e30195-9cf2-43bd-beca-3c8b936d787b",
   "metadata": {
    "papermill": {
     "duration": 0.006293,
     "end_time": "2025-08-16T00:02:10.259697",
     "exception": false,
     "start_time": "2025-08-16T00:02:10.253404",
     "status": "completed"
    },
    "tags": []
   },
   "source": [
    "<h2>Exploratory Data Analysis (EDA) - Events</h2>"
   ]
  },
  {
   "cell_type": "code",
   "execution_count": 8,
   "id": "e35ebb92-58f6-450e-af54-4d4cc0300c88",
   "metadata": {
    "execution": {
     "iopub.execute_input": "2025-08-16T00:02:10.273828Z",
     "iopub.status.busy": "2025-08-16T00:02:10.273828Z",
     "iopub.status.idle": "2025-08-16T00:02:10.535140Z",
     "shell.execute_reply": "2025-08-16T00:02:10.535140Z"
    },
    "papermill": {
     "duration": 0.269366,
     "end_time": "2025-08-16T00:02:10.536175",
     "exception": false,
     "start_time": "2025-08-16T00:02:10.266809",
     "status": "completed"
    },
    "tags": []
   },
   "outputs": [
    {
     "name": "stdout",
     "output_type": "stream",
     "text": [
      "Columns in events: Index(['event_id', 'category', 'popularity_score', 'event_date', 'is_weekend'], dtype='object')\n",
      "Is 'category' column present? True\n",
      "Events DataFrame empty? False\n"
     ]
    },
    {
     "data": {
      "image/png": "[encoded data removed]",
      "text/plain": [
       "<Figure size 1000x400 with 2 Axes>"
      ]
     },
     "metadata": {},
     "output_type": "display_data"
    }
   ],
   "source": [
    "print(\"Columns in events:\", events.columns)\n",
    "print(\"Is 'category' column present?\", 'category' in events.columns)\n",
    "print(\"Events DataFrame empty?\", events.empty)\n",
    "\n",
    "plt.figure(figsize=(10,4))\n",
    "\n",
    "plt.subplot(1,2,1)\n",
    "if 'category' in events.columns and not events.empty:\n",
    "    sns.countplot(data=events, x='category')\n",
    "    plt.title('Event Category Distribution')\n",
    "    plt.xticks(rotation=45)\n",
    "else:\n",
    "    print(\"Skipping countplot: 'category' column missing or events is empty\")\n",
    "\n",
    "plt.subplot(1,2,2)\n",
    "if not events.empty:\n",
    "    sns.histplot(data=events, x='popularity_score', bins=20)\n",
    "    plt.title('Popularity Score Distribution')\n",
    "else:\n",
    "    print(\"Skipping histplot: events DataFrame is empty\")\n",
    "\n",
    "plt.tight_layout()\n",
    "plt.show()\n"
   ]
  },
  {
   "cell_type": "markdown",
   "id": "148da7f7-6a61-48f6-a0fb-9ebf04b5051a",
   "metadata": {
    "papermill": {
     "duration": 0.006982,
     "end_time": "2025-08-16T00:02:10.549158",
     "exception": false,
     "start_time": "2025-08-16T00:02:10.542176",
     "status": "completed"
    },
    "tags": []
   },
   "source": [
    "<h2>Interaction Counts Analysis</h2>"
   ]
  },
  {
   "cell_type": "code",
   "execution_count": 9,
   "id": "378ab920-924f-4672-a6e1-c01b19bec4db",
   "metadata": {
    "execution": {
     "iopub.execute_input": "2025-08-16T00:02:10.562672Z",
     "iopub.status.busy": "2025-08-16T00:02:10.562672Z",
     "iopub.status.idle": "2025-08-16T00:02:10.575591Z",
     "shell.execute_reply": "2025-08-16T00:02:10.575591Z"
    },
    "papermill": {
     "duration": 0.021032,
     "end_time": "2025-08-16T00:02:10.576657",
     "exception": false,
     "start_time": "2025-08-16T00:02:10.555625",
     "status": "completed"
    },
    "tags": []
   },
   "outputs": [
    {
     "name": "stdout",
     "output_type": "stream",
     "text": [
      "\n",
      "Interactions per user:\n",
      "count    1003.000000\n",
      "mean       10.058824\n",
      "std         3.432487\n",
      "min         2.000000\n",
      "25%         8.000000\n",
      "50%        10.000000\n",
      "75%        12.000000\n",
      "max        45.000000\n",
      "Name: count, dtype: float64\n",
      "\n",
      "Interactions per event:\n",
      "count    141.000000\n",
      "mean      71.553191\n",
      "std       82.516356\n",
      "min        1.000000\n",
      "25%        3.000000\n",
      "50%       31.000000\n",
      "75%      130.000000\n",
      "max      289.000000\n",
      "Name: count, dtype: float64\n"
     ]
    }
   ],
   "source": [
    "print(\"\\nInteractions per user:\")\n",
    "if 'user_id' in interactions.columns:\n",
    "    print(interactions['user_id'].value_counts().describe())\n",
    "else:\n",
    "    print(\" 'user_id' column is missing in interactions.\")\n",
    "\n",
    "print(\"\\nInteractions per event:\")\n",
    "if 'event_id' in interactions.columns:\n",
    "    print(interactions['event_id'].value_counts().describe())\n",
    "else:\n",
    "    print(\"'event_id' column is missing in interactions.\")\n"
   ]
  },
  {
   "cell_type": "markdown",
   "id": "e919a3c3-a7e1-4ef2-b4ca-265c26bad8d0",
   "metadata": {
    "papermill": {
     "duration": 0.007453,
     "end_time": "2025-08-16T00:02:10.590079",
     "exception": false,
     "start_time": "2025-08-16T00:02:10.582626",
     "status": "completed"
    },
    "tags": []
   },
   "source": [
    "<h2>Removing uneeded data (users with role organizer )  </h2>"
   ]
  },
  {
   "cell_type": "code",
   "execution_count": 10,
   "id": "fd87f8b0-4315-42f8-b284-2b6f6b2000f4",
   "metadata": {
    "execution": {
     "iopub.execute_input": "2025-08-16T00:02:10.603068Z",
     "iopub.status.busy": "2025-08-16T00:02:10.603068Z",
     "iopub.status.idle": "2025-08-16T00:02:10.613133Z",
     "shell.execute_reply": "2025-08-16T00:02:10.613133Z"
    },
    "papermill": {
     "duration": 0.018105,
     "end_time": "2025-08-16T00:02:10.614176",
     "exception": false,
     "start_time": "2025-08-16T00:02:10.596071",
     "status": "completed"
    },
    "tags": []
   },
   "outputs": [
    {
     "name": "stdout",
     "output_type": "stream",
     "text": [
      "Users after removing organizers: 911\n"
     ]
    }
   ],
   "source": [
    "users = users[users['role'] != 'organizer']\n",
    "print(f\"Users after removing organizers: {users.shape[0]}\")"
   ]
  },
  {
   "cell_type": "markdown",
   "id": "91fd0b68-489b-4c24-b8a9-07691f9ecd51",
   "metadata": {
    "papermill": {
     "duration": 0.006054,
     "end_time": "2025-08-16T00:02:10.626230",
     "exception": false,
     "start_time": "2025-08-16T00:02:10.620176",
     "status": "completed"
    },
    "tags": []
   },
   "source": [
    "<h2>Remove interactions related to removed users</h2>"
   ]
  },
  {
   "cell_type": "code",
   "execution_count": 11,
   "id": "2b5ec41f-2559-42cb-92be-24a54c288d8c",
   "metadata": {
    "execution": {
     "iopub.execute_input": "2025-08-16T00:02:10.641149Z",
     "iopub.status.busy": "2025-08-16T00:02:10.641149Z",
     "iopub.status.idle": "2025-08-16T00:02:10.647246Z",
     "shell.execute_reply": "2025-08-16T00:02:10.646231Z"
    },
    "papermill": {
     "duration": 0.015614,
     "end_time": "2025-08-16T00:02:10.648766",
     "exception": false,
     "start_time": "2025-08-16T00:02:10.633152",
     "status": "completed"
    },
    "tags": []
   },
   "outputs": [
    {
     "name": "stdout",
     "output_type": "stream",
     "text": [
      "Interactions after removing organizer-related ones: 9173\n"
     ]
    }
   ],
   "source": [
    "valid_user_ids = set(users['user_id'])\n",
    "interactions = interactions[interactions['user_id'].isin(valid_user_ids)]\n",
    "print(f\"Interactions after removing organizer-related ones: {interactions.shape[0]}\")"
   ]
  },
  {
   "cell_type": "markdown",
   "id": "8eefb547-96dc-40bb-a5a4-ec7fc6119ae5",
   "metadata": {
    "papermill": {
     "duration": 0.009,
     "end_time": "2025-08-16T00:02:10.665248",
     "exception": false,
     "start_time": "2025-08-16T00:02:10.656248",
     "status": "completed"
    },
    "tags": []
   },
   "source": [
    "<h2>Encode categorical columns</h2>"
   ]
  },
  {
   "cell_type": "code",
   "execution_count": 12,
   "id": "a8062905-8f4d-45e4-8971-21b30cdecffc",
   "metadata": {
    "execution": {
     "iopub.execute_input": "2025-08-16T00:02:10.680246Z",
     "iopub.status.busy": "2025-08-16T00:02:10.680246Z",
     "iopub.status.idle": "2025-08-16T00:02:10.688326Z",
     "shell.execute_reply": "2025-08-16T00:02:10.688326Z"
    },
    "papermill": {
     "duration": 0.018063,
     "end_time": "2025-08-16T00:02:10.689341",
     "exception": false,
     "start_time": "2025-08-16T00:02:10.671278",
     "status": "completed"
    },
    "tags": []
   },
   "outputs": [
    {
     "name": "stdout",
     "output_type": "stream",
     "text": [
      "\n",
      "Encoded Users sample:\n",
      "  user_id  gender  age_group  role\n",
      "0  user_0       3          2     1\n",
      "1  user_1       2          2     1\n",
      "2  user_2       3          2     1\n",
      "3  user_3       3          3     1\n",
      "4  user_4       3          2     1\n",
      "\n",
      "Encoded Events sample:\n",
      "  event_id  category  popularity_score  event_date  is_weekend\n",
      "0  event_0         5              0.96  2025-09-06        True\n",
      "1  event_1         3              0.20  2025-08-04       False\n",
      "2  event_2         3              0.95  2025-07-29       False\n",
      "3  event_3         3              0.99  2025-09-13        True\n",
      "4  event_4         7              0.71  2025-08-14       False\n"
     ]
    }
   ],
   "source": [
    "users_encoded = users.copy()\n",
    "\n",
    "for col in ['gender', 'age_group', 'role']:\n",
    "    if col in users.columns:\n",
    "        users_encoded[col] = users_encoded[col].astype('category').cat.codes\n",
    "    else:\n",
    "        print(f\"Column '{col}' not found in users DataFrame.\")\n",
    "\n",
    "events_encoded = events.copy()  \n",
    "\n",
    "if 'category' in events.columns:\n",
    "    events_encoded['category'] = events_encoded['category'].astype('category').cat.codes\n",
    "else:\n",
    "    print(\"Column 'category' not found in events DataFrame.\")\n",
    "\n",
    "print(\"\\nEncoded Users sample:\")\n",
    "print(users_encoded.head())\n",
    "\n",
    "print(\"\\nEncoded Events sample:\")\n",
    "print(events_encoded.head())\n"
   ]
  },
  {
   "cell_type": "markdown",
   "id": "fcee7feb-3031-4cff-b4b8-56b5cc97ec8d",
   "metadata": {
    "papermill": {
     "duration": 0.006022,
     "end_time": "2025-08-16T00:02:10.704369",
     "exception": false,
     "start_time": "2025-08-16T00:02:10.698347",
     "status": "completed"
    },
    "tags": []
   },
   "source": [
    "<h2>Scale popularity_score</h2>"
   ]
  },
  {
   "cell_type": "code",
   "execution_count": 13,
   "id": "9cb64092-ad59-42f8-b1cb-2eb966080bbb",
   "metadata": {
    "execution": {
     "iopub.execute_input": "2025-08-16T00:02:10.719342Z",
     "iopub.status.busy": "2025-08-16T00:02:10.718348Z",
     "iopub.status.idle": "2025-08-16T00:02:10.729908Z",
     "shell.execute_reply": "2025-08-16T00:02:10.729908Z"
    },
    "papermill": {
     "duration": 0.020537,
     "end_time": "2025-08-16T00:02:10.730937",
     "exception": false,
     "start_time": "2025-08-16T00:02:10.710400",
     "status": "completed"
    },
    "tags": []
   },
   "outputs": [],
   "source": [
    "scaler = MinMaxScaler()\n",
    "events_encoded['popularity_score'] = scaler.fit_transform(events_encoded[['popularity_score']])"
   ]
  },
  {
   "cell_type": "markdown",
   "id": "1da855b1-1837-4e25-83bd-4d25dc52c259",
   "metadata": {
    "papermill": {
     "duration": 0.005964,
     "end_time": "2025-08-16T00:02:10.742937",
     "exception": false,
     "start_time": "2025-08-16T00:02:10.736973",
     "status": "completed"
    },
    "tags": []
   },
   "source": [
    "<h2>Convert event_date to datetime format</h2>"
   ]
  },
  {
   "cell_type": "code",
   "execution_count": 14,
   "id": "770705cd-c184-4f25-98ca-a972f23c922e",
   "metadata": {
    "execution": {
     "iopub.execute_input": "2025-08-16T00:02:10.756927Z",
     "iopub.status.busy": "2025-08-16T00:02:10.756927Z",
     "iopub.status.idle": "2025-08-16T00:02:10.776822Z",
     "shell.execute_reply": "2025-08-16T00:02:10.776275Z"
    },
    "papermill": {
     "duration": 0.028617,
     "end_time": "2025-08-16T00:02:10.778540",
     "exception": false,
     "start_time": "2025-08-16T00:02:10.749923",
     "status": "completed"
    },
    "tags": []
   },
   "outputs": [],
   "source": [
    "events_encoded['event_date'] = pd.to_datetime(events_encoded['event_date'])"
   ]
  },
  {
   "cell_type": "markdown",
   "id": "cfd4e97c-8c02-4555-afc2-ad36577c3682",
   "metadata": {
    "papermill": {
     "duration": 0.006957,
     "end_time": "2025-08-16T00:02:10.791544",
     "exception": false,
     "start_time": "2025-08-16T00:02:10.784587",
     "status": "completed"
    },
    "tags": []
   },
   "source": [
    "<h2>Final check: print samples and shapes after cleaning and encoding</h2>"
   ]
  },
  {
   "cell_type": "code",
   "execution_count": 15,
   "id": "e4950393-bf35-45aa-9f42-b005ca92c4ca",
   "metadata": {
    "execution": {
     "iopub.execute_input": "2025-08-16T00:02:10.806543Z",
     "iopub.status.busy": "2025-08-16T00:02:10.806543Z",
     "iopub.status.idle": "2025-08-16T00:02:10.822053Z",
     "shell.execute_reply": "2025-08-16T00:02:10.821540Z"
    },
    "papermill": {
     "duration": 0.024534,
     "end_time": "2025-08-16T00:02:10.823102",
     "exception": false,
     "start_time": "2025-08-16T00:02:10.798568",
     "status": "completed"
    },
    "tags": []
   },
   "outputs": [
    {
     "name": "stdout",
     "output_type": "stream",
     "text": [
      "\n",
      "Cleaned Users Sample:\n",
      "  user_id  gender  age_group  role\n",
      "0  user_0       3          2     1\n",
      "1  user_1       2          2     1\n",
      "2  user_2       3          2     1\n",
      "3  user_3       3          3     1\n",
      "4  user_4       3          2     1\n",
      "\n",
      "Cleaned Events Sample:\n",
      "  event_id  category  popularity_score event_date  is_weekend\n",
      "0  event_0         5          0.969697 2025-09-06        True\n",
      "1  event_1         3          0.202020 2025-08-04       False\n",
      "2  event_2         3          0.959596 2025-07-29       False\n",
      "3  event_3         3          1.000000 2025-09-13        True\n",
      "4  event_4         7          0.717172 2025-08-14       False\n",
      "\n",
      "Cleaned Interactions Sample:\n",
      "    user_id   event_id\n",
      "0  user_870  event_209\n",
      "1  user_101  event_120\n",
      "2  user_628   event_19\n",
      "4   user_57  event_190\n",
      "5  user_430    event_0\n"
     ]
    }
   ],
   "source": [
    "print(\"\\nCleaned Users Sample:\")\n",
    "print(users_encoded.head())\n",
    "\n",
    "print(\"\\nCleaned Events Sample:\")\n",
    "print(events_encoded.head())\n",
    "\n",
    "print(\"\\nCleaned Interactions Sample:\")\n",
    "print(interactions.head())"
   ]
  },
  {
   "cell_type": "markdown",
   "id": "674821bf-3c90-4ab6-883b-9d3f703d21fe",
   "metadata": {
    "papermill": {
     "duration": 0.008998,
     "end_time": "2025-08-16T00:02:10.838063",
     "exception": false,
     "start_time": "2025-08-16T00:02:10.829065",
     "status": "completed"
    },
    "tags": []
   },
   "source": [
    "<h1 style=\"color:red;\">LightFM Dataset Preparation</h1>"
   ]
  },
  {
   "cell_type": "markdown",
   "id": "4299a597-9187-4740-b7f5-69628b1f54fb",
   "metadata": {
    "papermill": {
     "duration": 0.007974,
     "end_time": "2025-08-16T00:02:10.853062",
     "exception": false,
     "start_time": "2025-08-16T00:02:10.845088",
     "status": "completed"
    },
    "tags": []
   },
   "source": [
    "<h2>Build interaction matrix from (user_id, event_id) pairs</h2> "
   ]
  },
  {
   "cell_type": "code",
   "execution_count": 16,
   "id": "8327ff8c-d597-4f73-9544-af0772cf85b9",
   "metadata": {
    "execution": {
     "iopub.execute_input": "2025-08-16T00:02:10.869064Z",
     "iopub.status.busy": "2025-08-16T00:02:10.869064Z",
     "iopub.status.idle": "2025-08-16T00:02:11.164826Z",
     "shell.execute_reply": "2025-08-16T00:02:11.164826Z"
    },
    "papermill": {
     "duration": 0.306751,
     "end_time": "2025-08-16T00:02:11.166863",
     "exception": false,
     "start_time": "2025-08-16T00:02:10.860112",
     "status": "completed"
    },
    "tags": []
   },
   "outputs": [
    {
     "name": "stdout",
     "output_type": "stream",
     "text": [
      "Interaction matrix shape: (910, 508)\n",
      "User features sparse: (910, 921)\n",
      "Item features sparse: (508, 519)\n"
     ]
    }
   ],
   "source": [
    "dataset = Dataset()\n",
    "\n",
    "user_ids = users_encoded['user_id'].unique()\n",
    "event_ids = events_encoded['event_id'].unique()\n",
    "\n",
    "user_features_raw = users_encoded.set_index('user_id')[['gender', 'age_group', 'role']]\n",
    "user_feature_tuples = [\n",
    "    (uid, [f\"gender:{g}\", f\"age_group:{a}\", f\"role:{r}\"])\n",
    "    for uid, g, a, r in zip(user_features_raw.index, user_features_raw['gender'], user_features_raw['age_group'], user_features_raw['role'])\n",
    "]\n",
    "\n",
    "event_features_raw = events_encoded.set_index('event_id')[['category', 'popularity_score', 'is_weekend']]\n",
    "event_feature_tuples = [\n",
    "    (eid, [f\"category:{c}\", f\"is_weekend:{w}\"])\n",
    "    for eid, c, w in zip(event_features_raw.index, event_features_raw['category'], event_features_raw['is_weekend'])\n",
    "]\n",
    "\n",
    "dataset.fit(\n",
    "    users=user_ids,\n",
    "    items=event_ids,\n",
    "    user_features=set(f for _, feats in user_feature_tuples for f in feats),\n",
    "    item_features=set(f for _, feats in event_feature_tuples for f in feats)\n",
    ")\n",
    "\n",
    "(interactions_matrix, weights) = dataset.build_interactions(\n",
    "    [(row['user_id'], row['event_id']) for idx, row in interactions.iterrows()]\n",
    ")\n",
    "print(f\"Interaction matrix shape: {interactions_matrix.shape}\")\n",
    "\n",
    "user_features = dataset.build_user_features(user_feature_tuples)\n",
    "item_features = dataset.build_item_features(event_feature_tuples)\n",
    "\n",
    "print(\"User features sparse:\", user_features.shape)\n",
    "print(\"Item features sparse:\", item_features.shape)\n"
   ]
  },
  {
   "cell_type": "markdown",
   "id": "f3c48d8b-b0a1-4000-9dd9-5c52b947fa59",
   "metadata": {
    "papermill": {
     "duration": 0.008006,
     "end_time": "2025-08-16T00:02:11.181847",
     "exception": false,
     "start_time": "2025-08-16T00:02:11.173841",
     "status": "completed"
    },
    "tags": []
   },
   "source": [
    "<h1 style=\"color:red;\">Training</h1>"
   ]
  },
  {
   "cell_type": "markdown",
   "id": "3c25d66b-2f1c-41db-b6cc-98065ed9f976",
   "metadata": {
    "papermill": {
     "duration": 0.006989,
     "end_time": "2025-08-16T00:02:11.195841",
     "exception": false,
     "start_time": "2025-08-16T00:02:11.188852",
     "status": "completed"
    },
    "tags": []
   },
   "source": [
    "<h2>Train-Test Split</h2>"
   ]
  },
  {
   "cell_type": "code",
   "execution_count": 17,
   "id": "a6182f4d-bb09-47d5-aef9-82943754a837",
   "metadata": {
    "execution": {
     "iopub.execute_input": "2025-08-16T00:02:11.210843Z",
     "iopub.status.busy": "2025-08-16T00:02:11.209852Z",
     "iopub.status.idle": "2025-08-16T00:02:11.217408Z",
     "shell.execute_reply": "2025-08-16T00:02:11.216864Z"
    },
    "papermill": {
     "duration": 0.015582,
     "end_time": "2025-08-16T00:02:11.218423",
     "exception": false,
     "start_time": "2025-08-16T00:02:11.202841",
     "status": "completed"
    },
    "tags": []
   },
   "outputs": [
    {
     "name": "stdout",
     "output_type": "stream",
     "text": [
      "Train interactions: 7338 | Test interactions: 1835\n"
     ]
    }
   ],
   "source": [
    "train, test = random_train_test_split(interactions_matrix, test_percentage=0.2, random_state=42)\n",
    "print(f\"Train interactions: {train.nnz} | Test interactions: {test.nnz}\")"
   ]
  },
  {
   "cell_type": "markdown",
   "id": "3d81d42b-9b69-4133-ad8d-e1c5e3fc14e5",
   "metadata": {
    "papermill": {
     "duration": 0.006967,
     "end_time": "2025-08-16T00:02:11.232420",
     "exception": false,
     "start_time": "2025-08-16T00:02:11.225453",
     "status": "completed"
    },
    "tags": []
   },
   "source": [
    "<h2>Hyperparameter Tuning with Optuna</h2>\n",
    "<p>We use Optuna to automatically and efficiently find the best hyperparameters for the LightFM model. Optuna intelligently explores the parameter space by learning from previous trials, allowing faster convergence to optimal values compared to manual or random searches. This results in improved model performance with fewer training iterations and less computational effort.</p>"
   ]
  },
  {
   "cell_type": "code",
   "execution_count": 18,
   "id": "c8478bc9-6876-4d55-80a6-6e7ced261335",
   "metadata": {
    "execution": {
     "iopub.execute_input": "2025-08-16T00:02:11.247421Z",
     "iopub.status.busy": "2025-08-16T00:02:11.247421Z",
     "iopub.status.idle": "2025-08-16T00:02:38.863199Z",
     "shell.execute_reply": "2025-08-16T00:02:38.862195Z"
    },
    "papermill": {
     "duration": 27.624782,
     "end_time": "2025-08-16T00:02:38.864202",
     "exception": false,
     "start_time": "2025-08-16T00:02:11.239420",
     "status": "completed"
    },
    "tags": []
   },
   "outputs": [
    {
     "name": "stderr",
     "output_type": "stream",
     "text": [
      "[I 2025-08-16 01:02:11,250] A new study created in memory with name: no-name-b46a194e-1d46-4638-a00c-c7b68cc83510\n"
     ]
    },
    {
     "name": "stderr",
     "output_type": "stream",
     "text": [
      "[I 2025-08-16 01:02:13,475] Trial 0 finished with value: 0.03241895139217377 and parameters: {'no_components': 96, 'learning_rate': 0.004080282218655223, 'item_alpha': 0.00044443813496970985, 'user_alpha': 0.0006450435196520675}. Best is trial 0 with value: 0.03241895139217377.\n"
     ]
    },
    {
     "name": "stderr",
     "output_type": "stream",
     "text": [
      "[I 2025-08-16 01:02:15,437] Trial 1 finished with value: 0.03241895139217377 and parameters: {'no_components': 81, 'learning_rate': 0.004990743769422984, 'item_alpha': 1.4961449249370399e-05, 'user_alpha': 0.0030550828059543113}. Best is trial 0 with value: 0.03241895139217377.\n"
     ]
    },
    {
     "name": "stderr",
     "output_type": "stream",
     "text": [
      "[I 2025-08-16 01:02:16,312] Trial 2 finished with value: 0.042144641280174255 and parameters: {'no_components': 25, 'learning_rate': 0.0004740115503964645, 'item_alpha': 0.0034209497092799685, 'user_alpha': 0.00033274954560669017}. Best is trial 2 with value: 0.042144641280174255.\n"
     ]
    },
    {
     "name": "stderr",
     "output_type": "stream",
     "text": [
      "[I 2025-08-16 01:02:17,974] Trial 3 finished with value: 0.03241895139217377 and parameters: {'no_components': 69, 'learning_rate': 0.00883161949827851, 'item_alpha': 0.00037579081895165083, 'user_alpha': 1.3096952757841264e-06}. Best is trial 2 with value: 0.042144641280174255.\n"
     ]
    },
    {
     "name": "stderr",
     "output_type": "stream",
     "text": [
      "[I 2025-08-16 01:02:18,872] Trial 4 finished with value: 0.01920199580490589 and parameters: {'no_components': 30, 'learning_rate': 0.008928885568114742, 'item_alpha': 0.003183379329708906, 'user_alpha': 0.0002906727815187798}. Best is trial 2 with value: 0.042144641280174255.\n"
     ]
    },
    {
     "name": "stderr",
     "output_type": "stream",
     "text": [
      "[I 2025-08-16 01:02:20,739] Trial 5 finished with value: 0.03241895139217377 and parameters: {'no_components': 72, 'learning_rate': 0.0003030823059373994, 'item_alpha': 0.0022623902308252807, 'user_alpha': 3.159353405712322e-05}. Best is trial 2 with value: 0.042144641280174255.\n"
     ]
    },
    {
     "name": "stderr",
     "output_type": "stream",
     "text": [
      "[I 2025-08-16 01:02:22,257] Trial 6 finished with value: 0.03241895139217377 and parameters: {'no_components': 64, 'learning_rate': 0.031010516605387367, 'item_alpha': 1.3597871030766489e-06, 'user_alpha': 0.0023214150110605087}. Best is trial 2 with value: 0.042144641280174255.\n"
     ]
    },
    {
     "name": "stderr",
     "output_type": "stream",
     "text": [
      "[I 2025-08-16 01:02:23,396] Trial 7 finished with value: 0.03241895139217377 and parameters: {'no_components': 43, 'learning_rate': 0.0020573390201661912, 'item_alpha': 0.0008465793976769974, 'user_alpha': 5.281848564815145e-06}. Best is trial 2 with value: 0.042144641280174255.\n"
     ]
    },
    {
     "name": "stderr",
     "output_type": "stream",
     "text": [
      "[I 2025-08-16 01:02:24,424] Trial 8 finished with value: 0.035411473363637924 and parameters: {'no_components': 39, 'learning_rate': 0.0010255889373350707, 'item_alpha': 0.0006202362523159448, 'user_alpha': 6.246623365515812e-05}. Best is trial 2 with value: 0.042144641280174255.\n"
     ]
    },
    {
     "name": "stderr",
     "output_type": "stream",
     "text": [
      "[I 2025-08-16 01:02:26,954] Trial 9 finished with value: 0.03241895139217377 and parameters: {'no_components': 94, 'learning_rate': 0.0009818570912799875, 'item_alpha': 0.00018991469161886484, 'user_alpha': 1.6880264097482208e-06}. Best is trial 2 with value: 0.042144641280174255.\n"
     ]
    },
    {
     "name": "stderr",
     "output_type": "stream",
     "text": [
      "[I 2025-08-16 01:02:27,753] Trial 10 finished with value: 0.035411473363637924 and parameters: {'no_components': 20, 'learning_rate': 0.0001479255312765717, 'item_alpha': 3.524906743405237e-05, 'user_alpha': 0.009616567734856413}. Best is trial 2 with value: 0.042144641280174255.\n"
     ]
    },
    {
     "name": "stderr",
     "output_type": "stream",
     "text": [
      "[I 2025-08-16 01:02:29,039] Trial 11 finished with value: 0.04413965344429016 and parameters: {'no_components': 47, 'learning_rate': 0.0006180950672374673, 'item_alpha': 0.008627899572873018, 'user_alpha': 3.32607366475e-05}. Best is trial 11 with value: 0.04413965344429016.\n"
     ]
    },
    {
     "name": "stderr",
     "output_type": "stream",
     "text": [
      "[I 2025-08-16 01:02:30,280] Trial 12 finished with value: 0.04413965344429016 and parameters: {'no_components': 46, 'learning_rate': 0.0004087832853304971, 'item_alpha': 0.006486637831945313, 'user_alpha': 2.426237187248965e-05}. Best is trial 11 with value: 0.04413965344429016.\n"
     ]
    },
    {
     "name": "stderr",
     "output_type": "stream",
     "text": [
      "[I 2025-08-16 01:02:31,664] Trial 13 finished with value: 0.04164588823914528 and parameters: {'no_components': 52, 'learning_rate': 0.00013750853603895427, 'item_alpha': 0.008236306069399749, 'user_alpha': 1.799800107641494e-05}. Best is trial 11 with value: 0.04413965344429016.\n"
     ]
    },
    {
     "name": "stderr",
     "output_type": "stream",
     "text": [
      "[I 2025-08-16 01:02:32,952] Trial 14 finished with value: 0.04413965344429016 and parameters: {'no_components': 52, 'learning_rate': 0.0004899520419494104, 'item_alpha': 0.0071061283440447005, 'user_alpha': 1.4623548959812407e-05}. Best is trial 11 with value: 0.04413965344429016.\n"
     ]
    },
    {
     "name": "stderr",
     "output_type": "stream",
     "text": [
      "[I 2025-08-16 01:02:34,241] Trial 15 finished with value: 0.035411473363637924 and parameters: {'no_components': 53, 'learning_rate': 0.0012969982944342436, 'item_alpha': 4.101698392960358e-05, 'user_alpha': 0.00010543034173508245}. Best is trial 11 with value: 0.04413965344429016.\n"
     ]
    },
    {
     "name": "stderr",
     "output_type": "stream",
     "text": [
      "[I 2025-08-16 01:02:35,240] Trial 16 finished with value: 0.03640897944569588 and parameters: {'no_components': 37, 'learning_rate': 0.0003431495093975381, 'item_alpha': 0.001452578568155419, 'user_alpha': 6.534801673699684e-06}. Best is trial 11 with value: 0.04413965344429016.\n"
     ]
    },
    {
     "name": "stderr",
     "output_type": "stream",
     "text": [
      "[I 2025-08-16 01:02:36,386] Trial 17 finished with value: 0.03241895139217377 and parameters: {'no_components': 46, 'learning_rate': 0.09451621410613992, 'item_alpha': 4.0478120526730605e-06, 'user_alpha': 9.010441102272463e-05}. Best is trial 11 with value: 0.04413965344429016.\n"
     ]
    },
    {
     "name": "stderr",
     "output_type": "stream",
     "text": [
      "[I 2025-08-16 01:02:37,865] Trial 18 finished with value: 0.04413965344429016 and parameters: {'no_components': 60, 'learning_rate': 0.00010306533540592966, 'item_alpha': 0.007096004756125852, 'user_alpha': 7.154418456684447e-06}. Best is trial 11 with value: 0.04413965344429016.\n"
     ]
    },
    {
     "name": "stderr",
     "output_type": "stream",
     "text": [
      "[I 2025-08-16 01:02:38,859] Trial 19 finished with value: 0.03241895139217377 and parameters: {'no_components': 35, 'learning_rate': 0.00025463756191461385, 'item_alpha': 0.00021575521930155484, 'user_alpha': 3.4229740785373826e-05}. Best is trial 11 with value: 0.04413965344429016.\n"
     ]
    },
    {
     "name": "stdout",
     "output_type": "stream",
     "text": [
      "Best parameters: {'no_components': 47, 'learning_rate': 0.0006180950672374673, 'item_alpha': 0.008627899572873018, 'user_alpha': 3.32607366475e-05}\n",
      "Best Precision@5: 0.04413965344429016\n"
     ]
    }
   ],
   "source": [
    "def objective(trial):\n",
    "\n",
    "    model = LightFM(\n",
    "        no_components=trial.suggest_int(\"no_components\", 20, 100),\n",
    "        learning_rate=trial.suggest_float(\"learning_rate\", 1e-4, 1e-1, log=True),\n",
    "        item_alpha=trial.suggest_float(\"item_alpha\", 1e-6, 1e-2, log=True),\n",
    "        user_alpha=trial.suggest_float(\"user_alpha\", 1e-6, 1e-2, log=True),\n",
    "        loss=\"logistic\",\n",
    "        random_state=42\n",
    "    )\n",
    "\n",
    " \n",
    "    model.fit(train,\n",
    "              user_features=user_features,\n",
    "              item_features=item_features,\n",
    "              epochs=20,\n",
    "              num_threads=4,\n",
    "              verbose=False)\n",
    "\n",
    "\n",
    "    precision = precision_at_k(model, test,\n",
    "                               user_features=user_features,\n",
    "                               item_features=item_features,\n",
    "                               k=5).mean()\n",
    "    return precision\n",
    "\n",
    "\n",
    "study = optuna.create_study(direction=\"maximize\")\n",
    "study.optimize(objective, n_trials=20)\n",
    "\n",
    "print(\"Best parameters:\", study.best_params)\n",
    "print(\"Best Precision@5:\", study.best_value)"
   ]
  },
  {
   "cell_type": "markdown",
   "id": "c8d5969f-8b74-4477-9aba-43f5d4ef8481",
   "metadata": {
    "papermill": {
     "duration": 0.009001,
     "end_time": "2025-08-16T00:02:38.881201",
     "exception": false,
     "start_time": "2025-08-16T00:02:38.872200",
     "status": "completed"
    },
    "tags": []
   },
   "source": [
    "<h2> Train Final Model with Best Parameters</h2>"
   ]
  },
  {
   "cell_type": "code",
   "execution_count": 19,
   "id": "fe715b8d-ce1b-44d0-ab11-6707f1100cb7",
   "metadata": {
    "execution": {
     "iopub.execute_input": "2025-08-16T00:02:38.898200Z",
     "iopub.status.busy": "2025-08-16T00:02:38.898200Z",
     "iopub.status.idle": "2025-08-16T00:02:39.946726Z",
     "shell.execute_reply": "2025-08-16T00:02:39.946385Z"
    },
    "papermill": {
     "duration": 1.059535,
     "end_time": "2025-08-16T00:02:39.947740",
     "exception": false,
     "start_time": "2025-08-16T00:02:38.888205",
     "status": "completed"
    },
    "tags": []
   },
   "outputs": [
    {
     "data": {
      "text/plain": [
       "<lightfm.lightfm.LightFM at 0x280fc7a4c50>"
      ]
     },
     "execution_count": 19,
     "metadata": {},
     "output_type": "execute_result"
    }
   ],
   "source": [
    "best_params = study.best_params\n",
    "model = LightFM(**best_params, random_state=42)\n",
    "\n",
    "model.fit(train,\n",
    "          user_features=user_features,\n",
    "          item_features=item_features,\n",
    "          epochs=20,\n",
    "          num_threads=4)"
   ]
  },
  {
   "cell_type": "markdown",
   "id": "473dda97-072a-4ddf-8419-c77032bf3f43",
   "metadata": {
    "papermill": {
     "duration": 0.009001,
     "end_time": "2025-08-16T00:02:39.963737",
     "exception": false,
     "start_time": "2025-08-16T00:02:39.954736",
     "status": "completed"
    },
    "tags": []
   },
   "source": [
    "<h1 style=\"color:red;\">Evaluation</h1>\n",
    "<ol>\n",
    "    <li> <b>Precision@5: 0.0541</b>\n",
    "This means that, on average, about 5.4% of the top 5 recommendations for a user are relevant or actually interacted with by the user. It reflects the accuracy of the top recommendations.</li>\n",
    "    <li> <b>Recall@5: 0.1214</b>\n",
    "This indicates that the system is able to retrieve around 12.1% of all relevant items (items the user interacted with) within the top 5 recommendations. It shows how well the system covers the user’s interests.</li>\n",
    "    <li><b> AUC Score: 0.7430</b>\n",
    "       \n",
    "The Area Under the Curve (AUC) score of 0.743 means the model has a good overall ability to distinguish between items a user will interact with and those they will not. A score closer to 1 is better, so 0.743 shows solid predictive performance.\n",
    "\n",
    "</li>\n",
    "</ol>"
   ]
  },
  {
   "cell_type": "code",
   "execution_count": 20,
   "id": "cdf3bb08-b714-45ef-823c-9110a68ae32e",
   "metadata": {
    "execution": {
     "iopub.execute_input": "2025-08-16T00:02:39.979762Z",
     "iopub.status.busy": "2025-08-16T00:02:39.979762Z",
     "iopub.status.idle": "2025-08-16T00:02:40.519371Z",
     "shell.execute_reply": "2025-08-16T00:02:40.519371Z"
    },
    "papermill": {
     "duration": 0.550838,
     "end_time": "2025-08-16T00:02:40.520618",
     "exception": false,
     "start_time": "2025-08-16T00:02:39.969780",
     "status": "completed"
    },
    "tags": []
   },
   "outputs": [
    {
     "name": "stdout",
     "output_type": "stream",
     "text": [
      "Precision@5: 0.0441\n",
      "Recall@5: 0.1002\n",
      "AUC Score: 0.6860\n"
     ]
    }
   ],
   "source": [
    "precision = precision_at_k(model, test,\n",
    "                           user_features=user_features,\n",
    "                           item_features=item_features,\n",
    "                           k=5).mean()\n",
    "recall = recall_at_k(model, test,\n",
    "                     user_features=user_features,\n",
    "                     item_features=item_features,\n",
    "                     k=5).mean()\n",
    "auc = auc_score(model, test,\n",
    "                user_features=user_features,\n",
    "                item_features=item_features).mean()\n",
    "\n",
    "print(f\"Precision@5: {precision:.4f}\")\n",
    "print(f\"Recall@5: {recall:.4f}\")\n",
    "print(f\"AUC Score: {auc:.4f}\")\n"
   ]
  },
  {
   "cell_type": "markdown",
   "id": "24be664c-6852-45fa-8e44-5ee6e6ae4883",
   "metadata": {
    "papermill": {
     "duration": 0.007,
     "end_time": "2025-08-16T00:02:40.534379",
     "exception": false,
     "start_time": "2025-08-16T00:02:40.527379",
     "status": "completed"
    },
    "tags": []
   },
   "source": [
    "<h2>Generate Top-N Recommendations</h2>"
   ]
  },
  {
   "cell_type": "code",
   "execution_count": 21,
   "id": "31c00220-ad4c-436c-9354-9c2d16d63e0d",
   "metadata": {
    "execution": {
     "iopub.execute_input": "2025-08-16T00:02:40.549380Z",
     "iopub.status.busy": "2025-08-16T00:02:40.549380Z",
     "iopub.status.idle": "2025-08-16T00:02:40.552644Z",
     "shell.execute_reply": "2025-08-16T00:02:40.552644Z"
    },
    "papermill": {
     "duration": 0.013255,
     "end_time": "2025-08-16T00:02:40.554650",
     "exception": false,
     "start_time": "2025-08-16T00:02:40.541395",
     "status": "completed"
    },
    "tags": []
   },
   "outputs": [],
   "source": [
    "def generate_recommendations(model, user_ids, interactions_matrix, user_features, item_features, n=5):\n",
    "    n_users, n_items = interactions_matrix.shape\n",
    "    recommendations = {}\n",
    "\n",
    "    for user_idx in range(n_users):\n",
    "        scores = model.predict(user_ids=user_idx,\n",
    "                               item_ids=np.arange(n_items),\n",
    "                               user_features=user_features,\n",
    "                               item_features=item_features)\n",
    "\n",
    "        known_items = interactions_matrix.tocsr()[user_idx].indices\n",
    "        scores[known_items] = -np.inf \n",
    "\n",
    "        top_items = np.argsort(-scores)[:n]\n",
    "        recommendations[user_ids[user_idx]] = top_items\n",
    "\n",
    "    return recommendations"
   ]
  },
  {
   "cell_type": "markdown",
   "id": "8345703d-659d-4efd-aac5-67892467de89",
   "metadata": {
    "papermill": {
     "duration": 0.009003,
     "end_time": "2025-08-16T00:02:40.570654",
     "exception": false,
     "start_time": "2025-08-16T00:02:40.561651",
     "status": "completed"
    },
    "tags": []
   },
   "source": [
    "<h2>Mapping & Displaying Recommendations (for user with id 0 )</h2> <p>this is used to have a better insight about the recommendation performance and the pattern followed</p>"
   ]
  },
  {
   "cell_type": "code",
   "execution_count": 22,
   "id": "0745943d-4a14-48a7-b382-9907488b9fb1",
   "metadata": {
    "execution": {
     "iopub.execute_input": "2025-08-16T00:02:40.586650Z",
     "iopub.status.busy": "2025-08-16T00:02:40.586650Z",
     "iopub.status.idle": "2025-08-16T00:02:40.626695Z",
     "shell.execute_reply": "2025-08-16T00:02:40.625596Z"
    },
    "papermill": {
     "duration": 0.049073,
     "end_time": "2025-08-16T00:02:40.627724",
     "exception": false,
     "start_time": "2025-08-16T00:02:40.578651",
     "status": "completed"
    },
    "tags": []
   },
   "outputs": [
    {
     "name": "stdout",
     "output_type": "stream",
     "text": [
      "Internal user ID 0 corresponds to user_id: user_0\n",
      "Events user interacted with:\n",
      "     user_id   event_id\n",
      "61    user_0   event_99\n",
      "1310  user_0  event_310\n",
      "2927  user_0  event_405\n",
      "3228  user_0  event_199\n",
      "3373  user_0  event_355\n",
      "5340  user_0  event_127\n",
      "7251  user_0   event_19\n",
      "7598  user_0  event_269\n",
      "9849  user_0  event_269\n",
      "  user_id   event_id  category  popularity_score  event_date  is_weekend\n",
      "0  user_0   event_99      Tech              0.94  2025-08-10        True\n",
      "1  user_0  event_310      Tech              0.98  2025-08-01       False\n",
      "2  user_0  event_405      Tech              0.91  2025-08-26       False\n",
      "3  user_0  event_199    Sports              0.97  2025-09-14        True\n",
      "4  user_0  event_355      Tech              0.92  2025-09-17       False\n",
      "5  user_0  event_127  Workshop              0.97  2025-07-31       False\n",
      "6  user_0   event_19    Sports              0.98  2025-08-02        True\n",
      "7  user_0  event_269  Workshop              0.97  2025-09-01       False\n",
      "8  user_0  event_269  Workshop              0.97  2025-09-01       False\n"
     ]
    }
   ],
   "source": [
    "user_id_map, user_feature_map, item_id_map, item_feature_map = dataset.mapping()\n",
    "inv_user_id_map = {v: k for k, v in user_id_map.items()}\n",
    "real_user_id = inv_user_id_map[0]\n",
    "print(f\"Internal user ID 0 corresponds to user_id: {real_user_id}\")\n",
    "user_interactions = interactions[interactions['user_id'] == real_user_id]\n",
    "print(\"Events user interacted with:\")\n",
    "print(user_interactions)\n",
    "interacted_event_info = user_interactions.merge(events, on='event_id', how='left')\n",
    "print(interacted_event_info)"
   ]
  },
  {
   "cell_type": "markdown",
   "id": "6116b03a-616e-4753-8872-4ea249d63843",
   "metadata": {
    "papermill": {
     "duration": 0.009855,
     "end_time": "2025-08-16T00:02:40.648549",
     "exception": false,
     "start_time": "2025-08-16T00:02:40.638694",
     "status": "completed"
    },
    "tags": []
   },
   "source": [
    "<h2>Exploring Recommendation Diversity and Novelty</h2> <p>To evaluate the quality of our recommendation system beyond accuracy, we analyze how diverse (varied) and serendipitous (unexpected but relevant) the suggested items are. This helps ensure users receive a mix of familiar and novel content that keeps the experience engaging and personalized.</p>\n",
    "<ol>\n",
    "    <li>A lower value of Diversity means less variation in content types.\n",
    "</li>\n",
    "<li>A high Serendipity score means that many of the recommended items are new to the user and highly popular, indicating that the system is effectively introducing appealing and unexpected content.</li>\n",
    "</ol>"
   ]
  },
  {
   "cell_type": "code",
   "execution_count": 23,
   "id": "88dd5311-0a7c-443d-986c-2874e714bdfd",
   "metadata": {
    "execution": {
     "iopub.execute_input": "2025-08-16T00:02:40.666614Z",
     "iopub.status.busy": "2025-08-16T00:02:40.666614Z",
     "iopub.status.idle": "2025-08-16T00:02:40.671985Z",
     "shell.execute_reply": "2025-08-16T00:02:40.670963Z"
    },
    "papermill": {
     "duration": 0.014361,
     "end_time": "2025-08-16T00:02:40.672979",
     "exception": false,
     "start_time": "2025-08-16T00:02:40.658618",
     "status": "completed"
    },
    "tags": []
   },
   "outputs": [],
   "source": [
    "def get_recommendations_for_user(user_id, model, dataset, user_features, item_features, events_df, top_n=10):\n",
    "    user_mapping = dataset.mapping()[0]\n",
    "    event_mapping = dataset.mapping()[2] \n",
    "    inv_event_mapping = {v: k for k, v in event_mapping.items()}\n",
    "\n",
    "    if user_id not in user_mapping:\n",
    "        raise ValueError(f\"User {user_id} not in dataset.\")\n",
    "\n",
    "    user_internal_id = user_mapping[user_id]\n",
    "\n",
    "    scores = model.predict(user_internal_id, np.arange(len(event_mapping)), user_features=user_features, item_features=item_features)\n",
    "\n",
    "    top_items_idx = np.argsort(-scores)[:top_n]\n",
    "    \n",
    "    recommended_event_ids = [inv_event_mapping[i] for i in top_items_idx]\n",
    "\n",
    "    return recommended_event_ids, scores[top_items_idx]"
   ]
  },
  {
   "cell_type": "code",
   "execution_count": 24,
   "id": "db11b851-b0bf-49af-80fc-433421827c17",
   "metadata": {
    "execution": {
     "iopub.execute_input": "2025-08-16T00:02:40.688979Z",
     "iopub.status.busy": "2025-08-16T00:02:40.688979Z",
     "iopub.status.idle": "2025-08-16T00:02:40.706920Z",
     "shell.execute_reply": "2025-08-16T00:02:40.706920Z"
    },
    "papermill": {
     "duration": 0.0291,
     "end_time": "2025-08-16T00:02:40.709080",
     "exception": false,
     "start_time": "2025-08-16T00:02:40.679980",
     "status": "completed"
    },
    "tags": []
   },
   "outputs": [
    {
     "name": "stdout",
     "output_type": "stream",
     "text": [
      "Recommended Event IDs: ['cmeabrglu000jgbzgn6sy3za4', 'event_5', 'event_177', 'event_120', 'event_17']\n",
      "Scores: [0.55047363 0.5042076  0.5033406  0.5021089  0.5019986 ]\n"
     ]
    }
   ],
   "source": [
    "# Set the user ID to test\n",
    "test_user_id = \"user_0\"\n",
    "\n",
    "# Call the function\n",
    "try:\n",
    "    recommended_ids, scores = get_recommendations_for_user(\n",
    "        user_id=test_user_id,\n",
    "        model=model,\n",
    "        dataset=dataset,\n",
    "        user_features=user_features,\n",
    "        item_features=item_features,\n",
    "        events_df=events_encoded,  \n",
    "        top_n=5\n",
    "    )\n",
    "\n",
    "    print(\"Recommended Event IDs:\", recommended_ids)\n",
    "    print(\"Scores:\", scores)\n",
    "\n",
    "except ValueError as e:\n",
    "    print(\"Error:\", e)\n"
   ]
  },
  {
   "cell_type": "code",
   "execution_count": 25,
   "id": "6b4fe7b4-0a2c-48c4-a284-03f1d8d05f0e",
   "metadata": {
    "execution": {
     "iopub.execute_input": "2025-08-16T00:02:40.724081Z",
     "iopub.status.busy": "2025-08-16T00:02:40.724081Z",
     "iopub.status.idle": "2025-08-16T00:02:40.729087Z",
     "shell.execute_reply": "2025-08-16T00:02:40.728074Z"
    },
    "papermill": {
     "duration": 0.014062,
     "end_time": "2025-08-16T00:02:40.730142",
     "exception": false,
     "start_time": "2025-08-16T00:02:40.716080",
     "status": "completed"
    },
    "tags": []
   },
   "outputs": [],
   "source": [
    "\n",
    "def diversity(recommendations, events_df):\n",
    "    categories = events_df[events_df['event_id'].isin(recommendations)]['category']\n",
    "    if len(categories) == 0:\n",
    "        return 0\n",
    "    return categories.nunique() / len(categories)"
   ]
  },
  {
   "cell_type": "code",
   "execution_count": 26,
   "id": "11f3a41c-4c21-4e3a-879b-cc6eea7250cb",
   "metadata": {
    "execution": {
     "iopub.execute_input": "2025-08-16T00:02:40.750093Z",
     "iopub.status.busy": "2025-08-16T00:02:40.750093Z",
     "iopub.status.idle": "2025-08-16T00:02:40.754093Z",
     "shell.execute_reply": "2025-08-16T00:02:40.754093Z"
    },
    "papermill": {
     "duration": 0.019396,
     "end_time": "2025-08-16T00:02:40.755488",
     "exception": false,
     "start_time": "2025-08-16T00:02:40.736092",
     "status": "completed"
    },
    "tags": []
   },
   "outputs": [],
   "source": [
    "def serendipity(recommendations, user_history, events_df):\n",
    "    novel_items = set(recommendations) - set(user_history)\n",
    "    if len(recommendations) == 0:\n",
    "        return 0\n",
    "    top_serendipitous = events_df[\n",
    "        (events_df['event_id'].isin(novel_items)) & \n",
    "        (events_df['popularity_score'] > 0.9)\n",
    "    ]\n",
    "    return len(top_serendipitous) / len(recommendations)"
   ]
  },
  {
   "cell_type": "code",
   "execution_count": 27,
   "id": "026fd917-1623-4080-9b9a-ea98705424f2",
   "metadata": {
    "execution": {
     "iopub.execute_input": "2025-08-16T00:02:40.775496Z",
     "iopub.status.busy": "2025-08-16T00:02:40.774498Z",
     "iopub.status.idle": "2025-08-16T00:02:40.797261Z",
     "shell.execute_reply": "2025-08-16T00:02:40.797261Z"
    },
    "papermill": {
     "duration": 0.034772,
     "end_time": "2025-08-16T00:02:40.798267",
     "exception": false,
     "start_time": "2025-08-16T00:02:40.763495",
     "status": "completed"
    },
    "tags": []
   },
   "outputs": [
    {
     "name": "stdout",
     "output_type": "stream",
     "text": [
      "Recommendations for user_0: ['cmeabrglu000jgbzgn6sy3za4', 'event_5', 'event_177', 'event_120', 'event_17', 'event_2', 'cmeabw1zm000tgbzgsx6yltft', 'event_310', 'event_139', 'event_141']\n",
      "Diversity: 0.176\n",
      "Serendipity: 0.700\n"
     ]
    }
   ],
   "source": [
    "user_to_test = 'user_0'\n",
    "\n",
    "user_history = interactions[interactions['user_id'] == user_to_test]['event_id'].tolist()\n",
    "\n",
    "recommended_events, rec_scores = get_recommendations_for_user(\n",
    "    user_id=user_to_test,\n",
    "    model=model,\n",
    "    dataset=dataset,\n",
    "    user_features=user_features,\n",
    "    item_features=item_features,\n",
    "    events_df=events_encoded,\n",
    "    top_n=10\n",
    ")\n",
    "\n",
    "div_score = diversity(recommended_events, events_encoded)\n",
    "ser_score = serendipity(recommended_events, user_history, events_encoded)\n",
    "\n",
    "print(f\"Recommendations for {user_to_test}: {recommended_events}\")\n",
    "print(f\"Diversity: {div_score:.3f}\")\n",
    "print(f\"Serendipity: {ser_score:.3f}\")\n"
   ]
  },
  {
   "cell_type": "markdown",
   "id": "b7e0393a-941c-4db0-8bf5-c063a0804c28",
   "metadata": {
    "papermill": {
     "duration": 0.007003,
     "end_time": "2025-08-16T00:02:40.813271",
     "exception": false,
     "start_time": "2025-08-16T00:02:40.806268",
     "status": "completed"
    },
    "tags": []
   },
   "source": [
    "<h2>Export the model</h2>"
   ]
  },
  {
   "cell_type": "code",
   "execution_count": 28,
   "id": "46e6caf6-7467-4fb5-a883-d22213e1ab6c",
   "metadata": {
    "execution": {
     "iopub.execute_input": "2025-08-16T00:02:40.830789Z",
     "iopub.status.busy": "2025-08-16T00:02:40.829789Z",
     "iopub.status.idle": "2025-08-16T00:02:40.848308Z",
     "shell.execute_reply": "2025-08-16T00:02:40.848308Z"
    },
    "papermill": {
     "duration": 0.028438,
     "end_time": "2025-08-16T00:02:40.849710",
     "exception": false,
     "start_time": "2025-08-16T00:02:40.821272",
     "status": "completed"
    },
    "tags": []
   },
   "outputs": [
    {
     "data": {
      "text/plain": [
       "['recommendation_dataset.pkl']"
      ]
     },
     "execution_count": 28,
     "metadata": {},
     "output_type": "execute_result"
    }
   ],
   "source": [
    "joblib.dump(model, 'recommendation_model.pkl')\n",
    "joblib.dump(scaler, 'recommendation_scaler.pkl')\n",
    "joblib.dump(user_features, 'recommendation_user_features.pkl')\n",
    "joblib.dump(item_features, 'recommendation_item_features.pkl')\n",
    "joblib.dump(dataset, 'recommendation_dataset.pkl')\n"
   ]
  },
  {
   "cell_type": "code",
   "execution_count": null,
   "id": "5db036bc-b6f8-415e-80df-022927830d53",
   "metadata": {
    "papermill": {
     "duration": 0.007512,
     "end_time": "2025-08-16T00:02:40.865223",
     "exception": false,
     "start_time": "2025-08-16T00:02:40.857711",
     "status": "completed"
    },
    "tags": []
   },
   "outputs": [],
   "source": []
  }
 ],
 "metadata": {
  "kernelspec": {
   "display_name": "Python [conda env:base] *",
   "language": "python",
   "name": "conda-base-py"
  },
  "language_info": {
   "codemirror_mode": {
    "name": "ipython",
    "version": 3
   },
   "file_extension": ".py",
   "mimetype": "text/x-python",
   "name": "python",
   "nbconvert_exporter": "python",
   "pygments_lexer": "ipython3",
   "version": "3.12.7"
  },
  "papermill": {
   "default_parameters": {},
   "duration": 36.364292,
   "end_time": "2025-08-16T00:02:41.312971",
   "environment_variables": {},
   "exception": null,
   "input_path": "lightFM_hybrid_recommendation_system.ipynb",
   "output_path": "train_model_out.ipynb",
   "parameters": {},
   "start_time": "2025-08-16T00:02:04.948679",
   "version": "2.6.0"
  }
 },
 "nbformat": 4,
 "nbformat_minor": 5
}