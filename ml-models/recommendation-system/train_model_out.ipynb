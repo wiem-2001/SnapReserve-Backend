{
 "cells": [
  {
   "cell_type": "markdown",
   "id": "c75fc8b9-13f4-4c7d-b616-ff375a134672",
   "metadata": {
    "papermill": {
     "duration": 0.010432,
     "end_time": "2025-08-02T23:32:59.054477",
     "exception": false,
     "start_time": "2025-08-02T23:32:59.044045",
     "status": "completed"
    },
    "tags": []
   },
   "source": [
    "<h1 style=\"color:red;\">Data Loading, Exploration and Preprocessing</h1>"
   ]
  },
  {
   "cell_type": "code",
   "execution_count": 1,
   "id": "ceb7f003-ee26-480d-b0bd-c500ebf6df4f",
   "metadata": {
    "execution": {
     "iopub.execute_input": "2025-08-02T23:32:59.082137Z",
     "iopub.status.busy": "2025-08-02T23:32:59.081137Z",
     "iopub.status.idle": "2025-08-02T23:33:02.082720Z",
     "shell.execute_reply": "2025-08-02T23:33:02.082201Z"
    },
    "papermill": {
     "duration": 3.015668,
     "end_time": "2025-08-02T23:33:02.084731",
     "exception": false,
     "start_time": "2025-08-02T23:32:59.069063",
     "status": "completed"
    },
    "tags": []
   },
   "outputs": [
    {
     "name": "stderr",
     "output_type": "stream",
     "text": [
      "C:\\Users\\wiemb\\SnapReserve\\SnapReserve-Backend\\venv\\Lib\\site-packages\\lightfm\\_lightfm_fast.py:9: UserWarning: LightFM was compiled without OpenMP support. Only a single thread will be used.\n",
      "  warnings.warn(\n"
     ]
    }
   ],
   "source": [
    "import pandas as pd\n",
    "import numpy as np\n",
    "import matplotlib.pyplot as plt\n",
    "import seaborn as sns\n",
    "from sklearn.preprocessing import MinMaxScaler\n",
    "from lightfm.data import Dataset\n",
    "from lightfm.cross_validation import random_train_test_split\n",
    "import optuna\n",
    "from lightfm import LightFM\n",
    "from lightfm.evaluation import precision_at_k, recall_at_k, auc_score\n",
    "import joblib"
   ]
  },
  {
   "cell_type": "code",
   "execution_count": 2,
   "id": "d247e325-37be-4a77-a400-1417841836f0",
   "metadata": {
    "execution": {
     "iopub.execute_input": "2025-08-02T23:33:02.111995Z",
     "iopub.status.busy": "2025-08-02T23:33:02.111995Z",
     "iopub.status.idle": "2025-08-02T23:33:02.115128Z",
     "shell.execute_reply": "2025-08-02T23:33:02.115128Z"
    },
    "papermill": {
     "duration": 0.018665,
     "end_time": "2025-08-02T23:33:02.117134",
     "exception": false,
     "start_time": "2025-08-02T23:33:02.098469",
     "status": "completed"
    },
    "tags": []
   },
   "outputs": [
    {
     "name": "stdout",
     "output_type": "stream",
     "text": [
      "Numpy: 2.3.2\n",
      "scikit-learn: 1.5.1\n",
      "joblib: 1.5.1\n"
     ]
    }
   ],
   "source": [
    "import numpy\n",
    "import sklearn\n",
    "import joblib\n",
    "\n",
    "print(\"Numpy:\", numpy.__version__)\n",
    "print(\"scikit-learn:\", sklearn.__version__)\n",
    "print(\"joblib:\", joblib.__version__)\n"
   ]
  },
  {
   "cell_type": "code",
   "execution_count": 3,
   "id": "1fdf0624-dd39-4c49-8d68-30de633b713f",
   "metadata": {
    "execution": {
     "iopub.execute_input": "2025-08-02T23:33:02.136391Z",
     "iopub.status.busy": "2025-08-02T23:33:02.136391Z",
     "iopub.status.idle": "2025-08-02T23:33:02.195680Z",
     "shell.execute_reply": "2025-08-02T23:33:02.195680Z"
    },
    "papermill": {
     "duration": 0.071247,
     "end_time": "2025-08-02T23:33:02.197689",
     "exception": false,
     "start_time": "2025-08-02T23:33:02.126442",
     "status": "completed"
    },
    "tags": []
   },
   "outputs": [
    {
     "name": "stdout",
     "output_type": "stream",
     "text": [
      "Users:\n",
      "  user_id  gender age_group      role\n",
      "0  user_0    male     26-35  attendee\n",
      "1  user_1  female     26-35  attendee\n",
      "2  user_2    male     26-35  attendee\n",
      "3  user_3    male     36-50  attendee\n",
      "4  user_4    male     26-35  attendee\n",
      "\n",
      "Events:\n",
      "  event_id category  popularity_score  event_date  is_weekend\n",
      "0  event_0   Sports              0.96  2025-09-06        True\n",
      "1  event_1    Movie              0.20  2025-08-04       False\n",
      "2  event_2    Movie              0.95  2025-07-29       False\n",
      "3  event_3    Movie              0.99  2025-09-13        True\n",
      "4  event_4  Theater              0.71  2025-08-14       False\n",
      "\n",
      "Interactions:\n",
      "    user_id   event_id\n",
      "0  user_870  event_209\n",
      "1  user_101  event_120\n",
      "2  user_628   event_19\n",
      "3  user_134  event_127\n",
      "4   user_57  event_190\n"
     ]
    }
   ],
   "source": [
    "users = pd.read_csv('synthetic_users.csv') \n",
    "events = pd.read_csv('synthetic_events.csv') \n",
    "interactions = pd.read_csv('synthetic_interactions.csv')  \n",
    "\n",
    "print(\"Users:\")\n",
    "print(users.head())\n",
    "print(\"\\nEvents:\")\n",
    "print(events.head())\n",
    "print(\"\\nInteractions:\")\n",
    "print(interactions.head())"
   ]
  },
  {
   "cell_type": "code",
   "execution_count": 4,
   "id": "f174dde1-c868-44e5-aba8-78431d4d3ca7",
   "metadata": {
    "execution": {
     "iopub.execute_input": "2025-08-02T23:33:02.228502Z",
     "iopub.status.busy": "2025-08-02T23:33:02.227494Z",
     "iopub.status.idle": "2025-08-02T23:33:02.242009Z",
     "shell.execute_reply": "2025-08-02T23:33:02.240001Z"
    },
    "papermill": {
     "duration": 0.03161,
     "end_time": "2025-08-02T23:33:02.244109",
     "exception": false,
     "start_time": "2025-08-02T23:33:02.212499",
     "status": "completed"
    },
    "tags": []
   },
   "outputs": [
    {
     "name": "stdout",
     "output_type": "stream",
     "text": [
      "<class 'pandas.core.frame.DataFrame'>\n",
      "RangeIndex: 1038 entries, 0 to 1037\n",
      "Data columns (total 4 columns):\n",
      " #   Column     Non-Null Count  Dtype \n",
      "---  ------     --------------  ----- \n",
      " 0   user_id    1038 non-null   object\n",
      " 1   gender     1038 non-null   object\n",
      " 2   age_group  1038 non-null   object\n",
      " 3   role       1038 non-null   object\n",
      "dtypes: object(4)\n",
      "memory usage: 32.6+ KB\n"
     ]
    }
   ],
   "source": [
    "users.info()"
   ]
  },
  {
   "cell_type": "code",
   "execution_count": 5,
   "id": "e5ac4894-dea5-4b90-8dbf-5afc7aa1010f",
   "metadata": {
    "execution": {
     "iopub.execute_input": "2025-08-02T23:33:02.271626Z",
     "iopub.status.busy": "2025-08-02T23:33:02.271626Z",
     "iopub.status.idle": "2025-08-02T23:33:02.277666Z",
     "shell.execute_reply": "2025-08-02T23:33:02.277666Z"
    },
    "papermill": {
     "duration": 0.021533,
     "end_time": "2025-08-02T23:33:02.279683",
     "exception": false,
     "start_time": "2025-08-02T23:33:02.258150",
     "status": "completed"
    },
    "tags": []
   },
   "outputs": [
    {
     "name": "stdout",
     "output_type": "stream",
     "text": [
      "<class 'pandas.core.frame.DataFrame'>\n",
      "RangeIndex: 521 entries, 0 to 520\n",
      "Data columns (total 5 columns):\n",
      " #   Column            Non-Null Count  Dtype  \n",
      "---  ------            --------------  -----  \n",
      " 0   event_id          521 non-null    object \n",
      " 1   category          521 non-null    object \n",
      " 2   popularity_score  521 non-null    float64\n",
      " 3   event_date        521 non-null    object \n",
      " 4   is_weekend        521 non-null    bool   \n",
      "dtypes: bool(1), float64(1), object(3)\n",
      "memory usage: 16.9+ KB\n"
     ]
    }
   ],
   "source": [
    "events.info()"
   ]
  },
  {
   "cell_type": "code",
   "execution_count": 6,
   "id": "921dc186-c9ad-4c1a-934c-21ae38105440",
   "metadata": {
    "execution": {
     "iopub.execute_input": "2025-08-02T23:33:02.304440Z",
     "iopub.status.busy": "2025-08-02T23:33:02.304440Z",
     "iopub.status.idle": "2025-08-02T23:33:02.312955Z",
     "shell.execute_reply": "2025-08-02T23:33:02.312955Z"
    },
    "papermill": {
     "duration": 0.025452,
     "end_time": "2025-08-02T23:33:02.315235",
     "exception": false,
     "start_time": "2025-08-02T23:33:02.289783",
     "status": "completed"
    },
    "tags": []
   },
   "outputs": [
    {
     "name": "stdout",
     "output_type": "stream",
     "text": [
      "<class 'pandas.core.frame.DataFrame'>\n",
      "RangeIndex: 10600 entries, 0 to 10599\n",
      "Data columns (total 2 columns):\n",
      " #   Column    Non-Null Count  Dtype \n",
      "---  ------    --------------  ----- \n",
      " 0   user_id   10600 non-null  object\n",
      " 1   event_id  10600 non-null  object\n",
      "dtypes: object(2)\n",
      "memory usage: 165.8+ KB\n"
     ]
    }
   ],
   "source": [
    "interactions.info()"
   ]
  },
  {
   "cell_type": "markdown",
   "id": "fe0aca21-b908-4178-a921-44cdde9122de",
   "metadata": {
    "papermill": {
     "duration": 0.014601,
     "end_time": "2025-08-02T23:33:02.345188",
     "exception": false,
     "start_time": "2025-08-02T23:33:02.330587",
     "status": "completed"
    },
    "tags": []
   },
   "source": [
    "<h2>Exploratory Data Analysis (EDA) - Users</h2>"
   ]
  },
  {
   "cell_type": "code",
   "execution_count": 7,
   "id": "c684c8b8-90b8-431d-821c-784774b30c78",
   "metadata": {
    "execution": {
     "iopub.execute_input": "2025-08-02T23:33:02.372664Z",
     "iopub.status.busy": "2025-08-02T23:33:02.372664Z",
     "iopub.status.idle": "2025-08-02T23:33:02.780679Z",
     "shell.execute_reply": "2025-08-02T23:33:02.780679Z"
    },
    "papermill": {
     "duration": 0.42852,
     "end_time": "2025-08-02T23:33:02.785682",
     "exception": false,
     "start_time": "2025-08-02T23:33:02.357162",
     "status": "completed"
    },
    "tags": []
   },
   "outputs": [
    {
     "data": {
      "image/png": "[encoded data removed]",
      "text/plain": [
       "<Figure size 1400x400 with 3 Axes>"
      ]
     },
     "metadata": {},
     "output_type": "display_data"
    }
   ],
   "source": [
    "plt.figure(figsize=(14, 4))\n",
    "\n",
    "plot_idx = 1\n",
    "\n",
    "if 'gender' in users.columns:\n",
    "    plt.subplot(1, 3, plot_idx)\n",
    "    sns.countplot(data=users, x='gender')\n",
    "    plt.title('Gender Distribution')\n",
    "    plot_idx += 1\n",
    "\n",
    "if 'age_group' in users.columns:\n",
    "    plt.subplot(1, 3, plot_idx)\n",
    "    sns.countplot(data=users, x='age_group')\n",
    "    plt.title('Age Group Distribution')\n",
    "    plot_idx += 1\n",
    "\n",
    "if 'role' in users.columns:\n",
    "    plt.subplot(1, 3, plot_idx)\n",
    "    sns.countplot(data=users, x='role')\n",
    "    plt.title('Role Distribution')\n",
    "    plot_idx += 1\n",
    "\n",
    "plt.tight_layout()\n",
    "plt.show()\n"
   ]
  },
  {
   "cell_type": "markdown",
   "id": "d7e30195-9cf2-43bd-beca-3c8b936d787b",
   "metadata": {
    "papermill": {
     "duration": 0.018261,
     "end_time": "2025-08-02T23:33:02.825333",
     "exception": false,
     "start_time": "2025-08-02T23:33:02.807072",
     "status": "completed"
    },
    "tags": []
   },
   "source": [
    "<h2>Exploratory Data Analysis (EDA) - Events</h2>"
   ]
  },
  {
   "cell_type": "code",
   "execution_count": 8,
   "id": "e35ebb92-58f6-450e-af54-4d4cc0300c88",
   "metadata": {
    "execution": {
     "iopub.execute_input": "2025-08-02T23:33:02.850862Z",
     "iopub.status.busy": "2025-08-02T23:33:02.849854Z",
     "iopub.status.idle": "2025-08-02T23:33:03.119805Z",
     "shell.execute_reply": "2025-08-02T23:33:03.119805Z"
    },
    "papermill": {
     "duration": 0.284013,
     "end_time": "2025-08-02T23:33:03.121872",
     "exception": false,
     "start_time": "2025-08-02T23:33:02.837859",
     "status": "completed"
    },
    "tags": []
   },
   "outputs": [
    {
     "name": "stdout",
     "output_type": "stream",
     "text": [
      "Columns in events: Index(['event_id', 'category', 'popularity_score', 'event_date', 'is_weekend'], dtype='object')\n",
      "Is 'category' column present? True\n",
      "Events DataFrame empty? False\n"
     ]
    },
    {
     "data": {
      "image/png": "[encoded data removed]",
      "text/plain": [
       "<Figure size 1000x400 with 2 Axes>"
      ]
     },
     "metadata": {},
     "output_type": "display_data"
    }
   ],
   "source": [
    "print(\"Columns in events:\", events.columns)\n",
    "print(\"Is 'category' column present?\", 'category' in events.columns)\n",
    "print(\"Events DataFrame empty?\", events.empty)\n",
    "\n",
    "plt.figure(figsize=(10,4))\n",
    "\n",
    "plt.subplot(1,2,1)\n",
    "if 'category' in events.columns and not events.empty:\n",
    "    sns.countplot(data=events, x='category')\n",
    "    plt.title('Event Category Distribution')\n",
    "    plt.xticks(rotation=45)\n",
    "else:\n",
    "    print(\"Skipping countplot: 'category' column missing or events is empty\")\n",
    "\n",
    "plt.subplot(1,2,2)\n",
    "if not events.empty:\n",
    "    sns.histplot(data=events, x='popularity_score', bins=20)\n",
    "    plt.title('Popularity Score Distribution')\n",
    "else:\n",
    "    print(\"Skipping histplot: events DataFrame is empty\")\n",
    "\n",
    "plt.tight_layout()\n",
    "plt.show()\n"
   ]
  },
  {
   "cell_type": "markdown",
   "id": "148da7f7-6a61-48f6-a0fb-9ebf04b5051a",
   "metadata": {
    "papermill": {
     "duration": 0.015527,
     "end_time": "2025-08-02T23:33:03.159729",
     "exception": false,
     "start_time": "2025-08-02T23:33:03.144202",
     "status": "completed"
    },
    "tags": []
   },
   "source": [
    "<h2>Interaction Counts Analysis</h2>"
   ]
  },
  {
   "cell_type": "code",
   "execution_count": 9,
   "id": "378ab920-924f-4672-a6e1-c01b19bec4db",
   "metadata": {
    "execution": {
     "iopub.execute_input": "2025-08-02T23:33:03.190062Z",
     "iopub.status.busy": "2025-08-02T23:33:03.189058Z",
     "iopub.status.idle": "2025-08-02T23:33:03.200901Z",
     "shell.execute_reply": "2025-08-02T23:33:03.200901Z"
    },
    "papermill": {
     "duration": 0.027126,
     "end_time": "2025-08-02T23:33:03.202924",
     "exception": false,
     "start_time": "2025-08-02T23:33:03.175798",
     "status": "completed"
    },
    "tags": []
   },
   "outputs": [
    {
     "name": "stdout",
     "output_type": "stream",
     "text": [
      "\n",
      "Interactions per user:\n",
      "count    1001.000000\n",
      "mean       10.589411\n",
      "std        18.901012\n",
      "min         2.000000\n",
      "25%         8.000000\n",
      "50%        10.000000\n",
      "75%        12.000000\n",
      "max       600.000000\n",
      "Name: count, dtype: float64\n",
      "\n",
      "Interactions per event:\n",
      "count    140.000000\n",
      "mean      75.714286\n",
      "std       88.712963\n",
      "min        1.000000\n",
      "25%        3.000000\n",
      "50%       33.000000\n",
      "75%      135.500000\n",
      "max      464.000000\n",
      "Name: count, dtype: float64\n"
     ]
    }
   ],
   "source": [
    "print(\"\\nInteractions per user:\")\n",
    "if 'user_id' in interactions.columns:\n",
    "    print(interactions['user_id'].value_counts().describe())\n",
    "else:\n",
    "    print(\" 'user_id' column is missing in interactions.\")\n",
    "\n",
    "print(\"\\nInteractions per event:\")\n",
    "if 'event_id' in interactions.columns:\n",
    "    print(interactions['event_id'].value_counts().describe())\n",
    "else:\n",
    "    print(\"'event_id' column is missing in interactions.\")\n"
   ]
  },
  {
   "cell_type": "markdown",
   "id": "e919a3c3-a7e1-4ef2-b4ca-265c26bad8d0",
   "metadata": {
    "papermill": {
     "duration": 0.016121,
     "end_time": "2025-08-02T23:33:03.234557",
     "exception": false,
     "start_time": "2025-08-02T23:33:03.218436",
     "status": "completed"
    },
    "tags": []
   },
   "source": [
    "<h2>Removing uneeded data (users with role organizer )  </h2>"
   ]
  },
  {
   "cell_type": "code",
   "execution_count": 10,
   "id": "fd87f8b0-4315-42f8-b284-2b6f6b2000f4",
   "metadata": {
    "execution": {
     "iopub.execute_input": "2025-08-02T23:33:03.266444Z",
     "iopub.status.busy": "2025-08-02T23:33:03.266444Z",
     "iopub.status.idle": "2025-08-02T23:33:03.272491Z",
     "shell.execute_reply": "2025-08-02T23:33:03.272491Z"
    },
    "papermill": {
     "duration": 0.022575,
     "end_time": "2025-08-02T23:33:03.274245",
     "exception": false,
     "start_time": "2025-08-02T23:33:03.251670",
     "status": "completed"
    },
    "tags": []
   },
   "outputs": [
    {
     "name": "stdout",
     "output_type": "stream",
     "text": [
      "Users after removing organizers: 946\n"
     ]
    }
   ],
   "source": [
    "users = users[users['role'] != 'organizer']\n",
    "print(f\"Users after removing organizers: {users.shape[0]}\")"
   ]
  },
  {
   "cell_type": "markdown",
   "id": "91fd0b68-489b-4c24-b8a9-07691f9ecd51",
   "metadata": {
    "papermill": {
     "duration": 0.014047,
     "end_time": "2025-08-02T23:33:03.299822",
     "exception": false,
     "start_time": "2025-08-02T23:33:03.285775",
     "status": "completed"
    },
    "tags": []
   },
   "source": [
    "<h2>Remove interactions related to removed users</h2>"
   ]
  },
  {
   "cell_type": "code",
   "execution_count": 11,
   "id": "2b5ec41f-2559-42cb-92be-24a54c288d8c",
   "metadata": {
    "execution": {
     "iopub.execute_input": "2025-08-02T23:33:03.332772Z",
     "iopub.status.busy": "2025-08-02T23:33:03.332772Z",
     "iopub.status.idle": "2025-08-02T23:33:03.338666Z",
     "shell.execute_reply": "2025-08-02T23:33:03.338150Z"
    },
    "papermill": {
     "duration": 0.026422,
     "end_time": "2025-08-02T23:33:03.339681",
     "exception": false,
     "start_time": "2025-08-02T23:33:03.313259",
     "status": "completed"
    },
    "tags": []
   },
   "outputs": [
    {
     "name": "stdout",
     "output_type": "stream",
     "text": [
      "Interactions after removing organizer-related ones: 9686\n"
     ]
    }
   ],
   "source": [
    "valid_user_ids = set(users['user_id'])\n",
    "interactions = interactions[interactions['user_id'].isin(valid_user_ids)]\n",
    "print(f\"Interactions after removing organizer-related ones: {interactions.shape[0]}\")"
   ]
  },
  {
   "cell_type": "markdown",
   "id": "8eefb547-96dc-40bb-a5a4-ec7fc6119ae5",
   "metadata": {
    "papermill": {
     "duration": 0.015527,
     "end_time": "2025-08-02T23:33:03.369208",
     "exception": false,
     "start_time": "2025-08-02T23:33:03.353681",
     "status": "completed"
    },
    "tags": []
   },
   "source": [
    "<h2>Encode categorical columns</h2>"
   ]
  },
  {
   "cell_type": "code",
   "execution_count": 12,
   "id": "a8062905-8f4d-45e4-8971-21b30cdecffc",
   "metadata": {
    "execution": {
     "iopub.execute_input": "2025-08-02T23:33:03.398202Z",
     "iopub.status.busy": "2025-08-02T23:33:03.398202Z",
     "iopub.status.idle": "2025-08-02T23:33:03.409625Z",
     "shell.execute_reply": "2025-08-02T23:33:03.408898Z"
    },
    "papermill": {
     "duration": 0.029415,
     "end_time": "2025-08-02T23:33:03.411167",
     "exception": false,
     "start_time": "2025-08-02T23:33:03.381752",
     "status": "completed"
    },
    "tags": []
   },
   "outputs": [
    {
     "name": "stdout",
     "output_type": "stream",
     "text": [
      "\n",
      "Encoded Users sample:\n",
      "  user_id  gender  age_group  role\n",
      "0  user_0       2          2     1\n",
      "1  user_1       1          2     1\n",
      "2  user_2       2          2     1\n",
      "3  user_3       2          3     1\n",
      "4  user_4       2          2     1\n",
      "\n",
      "Encoded Events sample:\n",
      "  event_id  category  popularity_score  event_date  is_weekend\n",
      "0  event_0         4              0.96  2025-09-06        True\n",
      "1  event_1         2              0.20  2025-08-04       False\n",
      "2  event_2         2              0.95  2025-07-29       False\n",
      "3  event_3         2              0.99  2025-09-13        True\n",
      "4  event_4         6              0.71  2025-08-14       False\n"
     ]
    }
   ],
   "source": [
    "users_encoded = users.copy()\n",
    "\n",
    "for col in ['gender', 'age_group', 'role']:\n",
    "    if col in users.columns:\n",
    "        users_encoded[col] = users_encoded[col].astype('category').cat.codes\n",
    "    else:\n",
    "        print(f\"Column '{col}' not found in users DataFrame.\")\n",
    "\n",
    "events_encoded = events.copy()  # this line is essential!\n",
    "\n",
    "if 'category' in events.columns:\n",
    "    events_encoded['category'] = events_encoded['category'].astype('category').cat.codes\n",
    "else:\n",
    "    print(\"Column 'category' not found in events DataFrame.\")\n",
    "\n",
    "print(\"\\nEncoded Users sample:\")\n",
    "print(users_encoded.head())\n",
    "\n",
    "print(\"\\nEncoded Events sample:\")\n",
    "print(events_encoded.head())\n"
   ]
  },
  {
   "cell_type": "markdown",
   "id": "fcee7feb-3031-4cff-b4b8-56b5cc97ec8d",
   "metadata": {
    "papermill": {
     "duration": 0.046803,
     "end_time": "2025-08-02T23:33:03.496259",
     "exception": false,
     "start_time": "2025-08-02T23:33:03.449456",
     "status": "completed"
    },
    "tags": []
   },
   "source": [
    "<h2>Scale popularity_score</h2>"
   ]
  },
  {
   "cell_type": "code",
   "execution_count": 13,
   "id": "9cb64092-ad59-42f8-b1cb-2eb966080bbb",
   "metadata": {
    "execution": {
     "iopub.execute_input": "2025-08-02T23:33:03.573636Z",
     "iopub.status.busy": "2025-08-02T23:33:03.573636Z",
     "iopub.status.idle": "2025-08-02T23:33:03.584750Z",
     "shell.execute_reply": "2025-08-02T23:33:03.583730Z"
    },
    "papermill": {
     "duration": 0.043135,
     "end_time": "2025-08-02T23:33:03.586737",
     "exception": false,
     "start_time": "2025-08-02T23:33:03.543602",
     "status": "completed"
    },
    "tags": []
   },
   "outputs": [],
   "source": [
    "scaler = MinMaxScaler()\n",
    "events_encoded['popularity_score'] = scaler.fit_transform(events_encoded[['popularity_score']])"
   ]
  },
  {
   "cell_type": "markdown",
   "id": "1da855b1-1837-4e25-83bd-4d25dc52c259",
   "metadata": {
    "papermill": {
     "duration": 0.020348,
     "end_time": "2025-08-02T23:33:03.620545",
     "exception": false,
     "start_time": "2025-08-02T23:33:03.600197",
     "status": "completed"
    },
    "tags": []
   },
   "source": [
    "<h2>Convert event_date to datetime format</h2>"
   ]
  },
  {
   "cell_type": "code",
   "execution_count": 14,
   "id": "770705cd-c184-4f25-98ca-a972f23c922e",
   "metadata": {
    "execution": {
     "iopub.execute_input": "2025-08-02T23:33:03.648221Z",
     "iopub.status.busy": "2025-08-02T23:33:03.647605Z",
     "iopub.status.idle": "2025-08-02T23:33:03.661082Z",
     "shell.execute_reply": "2025-08-02T23:33:03.661082Z"
    },
    "papermill": {
     "duration": 0.029246,
     "end_time": "2025-08-02T23:33:03.662327",
     "exception": false,
     "start_time": "2025-08-02T23:33:03.633081",
     "status": "completed"
    },
    "tags": []
   },
   "outputs": [],
   "source": [
    "events_encoded['event_date'] = pd.to_datetime(events_encoded['event_date'])"
   ]
  },
  {
   "cell_type": "markdown",
   "id": "cfd4e97c-8c02-4555-afc2-ad36577c3682",
   "metadata": {
    "papermill": {
     "duration": 0.014002,
     "end_time": "2025-08-02T23:33:03.691876",
     "exception": false,
     "start_time": "2025-08-02T23:33:03.677874",
     "status": "completed"
    },
    "tags": []
   },
   "source": [
    "<h2>Final check: print samples and shapes after cleaning and encoding</h2>"
   ]
  },
  {
   "cell_type": "code",
   "execution_count": 15,
   "id": "e4950393-bf35-45aa-9f42-b005ca92c4ca",
   "metadata": {
    "execution": {
     "iopub.execute_input": "2025-08-02T23:33:03.721028Z",
     "iopub.status.busy": "2025-08-02T23:33:03.719523Z",
     "iopub.status.idle": "2025-08-02T23:33:03.728033Z",
     "shell.execute_reply": "2025-08-02T23:33:03.728033Z"
    },
    "papermill": {
     "duration": 0.024918,
     "end_time": "2025-08-02T23:33:03.730449",
     "exception": false,
     "start_time": "2025-08-02T23:33:03.705531",
     "status": "completed"
    },
    "tags": []
   },
   "outputs": [
    {
     "name": "stdout",
     "output_type": "stream",
     "text": [
      "\n",
      "Cleaned Users Sample:\n",
      "  user_id  gender  age_group  role\n",
      "0  user_0       2          2     1\n",
      "1  user_1       1          2     1\n",
      "2  user_2       2          2     1\n",
      "3  user_3       2          3     1\n",
      "4  user_4       2          2     1\n",
      "\n",
      "Cleaned Events Sample:\n",
      "  event_id  category  popularity_score event_date  is_weekend\n",
      "0  event_0         4              0.96 2025-09-06        True\n",
      "1  event_1         2              0.20 2025-08-04       False\n",
      "2  event_2         2              0.95 2025-07-29       False\n",
      "3  event_3         2              0.99 2025-09-13        True\n",
      "4  event_4         6              0.71 2025-08-14       False\n",
      "\n",
      "Cleaned Interactions Sample:\n",
      "    user_id   event_id\n",
      "0  user_870  event_209\n",
      "1  user_101  event_120\n",
      "2  user_628   event_19\n",
      "4   user_57  event_190\n",
      "5  user_430    event_0\n"
     ]
    }
   ],
   "source": [
    "print(\"\\nCleaned Users Sample:\")\n",
    "print(users_encoded.head())\n",
    "\n",
    "print(\"\\nCleaned Events Sample:\")\n",
    "print(events_encoded.head())\n",
    "\n",
    "print(\"\\nCleaned Interactions Sample:\")\n",
    "print(interactions.head())"
   ]
  },
  {
   "cell_type": "markdown",
   "id": "674821bf-3c90-4ab6-883b-9d3f703d21fe",
   "metadata": {
    "papermill": {
     "duration": 0.013091,
     "end_time": "2025-08-02T23:33:03.756548",
     "exception": false,
     "start_time": "2025-08-02T23:33:03.743457",
     "status": "completed"
    },
    "tags": []
   },
   "source": [
    "<h1 style=\"color:red;\">LightFM Dataset Preparation</h1>"
   ]
  },
  {
   "cell_type": "markdown",
   "id": "4299a597-9187-4740-b7f5-69628b1f54fb",
   "metadata": {
    "papermill": {
     "duration": 0.013006,
     "end_time": "2025-08-02T23:33:03.783839",
     "exception": false,
     "start_time": "2025-08-02T23:33:03.770833",
     "status": "completed"
    },
    "tags": []
   },
   "source": [
    "<h2>Build interaction matrix from (user_id, event_id) pairs</h2> "
   ]
  },
  {
   "cell_type": "code",
   "execution_count": 16,
   "id": "8327ff8c-d597-4f73-9544-af0772cf85b9",
   "metadata": {
    "execution": {
     "iopub.execute_input": "2025-08-02T23:33:03.817675Z",
     "iopub.status.busy": "2025-08-02T23:33:03.816667Z",
     "iopub.status.idle": "2025-08-02T23:33:04.453030Z",
     "shell.execute_reply": "2025-08-02T23:33:04.452016Z"
    },
    "papermill": {
     "duration": 0.651578,
     "end_time": "2025-08-02T23:33:04.454031",
     "exception": false,
     "start_time": "2025-08-02T23:33:03.802453",
     "status": "completed"
    },
    "tags": []
   },
   "outputs": [
    {
     "name": "stdout",
     "output_type": "stream",
     "text": [
      "Interaction matrix shape: (910, 506)\n",
      "User features sparse: (910, 920)\n",
      "Item features sparse: (506, 516)\n"
     ]
    }
   ],
   "source": [
    "dataset = Dataset()\n",
    "\n",
    "user_ids = users_encoded['user_id'].unique()\n",
    "event_ids = events_encoded['event_id'].unique()\n",
    "\n",
    "user_features_raw = users_encoded.set_index('user_id')[['gender', 'age_group', 'role']]\n",
    "user_feature_tuples = [\n",
    "    (uid, [f\"gender:{g}\", f\"age_group:{a}\", f\"role:{r}\"])\n",
    "    for uid, g, a, r in zip(user_features_raw.index, user_features_raw['gender'], user_features_raw['age_group'], user_features_raw['role'])\n",
    "]\n",
    "\n",
    "event_features_raw = events_encoded.set_index('event_id')[['category', 'popularity_score', 'is_weekend']]\n",
    "event_feature_tuples = [\n",
    "    (eid, [f\"category:{c}\", f\"is_weekend:{w}\"])\n",
    "    for eid, c, w in zip(event_features_raw.index, event_features_raw['category'], event_features_raw['is_weekend'])\n",
    "]\n",
    "\n",
    "dataset.fit(\n",
    "    users=user_ids,\n",
    "    items=event_ids,\n",
    "    user_features=set(f for _, feats in user_feature_tuples for f in feats),\n",
    "    item_features=set(f for _, feats in event_feature_tuples for f in feats)\n",
    ")\n",
    "\n",
    "(interactions_matrix, weights) = dataset.build_interactions(\n",
    "    [(row['user_id'], row['event_id']) for idx, row in interactions.iterrows()]\n",
    ")\n",
    "print(f\"Interaction matrix shape: {interactions_matrix.shape}\")\n",
    "\n",
    "user_features = dataset.build_user_features(user_feature_tuples)\n",
    "item_features = dataset.build_item_features(event_feature_tuples)\n",
    "\n",
    "print(\"User features sparse:\", user_features.shape)\n",
    "print(\"Item features sparse:\", item_features.shape)\n"
   ]
  },
  {
   "cell_type": "markdown",
   "id": "f3c48d8b-b0a1-4000-9dd9-5c52b947fa59",
   "metadata": {
    "papermill": {
     "duration": 0.015531,
     "end_time": "2025-08-02T23:33:04.483079",
     "exception": false,
     "start_time": "2025-08-02T23:33:04.467548",
     "status": "completed"
    },
    "tags": []
   },
   "source": [
    "<h1 style=\"color:red;\">Training</h1>"
   ]
  },
  {
   "cell_type": "markdown",
   "id": "3c25d66b-2f1c-41db-b6cc-98065ed9f976",
   "metadata": {
    "papermill": {
     "duration": 0.015952,
     "end_time": "2025-08-02T23:33:04.514611",
     "exception": false,
     "start_time": "2025-08-02T23:33:04.498659",
     "status": "completed"
    },
    "tags": []
   },
   "source": [
    "<h2>Train-Test Split</h2>"
   ]
  },
  {
   "cell_type": "code",
   "execution_count": 17,
   "id": "a6182f4d-bb09-47d5-aef9-82943754a837",
   "metadata": {
    "execution": {
     "iopub.execute_input": "2025-08-02T23:33:04.558330Z",
     "iopub.status.busy": "2025-08-02T23:33:04.557297Z",
     "iopub.status.idle": "2025-08-02T23:33:04.570475Z",
     "shell.execute_reply": "2025-08-02T23:33:04.568774Z"
    },
    "papermill": {
     "duration": 0.038372,
     "end_time": "2025-08-02T23:33:04.572571",
     "exception": false,
     "start_time": "2025-08-02T23:33:04.534199",
     "status": "completed"
    },
    "tags": []
   },
   "outputs": [
    {
     "name": "stdout",
     "output_type": "stream",
     "text": [
      "Train interactions: 7748 | Test interactions: 1938\n"
     ]
    }
   ],
   "source": [
    "train, test = random_train_test_split(interactions_matrix, test_percentage=0.2, random_state=42)\n",
    "print(f\"Train interactions: {train.nnz} | Test interactions: {test.nnz}\")"
   ]
  },
  {
   "cell_type": "markdown",
   "id": "3d81d42b-9b69-4133-ad8d-e1c5e3fc14e5",
   "metadata": {
    "papermill": {
     "duration": 0.01683,
     "end_time": "2025-08-02T23:33:04.603389",
     "exception": false,
     "start_time": "2025-08-02T23:33:04.586559",
     "status": "completed"
    },
    "tags": []
   },
   "source": [
    "<h2>Hyperparameter Tuning with Optuna</h2>\n",
    "<p>We use Optuna to automatically and efficiently find the best hyperparameters for the LightFM model. Optuna intelligently explores the parameter space by learning from previous trials, allowing faster convergence to optimal values compared to manual or random searches. This results in improved model performance with fewer training iterations and less computational effort.</p>"
   ]
  },
  {
   "cell_type": "code",
   "execution_count": 18,
   "id": "c8478bc9-6876-4d55-80a6-6e7ced261335",
   "metadata": {
    "execution": {
     "iopub.execute_input": "2025-08-02T23:33:04.639142Z",
     "iopub.status.busy": "2025-08-02T23:33:04.638623Z",
     "iopub.status.idle": "2025-08-02T23:34:06.606346Z",
     "shell.execute_reply": "2025-08-02T23:34:06.605650Z"
    },
    "papermill": {
     "duration": 61.985858,
     "end_time": "2025-08-02T23:34:06.607351",
     "exception": false,
     "start_time": "2025-08-02T23:33:04.621493",
     "status": "completed"
    },
    "tags": []
   },
   "outputs": [
    {
     "name": "stderr",
     "output_type": "stream",
     "text": [
      "[I 2025-08-03 00:33:04,644] A new study created in memory with name: no-name-1d11023e-f3c3-4b27-81a5-c05c0c3d2cd5\n"
     ]
    },
    {
     "name": "stderr",
     "output_type": "stream",
     "text": [
      "[I 2025-08-03 00:33:07,872] Trial 0 finished with value: 0.020663267001509666 and parameters: {'no_components': 51, 'learning_rate': 0.013068244490952343, 'item_alpha': 4.478756716845099e-05, 'user_alpha': 7.330161056198002e-05}. Best is trial 0 with value: 0.020663267001509666.\n"
     ]
    },
    {
     "name": "stderr",
     "output_type": "stream",
     "text": [
      "[I 2025-08-03 00:33:09,917] Trial 1 finished with value: 0.010969388298690319 and parameters: {'no_components': 37, 'learning_rate': 0.06455722318236357, 'item_alpha': 0.003871717129238455, 'user_alpha': 0.0018238336628487747}. Best is trial 0 with value: 0.020663267001509666.\n"
     ]
    },
    {
     "name": "stderr",
     "output_type": "stream",
     "text": [
      "[I 2025-08-03 00:33:15,265] Trial 2 finished with value: 0.012755102477967739 and parameters: {'no_components': 96, 'learning_rate': 0.0024584992114866444, 'item_alpha': 0.005945053028040289, 'user_alpha': 1.2438244172121646e-05}. Best is trial 0 with value: 0.020663267001509666.\n"
     ]
    },
    {
     "name": "stderr",
     "output_type": "stream",
     "text": [
      "[I 2025-08-03 00:33:20,358] Trial 3 finished with value: 0.020663267001509666 and parameters: {'no_components': 87, 'learning_rate': 0.0011592240131256567, 'item_alpha': 1.0339247201458373e-06, 'user_alpha': 1.4208748246730877e-06}. Best is trial 0 with value: 0.020663267001509666.\n"
     ]
    },
    {
     "name": "stderr",
     "output_type": "stream",
     "text": [
      "[I 2025-08-03 00:33:26,172] Trial 4 finished with value: 0.012755102477967739 and parameters: {'no_components': 100, 'learning_rate': 0.0758787294697794, 'item_alpha': 0.0005843732323172404, 'user_alpha': 1.3436412246640897e-05}. Best is trial 0 with value: 0.020663267001509666.\n"
     ]
    },
    {
     "name": "stderr",
     "output_type": "stream",
     "text": [
      "[I 2025-08-03 00:33:32,050] Trial 5 finished with value: 0.022704079747200012 and parameters: {'no_components': 99, 'learning_rate': 0.003275210344237532, 'item_alpha': 3.8128016577558884e-05, 'user_alpha': 2.537900536100721e-05}. Best is trial 5 with value: 0.022704079747200012.\n"
     ]
    },
    {
     "name": "stderr",
     "output_type": "stream",
     "text": [
      "[I 2025-08-03 00:33:35,118] Trial 6 finished with value: 0.020663267001509666 and parameters: {'no_components': 46, 'learning_rate': 0.002360536732646033, 'item_alpha': 0.004853469034906674, 'user_alpha': 0.0003312033654805676}. Best is trial 5 with value: 0.022704079747200012.\n"
     ]
    },
    {
     "name": "stderr",
     "output_type": "stream",
     "text": [
      "[I 2025-08-03 00:33:40,328] Trial 7 finished with value: 0.022704079747200012 and parameters: {'no_components': 90, 'learning_rate': 0.0015838471532367711, 'item_alpha': 0.0065025028454485535, 'user_alpha': 2.4894266042517477e-06}. Best is trial 5 with value: 0.022704079747200012.\n"
     ]
    },
    {
     "name": "stderr",
     "output_type": "stream",
     "text": [
      "[I 2025-08-03 00:33:43,838] Trial 8 finished with value: 0.0262755136936903 and parameters: {'no_components': 53, 'learning_rate': 0.0014509604415121724, 'item_alpha': 0.007544911867132489, 'user_alpha': 0.0008184358498350768}. Best is trial 8 with value: 0.0262755136936903.\n"
     ]
    },
    {
     "name": "stderr",
     "output_type": "stream",
     "text": [
      "[I 2025-08-03 00:33:45,757] Trial 9 finished with value: 0.020663267001509666 and parameters: {'no_components': 25, 'learning_rate': 0.0032673341799714993, 'item_alpha': 0.0006109573395427306, 'user_alpha': 0.00028530821178500784}. Best is trial 8 with value: 0.0262755136936903.\n"
     ]
    },
    {
     "name": "stderr",
     "output_type": "stream",
     "text": [
      "[I 2025-08-03 00:33:50,242] Trial 10 finished with value: 0.02142857015132904 and parameters: {'no_components': 70, 'learning_rate': 0.0001394834597578953, 'item_alpha': 2.1806704852359373e-06, 'user_alpha': 0.007224776078738306}. Best is trial 8 with value: 0.0262755136936903.\n"
     ]
    },
    {
     "name": "stderr",
     "output_type": "stream",
     "text": [
      "[I 2025-08-03 00:33:53,342] Trial 11 finished with value: 0.025765307247638702 and parameters: {'no_components': 69, 'learning_rate': 0.00024412810101365635, 'item_alpha': 1.5289755446191912e-05, 'user_alpha': 6.897991582060293e-05}. Best is trial 8 with value: 0.0262755136936903.\n"
     ]
    },
    {
     "name": "stderr",
     "output_type": "stream",
     "text": [
      "[I 2025-08-03 00:33:55,491] Trial 12 finished with value: 0.02091836743056774 and parameters: {'no_components': 70, 'learning_rate': 0.00019580552277421594, 'item_alpha': 1.4656979741866707e-05, 'user_alpha': 0.0012614409232971368}. Best is trial 8 with value: 0.0262755136936903.\n"
     ]
    },
    {
     "name": "stderr",
     "output_type": "stream",
     "text": [
      "[I 2025-08-03 00:33:57,256] Trial 13 finished with value: 0.020663267001509666 and parameters: {'no_components': 63, 'learning_rate': 0.0004017576927079743, 'item_alpha': 8.413833091108638e-06, 'user_alpha': 0.0001329753012480755}. Best is trial 8 with value: 0.0262755136936903.\n"
     ]
    },
    {
     "name": "stderr",
     "output_type": "stream",
     "text": [
      "[I 2025-08-03 00:33:59,285] Trial 14 finished with value: 0.021683674305677414 and parameters: {'no_components': 79, 'learning_rate': 0.000435949847953696, 'item_alpha': 0.00038075295569173424, 'user_alpha': 0.0009248239375810656}. Best is trial 8 with value: 0.0262755136936903.\n"
     ]
    },
    {
     "name": "stderr",
     "output_type": "stream",
     "text": [
      "[I 2025-08-03 00:34:00,961] Trial 15 finished with value: 0.0262755136936903 and parameters: {'no_components': 58, 'learning_rate': 0.0006166459028751658, 'item_alpha': 0.00018942255214749417, 'user_alpha': 0.009585102491808937}. Best is trial 8 with value: 0.0262755136936903.\n"
     ]
    },
    {
     "name": "stderr",
     "output_type": "stream",
     "text": [
      "[I 2025-08-03 00:34:02,455] Trial 16 finished with value: 0.012755102477967739 and parameters: {'no_components': 52, 'learning_rate': 0.008906322559743683, 'item_alpha': 0.0012738132525181567, 'user_alpha': 0.0065674235051361675}. Best is trial 8 with value: 0.0262755136936903.\n"
     ]
    },
    {
     "name": "stderr",
     "output_type": "stream",
     "text": [
      "[I 2025-08-03 00:34:03,626] Trial 17 finished with value: 0.022193878889083862 and parameters: {'no_components': 33, 'learning_rate': 0.0007624362599186555, 'item_alpha': 0.00013187920574601772, 'user_alpha': 0.0031643947962801972}. Best is trial 8 with value: 0.0262755136936903.\n"
     ]
    },
    {
     "name": "stderr",
     "output_type": "stream",
     "text": [
      "[I 2025-08-03 00:34:05,307] Trial 18 finished with value: 0.0262755136936903 and parameters: {'no_components': 57, 'learning_rate': 0.0067133735237228055, 'item_alpha': 0.0001651045578864887, 'user_alpha': 0.0006949295071397691}. Best is trial 8 with value: 0.0262755136936903.\n"
     ]
    },
    {
     "name": "stderr",
     "output_type": "stream",
     "text": [
      "[I 2025-08-03 00:34:06,602] Trial 19 finished with value: 0.020663267001509666 and parameters: {'no_components': 42, 'learning_rate': 0.0006401360227035564, 'item_alpha': 0.0017033696655509754, 'user_alpha': 0.0038336363268045535}. Best is trial 8 with value: 0.0262755136936903.\n"
     ]
    },
    {
     "name": "stdout",
     "output_type": "stream",
     "text": [
      "Best parameters: {'no_components': 53, 'learning_rate': 0.0014509604415121724, 'item_alpha': 0.007544911867132489, 'user_alpha': 0.0008184358498350768}\n",
      "Best Precision@5: 0.0262755136936903\n"
     ]
    }
   ],
   "source": [
    "def objective(trial):\n",
    "\n",
    "    model = LightFM(\n",
    "        no_components=trial.suggest_int(\"no_components\", 20, 100),\n",
    "        learning_rate=trial.suggest_float(\"learning_rate\", 1e-4, 1e-1, log=True),\n",
    "        item_alpha=trial.suggest_float(\"item_alpha\", 1e-6, 1e-2, log=True),\n",
    "        user_alpha=trial.suggest_float(\"user_alpha\", 1e-6, 1e-2, log=True),\n",
    "        loss=\"logistic\",\n",
    "        random_state=42\n",
    "    )\n",
    "\n",
    " \n",
    "    model.fit(train,\n",
    "              user_features=user_features,\n",
    "              item_features=item_features,\n",
    "              epochs=20,\n",
    "              num_threads=4,\n",
    "              verbose=False)\n",
    "\n",
    "\n",
    "    precision = precision_at_k(model, test,\n",
    "                               user_features=user_features,\n",
    "                               item_features=item_features,\n",
    "                               k=5).mean()\n",
    "    return precision\n",
    "\n",
    "\n",
    "study = optuna.create_study(direction=\"maximize\")\n",
    "study.optimize(objective, n_trials=20)\n",
    "\n",
    "print(\"Best parameters:\", study.best_params)\n",
    "print(\"Best Precision@5:\", study.best_value)"
   ]
  },
  {
   "cell_type": "markdown",
   "id": "c8d5969f-8b74-4477-9aba-43f5d4ef8481",
   "metadata": {
    "papermill": {
     "duration": 0.010881,
     "end_time": "2025-08-02T23:34:06.628739",
     "exception": false,
     "start_time": "2025-08-02T23:34:06.617858",
     "status": "completed"
    },
    "tags": []
   },
   "source": [
    "<h2> Train Final Model with Best Parameters</h2>"
   ]
  },
  {
   "cell_type": "code",
   "execution_count": 19,
   "id": "fe715b8d-ce1b-44d0-ab11-6707f1100cb7",
   "metadata": {
    "execution": {
     "iopub.execute_input": "2025-08-02T23:34:06.647113Z",
     "iopub.status.busy": "2025-08-02T23:34:06.647113Z",
     "iopub.status.idle": "2025-08-02T23:34:08.043383Z",
     "shell.execute_reply": "2025-08-02T23:34:08.043383Z"
    },
    "papermill": {
     "duration": 1.408366,
     "end_time": "2025-08-02T23:34:08.044716",
     "exception": false,
     "start_time": "2025-08-02T23:34:06.636350",
     "status": "completed"
    },
    "tags": []
   },
   "outputs": [
    {
     "data": {
      "text/plain": [
       "<lightfm.lightfm.LightFM at 0x1629c4dac00>"
      ]
     },
     "execution_count": 19,
     "metadata": {},
     "output_type": "execute_result"
    }
   ],
   "source": [
    "best_params = study.best_params\n",
    "model = LightFM(**best_params, random_state=42)\n",
    "\n",
    "model.fit(train,\n",
    "          user_features=user_features,\n",
    "          item_features=item_features,\n",
    "          epochs=20,\n",
    "          num_threads=4)"
   ]
  },
  {
   "cell_type": "markdown",
   "id": "473dda97-072a-4ddf-8419-c77032bf3f43",
   "metadata": {
    "papermill": {
     "duration": 0.008,
     "end_time": "2025-08-02T23:34:08.060717",
     "exception": false,
     "start_time": "2025-08-02T23:34:08.052717",
     "status": "completed"
    },
    "tags": []
   },
   "source": [
    "<h1 style=\"color:red;\">Evaluation</h1>\n",
    "<ol>\n",
    "    <li> <b>Precision@5: 0.0541</b>\n",
    "This means that, on average, about 5.4% of the top 5 recommendations for a user are relevant or actually interacted with by the user. It reflects the accuracy of the top recommendations.</li>\n",
    "    <li> <b>Recall@5: 0.1214</b>\n",
    "This indicates that the system is able to retrieve around 12.1% of all relevant items (items the user interacted with) within the top 5 recommendations. It shows how well the system covers the user’s interests.</li>\n",
    "    <li><b> AUC Score: 0.7430</b>\n",
    "       \n",
    "The Area Under the Curve (AUC) score of 0.743 means the model has a good overall ability to distinguish between items a user will interact with and those they will not. A score closer to 1 is better, so 0.743 shows solid predictive performance.\n",
    "\n",
    "</li>\n",
    "</ol>"
   ]
  },
  {
   "cell_type": "code",
   "execution_count": 20,
   "id": "cdf3bb08-b714-45ef-823c-9110a68ae32e",
   "metadata": {
    "execution": {
     "iopub.execute_input": "2025-08-02T23:34:08.076717Z",
     "iopub.status.busy": "2025-08-02T23:34:08.076717Z",
     "iopub.status.idle": "2025-08-02T23:34:08.666978Z",
     "shell.execute_reply": "2025-08-02T23:34:08.666978Z"
    },
    "papermill": {
     "duration": 0.600267,
     "end_time": "2025-08-02T23:34:08.667983",
     "exception": false,
     "start_time": "2025-08-02T23:34:08.067716",
     "status": "completed"
    },
    "tags": []
   },
   "outputs": [
    {
     "name": "stdout",
     "output_type": "stream",
     "text": [
      "Precision@5: 0.0263\n",
      "Recall@5: 0.0534\n",
      "AUC Score: 0.6234\n"
     ]
    }
   ],
   "source": [
    "precision = precision_at_k(model, test,\n",
    "                           user_features=user_features,\n",
    "                           item_features=item_features,\n",
    "                           k=5).mean()\n",
    "recall = recall_at_k(model, test,\n",
    "                     user_features=user_features,\n",
    "                     item_features=item_features,\n",
    "                     k=5).mean()\n",
    "auc = auc_score(model, test,\n",
    "                user_features=user_features,\n",
    "                item_features=item_features).mean()\n",
    "\n",
    "print(f\"Precision@5: {precision:.4f}\")\n",
    "print(f\"Recall@5: {recall:.4f}\")\n",
    "print(f\"AUC Score: {auc:.4f}\")\n"
   ]
  },
  {
   "cell_type": "markdown",
   "id": "24be664c-6852-45fa-8e44-5ee6e6ae4883",
   "metadata": {
    "papermill": {
     "duration": 0.008008,
     "end_time": "2025-08-02T23:34:08.685399",
     "exception": false,
     "start_time": "2025-08-02T23:34:08.677391",
     "status": "completed"
    },
    "tags": []
   },
   "source": [
    "<h2>Generate Top-N Recommendations</h2>"
   ]
  },
  {
   "cell_type": "code",
   "execution_count": 21,
   "id": "31c00220-ad4c-436c-9354-9c2d16d63e0d",
   "metadata": {
    "execution": {
     "iopub.execute_input": "2025-08-02T23:34:08.709882Z",
     "iopub.status.busy": "2025-08-02T23:34:08.708886Z",
     "iopub.status.idle": "2025-08-02T23:34:08.713990Z",
     "shell.execute_reply": "2025-08-02T23:34:08.713990Z"
    },
    "papermill": {
     "duration": 0.02209,
     "end_time": "2025-08-02T23:34:08.716005",
     "exception": false,
     "start_time": "2025-08-02T23:34:08.693915",
     "status": "completed"
    },
    "tags": []
   },
   "outputs": [],
   "source": [
    "def generate_recommendations(model, user_ids, interactions_matrix, user_features, item_features, n=5):\n",
    "    n_users, n_items = interactions_matrix.shape\n",
    "    recommendations = {}\n",
    "\n",
    "    for user_idx in range(n_users):\n",
    "        scores = model.predict(user_ids=user_idx,\n",
    "                               item_ids=np.arange(n_items),\n",
    "                               user_features=user_features,\n",
    "                               item_features=item_features)\n",
    "\n",
    "        known_items = interactions_matrix.tocsr()[user_idx].indices\n",
    "        scores[known_items] = -np.inf \n",
    "\n",
    "        top_items = np.argsort(-scores)[:n]\n",
    "        recommendations[user_ids[user_idx]] = top_items\n",
    "\n",
    "    return recommendations"
   ]
  },
  {
   "cell_type": "markdown",
   "id": "8345703d-659d-4efd-aac5-67892467de89",
   "metadata": {
    "papermill": {
     "duration": 0.012254,
     "end_time": "2025-08-02T23:34:08.735844",
     "exception": false,
     "start_time": "2025-08-02T23:34:08.723590",
     "status": "completed"
    },
    "tags": []
   },
   "source": [
    "<h2>Mapping & Displaying Recommendations (for user with id 0 )</h2> <p>this is used to have a better insight about the recommendation performance and the pattern followed</p>"
   ]
  },
  {
   "cell_type": "code",
   "execution_count": 22,
   "id": "0745943d-4a14-48a7-b382-9907488b9fb1",
   "metadata": {
    "execution": {
     "iopub.execute_input": "2025-08-02T23:34:08.751486Z",
     "iopub.status.busy": "2025-08-02T23:34:08.751486Z",
     "iopub.status.idle": "2025-08-02T23:34:08.766925Z",
     "shell.execute_reply": "2025-08-02T23:34:08.766925Z"
    },
    "papermill": {
     "duration": 0.025086,
     "end_time": "2025-08-02T23:34:08.767929",
     "exception": false,
     "start_time": "2025-08-02T23:34:08.742843",
     "status": "completed"
    },
    "tags": []
   },
   "outputs": [
    {
     "name": "stdout",
     "output_type": "stream",
     "text": [
      "Internal user ID 0 corresponds to user_id: user_0\n",
      "Events user interacted with:\n",
      "     user_id   event_id\n",
      "61    user_0   event_99\n",
      "1310  user_0  event_310\n",
      "2927  user_0  event_405\n",
      "3228  user_0  event_199\n",
      "3373  user_0  event_355\n",
      "5340  user_0  event_127\n",
      "7251  user_0   event_19\n",
      "7598  user_0  event_269\n",
      "9849  user_0  event_269\n",
      "  user_id   event_id  category  popularity_score  event_date  is_weekend\n",
      "0  user_0   event_99      Tech              0.94  2025-08-10        True\n",
      "1  user_0  event_310      Tech              0.98  2025-08-01       False\n",
      "2  user_0  event_405      Tech              0.91  2025-08-26       False\n",
      "3  user_0  event_199    Sports              0.97  2025-09-14        True\n",
      "4  user_0  event_355      Tech              0.92  2025-09-17       False\n",
      "5  user_0  event_127  Workshop              0.97  2025-07-31       False\n",
      "6  user_0   event_19    Sports              0.98  2025-08-02        True\n",
      "7  user_0  event_269  Workshop              0.97  2025-09-01       False\n",
      "8  user_0  event_269  Workshop              0.97  2025-09-01       False\n"
     ]
    }
   ],
   "source": [
    "user_id_map, user_feature_map, item_id_map, item_feature_map = dataset.mapping()\n",
    "inv_user_id_map = {v: k for k, v in user_id_map.items()}\n",
    "real_user_id = inv_user_id_map[0]\n",
    "print(f\"Internal user ID 0 corresponds to user_id: {real_user_id}\")\n",
    "user_interactions = interactions[interactions['user_id'] == real_user_id]\n",
    "print(\"Events user interacted with:\")\n",
    "print(user_interactions)\n",
    "interacted_event_info = user_interactions.merge(events, on='event_id', how='left')\n",
    "print(interacted_event_info)"
   ]
  },
  {
   "cell_type": "markdown",
   "id": "6116b03a-616e-4753-8872-4ea249d63843",
   "metadata": {
    "papermill": {
     "duration": 0.010607,
     "end_time": "2025-08-02T23:34:08.785539",
     "exception": false,
     "start_time": "2025-08-02T23:34:08.774932",
     "status": "completed"
    },
    "tags": []
   },
   "source": [
    "<h2>Exploring Recommendation Diversity and Novelty</h2> <p>To evaluate the quality of our recommendation system beyond accuracy, we analyze how diverse (varied) and serendipitous (unexpected but relevant) the suggested items are. This helps ensure users receive a mix of familiar and novel content that keeps the experience engaging and personalized.</p>\n",
    "<ol>\n",
    "    <li>A lower value of Diversity means less variation in content types.\n",
    "</li>\n",
    "<li>A high Serendipity score means that many of the recommended items are new to the user and highly popular, indicating that the system is effectively introducing appealing and unexpected content.</li>\n",
    "</ol>"
   ]
  },
  {
   "cell_type": "code",
   "execution_count": 23,
   "id": "88dd5311-0a7c-443d-986c-2874e714bdfd",
   "metadata": {
    "execution": {
     "iopub.execute_input": "2025-08-02T23:34:08.804441Z",
     "iopub.status.busy": "2025-08-02T23:34:08.804441Z",
     "iopub.status.idle": "2025-08-02T23:34:08.809371Z",
     "shell.execute_reply": "2025-08-02T23:34:08.808759Z"
    },
    "papermill": {
     "duration": 0.015945,
     "end_time": "2025-08-02T23:34:08.810377",
     "exception": false,
     "start_time": "2025-08-02T23:34:08.794432",
     "status": "completed"
    },
    "tags": []
   },
   "outputs": [],
   "source": [
    "def get_recommendations_for_user(user_id, model, dataset, user_features, item_features, events_df, top_n=10):\n",
    "    user_mapping = dataset.mapping()[0]\n",
    "    event_mapping = dataset.mapping()[2] \n",
    "    inv_event_mapping = {v: k for k, v in event_mapping.items()}\n",
    "\n",
    "    if user_id not in user_mapping:\n",
    "        raise ValueError(f\"User {user_id} not in dataset.\")\n",
    "\n",
    "    user_internal_id = user_mapping[user_id]\n",
    "\n",
    "    scores = model.predict(user_internal_id, np.arange(len(event_mapping)), user_features=user_features, item_features=item_features)\n",
    "\n",
    "    top_items_idx = np.argsort(-scores)[:top_n]\n",
    "    \n",
    "    recommended_event_ids = [inv_event_mapping[i] for i in top_items_idx]\n",
    "\n",
    "    return recommended_event_ids, scores[top_items_idx]"
   ]
  },
  {
   "cell_type": "code",
   "execution_count": 24,
   "id": "db11b851-b0bf-49af-80fc-433421827c17",
   "metadata": {
    "execution": {
     "iopub.execute_input": "2025-08-02T23:34:08.830378Z",
     "iopub.status.busy": "2025-08-02T23:34:08.830378Z",
     "iopub.status.idle": "2025-08-02T23:34:08.837327Z",
     "shell.execute_reply": "2025-08-02T23:34:08.837327Z"
    },
    "papermill": {
     "duration": 0.016953,
     "end_time": "2025-08-02T23:34:08.838331",
     "exception": false,
     "start_time": "2025-08-02T23:34:08.821378",
     "status": "completed"
    },
    "tags": []
   },
   "outputs": [
    {
     "name": "stdout",
     "output_type": "stream",
     "text": [
      "Recommended Event IDs: ['cmdryoz04000bgb6s6v26zjyr', 'cmdryq75c000ggb6sybjh54ik', 'cmdrymxwv0001gb6sesbr516b', 'event_5', 'event_177']\n",
      "Scores: [1.4729378 1.3307482 1.2860659 1.1741847 1.1721785]\n"
     ]
    }
   ],
   "source": [
    "# Set the user ID to test\n",
    "test_user_id = \"cmdj139f30005gbika35k4jov\"\n",
    "\n",
    "# Call the function\n",
    "try:\n",
    "    recommended_ids, scores = get_recommendations_for_user(\n",
    "        user_id=test_user_id,\n",
    "        model=model,\n",
    "        dataset=dataset,\n",
    "        user_features=user_features,\n",
    "        item_features=item_features,\n",
    "        events_df=events_encoded,  \n",
    "        top_n=5\n",
    "    )\n",
    "\n",
    "    print(\"Recommended Event IDs:\", recommended_ids)\n",
    "    print(\"Scores:\", scores)\n",
    "\n",
    "except ValueError as e:\n",
    "    print(\"Error:\", e)\n"
   ]
  },
  {
   "cell_type": "code",
   "execution_count": 25,
   "id": "6b4fe7b4-0a2c-48c4-a284-03f1d8d05f0e",
   "metadata": {
    "execution": {
     "iopub.execute_input": "2025-08-02T23:34:08.863479Z",
     "iopub.status.busy": "2025-08-02T23:34:08.863479Z",
     "iopub.status.idle": "2025-08-02T23:34:08.866996Z",
     "shell.execute_reply": "2025-08-02T23:34:08.866489Z"
    },
    "papermill": {
     "duration": 0.022017,
     "end_time": "2025-08-02T23:34:08.868002",
     "exception": false,
     "start_time": "2025-08-02T23:34:08.845985",
     "status": "completed"
    },
    "tags": []
   },
   "outputs": [],
   "source": [
    "\n",
    "def diversity(recommendations, events_df):\n",
    "    categories = events_df[events_df['event_id'].isin(recommendations)]['category']\n",
    "    if len(categories) == 0:\n",
    "        return 0\n",
    "    return categories.nunique() / len(categories)"
   ]
  },
  {
   "cell_type": "code",
   "execution_count": 26,
   "id": "11f3a41c-4c21-4e3a-879b-cc6eea7250cb",
   "metadata": {
    "execution": {
     "iopub.execute_input": "2025-08-02T23:34:08.884607Z",
     "iopub.status.busy": "2025-08-02T23:34:08.883607Z",
     "iopub.status.idle": "2025-08-02T23:34:08.888112Z",
     "shell.execute_reply": "2025-08-02T23:34:08.887607Z"
    },
    "papermill": {
     "duration": 0.01351,
     "end_time": "2025-08-02T23:34:08.889118",
     "exception": false,
     "start_time": "2025-08-02T23:34:08.875608",
     "status": "completed"
    },
    "tags": []
   },
   "outputs": [],
   "source": [
    "def serendipity(recommendations, user_history, events_df):\n",
    "    novel_items = set(recommendations) - set(user_history)\n",
    "    if len(recommendations) == 0:\n",
    "        return 0\n",
    "    top_serendipitous = events_df[\n",
    "        (events_df['event_id'].isin(novel_items)) & \n",
    "        (events_df['popularity_score'] > 0.9)\n",
    "    ]\n",
    "    return len(top_serendipitous) / len(recommendations)"
   ]
  },
  {
   "cell_type": "code",
   "execution_count": 27,
   "id": "026fd917-1623-4080-9b9a-ea98705424f2",
   "metadata": {
    "execution": {
     "iopub.execute_input": "2025-08-02T23:34:08.909713Z",
     "iopub.status.busy": "2025-08-02T23:34:08.909713Z",
     "iopub.status.idle": "2025-08-02T23:34:08.920214Z",
     "shell.execute_reply": "2025-08-02T23:34:08.919711Z"
    },
    "papermill": {
     "duration": 0.021103,
     "end_time": "2025-08-02T23:34:08.921220",
     "exception": false,
     "start_time": "2025-08-02T23:34:08.900117",
     "status": "completed"
    },
    "tags": []
   },
   "outputs": [
    {
     "name": "stdout",
     "output_type": "stream",
     "text": [
      "Recommendations for cmdj139f30005gbika35k4jov: ['cmdryoz04000bgb6s6v26zjyr', 'cmdryq75c000ggb6sybjh54ik', 'cmdrymxwv0001gb6sesbr516b', 'event_5', 'event_177', 'event_120', 'event_17', 'event_2', 'event_139', 'event_329']\n",
      "Diversity: 0.143\n",
      "Serendipity: 0.500\n"
     ]
    }
   ],
   "source": [
    "user_to_test = 'cmdj139f30005gbika35k4jov'\n",
    "\n",
    "user_history = interactions[interactions['user_id'] == user_to_test]['event_id'].tolist()\n",
    "\n",
    "recommended_events, rec_scores = get_recommendations_for_user(\n",
    "    user_id=user_to_test,\n",
    "    model=model,\n",
    "    dataset=dataset,\n",
    "    user_features=user_features,\n",
    "    item_features=item_features,\n",
    "    events_df=events_encoded,\n",
    "    top_n=10\n",
    ")\n",
    "\n",
    "div_score = diversity(recommended_events, events_encoded)\n",
    "ser_score = serendipity(recommended_events, user_history, events_encoded)\n",
    "\n",
    "print(f\"Recommendations for {user_to_test}: {recommended_events}\")\n",
    "print(f\"Diversity: {div_score:.3f}\")\n",
    "print(f\"Serendipity: {ser_score:.3f}\")\n"
   ]
  },
  {
   "cell_type": "markdown",
   "id": "b7e0393a-941c-4db0-8bf5-c063a0804c28",
   "metadata": {
    "papermill": {
     "duration": 0.014001,
     "end_time": "2025-08-02T23:34:08.943221",
     "exception": false,
     "start_time": "2025-08-02T23:34:08.929220",
     "status": "completed"
    },
    "tags": []
   },
   "source": [
    "<h2>Import the model</h2>"
   ]
  },
  {
   "cell_type": "code",
   "execution_count": 28,
   "id": "46e6caf6-7467-4fb5-a883-d22213e1ab6c",
   "metadata": {
    "execution": {
     "iopub.execute_input": "2025-08-02T23:34:09.005224Z",
     "iopub.status.busy": "2025-08-02T23:34:09.004221Z",
     "iopub.status.idle": "2025-08-02T23:34:09.044555Z",
     "shell.execute_reply": "2025-08-02T23:34:09.043541Z"
    },
    "papermill": {
     "duration": 0.063327,
     "end_time": "2025-08-02T23:34:09.046553",
     "exception": false,
     "start_time": "2025-08-02T23:34:08.983226",
     "status": "completed"
    },
    "tags": []
   },
   "outputs": [
    {
     "data": {
      "text/plain": [
       "['recommendation_dataset.pkl']"
      ]
     },
     "execution_count": 28,
     "metadata": {},
     "output_type": "execute_result"
    }
   ],
   "source": [
    "joblib.dump(model, 'recommendation_model.pkl')\n",
    "joblib.dump(scaler, 'recommendation_scaler.pkl')\n",
    "joblib.dump(user_features, 'recommendation_user_features.pkl')\n",
    "joblib.dump(item_features, 'recommendation_item_features.pkl')\n",
    "joblib.dump(dataset, 'recommendation_dataset.pkl')\n"
   ]
  },
  {
   "cell_type": "code",
   "execution_count": null,
   "id": "176a4c01-ef7a-47dd-a0d1-807a11a058b4",
   "metadata": {
    "papermill": {
     "duration": 0.016001,
     "end_time": "2025-08-02T23:34:09.079554",
     "exception": false,
     "start_time": "2025-08-02T23:34:09.063553",
     "status": "completed"
    },
    "tags": []
   },
   "outputs": [],
   "source": []
  }
 ],
 "metadata": {
  "kernelspec": {
   "display_name": "Python [conda env:base] *",
   "language": "python",
   "name": "conda-base-py"
  },
  "language_info": {
   "codemirror_mode": {
    "name": "ipython",
    "version": 3
   },
   "file_extension": ".py",
   "mimetype": "text/x-python",
   "name": "python",
   "nbconvert_exporter": "python",
   "pygments_lexer": "ipython3",
   "version": "3.12.7"
  },
  "papermill": {
   "default_parameters": {},
   "duration": 71.995924,
   "end_time": "2025-08-02T23:34:09.668809",
   "environment_variables": {},
   "exception": null,
   "input_path": "lightFM_hybrid_recommendation_system.ipynb",
   "output_path": "train_model_out.ipynb",
   "parameters": {},
   "start_time": "2025-08-02T23:32:57.672885",
   "version": "2.6.0"
  }
 },
 "nbformat": 4,
 "nbformat_minor": 5
}