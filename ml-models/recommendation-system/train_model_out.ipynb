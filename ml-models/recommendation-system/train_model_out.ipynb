{
 "cells": [
  {
   "cell_type": "markdown",
   "id": "c75fc8b9-13f4-4c7d-b616-ff375a134672",
   "metadata": {
    "papermill": {
     "duration": 0.004696,
     "end_time": "2025-08-13T22:45:12.094407",
     "exception": false,
     "start_time": "2025-08-13T22:45:12.089711",
     "status": "completed"
    },
    "tags": []
   },
   "source": [
    "<h1 style=\"color:red;\">Data Loading, Exploration and Preprocessing</h1>"
   ]
  },
  {
   "cell_type": "code",
   "execution_count": 1,
   "id": "ceb7f003-ee26-480d-b0bd-c500ebf6df4f",
   "metadata": {
    "execution": {
     "iopub.execute_input": "2025-08-13T22:45:12.108155Z",
     "iopub.status.busy": "2025-08-13T22:45:12.108155Z",
     "iopub.status.idle": "2025-08-13T22:45:15.700385Z",
     "shell.execute_reply": "2025-08-13T22:45:15.699376Z"
    },
    "papermill": {
     "duration": 3.601901,
     "end_time": "2025-08-13T22:45:15.702387",
     "exception": false,
     "start_time": "2025-08-13T22:45:12.100486",
     "status": "completed"
    },
    "tags": []
   },
   "outputs": [
    {
     "name": "stderr",
     "output_type": "stream",
     "text": [
      "C:\\Users\\wiemb\\SnapReserve\\SnapReserve-Backend\\venv\\Lib\\site-packages\\lightfm\\_lightfm_fast.py:9: UserWarning: LightFM was compiled without OpenMP support. Only a single thread will be used.\n",
      "  warnings.warn(\n"
     ]
    }
   ],
   "source": [
    "import pandas as pd\n",
    "import numpy as np\n",
    "import matplotlib.pyplot as plt\n",
    "import seaborn as sns\n",
    "from sklearn.preprocessing import MinMaxScaler\n",
    "from lightfm.data import Dataset\n",
    "from lightfm.cross_validation import random_train_test_split\n",
    "import optuna\n",
    "from lightfm import LightFM\n",
    "from lightfm.evaluation import precision_at_k, recall_at_k, auc_score\n",
    "import joblib"
   ]
  },
  {
   "cell_type": "code",
   "execution_count": 2,
   "id": "d247e325-37be-4a77-a400-1417841836f0",
   "metadata": {
    "execution": {
     "iopub.execute_input": "2025-08-13T22:45:15.721388Z",
     "iopub.status.busy": "2025-08-13T22:45:15.721388Z",
     "iopub.status.idle": "2025-08-13T22:45:15.726218Z",
     "shell.execute_reply": "2025-08-13T22:45:15.726218Z"
    },
    "papermill": {
     "duration": 0.016853,
     "end_time": "2025-08-13T22:45:15.728239",
     "exception": false,
     "start_time": "2025-08-13T22:45:15.711386",
     "status": "completed"
    },
    "tags": []
   },
   "outputs": [
    {
     "name": "stdout",
     "output_type": "stream",
     "text": [
      "Numpy: 2.3.2\n",
      "scikit-learn: 1.5.1\n",
      "joblib: 1.5.1\n"
     ]
    }
   ],
   "source": [
    "import numpy\n",
    "import sklearn\n",
    "import joblib\n",
    "\n",
    "print(\"Numpy:\", numpy.__version__)\n",
    "print(\"scikit-learn:\", sklearn.__version__)\n",
    "print(\"joblib:\", joblib.__version__)\n"
   ]
  },
  {
   "cell_type": "code",
   "execution_count": 3,
   "id": "1fdf0624-dd39-4c49-8d68-30de633b713f",
   "metadata": {
    "execution": {
     "iopub.execute_input": "2025-08-13T22:45:15.744237Z",
     "iopub.status.busy": "2025-08-13T22:45:15.743237Z",
     "iopub.status.idle": "2025-08-13T22:45:15.805166Z",
     "shell.execute_reply": "2025-08-13T22:45:15.805166Z"
    },
    "papermill": {
     "duration": 0.071942,
     "end_time": "2025-08-13T22:45:15.807177",
     "exception": false,
     "start_time": "2025-08-13T22:45:15.735235",
     "status": "completed"
    },
    "tags": []
   },
   "outputs": [
    {
     "name": "stdout",
     "output_type": "stream",
     "text": [
      "Users:\n",
      "  user_id  gender age_group      role\n",
      "0  user_0    male     26-35  attendee\n",
      "1  user_1  female     26-35  attendee\n",
      "2  user_2    male     26-35  attendee\n",
      "3  user_3    male     36-50  attendee\n",
      "4  user_4    male     26-35  attendee\n",
      "\n",
      "Events:\n",
      "  event_id category  popularity_score  event_date  is_weekend\n",
      "0  event_0   Sports              0.96  2025-09-06        True\n",
      "1  event_1    Movie              0.20  2025-08-04       False\n",
      "2  event_2    Movie              0.95  2025-07-29       False\n",
      "3  event_3    Movie              0.99  2025-09-13        True\n",
      "4  event_4  Theater              0.71  2025-08-14       False\n",
      "\n",
      "Interactions:\n",
      "    user_id   event_id\n",
      "0  user_870  event_209\n",
      "1  user_101  event_120\n",
      "2  user_628   event_19\n",
      "3  user_134  event_127\n",
      "4   user_57  event_190\n"
     ]
    }
   ],
   "source": [
    "users = pd.read_csv('synthetic_users.csv') \n",
    "events = pd.read_csv('synthetic_events.csv') \n",
    "interactions = pd.read_csv('synthetic_interactions.csv')  \n",
    "\n",
    "print(\"Users:\")\n",
    "print(users.head())\n",
    "print(\"\\nEvents:\")\n",
    "print(events.head())\n",
    "print(\"\\nInteractions:\")\n",
    "print(interactions.head())"
   ]
  },
  {
   "cell_type": "code",
   "execution_count": 4,
   "id": "f174dde1-c868-44e5-aba8-78431d4d3ca7",
   "metadata": {
    "execution": {
     "iopub.execute_input": "2025-08-13T22:45:15.826178Z",
     "iopub.status.busy": "2025-08-13T22:45:15.826178Z",
     "iopub.status.idle": "2025-08-13T22:45:15.834213Z",
     "shell.execute_reply": "2025-08-13T22:45:15.834213Z"
    },
    "papermill": {
     "duration": 0.020552,
     "end_time": "2025-08-13T22:45:15.835725",
     "exception": false,
     "start_time": "2025-08-13T22:45:15.815173",
     "status": "completed"
    },
    "tags": []
   },
   "outputs": [
    {
     "name": "stdout",
     "output_type": "stream",
     "text": [
      "<class 'pandas.core.frame.DataFrame'>\n",
      "RangeIndex: 1003 entries, 0 to 1002\n",
      "Data columns (total 4 columns):\n",
      " #   Column     Non-Null Count  Dtype \n",
      "---  ------     --------------  ----- \n",
      " 0   user_id    1003 non-null   object\n",
      " 1   gender     1003 non-null   object\n",
      " 2   age_group  1003 non-null   object\n",
      " 3   role       1003 non-null   object\n",
      "dtypes: object(4)\n",
      "memory usage: 31.5+ KB\n"
     ]
    }
   ],
   "source": [
    "users.info()"
   ]
  },
  {
   "cell_type": "code",
   "execution_count": 5,
   "id": "e5ac4894-dea5-4b90-8dbf-5afc7aa1010f",
   "metadata": {
    "execution": {
     "iopub.execute_input": "2025-08-13T22:45:15.852723Z",
     "iopub.status.busy": "2025-08-13T22:45:15.851721Z",
     "iopub.status.idle": "2025-08-13T22:45:15.860283Z",
     "shell.execute_reply": "2025-08-13T22:45:15.860283Z"
    },
    "papermill": {
     "duration": 0.018615,
     "end_time": "2025-08-13T22:45:15.861356",
     "exception": false,
     "start_time": "2025-08-13T22:45:15.842741",
     "status": "completed"
    },
    "tags": []
   },
   "outputs": [
    {
     "name": "stdout",
     "output_type": "stream",
     "text": [
      "<class 'pandas.core.frame.DataFrame'>\n",
      "RangeIndex: 517 entries, 0 to 516\n",
      "Data columns (total 5 columns):\n",
      " #   Column            Non-Null Count  Dtype  \n",
      "---  ------            --------------  -----  \n",
      " 0   event_id          517 non-null    object \n",
      " 1   category          517 non-null    object \n",
      " 2   popularity_score  517 non-null    float64\n",
      " 3   event_date        517 non-null    object \n",
      " 4   is_weekend        517 non-null    bool   \n",
      "dtypes: bool(1), float64(1), object(3)\n",
      "memory usage: 16.8+ KB\n"
     ]
    }
   ],
   "source": [
    "events.info()"
   ]
  },
  {
   "cell_type": "code",
   "execution_count": 6,
   "id": "921dc186-c9ad-4c1a-934c-21ae38105440",
   "metadata": {
    "execution": {
     "iopub.execute_input": "2025-08-13T22:45:15.878298Z",
     "iopub.status.busy": "2025-08-13T22:45:15.877299Z",
     "iopub.status.idle": "2025-08-13T22:45:15.885711Z",
     "shell.execute_reply": "2025-08-13T22:45:15.884702Z"
    },
    "papermill": {
     "duration": 0.01949,
     "end_time": "2025-08-13T22:45:15.887811",
     "exception": false,
     "start_time": "2025-08-13T22:45:15.868321",
     "status": "completed"
    },
    "tags": []
   },
   "outputs": [
    {
     "name": "stdout",
     "output_type": "stream",
     "text": [
      "<class 'pandas.core.frame.DataFrame'>\n",
      "RangeIndex: 10087 entries, 0 to 10086\n",
      "Data columns (total 2 columns):\n",
      " #   Column    Non-Null Count  Dtype \n",
      "---  ------    --------------  ----- \n",
      " 0   user_id   10087 non-null  object\n",
      " 1   event_id  10087 non-null  object\n",
      "dtypes: object(2)\n",
      "memory usage: 157.7+ KB\n"
     ]
    }
   ],
   "source": [
    "interactions.info()"
   ]
  },
  {
   "cell_type": "markdown",
   "id": "fe0aca21-b908-4178-a921-44cdde9122de",
   "metadata": {
    "papermill": {
     "duration": 0.006991,
     "end_time": "2025-08-13T22:45:15.901710",
     "exception": false,
     "start_time": "2025-08-13T22:45:15.894719",
     "status": "completed"
    },
    "tags": []
   },
   "source": [
    "<h2>Exploratory Data Analysis (EDA) - Users</h2>"
   ]
  },
  {
   "cell_type": "code",
   "execution_count": 7,
   "id": "c684c8b8-90b8-431d-821c-784774b30c78",
   "metadata": {
    "execution": {
     "iopub.execute_input": "2025-08-13T22:45:15.920707Z",
     "iopub.status.busy": "2025-08-13T22:45:15.919699Z",
     "iopub.status.idle": "2025-08-13T22:45:16.438986Z",
     "shell.execute_reply": "2025-08-13T22:45:16.437971Z"
    },
    "papermill": {
     "duration": 0.529267,
     "end_time": "2025-08-13T22:45:16.439977",
     "exception": false,
     "start_time": "2025-08-13T22:45:15.910710",
     "status": "completed"
    },
    "tags": []
   },
   "outputs": [
    {
     "data": {
      "image/png": "[encoded data removed]",
      "text/plain": [
       "<Figure size 1400x400 with 2 Axes>"
      ]
     },
     "metadata": {},
     "output_type": "display_data"
    }
   ],
   "source": [
    "plt.figure(figsize=(14, 4))\n",
    "\n",
    "plot_idx = 1\n",
    "\n",
    "if 'gender' in users.columns:\n",
    "    plt.subplot(1, 3, plot_idx)\n",
    "    sns.countplot(data=users, x='gender')\n",
    "    plt.title('Gender Distribution')\n",
    "    plot_idx += 1\n",
    "\n",
    "if 'age_group' in users.columns:\n",
    "    plt.subplot(1, 3, plot_idx)\n",
    "    sns.countplot(data=users, x='age_group')\n",
    "    plt.title('Age Group Distribution')\n",
    "    plot_idx += 1\n",
    "\n",
    "# if 'role' in users.columns:\n",
    "#     plt.subplot(1, 3, plot_idx)\n",
    "#     sns.countplot(data=users, x='role')\n",
    "#     plt.title('Role Distribution')\n",
    "    plot_idx += 1\n",
    "\n",
    "plt.tight_layout()\n",
    "plt.show()\n"
   ]
  },
  {
   "cell_type": "markdown",
   "id": "d7e30195-9cf2-43bd-beca-3c8b936d787b",
   "metadata": {
    "papermill": {
     "duration": 0.010003,
     "end_time": "2025-08-13T22:45:16.457981",
     "exception": false,
     "start_time": "2025-08-13T22:45:16.447978",
     "status": "completed"
    },
    "tags": []
   },
   "source": [
    "<h2>Exploratory Data Analysis (EDA) - Events</h2>"
   ]
  },
  {
   "cell_type": "code",
   "execution_count": 8,
   "id": "e35ebb92-58f6-450e-af54-4d4cc0300c88",
   "metadata": {
    "execution": {
     "iopub.execute_input": "2025-08-13T22:45:16.475977Z",
     "iopub.status.busy": "2025-08-13T22:45:16.475977Z",
     "iopub.status.idle": "2025-08-13T22:45:16.813880Z",
     "shell.execute_reply": "2025-08-13T22:45:16.812860Z"
    },
    "papermill": {
     "duration": 0.350986,
     "end_time": "2025-08-13T22:45:16.815964",
     "exception": false,
     "start_time": "2025-08-13T22:45:16.464978",
     "status": "completed"
    },
    "tags": []
   },
   "outputs": [
    {
     "name": "stdout",
     "output_type": "stream",
     "text": [
      "Columns in events: Index(['event_id', 'category', 'popularity_score', 'event_date', 'is_weekend'], dtype='object')\n",
      "Is 'category' column present? True\n",
      "Events DataFrame empty? False\n"
     ]
    },
    {
     "data": {
      "image/png": "[encoded data removed]",
      "text/plain": [
       "<Figure size 1000x400 with 2 Axes>"
      ]
     },
     "metadata": {},
     "output_type": "display_data"
    }
   ],
   "source": [
    "print(\"Columns in events:\", events.columns)\n",
    "print(\"Is 'category' column present?\", 'category' in events.columns)\n",
    "print(\"Events DataFrame empty?\", events.empty)\n",
    "\n",
    "plt.figure(figsize=(10,4))\n",
    "\n",
    "plt.subplot(1,2,1)\n",
    "if 'category' in events.columns and not events.empty:\n",
    "    sns.countplot(data=events, x='category')\n",
    "    plt.title('Event Category Distribution')\n",
    "    plt.xticks(rotation=45)\n",
    "else:\n",
    "    print(\"Skipping countplot: 'category' column missing or events is empty\")\n",
    "\n",
    "plt.subplot(1,2,2)\n",
    "if not events.empty:\n",
    "    sns.histplot(data=events, x='popularity_score', bins=20)\n",
    "    plt.title('Popularity Score Distribution')\n",
    "else:\n",
    "    print(\"Skipping histplot: events DataFrame is empty\")\n",
    "\n",
    "plt.tight_layout()\n",
    "plt.show()\n"
   ]
  },
  {
   "cell_type": "markdown",
   "id": "148da7f7-6a61-48f6-a0fb-9ebf04b5051a",
   "metadata": {
    "papermill": {
     "duration": 0.008999,
     "end_time": "2025-08-13T22:45:16.834875",
     "exception": false,
     "start_time": "2025-08-13T22:45:16.825876",
     "status": "completed"
    },
    "tags": []
   },
   "source": [
    "<h2>Interaction Counts Analysis</h2>"
   ]
  },
  {
   "cell_type": "code",
   "execution_count": 9,
   "id": "378ab920-924f-4672-a6e1-c01b19bec4db",
   "metadata": {
    "execution": {
     "iopub.execute_input": "2025-08-13T22:45:16.857879Z",
     "iopub.status.busy": "2025-08-13T22:45:16.856875Z",
     "iopub.status.idle": "2025-08-13T22:45:16.871874Z",
     "shell.execute_reply": "2025-08-13T22:45:16.871874Z"
    },
    "papermill": {
     "duration": 0.028502,
     "end_time": "2025-08-13T22:45:16.874377",
     "exception": false,
     "start_time": "2025-08-13T22:45:16.845875",
     "status": "completed"
    },
    "tags": []
   },
   "outputs": [
    {
     "name": "stdout",
     "output_type": "stream",
     "text": [
      "\n",
      "Interactions per user:\n",
      "count    1002.000000\n",
      "mean       10.066866\n",
      "std         3.424732\n",
      "min         2.000000\n",
      "25%         8.000000\n",
      "50%        10.000000\n",
      "75%        12.000000\n",
      "max        45.000000\n",
      "Name: count, dtype: float64\n",
      "\n",
      "Interactions per event:\n",
      "count    140.000000\n",
      "mean      72.050000\n",
      "std       82.600741\n",
      "min        1.000000\n",
      "25%        3.000000\n",
      "50%       31.500000\n",
      "75%      130.750000\n",
      "max      289.000000\n",
      "Name: count, dtype: float64\n"
     ]
    }
   ],
   "source": [
    "print(\"\\nInteractions per user:\")\n",
    "if 'user_id' in interactions.columns:\n",
    "    print(interactions['user_id'].value_counts().describe())\n",
    "else:\n",
    "    print(\" 'user_id' column is missing in interactions.\")\n",
    "\n",
    "print(\"\\nInteractions per event:\")\n",
    "if 'event_id' in interactions.columns:\n",
    "    print(interactions['event_id'].value_counts().describe())\n",
    "else:\n",
    "    print(\"'event_id' column is missing in interactions.\")\n"
   ]
  },
  {
   "cell_type": "markdown",
   "id": "e919a3c3-a7e1-4ef2-b4ca-265c26bad8d0",
   "metadata": {
    "papermill": {
     "duration": 0.010002,
     "end_time": "2025-08-13T22:45:16.891376",
     "exception": false,
     "start_time": "2025-08-13T22:45:16.881374",
     "status": "completed"
    },
    "tags": []
   },
   "source": [
    "<h2>Removing uneeded data (users with role organizer )  </h2>"
   ]
  },
  {
   "cell_type": "code",
   "execution_count": 10,
   "id": "fd87f8b0-4315-42f8-b284-2b6f6b2000f4",
   "metadata": {
    "execution": {
     "iopub.execute_input": "2025-08-13T22:45:16.910386Z",
     "iopub.status.busy": "2025-08-13T22:45:16.909378Z",
     "iopub.status.idle": "2025-08-13T22:45:16.913387Z",
     "shell.execute_reply": "2025-08-13T22:45:16.913387Z"
    },
    "papermill": {
     "duration": 0.016238,
     "end_time": "2025-08-13T22:45:16.915681",
     "exception": false,
     "start_time": "2025-08-13T22:45:16.899443",
     "status": "completed"
    },
    "tags": []
   },
   "outputs": [],
   "source": [
    "# users = users[users['role'] != 'organizer']\n",
    "# print(f\"Users after removing organizers: {users.shape[0]}\")"
   ]
  },
  {
   "cell_type": "markdown",
   "id": "91fd0b68-489b-4c24-b8a9-07691f9ecd51",
   "metadata": {
    "papermill": {
     "duration": 0.008996,
     "end_time": "2025-08-13T22:45:16.932671",
     "exception": false,
     "start_time": "2025-08-13T22:45:16.923675",
     "status": "completed"
    },
    "tags": []
   },
   "source": [
    "<h2>Remove interactions related to removed users</h2>"
   ]
  },
  {
   "cell_type": "code",
   "execution_count": 11,
   "id": "2b5ec41f-2559-42cb-92be-24a54c288d8c",
   "metadata": {
    "execution": {
     "iopub.execute_input": "2025-08-13T22:45:16.952676Z",
     "iopub.status.busy": "2025-08-13T22:45:16.951671Z",
     "iopub.status.idle": "2025-08-13T22:45:16.956798Z",
     "shell.execute_reply": "2025-08-13T22:45:16.955791Z"
    },
    "papermill": {
     "duration": 0.015129,
     "end_time": "2025-08-13T22:45:16.957799",
     "exception": false,
     "start_time": "2025-08-13T22:45:16.942670",
     "status": "completed"
    },
    "tags": []
   },
   "outputs": [],
   "source": [
    "# valid_user_ids = set(users['user_id'])\n",
    "# interactions = interactions[interactions['user_id'].isin(valid_user_ids)]\n",
    "# print(f\"Interactions after removing organizer-related ones: {interactions.shape[0]}\")"
   ]
  },
  {
   "cell_type": "markdown",
   "id": "8eefb547-96dc-40bb-a5a4-ec7fc6119ae5",
   "metadata": {
    "papermill": {
     "duration": 0.011033,
     "end_time": "2025-08-13T22:45:16.977832",
     "exception": false,
     "start_time": "2025-08-13T22:45:16.966799",
     "status": "completed"
    },
    "tags": []
   },
   "source": [
    "<h2>Encode categorical columns</h2>"
   ]
  },
  {
   "cell_type": "code",
   "execution_count": 12,
   "id": "a8062905-8f4d-45e4-8971-21b30cdecffc",
   "metadata": {
    "execution": {
     "iopub.execute_input": "2025-08-13T22:45:16.998330Z",
     "iopub.status.busy": "2025-08-13T22:45:16.998330Z",
     "iopub.status.idle": "2025-08-13T22:45:17.013315Z",
     "shell.execute_reply": "2025-08-13T22:45:17.012307Z"
    },
    "papermill": {
     "duration": 0.027476,
     "end_time": "2025-08-13T22:45:17.014316",
     "exception": false,
     "start_time": "2025-08-13T22:45:16.986840",
     "status": "completed"
    },
    "tags": []
   },
   "outputs": [
    {
     "name": "stdout",
     "output_type": "stream",
     "text": [
      "\n",
      "Encoded Users sample:\n",
      "  user_id  gender  age_group  role\n",
      "0  user_0       3          2     1\n",
      "1  user_1       2          2     1\n",
      "2  user_2       3          2     1\n",
      "3  user_3       3          3     1\n",
      "4  user_4       3          2     1\n",
      "\n",
      "Encoded Events sample:\n",
      "  event_id  category  popularity_score  event_date  is_weekend\n",
      "0  event_0         5              0.96  2025-09-06        True\n",
      "1  event_1         3              0.20  2025-08-04       False\n",
      "2  event_2         3              0.95  2025-07-29       False\n",
      "3  event_3         3              0.99  2025-09-13        True\n",
      "4  event_4         7              0.71  2025-08-14       False\n"
     ]
    }
   ],
   "source": [
    "users_encoded = users.copy()\n",
    "\n",
    "for col in ['gender', 'age_group', 'role']:\n",
    "    if col in users.columns:\n",
    "        users_encoded[col] = users_encoded[col].astype('category').cat.codes\n",
    "    else:\n",
    "        print(f\"Column '{col}' not found in users DataFrame.\")\n",
    "\n",
    "events_encoded = events.copy()  \n",
    "\n",
    "if 'category' in events.columns:\n",
    "    events_encoded['category'] = events_encoded['category'].astype('category').cat.codes\n",
    "else:\n",
    "    print(\"Column 'category' not found in events DataFrame.\")\n",
    "\n",
    "print(\"\\nEncoded Users sample:\")\n",
    "print(users_encoded.head())\n",
    "\n",
    "print(\"\\nEncoded Events sample:\")\n",
    "print(events_encoded.head())\n"
   ]
  },
  {
   "cell_type": "markdown",
   "id": "fcee7feb-3031-4cff-b4b8-56b5cc97ec8d",
   "metadata": {
    "papermill": {
     "duration": 0.012001,
     "end_time": "2025-08-13T22:45:17.034315",
     "exception": false,
     "start_time": "2025-08-13T22:45:17.022314",
     "status": "completed"
    },
    "tags": []
   },
   "source": [
    "<h2>Scale popularity_score</h2>"
   ]
  },
  {
   "cell_type": "code",
   "execution_count": 13,
   "id": "9cb64092-ad59-42f8-b1cb-2eb966080bbb",
   "metadata": {
    "execution": {
     "iopub.execute_input": "2025-08-13T22:45:17.059316Z",
     "iopub.status.busy": "2025-08-13T22:45:17.058316Z",
     "iopub.status.idle": "2025-08-13T22:45:17.104313Z",
     "shell.execute_reply": "2025-08-13T22:45:17.104313Z"
    },
    "papermill": {
     "duration": 0.058003,
     "end_time": "2025-08-13T22:45:17.105319",
     "exception": false,
     "start_time": "2025-08-13T22:45:17.047316",
     "status": "completed"
    },
    "tags": []
   },
   "outputs": [],
   "source": [
    "scaler = MinMaxScaler()\n",
    "events_encoded['popularity_score'] = scaler.fit_transform(events_encoded[['popularity_score']])"
   ]
  },
  {
   "cell_type": "markdown",
   "id": "1da855b1-1837-4e25-83bd-4d25dc52c259",
   "metadata": {
    "papermill": {
     "duration": 0.009993,
     "end_time": "2025-08-13T22:45:17.123318",
     "exception": false,
     "start_time": "2025-08-13T22:45:17.113325",
     "status": "completed"
    },
    "tags": []
   },
   "source": [
    "<h2>Convert event_date to datetime format</h2>"
   ]
  },
  {
   "cell_type": "code",
   "execution_count": 14,
   "id": "770705cd-c184-4f25-98ca-a972f23c922e",
   "metadata": {
    "execution": {
     "iopub.execute_input": "2025-08-13T22:45:17.141320Z",
     "iopub.status.busy": "2025-08-13T22:45:17.141320Z",
     "iopub.status.idle": "2025-08-13T22:45:17.155671Z",
     "shell.execute_reply": "2025-08-13T22:45:17.154657Z"
    },
    "papermill": {
     "duration": 0.026324,
     "end_time": "2025-08-13T22:45:17.156672",
     "exception": false,
     "start_time": "2025-08-13T22:45:17.130348",
     "status": "completed"
    },
    "tags": []
   },
   "outputs": [],
   "source": [
    "events_encoded['event_date'] = pd.to_datetime(events_encoded['event_date'])"
   ]
  },
  {
   "cell_type": "markdown",
   "id": "cfd4e97c-8c02-4555-afc2-ad36577c3682",
   "metadata": {
    "papermill": {
     "duration": 0.00884,
     "end_time": "2025-08-13T22:45:17.174559",
     "exception": false,
     "start_time": "2025-08-13T22:45:17.165719",
     "status": "completed"
    },
    "tags": []
   },
   "source": [
    "<h2>Final check: print samples and shapes after cleaning and encoding</h2>"
   ]
  },
  {
   "cell_type": "code",
   "execution_count": 15,
   "id": "e4950393-bf35-45aa-9f42-b005ca92c4ca",
   "metadata": {
    "execution": {
     "iopub.execute_input": "2025-08-13T22:45:17.196588Z",
     "iopub.status.busy": "2025-08-13T22:45:17.195538Z",
     "iopub.status.idle": "2025-08-13T22:45:17.275569Z",
     "shell.execute_reply": "2025-08-13T22:45:17.275569Z"
    },
    "papermill": {
     "duration": 0.094552,
     "end_time": "2025-08-13T22:45:17.278092",
     "exception": false,
     "start_time": "2025-08-13T22:45:17.183540",
     "status": "completed"
    },
    "tags": []
   },
   "outputs": [
    {
     "name": "stdout",
     "output_type": "stream",
     "text": [
      "\n",
      "Cleaned Users Sample:\n",
      "  user_id  gender  age_group  role\n",
      "0  user_0       3          2     1\n",
      "1  user_1       2          2     1\n",
      "2  user_2       3          2     1\n",
      "3  user_3       3          3     1\n",
      "4  user_4       3          2     1\n",
      "\n",
      "Cleaned Events Sample:\n",
      "  event_id  category  popularity_score event_date  is_weekend\n",
      "0  event_0         5          0.969697 2025-09-06        True\n",
      "1  event_1         3          0.202020 2025-08-04       False\n",
      "2  event_2         3          0.959596 2025-07-29       False\n",
      "3  event_3         3          1.000000 2025-09-13        True\n",
      "4  event_4         7          0.717172 2025-08-14       False\n",
      "\n",
      "Cleaned Interactions Sample:\n",
      "    user_id   event_id\n",
      "0  user_870  event_209\n",
      "1  user_101  event_120\n",
      "2  user_628   event_19\n",
      "3  user_134  event_127\n",
      "4   user_57  event_190\n"
     ]
    }
   ],
   "source": [
    "print(\"\\nCleaned Users Sample:\")\n",
    "print(users_encoded.head())\n",
    "\n",
    "print(\"\\nCleaned Events Sample:\")\n",
    "print(events_encoded.head())\n",
    "\n",
    "print(\"\\nCleaned Interactions Sample:\")\n",
    "print(interactions.head())"
   ]
  },
  {
   "cell_type": "markdown",
   "id": "674821bf-3c90-4ab6-883b-9d3f703d21fe",
   "metadata": {
    "papermill": {
     "duration": 0.010004,
     "end_time": "2025-08-13T22:45:17.295053",
     "exception": false,
     "start_time": "2025-08-13T22:45:17.285049",
     "status": "completed"
    },
    "tags": []
   },
   "source": [
    "<h1 style=\"color:red;\">LightFM Dataset Preparation</h1>"
   ]
  },
  {
   "cell_type": "markdown",
   "id": "4299a597-9187-4740-b7f5-69628b1f54fb",
   "metadata": {
    "papermill": {
     "duration": 0.008992,
     "end_time": "2025-08-13T22:45:17.314048",
     "exception": false,
     "start_time": "2025-08-13T22:45:17.305056",
     "status": "completed"
    },
    "tags": []
   },
   "source": [
    "<h2>Build interaction matrix from (user_id, event_id) pairs</h2> "
   ]
  },
  {
   "cell_type": "code",
   "execution_count": 16,
   "id": "8327ff8c-d597-4f73-9544-af0772cf85b9",
   "metadata": {
    "execution": {
     "iopub.execute_input": "2025-08-13T22:45:17.335048Z",
     "iopub.status.busy": "2025-08-13T22:45:17.334050Z",
     "iopub.status.idle": "2025-08-13T22:45:17.767916Z",
     "shell.execute_reply": "2025-08-13T22:45:17.766910Z"
    },
    "papermill": {
     "duration": 0.446861,
     "end_time": "2025-08-13T22:45:17.769916",
     "exception": false,
     "start_time": "2025-08-13T22:45:17.323055",
     "status": "completed"
    },
    "tags": []
   },
   "outputs": [
    {
     "name": "stdout",
     "output_type": "stream",
     "text": [
      "Interaction matrix shape: (1002, 506)\n",
      "User features sparse: (1002, 1014)\n",
      "Item features sparse: (506, 517)\n"
     ]
    }
   ],
   "source": [
    "dataset = Dataset()\n",
    "\n",
    "user_ids = users_encoded['user_id'].unique()\n",
    "event_ids = events_encoded['event_id'].unique()\n",
    "\n",
    "user_features_raw = users_encoded.set_index('user_id')[['gender', 'age_group', 'role']]\n",
    "user_feature_tuples = [\n",
    "    (uid, [f\"gender:{g}\", f\"age_group:{a}\", f\"role:{r}\"])\n",
    "    for uid, g, a, r in zip(user_features_raw.index, user_features_raw['gender'], user_features_raw['age_group'], user_features_raw['role'])\n",
    "]\n",
    "\n",
    "event_features_raw = events_encoded.set_index('event_id')[['category', 'popularity_score', 'is_weekend']]\n",
    "event_feature_tuples = [\n",
    "    (eid, [f\"category:{c}\", f\"is_weekend:{w}\"])\n",
    "    for eid, c, w in zip(event_features_raw.index, event_features_raw['category'], event_features_raw['is_weekend'])\n",
    "]\n",
    "\n",
    "dataset.fit(\n",
    "    users=user_ids,\n",
    "    items=event_ids,\n",
    "    user_features=set(f for _, feats in user_feature_tuples for f in feats),\n",
    "    item_features=set(f for _, feats in event_feature_tuples for f in feats)\n",
    ")\n",
    "\n",
    "(interactions_matrix, weights) = dataset.build_interactions(\n",
    "    [(row['user_id'], row['event_id']) for idx, row in interactions.iterrows()]\n",
    ")\n",
    "print(f\"Interaction matrix shape: {interactions_matrix.shape}\")\n",
    "\n",
    "user_features = dataset.build_user_features(user_feature_tuples)\n",
    "item_features = dataset.build_item_features(event_feature_tuples)\n",
    "\n",
    "print(\"User features sparse:\", user_features.shape)\n",
    "print(\"Item features sparse:\", item_features.shape)\n"
   ]
  },
  {
   "cell_type": "markdown",
   "id": "f3c48d8b-b0a1-4000-9dd9-5c52b947fa59",
   "metadata": {
    "papermill": {
     "duration": 0.012002,
     "end_time": "2025-08-13T22:45:17.796919",
     "exception": false,
     "start_time": "2025-08-13T22:45:17.784917",
     "status": "completed"
    },
    "tags": []
   },
   "source": [
    "<h1 style=\"color:red;\">Training</h1>"
   ]
  },
  {
   "cell_type": "markdown",
   "id": "3c25d66b-2f1c-41db-b6cc-98065ed9f976",
   "metadata": {
    "papermill": {
     "duration": 0.012512,
     "end_time": "2025-08-13T22:45:17.823451",
     "exception": false,
     "start_time": "2025-08-13T22:45:17.810939",
     "status": "completed"
    },
    "tags": []
   },
   "source": [
    "<h2>Train-Test Split</h2>"
   ]
  },
  {
   "cell_type": "code",
   "execution_count": 17,
   "id": "a6182f4d-bb09-47d5-aef9-82943754a837",
   "metadata": {
    "execution": {
     "iopub.execute_input": "2025-08-13T22:45:17.851280Z",
     "iopub.status.busy": "2025-08-13T22:45:17.850268Z",
     "iopub.status.idle": "2025-08-13T22:45:17.861782Z",
     "shell.execute_reply": "2025-08-13T22:45:17.861275Z"
    },
    "papermill": {
     "duration": 0.027038,
     "end_time": "2025-08-13T22:45:17.863791",
     "exception": false,
     "start_time": "2025-08-13T22:45:17.836753",
     "status": "completed"
    },
    "tags": []
   },
   "outputs": [
    {
     "name": "stdout",
     "output_type": "stream",
     "text": [
      "Train interactions: 8069 | Test interactions: 2018\n"
     ]
    }
   ],
   "source": [
    "train, test = random_train_test_split(interactions_matrix, test_percentage=0.2, random_state=42)\n",
    "print(f\"Train interactions: {train.nnz} | Test interactions: {test.nnz}\")"
   ]
  },
  {
   "cell_type": "markdown",
   "id": "3d81d42b-9b69-4133-ad8d-e1c5e3fc14e5",
   "metadata": {
    "papermill": {
     "duration": 0.013996,
     "end_time": "2025-08-13T22:45:17.893122",
     "exception": false,
     "start_time": "2025-08-13T22:45:17.879126",
     "status": "completed"
    },
    "tags": []
   },
   "source": [
    "<h2>Hyperparameter Tuning with Optuna</h2>\n",
    "<p>We use Optuna to automatically and efficiently find the best hyperparameters for the LightFM model. Optuna intelligently explores the parameter space by learning from previous trials, allowing faster convergence to optimal values compared to manual or random searches. This results in improved model performance with fewer training iterations and less computational effort.</p>"
   ]
  },
  {
   "cell_type": "code",
   "execution_count": 18,
   "id": "c8478bc9-6876-4d55-80a6-6e7ced261335",
   "metadata": {
    "execution": {
     "iopub.execute_input": "2025-08-13T22:45:17.922123Z",
     "iopub.status.busy": "2025-08-13T22:45:17.921124Z",
     "iopub.status.idle": "2025-08-13T22:45:54.175069Z",
     "shell.execute_reply": "2025-08-13T22:45:54.175069Z"
    },
    "papermill": {
     "duration": 36.269949,
     "end_time": "2025-08-13T22:45:54.176073",
     "exception": false,
     "start_time": "2025-08-13T22:45:17.906124",
     "status": "completed"
    },
    "tags": []
   },
   "outputs": [
    {
     "name": "stderr",
     "output_type": "stream",
     "text": [
      "[I 2025-08-13 23:45:17,926] A new study created in memory with name: no-name-e0772a50-c75c-47d7-a9d2-895410915403\n"
     ]
    },
    {
     "name": "stderr",
     "output_type": "stream",
     "text": [
      "[I 2025-08-13 23:45:19,560] Trial 0 finished with value: 0.03421354666352272 and parameters: {'no_components': 30, 'learning_rate': 0.08946284458979986, 'item_alpha': 1.5386629176102066e-06, 'user_alpha': 0.00011733457943544137}. Best is trial 0 with value: 0.03421354666352272.\n"
     ]
    },
    {
     "name": "stderr",
     "output_type": "stream",
     "text": [
      "[I 2025-08-13 23:45:22,339] Trial 1 finished with value: 0.03582089766860008 and parameters: {'no_components': 72, 'learning_rate': 0.007257159124165562, 'item_alpha': 1.9626087749240455e-06, 'user_alpha': 1.2320717781888457e-06}. Best is trial 1 with value: 0.03582089766860008.\n"
     ]
    },
    {
     "name": "stderr",
     "output_type": "stream",
     "text": [
      "[I 2025-08-13 23:45:25,676] Trial 2 finished with value: 0.03582089766860008 and parameters: {'no_components': 96, 'learning_rate': 0.0018222091651625455, 'item_alpha': 3.994365291006628e-06, 'user_alpha': 0.001458916273870381}. Best is trial 1 with value: 0.03582089766860008.\n"
     ]
    },
    {
     "name": "stderr",
     "output_type": "stream",
     "text": [
      "[I 2025-08-13 23:45:27,762] Trial 3 finished with value: 0.03582089766860008 and parameters: {'no_components': 72, 'learning_rate': 0.0013285199188441787, 'item_alpha': 0.0012148035217734849, 'user_alpha': 0.0009147917426815152}. Best is trial 1 with value: 0.03582089766860008.\n"
     ]
    },
    {
     "name": "stderr",
     "output_type": "stream",
     "text": [
      "[I 2025-08-13 23:45:29,308] Trial 4 finished with value: 0.02365097589790821 and parameters: {'no_components': 43, 'learning_rate': 0.009014854359607007, 'item_alpha': 0.009000463336410951, 'user_alpha': 6.092420669449027e-05}. Best is trial 1 with value: 0.03582089766860008.\n"
     ]
    },
    {
     "name": "stderr",
     "output_type": "stream",
     "text": [
      "[I 2025-08-13 23:45:30,649] Trial 5 finished with value: 0.03467278927564621 and parameters: {'no_components': 53, 'learning_rate': 0.07689797923583014, 'item_alpha': 1.4728616870957237e-05, 'user_alpha': 0.00545636750023616}. Best is trial 1 with value: 0.03582089766860008.\n"
     ]
    },
    {
     "name": "stderr",
     "output_type": "stream",
     "text": [
      "[I 2025-08-13 23:45:32,394] Trial 6 finished with value: 0.04064293950796127 and parameters: {'no_components': 39, 'learning_rate': 0.0003819695080423711, 'item_alpha': 0.0028211508255288394, 'user_alpha': 2.4584274676036623e-05}. Best is trial 6 with value: 0.04064293950796127.\n"
     ]
    },
    {
     "name": "stderr",
     "output_type": "stream",
     "text": [
      "[I 2025-08-13 23:45:34,757] Trial 7 finished with value: 0.03673937916755676 and parameters: {'no_components': 55, 'learning_rate': 0.00014581114748341107, 'item_alpha': 5.614580491120412e-05, 'user_alpha': 0.00017458725276971887}. Best is trial 6 with value: 0.04064293950796127.\n"
     ]
    },
    {
     "name": "stderr",
     "output_type": "stream",
     "text": [
      "[I 2025-08-13 23:45:37,532] Trial 8 finished with value: 0.03467278927564621 and parameters: {'no_components': 75, 'learning_rate': 0.01879834114773411, 'item_alpha': 0.00017703914311580473, 'user_alpha': 0.0010543814899215435}. Best is trial 6 with value: 0.04064293950796127.\n"
     ]
    },
    {
     "name": "stderr",
     "output_type": "stream",
     "text": [
      "[I 2025-08-13 23:45:40,637] Trial 9 finished with value: 0.03467278927564621 and parameters: {'no_components': 85, 'learning_rate': 0.05229367728514676, 'item_alpha': 2.077618706985727e-06, 'user_alpha': 0.0003163494274800313}. Best is trial 6 with value: 0.04064293950796127.\n"
     ]
    },
    {
     "name": "stderr",
     "output_type": "stream",
     "text": [
      "[I 2025-08-13 23:45:41,781] Trial 10 finished with value: 0.04247990995645523 and parameters: {'no_components': 21, 'learning_rate': 0.0002432630102821643, 'item_alpha': 0.009445537720484662, 'user_alpha': 8.87951381846164e-06}. Best is trial 10 with value: 0.04247990995645523.\n"
     ]
    },
    {
     "name": "stderr",
     "output_type": "stream",
     "text": [
      "[I 2025-08-13 23:45:42,834] Trial 11 finished with value: 0.038346730172634125 and parameters: {'no_components': 20, 'learning_rate': 0.00017921068956041554, 'item_alpha': 0.007809093286441369, 'user_alpha': 9.638002650066955e-06}. Best is trial 10 with value: 0.04247990995645523.\n"
     ]
    },
    {
     "name": "stderr",
     "output_type": "stream",
     "text": [
      "[I 2025-08-13 23:45:44,376] Trial 12 finished with value: 0.044087257236242294 and parameters: {'no_components': 36, 'learning_rate': 0.0005397677532603222, 'item_alpha': 0.001295008674823881, 'user_alpha': 1.1997068282637354e-05}. Best is trial 12 with value: 0.044087257236242294.\n"
     ]
    },
    {
     "name": "stderr",
     "output_type": "stream",
     "text": [
      "[I 2025-08-13 23:45:45,287] Trial 13 finished with value: 0.04477611929178238 and parameters: {'no_components': 20, 'learning_rate': 0.0005720620365020681, 'item_alpha': 0.0005247306002117799, 'user_alpha': 4.045077545435289e-06}. Best is trial 13 with value: 0.04477611929178238.\n"
     ]
    },
    {
     "name": "stderr",
     "output_type": "stream",
     "text": [
      "[I 2025-08-13 23:45:46,507] Trial 14 finished with value: 0.03582089766860008 and parameters: {'no_components': 34, 'learning_rate': 0.0005562123912094147, 'item_alpha': 0.00045628471123586447, 'user_alpha': 1.5584407680149775e-06}. Best is trial 13 with value: 0.04477611929178238.\n"
     ]
    },
    {
     "name": "stderr",
     "output_type": "stream",
     "text": [
      "[I 2025-08-13 23:45:48,292] Trial 15 finished with value: 0.03467278927564621 and parameters: {'no_components': 47, 'learning_rate': 0.0008942601860771354, 'item_alpha': 0.0007927828666561146, 'user_alpha': 4.598290979691709e-06}. Best is trial 13 with value: 0.04477611929178238.\n"
     ]
    },
    {
     "name": "stderr",
     "output_type": "stream",
     "text": [
      "[I 2025-08-13 23:45:49,330] Trial 16 finished with value: 0.03582089766860008 and parameters: {'no_components': 29, 'learning_rate': 0.0034481533810401988, 'item_alpha': 0.00017781155980743472, 'user_alpha': 2.4466886424119618e-05}. Best is trial 13 with value: 0.04477611929178238.\n"
     ]
    },
    {
     "name": "stderr",
     "output_type": "stream",
     "text": [
      "[I 2025-08-13 23:45:50,431] Trial 17 finished with value: 0.04247990995645523 and parameters: {'no_components': 27, 'learning_rate': 0.00010865806258533098, 'item_alpha': 6.650551396970569e-05, 'user_alpha': 3.7748222543654146e-06}. Best is trial 13 with value: 0.04477611929178238.\n"
     ]
    },
    {
     "name": "stderr",
     "output_type": "stream",
     "text": [
      "[I 2025-08-13 23:45:52,548] Trial 18 finished with value: 0.03467278927564621 and parameters: {'no_components': 63, 'learning_rate': 0.0005308937519033054, 'item_alpha': 0.0020750819618442313, 'user_alpha': 2.4358256170475176e-05}. Best is trial 13 with value: 0.04477611929178238.\n"
     ]
    },
    {
     "name": "stderr",
     "output_type": "stream",
     "text": [
      "[I 2025-08-13 23:45:54,171] Trial 19 finished with value: 0.03467278927564621 and parameters: {'no_components': 38, 'learning_rate': 0.002115232322030853, 'item_alpha': 0.00040210710778951946, 'user_alpha': 2.920932822844277e-06}. Best is trial 13 with value: 0.04477611929178238.\n"
     ]
    },
    {
     "name": "stdout",
     "output_type": "stream",
     "text": [
      "Best parameters: {'no_components': 20, 'learning_rate': 0.0005720620365020681, 'item_alpha': 0.0005247306002117799, 'user_alpha': 4.045077545435289e-06}\n",
      "Best Precision@5: 0.04477611929178238\n"
     ]
    }
   ],
   "source": [
    "def objective(trial):\n",
    "\n",
    "    model = LightFM(\n",
    "        no_components=trial.suggest_int(\"no_components\", 20, 100),\n",
    "        learning_rate=trial.suggest_float(\"learning_rate\", 1e-4, 1e-1, log=True),\n",
    "        item_alpha=trial.suggest_float(\"item_alpha\", 1e-6, 1e-2, log=True),\n",
    "        user_alpha=trial.suggest_float(\"user_alpha\", 1e-6, 1e-2, log=True),\n",
    "        loss=\"logistic\",\n",
    "        random_state=42\n",
    "    )\n",
    "\n",
    " \n",
    "    model.fit(train,\n",
    "              user_features=user_features,\n",
    "              item_features=item_features,\n",
    "              epochs=20,\n",
    "              num_threads=4,\n",
    "              verbose=False)\n",
    "\n",
    "\n",
    "    precision = precision_at_k(model, test,\n",
    "                               user_features=user_features,\n",
    "                               item_features=item_features,\n",
    "                               k=5).mean()\n",
    "    return precision\n",
    "\n",
    "\n",
    "study = optuna.create_study(direction=\"maximize\")\n",
    "study.optimize(objective, n_trials=20)\n",
    "\n",
    "print(\"Best parameters:\", study.best_params)\n",
    "print(\"Best Precision@5:\", study.best_value)"
   ]
  },
  {
   "cell_type": "markdown",
   "id": "c8d5969f-8b74-4477-9aba-43f5d4ef8481",
   "metadata": {
    "papermill": {
     "duration": 0.008001,
     "end_time": "2025-08-13T22:45:54.194834",
     "exception": false,
     "start_time": "2025-08-13T22:45:54.186833",
     "status": "completed"
    },
    "tags": []
   },
   "source": [
    "<h2> Train Final Model with Best Parameters</h2>"
   ]
  },
  {
   "cell_type": "code",
   "execution_count": 19,
   "id": "fe715b8d-ce1b-44d0-ab11-6707f1100cb7",
   "metadata": {
    "execution": {
     "iopub.execute_input": "2025-08-13T22:45:54.213834Z",
     "iopub.status.busy": "2025-08-13T22:45:54.213834Z",
     "iopub.status.idle": "2025-08-13T22:45:54.997994Z",
     "shell.execute_reply": "2025-08-13T22:45:54.997492Z"
    },
    "papermill": {
     "duration": 0.794163,
     "end_time": "2025-08-13T22:45:54.998999",
     "exception": false,
     "start_time": "2025-08-13T22:45:54.204836",
     "status": "completed"
    },
    "tags": []
   },
   "outputs": [
    {
     "data": {
      "text/plain": [
       "<lightfm.lightfm.LightFM at 0x2030f9a5d60>"
      ]
     },
     "execution_count": 19,
     "metadata": {},
     "output_type": "execute_result"
    }
   ],
   "source": [
    "best_params = study.best_params\n",
    "model = LightFM(**best_params, random_state=42)\n",
    "\n",
    "model.fit(train,\n",
    "          user_features=user_features,\n",
    "          item_features=item_features,\n",
    "          epochs=20,\n",
    "          num_threads=4)"
   ]
  },
  {
   "cell_type": "markdown",
   "id": "473dda97-072a-4ddf-8419-c77032bf3f43",
   "metadata": {
    "papermill": {
     "duration": 0.010003,
     "end_time": "2025-08-13T22:45:55.021001",
     "exception": false,
     "start_time": "2025-08-13T22:45:55.010998",
     "status": "completed"
    },
    "tags": []
   },
   "source": [
    "<h1 style=\"color:red;\">Evaluation</h1>\n",
    "<ol>\n",
    "    <li> <b>Precision@5: 0.0541</b>\n",
    "This means that, on average, about 5.4% of the top 5 recommendations for a user are relevant or actually interacted with by the user. It reflects the accuracy of the top recommendations.</li>\n",
    "    <li> <b>Recall@5: 0.1214</b>\n",
    "This indicates that the system is able to retrieve around 12.1% of all relevant items (items the user interacted with) within the top 5 recommendations. It shows how well the system covers the user’s interests.</li>\n",
    "    <li><b> AUC Score: 0.7430</b>\n",
    "       \n",
    "The Area Under the Curve (AUC) score of 0.743 means the model has a good overall ability to distinguish between items a user will interact with and those they will not. A score closer to 1 is better, so 0.743 shows solid predictive performance.\n",
    "\n",
    "</li>\n",
    "</ol>"
   ]
  },
  {
   "cell_type": "code",
   "execution_count": 20,
   "id": "cdf3bb08-b714-45ef-823c-9110a68ae32e",
   "metadata": {
    "execution": {
     "iopub.execute_input": "2025-08-13T22:45:55.042000Z",
     "iopub.status.busy": "2025-08-13T22:45:55.042000Z",
     "iopub.status.idle": "2025-08-13T22:45:55.713042Z",
     "shell.execute_reply": "2025-08-13T22:45:55.712032Z"
    },
    "papermill": {
     "duration": 0.685043,
     "end_time": "2025-08-13T22:45:55.715043",
     "exception": false,
     "start_time": "2025-08-13T22:45:55.030000",
     "status": "completed"
    },
    "tags": []
   },
   "outputs": [
    {
     "name": "stdout",
     "output_type": "stream",
     "text": [
      "Precision@5: 0.0448\n",
      "Recall@5: 0.0918\n",
      "AUC Score: 0.7238\n"
     ]
    }
   ],
   "source": [
    "precision = precision_at_k(model, test,\n",
    "                           user_features=user_features,\n",
    "                           item_features=item_features,\n",
    "                           k=5).mean()\n",
    "recall = recall_at_k(model, test,\n",
    "                     user_features=user_features,\n",
    "                     item_features=item_features,\n",
    "                     k=5).mean()\n",
    "auc = auc_score(model, test,\n",
    "                user_features=user_features,\n",
    "                item_features=item_features).mean()\n",
    "\n",
    "print(f\"Precision@5: {precision:.4f}\")\n",
    "print(f\"Recall@5: {recall:.4f}\")\n",
    "print(f\"AUC Score: {auc:.4f}\")\n"
   ]
  },
  {
   "cell_type": "markdown",
   "id": "24be664c-6852-45fa-8e44-5ee6e6ae4883",
   "metadata": {
    "papermill": {
     "duration": 0.012999,
     "end_time": "2025-08-13T22:45:55.738042",
     "exception": false,
     "start_time": "2025-08-13T22:45:55.725043",
     "status": "completed"
    },
    "tags": []
   },
   "source": [
    "<h2>Generate Top-N Recommendations</h2>"
   ]
  },
  {
   "cell_type": "code",
   "execution_count": 21,
   "id": "31c00220-ad4c-436c-9354-9c2d16d63e0d",
   "metadata": {
    "execution": {
     "iopub.execute_input": "2025-08-13T22:45:55.760507Z",
     "iopub.status.busy": "2025-08-13T22:45:55.760507Z",
     "iopub.status.idle": "2025-08-13T22:45:55.766634Z",
     "shell.execute_reply": "2025-08-13T22:45:55.765617Z"
    },
    "papermill": {
     "duration": 0.020115,
     "end_time": "2025-08-13T22:45:55.768623",
     "exception": false,
     "start_time": "2025-08-13T22:45:55.748508",
     "status": "completed"
    },
    "tags": []
   },
   "outputs": [],
   "source": [
    "def generate_recommendations(model, user_ids, interactions_matrix, user_features, item_features, n=5):\n",
    "    n_users, n_items = interactions_matrix.shape\n",
    "    recommendations = {}\n",
    "\n",
    "    for user_idx in range(n_users):\n",
    "        scores = model.predict(user_ids=user_idx,\n",
    "                               item_ids=np.arange(n_items),\n",
    "                               user_features=user_features,\n",
    "                               item_features=item_features)\n",
    "\n",
    "        known_items = interactions_matrix.tocsr()[user_idx].indices\n",
    "        scores[known_items] = -np.inf \n",
    "\n",
    "        top_items = np.argsort(-scores)[:n]\n",
    "        recommendations[user_ids[user_idx]] = top_items\n",
    "\n",
    "    return recommendations"
   ]
  },
  {
   "cell_type": "markdown",
   "id": "8345703d-659d-4efd-aac5-67892467de89",
   "metadata": {
    "papermill": {
     "duration": 0.011998,
     "end_time": "2025-08-13T22:45:55.790623",
     "exception": false,
     "start_time": "2025-08-13T22:45:55.778625",
     "status": "completed"
    },
    "tags": []
   },
   "source": [
    "<h2>Mapping & Displaying Recommendations (for user with id 0 )</h2> <p>this is used to have a better insight about the recommendation performance and the pattern followed</p>"
   ]
  },
  {
   "cell_type": "code",
   "execution_count": 22,
   "id": "0745943d-4a14-48a7-b382-9907488b9fb1",
   "metadata": {
    "execution": {
     "iopub.execute_input": "2025-08-13T22:45:55.815624Z",
     "iopub.status.busy": "2025-08-13T22:45:55.814623Z",
     "iopub.status.idle": "2025-08-13T22:45:55.857497Z",
     "shell.execute_reply": "2025-08-13T22:45:55.856491Z"
    },
    "papermill": {
     "duration": 0.057874,
     "end_time": "2025-08-13T22:45:55.858497",
     "exception": false,
     "start_time": "2025-08-13T22:45:55.800623",
     "status": "completed"
    },
    "tags": []
   },
   "outputs": [
    {
     "name": "stdout",
     "output_type": "stream",
     "text": [
      "Internal user ID 0 corresponds to user_id: user_0\n",
      "Events user interacted with:\n",
      "     user_id   event_id\n",
      "61    user_0   event_99\n",
      "1310  user_0  event_310\n",
      "2927  user_0  event_405\n",
      "3228  user_0  event_199\n",
      "3373  user_0  event_355\n",
      "5340  user_0  event_127\n",
      "7251  user_0   event_19\n",
      "7598  user_0  event_269\n",
      "9849  user_0  event_269\n",
      "  user_id   event_id  category  popularity_score  event_date  is_weekend\n",
      "0  user_0   event_99      Tech              0.94  2025-08-10        True\n",
      "1  user_0  event_310      Tech              0.98  2025-08-01       False\n",
      "2  user_0  event_405      Tech              0.91  2025-08-26       False\n",
      "3  user_0  event_199    Sports              0.97  2025-09-14        True\n",
      "4  user_0  event_355      Tech              0.92  2025-09-17       False\n",
      "5  user_0  event_127  Workshop              0.97  2025-07-31       False\n",
      "6  user_0   event_19    Sports              0.98  2025-08-02        True\n",
      "7  user_0  event_269  Workshop              0.97  2025-09-01       False\n",
      "8  user_0  event_269  Workshop              0.97  2025-09-01       False\n"
     ]
    }
   ],
   "source": [
    "user_id_map, user_feature_map, item_id_map, item_feature_map = dataset.mapping()\n",
    "inv_user_id_map = {v: k for k, v in user_id_map.items()}\n",
    "real_user_id = inv_user_id_map[0]\n",
    "print(f\"Internal user ID 0 corresponds to user_id: {real_user_id}\")\n",
    "user_interactions = interactions[interactions['user_id'] == real_user_id]\n",
    "print(\"Events user interacted with:\")\n",
    "print(user_interactions)\n",
    "interacted_event_info = user_interactions.merge(events, on='event_id', how='left')\n",
    "print(interacted_event_info)"
   ]
  },
  {
   "cell_type": "markdown",
   "id": "6116b03a-616e-4753-8872-4ea249d63843",
   "metadata": {
    "papermill": {
     "duration": 0.011021,
     "end_time": "2025-08-13T22:45:55.880519",
     "exception": false,
     "start_time": "2025-08-13T22:45:55.869498",
     "status": "completed"
    },
    "tags": []
   },
   "source": [
    "<h2>Exploring Recommendation Diversity and Novelty</h2> <p>To evaluate the quality of our recommendation system beyond accuracy, we analyze how diverse (varied) and serendipitous (unexpected but relevant) the suggested items are. This helps ensure users receive a mix of familiar and novel content that keeps the experience engaging and personalized.</p>\n",
    "<ol>\n",
    "    <li>A lower value of Diversity means less variation in content types.\n",
    "</li>\n",
    "<li>A high Serendipity score means that many of the recommended items are new to the user and highly popular, indicating that the system is effectively introducing appealing and unexpected content.</li>\n",
    "</ol>"
   ]
  },
  {
   "cell_type": "code",
   "execution_count": 23,
   "id": "88dd5311-0a7c-443d-986c-2874e714bdfd",
   "metadata": {
    "execution": {
     "iopub.execute_input": "2025-08-13T22:45:55.900499Z",
     "iopub.status.busy": "2025-08-13T22:45:55.899499Z",
     "iopub.status.idle": "2025-08-13T22:45:55.905981Z",
     "shell.execute_reply": "2025-08-13T22:45:55.904975Z"
    },
    "papermill": {
     "duration": 0.018484,
     "end_time": "2025-08-13T22:45:55.906982",
     "exception": false,
     "start_time": "2025-08-13T22:45:55.888498",
     "status": "completed"
    },
    "tags": []
   },
   "outputs": [],
   "source": [
    "def get_recommendations_for_user(user_id, model, dataset, user_features, item_features, events_df, top_n=10):\n",
    "    user_mapping = dataset.mapping()[0]\n",
    "    event_mapping = dataset.mapping()[2] \n",
    "    inv_event_mapping = {v: k for k, v in event_mapping.items()}\n",
    "\n",
    "    if user_id not in user_mapping:\n",
    "        raise ValueError(f\"User {user_id} not in dataset.\")\n",
    "\n",
    "    user_internal_id = user_mapping[user_id]\n",
    "\n",
    "    scores = model.predict(user_internal_id, np.arange(len(event_mapping)), user_features=user_features, item_features=item_features)\n",
    "\n",
    "    top_items_idx = np.argsort(-scores)[:top_n]\n",
    "    \n",
    "    recommended_event_ids = [inv_event_mapping[i] for i in top_items_idx]\n",
    "\n",
    "    return recommended_event_ids, scores[top_items_idx]"
   ]
  },
  {
   "cell_type": "code",
   "execution_count": 24,
   "id": "db11b851-b0bf-49af-80fc-433421827c17",
   "metadata": {
    "execution": {
     "iopub.execute_input": "2025-08-13T22:45:55.927982Z",
     "iopub.status.busy": "2025-08-13T22:45:55.927982Z",
     "iopub.status.idle": "2025-08-13T22:45:55.939868Z",
     "shell.execute_reply": "2025-08-13T22:45:55.938863Z"
    },
    "papermill": {
     "duration": 0.024887,
     "end_time": "2025-08-13T22:45:55.940868",
     "exception": false,
     "start_time": "2025-08-13T22:45:55.915981",
     "status": "completed"
    },
    "tags": []
   },
   "outputs": [
    {
     "name": "stdout",
     "output_type": "stream",
     "text": [
      "Recommended Event IDs: ['cmeabrglu000jgbzgn6sy3za4', 'event_5', 'event_177', 'event_120', 'event_17']\n",
      "Scores: [0.6060961  0.55221695 0.5503636  0.55007374 0.5498514 ]\n"
     ]
    }
   ],
   "source": [
    "# Set the user ID to test\n",
    "test_user_id = \"user_0\"\n",
    "\n",
    "# Call the function\n",
    "try:\n",
    "    recommended_ids, scores = get_recommendations_for_user(\n",
    "        user_id=test_user_id,\n",
    "        model=model,\n",
    "        dataset=dataset,\n",
    "        user_features=user_features,\n",
    "        item_features=item_features,\n",
    "        events_df=events_encoded,  \n",
    "        top_n=5\n",
    "    )\n",
    "\n",
    "    print(\"Recommended Event IDs:\", recommended_ids)\n",
    "    print(\"Scores:\", scores)\n",
    "\n",
    "except ValueError as e:\n",
    "    print(\"Error:\", e)\n"
   ]
  },
  {
   "cell_type": "code",
   "execution_count": 25,
   "id": "6b4fe7b4-0a2c-48c4-a284-03f1d8d05f0e",
   "metadata": {
    "execution": {
     "iopub.execute_input": "2025-08-13T22:45:55.959870Z",
     "iopub.status.busy": "2025-08-13T22:45:55.958869Z",
     "iopub.status.idle": "2025-08-13T22:45:55.964849Z",
     "shell.execute_reply": "2025-08-13T22:45:55.963840Z"
    },
    "papermill": {
     "duration": 0.015982,
     "end_time": "2025-08-13T22:45:55.965853",
     "exception": false,
     "start_time": "2025-08-13T22:45:55.949871",
     "status": "completed"
    },
    "tags": []
   },
   "outputs": [],
   "source": [
    "\n",
    "def diversity(recommendations, events_df):\n",
    "    categories = events_df[events_df['event_id'].isin(recommendations)]['category']\n",
    "    if len(categories) == 0:\n",
    "        return 0\n",
    "    return categories.nunique() / len(categories)"
   ]
  },
  {
   "cell_type": "code",
   "execution_count": 26,
   "id": "11f3a41c-4c21-4e3a-879b-cc6eea7250cb",
   "metadata": {
    "execution": {
     "iopub.execute_input": "2025-08-13T22:45:55.987849Z",
     "iopub.status.busy": "2025-08-13T22:45:55.986851Z",
     "iopub.status.idle": "2025-08-13T22:45:55.991340Z",
     "shell.execute_reply": "2025-08-13T22:45:55.991340Z"
    },
    "papermill": {
     "duration": 0.016499,
     "end_time": "2025-08-13T22:45:55.993350",
     "exception": false,
     "start_time": "2025-08-13T22:45:55.976851",
     "status": "completed"
    },
    "tags": []
   },
   "outputs": [],
   "source": [
    "def serendipity(recommendations, user_history, events_df):\n",
    "    novel_items = set(recommendations) - set(user_history)\n",
    "    if len(recommendations) == 0:\n",
    "        return 0\n",
    "    top_serendipitous = events_df[\n",
    "        (events_df['event_id'].isin(novel_items)) & \n",
    "        (events_df['popularity_score'] > 0.9)\n",
    "    ]\n",
    "    return len(top_serendipitous) / len(recommendations)"
   ]
  },
  {
   "cell_type": "code",
   "execution_count": 27,
   "id": "026fd917-1623-4080-9b9a-ea98705424f2",
   "metadata": {
    "execution": {
     "iopub.execute_input": "2025-08-13T22:45:56.014350Z",
     "iopub.status.busy": "2025-08-13T22:45:56.013351Z",
     "iopub.status.idle": "2025-08-13T22:45:56.026858Z",
     "shell.execute_reply": "2025-08-13T22:45:56.026350Z"
    },
    "papermill": {
     "duration": 0.027504,
     "end_time": "2025-08-13T22:45:56.028864",
     "exception": false,
     "start_time": "2025-08-13T22:45:56.001360",
     "status": "completed"
    },
    "tags": []
   },
   "outputs": [
    {
     "name": "stdout",
     "output_type": "stream",
     "text": [
      "Recommendations for user_0: ['cmeabrglu000jgbzgn6sy3za4', 'event_5', 'event_177', 'event_120', 'event_17', 'cmeabw1zm000tgbzgsx6yltft', 'event_141', 'event_2', 'event_310', 'event_451']\n",
      "Diversity: 0.176\n",
      "Serendipity: 0.700\n"
     ]
    }
   ],
   "source": [
    "user_to_test = 'user_0'\n",
    "\n",
    "user_history = interactions[interactions['user_id'] == user_to_test]['event_id'].tolist()\n",
    "\n",
    "recommended_events, rec_scores = get_recommendations_for_user(\n",
    "    user_id=user_to_test,\n",
    "    model=model,\n",
    "    dataset=dataset,\n",
    "    user_features=user_features,\n",
    "    item_features=item_features,\n",
    "    events_df=events_encoded,\n",
    "    top_n=10\n",
    ")\n",
    "\n",
    "div_score = diversity(recommended_events, events_encoded)\n",
    "ser_score = serendipity(recommended_events, user_history, events_encoded)\n",
    "\n",
    "print(f\"Recommendations for {user_to_test}: {recommended_events}\")\n",
    "print(f\"Diversity: {div_score:.3f}\")\n",
    "print(f\"Serendipity: {ser_score:.3f}\")\n"
   ]
  },
  {
   "cell_type": "markdown",
   "id": "b7e0393a-941c-4db0-8bf5-c063a0804c28",
   "metadata": {
    "papermill": {
     "duration": 0.009999,
     "end_time": "2025-08-13T22:45:56.047864",
     "exception": false,
     "start_time": "2025-08-13T22:45:56.037865",
     "status": "completed"
    },
    "tags": []
   },
   "source": [
    "<h2>Export the model</h2>"
   ]
  },
  {
   "cell_type": "code",
   "execution_count": 28,
   "id": "46e6caf6-7467-4fb5-a883-d22213e1ab6c",
   "metadata": {
    "execution": {
     "iopub.execute_input": "2025-08-13T22:45:56.067864Z",
     "iopub.status.busy": "2025-08-13T22:45:56.066865Z",
     "iopub.status.idle": "2025-08-13T22:45:56.090864Z",
     "shell.execute_reply": "2025-08-13T22:45:56.090864Z"
    },
    "papermill": {
     "duration": 0.035291,
     "end_time": "2025-08-13T22:45:56.092155",
     "exception": false,
     "start_time": "2025-08-13T22:45:56.056864",
     "status": "completed"
    },
    "tags": []
   },
   "outputs": [
    {
     "data": {
      "text/plain": [
       "['recommendation_dataset.pkl']"
      ]
     },
     "execution_count": 28,
     "metadata": {},
     "output_type": "execute_result"
    }
   ],
   "source": [
    "joblib.dump(model, 'recommendation_model.pkl')\n",
    "joblib.dump(scaler, 'recommendation_scaler.pkl')\n",
    "joblib.dump(user_features, 'recommendation_user_features.pkl')\n",
    "joblib.dump(item_features, 'recommendation_item_features.pkl')\n",
    "joblib.dump(dataset, 'recommendation_dataset.pkl')\n"
   ]
  },
  {
   "cell_type": "code",
   "execution_count": null,
   "id": "5db036bc-b6f8-415e-80df-022927830d53",
   "metadata": {
    "papermill": {
     "duration": 0.011004,
     "end_time": "2025-08-13T22:45:56.112160",
     "exception": false,
     "start_time": "2025-08-13T22:45:56.101156",
     "status": "completed"
    },
    "tags": []
   },
   "outputs": [],
   "source": []
  }
 ],
 "metadata": {
  "kernelspec": {
   "display_name": "Python [conda env:base] *",
   "language": "python",
   "name": "conda-base-py"
  },
  "language_info": {
   "codemirror_mode": {
    "name": "ipython",
    "version": 3
   },
   "file_extension": ".py",
   "mimetype": "text/x-python",
   "name": "python",
   "nbconvert_exporter": "python",
   "pygments_lexer": "ipython3",
   "version": "3.12.7"
  },
  "papermill": {
   "default_parameters": {},
   "duration": 46.291874,
   "end_time": "2025-08-13T22:45:56.571814",
   "environment_variables": {},
   "exception": null,
   "input_path": "lightFM_hybrid_recommendation_system.ipynb",
   "output_path": "train_model_out.ipynb",
   "parameters": {},
   "start_time": "2025-08-13T22:45:10.279940",
   "version": "2.6.0"
  }
 },
 "nbformat": 4,
 "nbformat_minor": 5
}