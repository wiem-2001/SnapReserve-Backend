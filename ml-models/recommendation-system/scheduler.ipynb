{
 "cells": [
  {
   "cell_type": "code",
   "execution_count": 10,
   "id": "c596e2c9-af29-47b0-9343-46ff9adb3c28",
   "metadata": {},
   "outputs": [
    {
     "name": "stdout",
     "output_type": "stream",
     "text": [
      "Running update_data.ipynb...\n"
     ]
    },
    {
     "data": {
      "application/vnd.jupyter.widget-view+json": {
       "model_id": "bc6d619d5932496f9fa92ddda3a2ef9b",
       "version_major": 2,
       "version_minor": 0
      },
      "text/plain": [
       "Executing:   0%|          | 0/22 [00:00<?, ?cell/s]"
      ]
     },
     "metadata": {},
     "output_type": "display_data"
    },
    {
     "name": "stdout",
     "output_type": "stream",
     "text": [
      "Running lightFM_hybrid_recommendation_system.ipynb...\n"
     ]
    },
    {
     "data": {
      "application/vnd.jupyter.widget-view+json": {
       "model_id": "e3575437afa243bca04b87ed0535c589",
       "version_major": 2,
       "version_minor": 0
      },
      "text/plain": [
       "Executing:   0%|          | 0/51 [00:00<?, ?cell/s]"
      ]
     },
     "metadata": {},
     "output_type": "display_data"
    },
    {
     "name": "stdout",
     "output_type": "stream",
     "text": [
      "Pipeline completed.\n"
     ]
    }
   ],
   "source": [
    "import papermill as pm\n",
    "\n",
    "print(\"Running update_data.ipynb...\")\n",
    "pm.execute_notebook('update_data.ipynb', 'update_data_out.ipynb',kernel_name='python3')\n",
    "\n",
    "print(\"Running lightFM_hybrid_recommendation_system.ipynb...\")\n",
    "pm.execute_notebook('lightFM_hybrid_recommendation_system.ipynb', 'train_model_out.ipynb',kernel_name='python3')\n",
    "\n",
    "print(\"Pipeline completed.\") "
   ]
  },
  {
   "cell_type": "code",
   "execution_count": null,
   "id": "581dd8c6-6ec7-4ce4-bd6a-77b1841d08cd",
   "metadata": {},
   "outputs": [],
   "source": []
  }
 ],
 "metadata": {
  "kernelspec": {
   "display_name": "Python [conda env:base] *",
   "language": "python",
   "name": "conda-base-py"
  },
  "language_info": {
   "codemirror_mode": {
    "name": "ipython",
    "version": 3
   },
   "file_extension": ".py",
   "mimetype": "text/x-python",
   "name": "python",
   "nbconvert_exporter": "python",
   "pygments_lexer": "ipython3",
   "version": "3.12.7"
  }
 },
 "nbformat": 4,
 "nbformat_minor": 5
}
