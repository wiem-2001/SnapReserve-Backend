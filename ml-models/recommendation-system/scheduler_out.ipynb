{
 "cells": [
  {
   "cell_type": "markdown",
   "id": "b7e042aa",
   "metadata": {
    "tags": [
     "papermill-error-cell-tag"
    ]
   },
   "source": [
    "<span style=\"color:red; font-family:Helvetica Neue, Helvetica, Arial, sans-serif; font-size:2em;\">An Exception was encountered at '<a href=\"#papermill-error-cell\">In [1]</a>'.</span>"
   ]
  },
  {
   "cell_type": "markdown",
   "id": "ac11a3f4",
   "metadata": {
    "tags": [
     "papermill-error-cell-tag"
    ]
   },
   "source": [
    "<span id=\"papermill-error-cell\" style=\"color:red; font-family:Helvetica Neue, Helvetica, Arial, sans-serif; font-size:2em;\">Execution using papermill encountered an exception here and stopped:</span>"
   ]
  },
  {
   "cell_type": "code",
   "execution_count": 1,
   "id": "c596e2c9-af29-47b0-9343-46ff9adb3c28",
   "metadata": {
    "execution": {
     "iopub.execute_input": "2025-08-03T18:34:04.394536Z",
     "iopub.status.busy": "2025-08-03T18:34:04.394536Z",
     "iopub.status.idle": "2025-08-03T18:34:33.550558Z",
     "shell.execute_reply": "2025-08-03T18:34:33.550052Z"
    },
    "papermill": {
     "duration": 29.160037,
     "end_time": "2025-08-03T18:34:33.551564",
     "exception": true,
     "start_time": "2025-08-03T18:34:04.391527",
     "status": "failed"
    },
    "tags": []
   },
   "outputs": [
    {
     "name": "stdout",
     "output_type": "stream",
     "text": [
      "Running update_data.ipynb...\n"
     ]
    },
    {
     "data": {
      "application/vnd.jupyter.widget-view+json": {
       "model_id": "fcb7d6227f484034b4623d6534c9e2dc",
       "version_major": 2,
       "version_minor": 0
      },
      "text/plain": [
       "Executing:   0%|          | 0/22 [00:00<?, ?cell/s]"
      ]
     },
     "metadata": {},
     "output_type": "display_data"
    },
    {
     "ename": "PapermillExecutionError",
     "evalue": "\n---------------------------------------------------------------------------\nException encountered at \"In [6]\":\n---------------------------------------------------------------------------\nOperationalError                          Traceback (most recent call last)\nFile ~\\SnapReserve\\SnapReserve-Backend\\venv\\Lib\\site-packages\\sqlalchemy\\engine\\base.py:143, in Connection.__init__(self, engine, connection, _has_events, _allow_revalidate, _allow_autobegin)\n    142 try:\n--> 143     self._dbapi_connection = engine.raw_connection()\n    144 except dialect.loaded_dbapi.Error as err:\n\nFile ~\\SnapReserve\\SnapReserve-Backend\\venv\\Lib\\site-packages\\sqlalchemy\\engine\\base.py:3295, in Engine.raw_connection(self)\n   3274 \"\"\"Return a \"raw\" DBAPI connection from the connection pool.\n   3275 \n   3276 The returned object is a proxied version of the DBAPI\n   (...)   3293 \n   3294 \"\"\"\n-> 3295 return self.pool.connect()\n\nFile ~\\SnapReserve\\SnapReserve-Backend\\venv\\Lib\\site-packages\\sqlalchemy\\pool\\base.py:447, in Pool.connect(self)\n    440 \"\"\"Return a DBAPI connection from the pool.\n    441 \n    442 The connection is instrumented such that when its\n   (...)    445 \n    446 \"\"\"\n--> 447 return _ConnectionFairy._checkout(self)\n\nFile ~\\SnapReserve\\SnapReserve-Backend\\venv\\Lib\\site-packages\\sqlalchemy\\pool\\base.py:1264, in _ConnectionFairy._checkout(cls, pool, threadconns, fairy)\n   1263 if not fairy:\n-> 1264     fairy = _ConnectionRecord.checkout(pool)\n   1266     if threadconns is not None:\n\nFile ~\\SnapReserve\\SnapReserve-Backend\\venv\\Lib\\site-packages\\sqlalchemy\\pool\\base.py:711, in _ConnectionRecord.checkout(cls, pool)\n    710 else:\n--> 711     rec = pool._do_get()\n    713 try:\n\nFile ~\\SnapReserve\\SnapReserve-Backend\\venv\\Lib\\site-packages\\sqlalchemy\\pool\\impl.py:177, in QueuePool._do_get(self)\n    176 except:\n--> 177     with util.safe_reraise():\n    178         self._dec_overflow()\n\nFile ~\\SnapReserve\\SnapReserve-Backend\\venv\\Lib\\site-packages\\sqlalchemy\\util\\langhelpers.py:224, in safe_reraise.__exit__(self, type_, value, traceback)\n    223     self._exc_info = None  # remove potential circular references\n--> 224     raise exc_value.with_traceback(exc_tb)\n    225 else:\n\nFile ~\\SnapReserve\\SnapReserve-Backend\\venv\\Lib\\site-packages\\sqlalchemy\\pool\\impl.py:175, in QueuePool._do_get(self)\n    174 try:\n--> 175     return self._create_connection()\n    176 except:\n\nFile ~\\SnapReserve\\SnapReserve-Backend\\venv\\Lib\\site-packages\\sqlalchemy\\pool\\base.py:388, in Pool._create_connection(self)\n    386 \"\"\"Called by subclasses to create a new ConnectionRecord.\"\"\"\n--> 388 return _ConnectionRecord(self)\n\nFile ~\\SnapReserve\\SnapReserve-Backend\\venv\\Lib\\site-packages\\sqlalchemy\\pool\\base.py:673, in _ConnectionRecord.__init__(self, pool, connect)\n    672 if connect:\n--> 673     self.__connect()\n    674 self.finalize_callback = deque()\n\nFile ~\\SnapReserve\\SnapReserve-Backend\\venv\\Lib\\site-packages\\sqlalchemy\\pool\\base.py:899, in _ConnectionRecord.__connect(self)\n    898 except BaseException as e:\n--> 899     with util.safe_reraise():\n    900         pool.logger.debug(\"Error on connect(): %s\", e)\n\nFile ~\\SnapReserve\\SnapReserve-Backend\\venv\\Lib\\site-packages\\sqlalchemy\\util\\langhelpers.py:224, in safe_reraise.__exit__(self, type_, value, traceback)\n    223     self._exc_info = None  # remove potential circular references\n--> 224     raise exc_value.with_traceback(exc_tb)\n    225 else:\n\nFile ~\\SnapReserve\\SnapReserve-Backend\\venv\\Lib\\site-packages\\sqlalchemy\\pool\\base.py:895, in _ConnectionRecord.__connect(self)\n    894 self.starttime = time.time()\n--> 895 self.dbapi_connection = connection = pool._invoke_creator(self)\n    896 pool.logger.debug(\"Created new connection %r\", connection)\n\nFile ~\\SnapReserve\\SnapReserve-Backend\\venv\\Lib\\site-packages\\sqlalchemy\\engine\\create.py:646, in create_engine.<locals>.connect(connection_record)\n    644             return connection\n--> 646 return dialect.connect(*cargs, **cparams)\n\nFile ~\\SnapReserve\\SnapReserve-Backend\\venv\\Lib\\site-packages\\sqlalchemy\\engine\\default.py:626, in DefaultDialect.connect(self, *cargs, **cparams)\n    624 def connect(self, *cargs: Any, **cparams: Any) -> DBAPIConnection:\n    625     # inherits the docstring from interfaces.Dialect.connect\n--> 626     return self.loaded_dbapi.connect(*cargs, **cparams)\n\nFile ~\\SnapReserve\\SnapReserve-Backend\\venv\\Lib\\site-packages\\psycopg2\\__init__.py:122, in connect(dsn, connection_factory, cursor_factory, **kwargs)\n    121 dsn = _ext.make_dsn(dsn, **kwargs)\n--> 122 conn = _connect(dsn, connection_factory=connection_factory, **kwasync)\n    123 if cursor_factory is not None:\n\nOperationalError: connection to server at \"host.docker.internal\" (192.168.1.10), port 5433 failed: Connection timed out (0x0000274C/10060)\n\tIs the server running on that host and accepting TCP/IP connections?\n\n\nThe above exception was the direct cause of the following exception:\n\nOperationalError                          Traceback (most recent call last)\nCell In[6], line 6\n      1 user_query = f\"\"\"\n      2     SELECT id AS user_id, gender, birth_date, created_at\n      3     FROM users\n      4     {\"WHERE created_at > '\" + last_user_ts + \"'\" if last_user_ts else \"\"}\n      5 \"\"\"\n----> 6 db_users = pd.read_sql(user_query, con=engine)\n      8 db_users.info()\n      9 db_users['gender'] = db_users['gender'].str.lower().str.strip()\n\nFile ~\\SnapReserve\\SnapReserve-Backend\\venv\\Lib\\site-packages\\pandas\\io\\sql.py:706, in read_sql(sql, con, index_col, coerce_float, params, parse_dates, columns, chunksize, dtype_backend, dtype)\n    703     dtype_backend = \"numpy\"  # type: ignore[assignment]\n    704 assert dtype_backend is not lib.no_default\n--> 706 with pandasSQL_builder(con) as pandas_sql:\n    707     if isinstance(pandas_sql, SQLiteDatabase):\n    708         return pandas_sql.read_query(\n    709             sql,\n    710             index_col=index_col,\n   (...)    716             dtype=dtype,\n    717         )\n\nFile ~\\SnapReserve\\SnapReserve-Backend\\venv\\Lib\\site-packages\\pandas\\io\\sql.py:908, in pandasSQL_builder(con, schema, need_transaction)\n    905     raise ImportError(\"Using URI string without sqlalchemy installed.\")\n    907 if sqlalchemy is not None and isinstance(con, (str, sqlalchemy.engine.Connectable)):\n--> 908     return SQLDatabase(con, schema, need_transaction)\n    910 adbc = import_optional_dependency(\"adbc_driver_manager.dbapi\", errors=\"ignore\")\n    911 if adbc and isinstance(con, adbc.Connection):\n\nFile ~\\SnapReserve\\SnapReserve-Backend\\venv\\Lib\\site-packages\\pandas\\io\\sql.py:1648, in SQLDatabase.__init__(self, con, schema, need_transaction)\n   1646     self.exit_stack.callback(con.dispose)\n   1647 if isinstance(con, Engine):\n-> 1648     con = self.exit_stack.enter_context(con.connect())\n   1649 if need_transaction and not con.in_transaction():\n   1650     self.exit_stack.enter_context(con.begin())\n\nFile ~\\SnapReserve\\SnapReserve-Backend\\venv\\Lib\\site-packages\\sqlalchemy\\engine\\base.py:3271, in Engine.connect(self)\n   3248 def connect(self) -> Connection:\n   3249     \"\"\"Return a new :class:`_engine.Connection` object.\n   3250 \n   3251     The :class:`_engine.Connection` acts as a Python context manager, so\n   (...)   3268 \n   3269     \"\"\"\n-> 3271     return self._connection_cls(self)\n\nFile ~\\SnapReserve\\SnapReserve-Backend\\venv\\Lib\\site-packages\\sqlalchemy\\engine\\base.py:145, in Connection.__init__(self, engine, connection, _has_events, _allow_revalidate, _allow_autobegin)\n    143         self._dbapi_connection = engine.raw_connection()\n    144     except dialect.loaded_dbapi.Error as err:\n--> 145         Connection._handle_dbapi_exception_noconnection(\n    146             err, dialect, engine\n    147         )\n    148         raise\n    149 else:\n\nFile ~\\SnapReserve\\SnapReserve-Backend\\venv\\Lib\\site-packages\\sqlalchemy\\engine\\base.py:2434, in Connection._handle_dbapi_exception_noconnection(cls, e, dialect, engine, is_disconnect, invalidate_pool_on_disconnect, is_pre_ping)\n   2432 elif should_wrap:\n   2433     assert sqlalchemy_exception is not None\n-> 2434     raise sqlalchemy_exception.with_traceback(exc_info[2]) from e\n   2435 else:\n   2436     assert exc_info[1] is not None\n\nFile ~\\SnapReserve\\SnapReserve-Backend\\venv\\Lib\\site-packages\\sqlalchemy\\engine\\base.py:143, in Connection.__init__(self, engine, connection, _has_events, _allow_revalidate, _allow_autobegin)\n    141 if connection is None:\n    142     try:\n--> 143         self._dbapi_connection = engine.raw_connection()\n    144     except dialect.loaded_dbapi.Error as err:\n    145         Connection._handle_dbapi_exception_noconnection(\n    146             err, dialect, engine\n    147         )\n\nFile ~\\SnapReserve\\SnapReserve-Backend\\venv\\Lib\\site-packages\\sqlalchemy\\engine\\base.py:3295, in Engine.raw_connection(self)\n   3273 def raw_connection(self) -> PoolProxiedConnection:\n   3274     \"\"\"Return a \"raw\" DBAPI connection from the connection pool.\n   3275 \n   3276     The returned object is a proxied version of the DBAPI\n   (...)   3293 \n   3294     \"\"\"\n-> 3295     return self.pool.connect()\n\nFile ~\\SnapReserve\\SnapReserve-Backend\\venv\\Lib\\site-packages\\sqlalchemy\\pool\\base.py:447, in Pool.connect(self)\n    439 def connect(self) -> PoolProxiedConnection:\n    440     \"\"\"Return a DBAPI connection from the pool.\n    441 \n    442     The connection is instrumented such that when its\n   (...)    445 \n    446     \"\"\"\n--> 447     return _ConnectionFairy._checkout(self)\n\nFile ~\\SnapReserve\\SnapReserve-Backend\\venv\\Lib\\site-packages\\sqlalchemy\\pool\\base.py:1264, in _ConnectionFairy._checkout(cls, pool, threadconns, fairy)\n   1256 @classmethod\n   1257 def _checkout(\n   1258     cls,\n   (...)   1261     fairy: Optional[_ConnectionFairy] = None,\n   1262 ) -> _ConnectionFairy:\n   1263     if not fairy:\n-> 1264         fairy = _ConnectionRecord.checkout(pool)\n   1266         if threadconns is not None:\n   1267             threadconns.current = weakref.ref(fairy)\n\nFile ~\\SnapReserve\\SnapReserve-Backend\\venv\\Lib\\site-packages\\sqlalchemy\\pool\\base.py:711, in _ConnectionRecord.checkout(cls, pool)\n    709     rec = cast(_ConnectionRecord, pool._do_get())\n    710 else:\n--> 711     rec = pool._do_get()\n    713 try:\n    714     dbapi_connection = rec.get_connection()\n\nFile ~\\SnapReserve\\SnapReserve-Backend\\venv\\Lib\\site-packages\\sqlalchemy\\pool\\impl.py:177, in QueuePool._do_get(self)\n    175     return self._create_connection()\n    176 except:\n--> 177     with util.safe_reraise():\n    178         self._dec_overflow()\n    179     raise\n\nFile ~\\SnapReserve\\SnapReserve-Backend\\venv\\Lib\\site-packages\\sqlalchemy\\util\\langhelpers.py:224, in safe_reraise.__exit__(self, type_, value, traceback)\n    222     assert exc_value is not None\n    223     self._exc_info = None  # remove potential circular references\n--> 224     raise exc_value.with_traceback(exc_tb)\n    225 else:\n    226     self._exc_info = None  # remove potential circular references\n\nFile ~\\SnapReserve\\SnapReserve-Backend\\venv\\Lib\\site-packages\\sqlalchemy\\pool\\impl.py:175, in QueuePool._do_get(self)\n    173 if self._inc_overflow():\n    174     try:\n--> 175         return self._create_connection()\n    176     except:\n    177         with util.safe_reraise():\n\nFile ~\\SnapReserve\\SnapReserve-Backend\\venv\\Lib\\site-packages\\sqlalchemy\\pool\\base.py:388, in Pool._create_connection(self)\n    385 def _create_connection(self) -> ConnectionPoolEntry:\n    386     \"\"\"Called by subclasses to create a new ConnectionRecord.\"\"\"\n--> 388     return _ConnectionRecord(self)\n\nFile ~\\SnapReserve\\SnapReserve-Backend\\venv\\Lib\\site-packages\\sqlalchemy\\pool\\base.py:673, in _ConnectionRecord.__init__(self, pool, connect)\n    671 self.__pool = pool\n    672 if connect:\n--> 673     self.__connect()\n    674 self.finalize_callback = deque()\n\nFile ~\\SnapReserve\\SnapReserve-Backend\\venv\\Lib\\site-packages\\sqlalchemy\\pool\\base.py:899, in _ConnectionRecord.__connect(self)\n    897     self.fresh = True\n    898 except BaseException as e:\n--> 899     with util.safe_reraise():\n    900         pool.logger.debug(\"Error on connect(): %s\", e)\n    901 else:\n    902     # in SQLAlchemy 1.4 the first_connect event is not used by\n    903     # the engine, so this will usually not be set\n\nFile ~\\SnapReserve\\SnapReserve-Backend\\venv\\Lib\\site-packages\\sqlalchemy\\util\\langhelpers.py:224, in safe_reraise.__exit__(self, type_, value, traceback)\n    222     assert exc_value is not None\n    223     self._exc_info = None  # remove potential circular references\n--> 224     raise exc_value.with_traceback(exc_tb)\n    225 else:\n    226     self._exc_info = None  # remove potential circular references\n\nFile ~\\SnapReserve\\SnapReserve-Backend\\venv\\Lib\\site-packages\\sqlalchemy\\pool\\base.py:895, in _ConnectionRecord.__connect(self)\n    893 try:\n    894     self.starttime = time.time()\n--> 895     self.dbapi_connection = connection = pool._invoke_creator(self)\n    896     pool.logger.debug(\"Created new connection %r\", connection)\n    897     self.fresh = True\n\nFile ~\\SnapReserve\\SnapReserve-Backend\\venv\\Lib\\site-packages\\sqlalchemy\\engine\\create.py:646, in create_engine.<locals>.connect(connection_record)\n    643         if connection is not None:\n    644             return connection\n--> 646 return dialect.connect(*cargs, **cparams)\n\nFile ~\\SnapReserve\\SnapReserve-Backend\\venv\\Lib\\site-packages\\sqlalchemy\\engine\\default.py:626, in DefaultDialect.connect(self, *cargs, **cparams)\n    624 def connect(self, *cargs: Any, **cparams: Any) -> DBAPIConnection:\n    625     # inherits the docstring from interfaces.Dialect.connect\n--> 626     return self.loaded_dbapi.connect(*cargs, **cparams)\n\nFile ~\\SnapReserve\\SnapReserve-Backend\\venv\\Lib\\site-packages\\psycopg2\\__init__.py:122, in connect(dsn, connection_factory, cursor_factory, **kwargs)\n    119     kwasync['async_'] = kwargs.pop('async_')\n    121 dsn = _ext.make_dsn(dsn, **kwargs)\n--> 122 conn = _connect(dsn, connection_factory=connection_factory, **kwasync)\n    123 if cursor_factory is not None:\n    124     conn.cursor_factory = cursor_factory\n\nOperationalError: (psycopg2.OperationalError) connection to server at \"host.docker.internal\" (192.168.1.10), port 5433 failed: Connection timed out (0x0000274C/10060)\n\tIs the server running on that host and accepting TCP/IP connections?\n\n(Background on this error at: https://sqlalche.me/e/20/e3q8)\n",
     "output_type": "error",
     "traceback": [
      "\u001b[31m---------------------------------------------------------------------------\u001b[39m",
      "\u001b[31mPapermillExecutionError\u001b[39m                   Traceback (most recent call last)",
      "\u001b[36mCell\u001b[39m\u001b[36m \u001b[39m\u001b[32mIn[1]\u001b[39m\u001b[32m, line 4\u001b[39m\n\u001b[32m      1\u001b[39m \u001b[38;5;28;01mimport\u001b[39;00m\u001b[38;5;250m \u001b[39m\u001b[34;01mpapermill\u001b[39;00m\u001b[38;5;250m \u001b[39m\u001b[38;5;28;01mas\u001b[39;00m\u001b[38;5;250m \u001b[39m\u001b[34;01mpm\u001b[39;00m\n\u001b[32m      3\u001b[39m \u001b[38;5;28mprint\u001b[39m(\u001b[33m\"\u001b[39m\u001b[33mRunning update_data.ipynb...\u001b[39m\u001b[33m\"\u001b[39m)\n\u001b[32m----> \u001b[39m\u001b[32m4\u001b[39m \u001b[43mpm\u001b[49m\u001b[43m.\u001b[49m\u001b[43mexecute_notebook\u001b[49m\u001b[43m(\u001b[49m\u001b[33;43m'\u001b[39;49m\u001b[33;43mupdate_data.ipynb\u001b[39;49m\u001b[33;43m'\u001b[39;49m\u001b[43m,\u001b[49m\u001b[43m \u001b[49m\u001b[33;43m'\u001b[39;49m\u001b[33;43mupdate_data_out.ipynb\u001b[39;49m\u001b[33;43m'\u001b[39;49m\u001b[43m,\u001b[49m\u001b[43mkernel_name\u001b[49m\u001b[43m=\u001b[49m\u001b[33;43m'\u001b[39;49m\u001b[33;43mpython3\u001b[39;49m\u001b[33;43m'\u001b[39;49m\u001b[43m)\u001b[49m\n\u001b[32m      6\u001b[39m \u001b[38;5;28mprint\u001b[39m(\u001b[33m\"\u001b[39m\u001b[33mRunning lightFM_hybrid_recommendation_system.ipynb...\u001b[39m\u001b[33m\"\u001b[39m)\n\u001b[32m      7\u001b[39m pm.execute_notebook(\u001b[33m'\u001b[39m\u001b[33mlightFM_hybrid_recommendation_system.ipynb\u001b[39m\u001b[33m'\u001b[39m, \u001b[33m'\u001b[39m\u001b[33mtrain_model_out.ipynb\u001b[39m\u001b[33m'\u001b[39m,kernel_name=\u001b[33m'\u001b[39m\u001b[33mpython3\u001b[39m\u001b[33m'\u001b[39m)\n",
      "\u001b[36mFile \u001b[39m\u001b[32m~\\SnapReserve\\SnapReserve-Backend\\venv\\Lib\\site-packages\\papermill\\execute.py:131\u001b[39m, in \u001b[36mexecute_notebook\u001b[39m\u001b[34m(input_path, output_path, parameters, engine_name, request_save_on_cell_execute, prepare_only, kernel_name, language, progress_bar, log_output, stdout_file, stderr_file, start_timeout, report_mode, cwd, **engine_kwargs)\u001b[39m\n\u001b[32m    116\u001b[39m         nb = papermill_engines.execute_notebook_with_engine(\n\u001b[32m    117\u001b[39m             engine_name,\n\u001b[32m    118\u001b[39m             nb,\n\u001b[32m   (...)\u001b[39m\u001b[32m    127\u001b[39m             **engine_kwargs,\n\u001b[32m    128\u001b[39m         )\n\u001b[32m    130\u001b[39m     \u001b[38;5;66;03m# Check for errors first (it saves on error before raising)\u001b[39;00m\n\u001b[32m--> \u001b[39m\u001b[32m131\u001b[39m     \u001b[43mraise_for_execution_errors\u001b[49m\u001b[43m(\u001b[49m\u001b[43mnb\u001b[49m\u001b[43m,\u001b[49m\u001b[43m \u001b[49m\u001b[43moutput_path\u001b[49m\u001b[43m)\u001b[49m\n\u001b[32m    133\u001b[39m \u001b[38;5;66;03m# Write final output in case the engine didn't write it on cell completion.\u001b[39;00m\n\u001b[32m    134\u001b[39m write_ipynb(nb, output_path)\n",
      "\u001b[36mFile \u001b[39m\u001b[32m~\\SnapReserve\\SnapReserve-Backend\\venv\\Lib\\site-packages\\papermill\\execute.py:251\u001b[39m, in \u001b[36mraise_for_execution_errors\u001b[39m\u001b[34m(nb, output_path)\u001b[39m\n\u001b[32m    248\u001b[39m nb.cells.insert(\u001b[32m0\u001b[39m, error_msg_cell)\n\u001b[32m    250\u001b[39m write_ipynb(nb, output_path)\n\u001b[32m--> \u001b[39m\u001b[32m251\u001b[39m \u001b[38;5;28;01mraise\u001b[39;00m error\n",
      "\u001b[31mPapermillExecutionError\u001b[39m: \n---------------------------------------------------------------------------\nException encountered at \"In [6]\":\n---------------------------------------------------------------------------\nOperationalError                          Traceback (most recent call last)\nFile ~\\SnapReserve\\SnapReserve-Backend\\venv\\Lib\\site-packages\\sqlalchemy\\engine\\base.py:143, in Connection.__init__(self, engine, connection, _has_events, _allow_revalidate, _allow_autobegin)\n    142 try:\n--> 143     self._dbapi_connection = engine.raw_connection()\n    144 except dialect.loaded_dbapi.Error as err:\n\nFile ~\\SnapReserve\\SnapReserve-Backend\\venv\\Lib\\site-packages\\sqlalchemy\\engine\\base.py:3295, in Engine.raw_connection(self)\n   3274 \"\"\"Return a \"raw\" DBAPI connection from the connection pool.\n   3275 \n   3276 The returned object is a proxied version of the DBAPI\n   (...)   3293 \n   3294 \"\"\"\n-> 3295 return self.pool.connect()\n\nFile ~\\SnapReserve\\SnapReserve-Backend\\venv\\Lib\\site-packages\\sqlalchemy\\pool\\base.py:447, in Pool.connect(self)\n    440 \"\"\"Return a DBAPI connection from the pool.\n    441 \n    442 The connection is instrumented such that when its\n   (...)    445 \n    446 \"\"\"\n--> 447 return _ConnectionFairy._checkout(self)\n\nFile ~\\SnapReserve\\SnapReserve-Backend\\venv\\Lib\\site-packages\\sqlalchemy\\pool\\base.py:1264, in _ConnectionFairy._checkout(cls, pool, threadconns, fairy)\n   1263 if not fairy:\n-> 1264     fairy = _ConnectionRecord.checkout(pool)\n   1266     if threadconns is not None:\n\nFile ~\\SnapReserve\\SnapReserve-Backend\\venv\\Lib\\site-packages\\sqlalchemy\\pool\\base.py:711, in _ConnectionRecord.checkout(cls, pool)\n    710 else:\n--> 711     rec = pool._do_get()\n    713 try:\n\nFile ~\\SnapReserve\\SnapReserve-Backend\\venv\\Lib\\site-packages\\sqlalchemy\\pool\\impl.py:177, in QueuePool._do_get(self)\n    176 except:\n--> 177     with util.safe_reraise():\n    178         self._dec_overflow()\n\nFile ~\\SnapReserve\\SnapReserve-Backend\\venv\\Lib\\site-packages\\sqlalchemy\\util\\langhelpers.py:224, in safe_reraise.__exit__(self, type_, value, traceback)\n    223     self._exc_info = None  # remove potential circular references\n--> 224     raise exc_value.with_traceback(exc_tb)\n    225 else:\n\nFile ~\\SnapReserve\\SnapReserve-Backend\\venv\\Lib\\site-packages\\sqlalchemy\\pool\\impl.py:175, in QueuePool._do_get(self)\n    174 try:\n--> 175     return self._create_connection()\n    176 except:\n\nFile ~\\SnapReserve\\SnapReserve-Backend\\venv\\Lib\\site-packages\\sqlalchemy\\pool\\base.py:388, in Pool._create_connection(self)\n    386 \"\"\"Called by subclasses to create a new ConnectionRecord.\"\"\"\n--> 388 return _ConnectionRecord(self)\n\nFile ~\\SnapReserve\\SnapReserve-Backend\\venv\\Lib\\site-packages\\sqlalchemy\\pool\\base.py:673, in _ConnectionRecord.__init__(self, pool, connect)\n    672 if connect:\n--> 673     self.__connect()\n    674 self.finalize_callback = deque()\n\nFile ~\\SnapReserve\\SnapReserve-Backend\\venv\\Lib\\site-packages\\sqlalchemy\\pool\\base.py:899, in _ConnectionRecord.__connect(self)\n    898 except BaseException as e:\n--> 899     with util.safe_reraise():\n    900         pool.logger.debug(\"Error on connect(): %s\", e)\n\nFile ~\\SnapReserve\\SnapReserve-Backend\\venv\\Lib\\site-packages\\sqlalchemy\\util\\langhelpers.py:224, in safe_reraise.__exit__(self, type_, value, traceback)\n    223     self._exc_info = None  # remove potential circular references\n--> 224     raise exc_value.with_traceback(exc_tb)\n    225 else:\n\nFile ~\\SnapReserve\\SnapReserve-Backend\\venv\\Lib\\site-packages\\sqlalchemy\\pool\\base.py:895, in _ConnectionRecord.__connect(self)\n    894 self.starttime = time.time()\n--> 895 self.dbapi_connection = connection = pool._invoke_creator(self)\n    896 pool.logger.debug(\"Created new connection %r\", connection)\n\nFile ~\\SnapReserve\\SnapReserve-Backend\\venv\\Lib\\site-packages\\sqlalchemy\\engine\\create.py:646, in create_engine.<locals>.connect(connection_record)\n    644             return connection\n--> 646 return dialect.connect(*cargs, **cparams)\n\nFile ~\\SnapReserve\\SnapReserve-Backend\\venv\\Lib\\site-packages\\sqlalchemy\\engine\\default.py:626, in DefaultDialect.connect(self, *cargs, **cparams)\n    624 def connect(self, *cargs: Any, **cparams: Any) -> DBAPIConnection:\n    625     # inherits the docstring from interfaces.Dialect.connect\n--> 626     return self.loaded_dbapi.connect(*cargs, **cparams)\n\nFile ~\\SnapReserve\\SnapReserve-Backend\\venv\\Lib\\site-packages\\psycopg2\\__init__.py:122, in connect(dsn, connection_factory, cursor_factory, **kwargs)\n    121 dsn = _ext.make_dsn(dsn, **kwargs)\n--> 122 conn = _connect(dsn, connection_factory=connection_factory, **kwasync)\n    123 if cursor_factory is not None:\n\nOperationalError: connection to server at \"host.docker.internal\" (192.168.1.10), port 5433 failed: Connection timed out (0x0000274C/10060)\n\tIs the server running on that host and accepting TCP/IP connections?\n\n\nThe above exception was the direct cause of the following exception:\n\nOperationalError                          Traceback (most recent call last)\nCell In[6], line 6\n      1 user_query = f\"\"\"\n      2     SELECT id AS user_id, gender, birth_date, created_at\n      3     FROM users\n      4     {\"WHERE created_at > '\" + last_user_ts + \"'\" if last_user_ts else \"\"}\n      5 \"\"\"\n----> 6 db_users = pd.read_sql(user_query, con=engine)\n      8 db_users.info()\n      9 db_users['gender'] = db_users['gender'].str.lower().str.strip()\n\nFile ~\\SnapReserve\\SnapReserve-Backend\\venv\\Lib\\site-packages\\pandas\\io\\sql.py:706, in read_sql(sql, con, index_col, coerce_float, params, parse_dates, columns, chunksize, dtype_backend, dtype)\n    703     dtype_backend = \"numpy\"  # type: ignore[assignment]\n    704 assert dtype_backend is not lib.no_default\n--> 706 with pandasSQL_builder(con) as pandas_sql:\n    707     if isinstance(pandas_sql, SQLiteDatabase):\n    708         return pandas_sql.read_query(\n    709             sql,\n    710             index_col=index_col,\n   (...)    716             dtype=dtype,\n    717         )\n\nFile ~\\SnapReserve\\SnapReserve-Backend\\venv\\Lib\\site-packages\\pandas\\io\\sql.py:908, in pandasSQL_builder(con, schema, need_transaction)\n    905     raise ImportError(\"Using URI string without sqlalchemy installed.\")\n    907 if sqlalchemy is not None and isinstance(con, (str, sqlalchemy.engine.Connectable)):\n--> 908     return SQLDatabase(con, schema, need_transaction)\n    910 adbc = import_optional_dependency(\"adbc_driver_manager.dbapi\", errors=\"ignore\")\n    911 if adbc and isinstance(con, adbc.Connection):\n\nFile ~\\SnapReserve\\SnapReserve-Backend\\venv\\Lib\\site-packages\\pandas\\io\\sql.py:1648, in SQLDatabase.__init__(self, con, schema, need_transaction)\n   1646     self.exit_stack.callback(con.dispose)\n   1647 if isinstance(con, Engine):\n-> 1648     con = self.exit_stack.enter_context(con.connect())\n   1649 if need_transaction and not con.in_transaction():\n   1650     self.exit_stack.enter_context(con.begin())\n\nFile ~\\SnapReserve\\SnapReserve-Backend\\venv\\Lib\\site-packages\\sqlalchemy\\engine\\base.py:3271, in Engine.connect(self)\n   3248 def connect(self) -> Connection:\n   3249     \"\"\"Return a new :class:`_engine.Connection` object.\n   3250 \n   3251     The :class:`_engine.Connection` acts as a Python context manager, so\n   (...)   3268 \n   3269     \"\"\"\n-> 3271     return self._connection_cls(self)\n\nFile ~\\SnapReserve\\SnapReserve-Backend\\venv\\Lib\\site-packages\\sqlalchemy\\engine\\base.py:145, in Connection.__init__(self, engine, connection, _has_events, _allow_revalidate, _allow_autobegin)\n    143         self._dbapi_connection = engine.raw_connection()\n    144     except dialect.loaded_dbapi.Error as err:\n--> 145         Connection._handle_dbapi_exception_noconnection(\n    146             err, dialect, engine\n    147         )\n    148         raise\n    149 else:\n\nFile ~\\SnapReserve\\SnapReserve-Backend\\venv\\Lib\\site-packages\\sqlalchemy\\engine\\base.py:2434, in Connection._handle_dbapi_exception_noconnection(cls, e, dialect, engine, is_disconnect, invalidate_pool_on_disconnect, is_pre_ping)\n   2432 elif should_wrap:\n   2433     assert sqlalchemy_exception is not None\n-> 2434     raise sqlalchemy_exception.with_traceback(exc_info[2]) from e\n   2435 else:\n   2436     assert exc_info[1] is not None\n\nFile ~\\SnapReserve\\SnapReserve-Backend\\venv\\Lib\\site-packages\\sqlalchemy\\engine\\base.py:143, in Connection.__init__(self, engine, connection, _has_events, _allow_revalidate, _allow_autobegin)\n    141 if connection is None:\n    142     try:\n--> 143         self._dbapi_connection = engine.raw_connection()\n    144     except dialect.loaded_dbapi.Error as err:\n    145         Connection._handle_dbapi_exception_noconnection(\n    146             err, dialect, engine\n    147         )\n\nFile ~\\SnapReserve\\SnapReserve-Backend\\venv\\Lib\\site-packages\\sqlalchemy\\engine\\base.py:3295, in Engine.raw_connection(self)\n   3273 def raw_connection(self) -> PoolProxiedConnection:\n   3274     \"\"\"Return a \"raw\" DBAPI connection from the connection pool.\n   3275 \n   3276     The returned object is a proxied version of the DBAPI\n   (...)   3293 \n   3294     \"\"\"\n-> 3295     return self.pool.connect()\n\nFile ~\\SnapReserve\\SnapReserve-Backend\\venv\\Lib\\site-packages\\sqlalchemy\\pool\\base.py:447, in Pool.connect(self)\n    439 def connect(self) -> PoolProxiedConnection:\n    440     \"\"\"Return a DBAPI connection from the pool.\n    441 \n    442     The connection is instrumented such that when its\n   (...)    445 \n    446     \"\"\"\n--> 447     return _ConnectionFairy._checkout(self)\n\nFile ~\\SnapReserve\\SnapReserve-Backend\\venv\\Lib\\site-packages\\sqlalchemy\\pool\\base.py:1264, in _ConnectionFairy._checkout(cls, pool, threadconns, fairy)\n   1256 @classmethod\n   1257 def _checkout(\n   1258     cls,\n   (...)   1261     fairy: Optional[_ConnectionFairy] = None,\n   1262 ) -> _ConnectionFairy:\n   1263     if not fairy:\n-> 1264         fairy = _ConnectionRecord.checkout(pool)\n   1266         if threadconns is not None:\n   1267             threadconns.current = weakref.ref(fairy)\n\nFile ~\\SnapReserve\\SnapReserve-Backend\\venv\\Lib\\site-packages\\sqlalchemy\\pool\\base.py:711, in _ConnectionRecord.checkout(cls, pool)\n    709     rec = cast(_ConnectionRecord, pool._do_get())\n    710 else:\n--> 711     rec = pool._do_get()\n    713 try:\n    714     dbapi_connection = rec.get_connection()\n\nFile ~\\SnapReserve\\SnapReserve-Backend\\venv\\Lib\\site-packages\\sqlalchemy\\pool\\impl.py:177, in QueuePool._do_get(self)\n    175     return self._create_connection()\n    176 except:\n--> 177     with util.safe_reraise():\n    178         self._dec_overflow()\n    179     raise\n\nFile ~\\SnapReserve\\SnapReserve-Backend\\venv\\Lib\\site-packages\\sqlalchemy\\util\\langhelpers.py:224, in safe_reraise.__exit__(self, type_, value, traceback)\n    222     assert exc_value is not None\n    223     self._exc_info = None  # remove potential circular references\n--> 224     raise exc_value.with_traceback(exc_tb)\n    225 else:\n    226     self._exc_info = None  # remove potential circular references\n\nFile ~\\SnapReserve\\SnapReserve-Backend\\venv\\Lib\\site-packages\\sqlalchemy\\pool\\impl.py:175, in QueuePool._do_get(self)\n    173 if self._inc_overflow():\n    174     try:\n--> 175         return self._create_connection()\n    176     except:\n    177         with util.safe_reraise():\n\nFile ~\\SnapReserve\\SnapReserve-Backend\\venv\\Lib\\site-packages\\sqlalchemy\\pool\\base.py:388, in Pool._create_connection(self)\n    385 def _create_connection(self) -> ConnectionPoolEntry:\n    386     \"\"\"Called by subclasses to create a new ConnectionRecord.\"\"\"\n--> 388     return _ConnectionRecord(self)\n\nFile ~\\SnapReserve\\SnapReserve-Backend\\venv\\Lib\\site-packages\\sqlalchemy\\pool\\base.py:673, in _ConnectionRecord.__init__(self, pool, connect)\n    671 self.__pool = pool\n    672 if connect:\n--> 673     self.__connect()\n    674 self.finalize_callback = deque()\n\nFile ~\\SnapReserve\\SnapReserve-Backend\\venv\\Lib\\site-packages\\sqlalchemy\\pool\\base.py:899, in _ConnectionRecord.__connect(self)\n    897     self.fresh = True\n    898 except BaseException as e:\n--> 899     with util.safe_reraise():\n    900         pool.logger.debug(\"Error on connect(): %s\", e)\n    901 else:\n    902     # in SQLAlchemy 1.4 the first_connect event is not used by\n    903     # the engine, so this will usually not be set\n\nFile ~\\SnapReserve\\SnapReserve-Backend\\venv\\Lib\\site-packages\\sqlalchemy\\util\\langhelpers.py:224, in safe_reraise.__exit__(self, type_, value, traceback)\n    222     assert exc_value is not None\n    223     self._exc_info = None  # remove potential circular references\n--> 224     raise exc_value.with_traceback(exc_tb)\n    225 else:\n    226     self._exc_info = None  # remove potential circular references\n\nFile ~\\SnapReserve\\SnapReserve-Backend\\venv\\Lib\\site-packages\\sqlalchemy\\pool\\base.py:895, in _ConnectionRecord.__connect(self)\n    893 try:\n    894     self.starttime = time.time()\n--> 895     self.dbapi_connection = connection = pool._invoke_creator(self)\n    896     pool.logger.debug(\"Created new connection %r\", connection)\n    897     self.fresh = True\n\nFile ~\\SnapReserve\\SnapReserve-Backend\\venv\\Lib\\site-packages\\sqlalchemy\\engine\\create.py:646, in create_engine.<locals>.connect(connection_record)\n    643         if connection is not None:\n    644             return connection\n--> 646 return dialect.connect(*cargs, **cparams)\n\nFile ~\\SnapReserve\\SnapReserve-Backend\\venv\\Lib\\site-packages\\sqlalchemy\\engine\\default.py:626, in DefaultDialect.connect(self, *cargs, **cparams)\n    624 def connect(self, *cargs: Any, **cparams: Any) -> DBAPIConnection:\n    625     # inherits the docstring from interfaces.Dialect.connect\n--> 626     return self.loaded_dbapi.connect(*cargs, **cparams)\n\nFile ~\\SnapReserve\\SnapReserve-Backend\\venv\\Lib\\site-packages\\psycopg2\\__init__.py:122, in connect(dsn, connection_factory, cursor_factory, **kwargs)\n    119     kwasync['async_'] = kwargs.pop('async_')\n    121 dsn = _ext.make_dsn(dsn, **kwargs)\n--> 122 conn = _connect(dsn, connection_factory=connection_factory, **kwasync)\n    123 if cursor_factory is not None:\n    124     conn.cursor_factory = cursor_factory\n\nOperationalError: (psycopg2.OperationalError) connection to server at \"host.docker.internal\" (192.168.1.10), port 5433 failed: Connection timed out (0x0000274C/10060)\n\tIs the server running on that host and accepting TCP/IP connections?\n\n(Background on this error at: https://sqlalche.me/e/20/e3q8)\n"
     ]
    }
   ],
   "source": [
    "import papermill as pm\n",
    "\n",
    "print(\"Running update_data.ipynb...\")\n",
    "pm.execute_notebook('update_data.ipynb', 'update_data_out.ipynb',kernel_name='python3')\n",
    "\n",
    "print(\"Running lightFM_hybrid_recommendation_system.ipynb...\")\n",
    "pm.execute_notebook('lightFM_hybrid_recommendation_system.ipynb', 'train_model_out.ipynb',kernel_name='python3')\n",
    "\n",
    "print(\"Pipeline completed.\") "
   ]
  },
  {
   "cell_type": "code",
   "execution_count": null,
   "id": "581dd8c6-6ec7-4ce4-bd6a-77b1841d08cd",
   "metadata": {
    "papermill": {
     "duration": null,
     "end_time": null,
     "exception": null,
     "start_time": null,
     "status": "pending"
    },
    "tags": []
   },
   "outputs": [],
   "source": []
  }
 ],
 "metadata": {
  "kernelspec": {
   "display_name": "Python [conda env:base] *",
   "language": "python",
   "name": "conda-base-py"
  },
  "language_info": {
   "codemirror_mode": {
    "name": "ipython",
    "version": 3
   },
   "file_extension": ".py",
   "mimetype": "text/x-python",
   "name": "python",
   "nbconvert_exporter": "python",
   "pygments_lexer": "ipython3",
   "version": "3.12.7"
  },
  "papermill": {
   "default_parameters": {},
   "duration": 31.16989,
   "end_time": "2025-08-03T18:34:34.021566",
   "environment_variables": {},
   "exception": true,
   "input_path": "C:\\Users\\wiemb\\SnapReserve\\SnapReserve-Backend\\ml-models\\recommendation-system\\scheduler.ipynb",
   "output_path": "C:\\Users\\wiemb\\SnapReserve\\SnapReserve-Backend\\ml-models\\recommendation-system\\scheduler_out.ipynb",
   "parameters": {},
   "start_time": "2025-08-03T18:34:02.851676",
   "version": "2.6.0"
  },
  "widgets": {
   "application/vnd.jupyter.widget-state+json": {
    "state": {
     "41247a58e34b4295a2268e89335170a5": {
      "model_module": "@jupyter-widgets/controls",
      "model_module_version": "2.0.0",
      "model_name": "HTMLModel",
      "state": {
       "_dom_classes": [],
       "_model_module": "@jupyter-widgets/controls",
       "_model_module_version": "2.0.0",
       "_model_name": "HTMLModel",
       "_view_count": null,
       "_view_module": "@jupyter-widgets/controls",
       "_view_module_version": "2.0.0",
       "_view_name": "HTMLView",
       "description": "",
       "description_allow_html": false,
       "layout": "IPY_MODEL_d657ec34959749e39129e5fad57a8d86",
       "placeholder": "​",
       "style": "IPY_MODEL_8a28e858ffcd4713abeeae6229b0923e",
       "tabbable": null,
       "tooltip": null,
       "value": " 9/22 [00:26&lt;00:43,  3.33s/cell]"
      }
     },
     "8a28e858ffcd4713abeeae6229b0923e": {
      "model_module": "@jupyter-widgets/controls",
      "model_module_version": "2.0.0",
      "model_name": "HTMLStyleModel",
      "state": {
       "_model_module": "@jupyter-widgets/controls",
       "_model_module_version": "2.0.0",
       "_model_name": "HTMLStyleModel",
       "_view_count": null,
       "_view_module": "@jupyter-widgets/base",
       "_view_module_version": "2.0.0",
       "_view_name": "StyleView",
       "background": null,
       "description_width": "",
       "font_size": null,
       "text_color": null
      }
     },
     "8ffb25f711ef47d9b5c15eb12e3a5bcf": {
      "model_module": "@jupyter-widgets/controls",
      "model_module_version": "2.0.0",
      "model_name": "HTMLStyleModel",
      "state": {
       "_model_module": "@jupyter-widgets/controls",
       "_model_module_version": "2.0.0",
       "_model_name": "HTMLStyleModel",
       "_view_count": null,
       "_view_module": "@jupyter-widgets/base",
       "_view_module_version": "2.0.0",
       "_view_name": "StyleView",
       "background": null,
       "description_width": "",
       "font_size": null,
       "text_color": null
      }
     },
     "9e697e24ea614a9984885a512c67f8a6": {
      "model_module": "@jupyter-widgets/controls",
      "model_module_version": "2.0.0",
      "model_name": "FloatProgressModel",
      "state": {
       "_dom_classes": [],
       "_model_module": "@jupyter-widgets/controls",
       "_model_module_version": "2.0.0",
       "_model_name": "FloatProgressModel",
       "_view_count": null,
       "_view_module": "@jupyter-widgets/controls",
       "_view_module_version": "2.0.0",
       "_view_name": "ProgressView",
       "bar_style": "danger",
       "description": "",
       "description_allow_html": false,
       "layout": "IPY_MODEL_feebef350e424b1d8b789d3ca8a3fdcc",
       "max": 22.0,
       "min": 0.0,
       "orientation": "horizontal",
       "style": "IPY_MODEL_dc29ad5251b34d358beed6bbb9c11b90",
       "tabbable": null,
       "tooltip": null,
       "value": 9.0
      }
     },
     "b9e65ac1074c4d6fa11ea538dea70818": {
      "model_module": "@jupyter-widgets/base",
      "model_module_version": "2.0.0",
      "model_name": "LayoutModel",
      "state": {
       "_model_module": "@jupyter-widgets/base",
       "_model_module_version": "2.0.0",
       "_model_name": "LayoutModel",
       "_view_count": null,
       "_view_module": "@jupyter-widgets/base",
       "_view_module_version": "2.0.0",
       "_view_name": "LayoutView",
       "align_content": null,
       "align_items": null,
       "align_self": null,
       "border_bottom": null,
       "border_left": null,
       "border_right": null,
       "border_top": null,
       "bottom": null,
       "display": null,
       "flex": null,
       "flex_flow": null,
       "grid_area": null,
       "grid_auto_columns": null,
       "grid_auto_flow": null,
       "grid_auto_rows": null,
       "grid_column": null,
       "grid_gap": null,
       "grid_row": null,
       "grid_template_areas": null,
       "grid_template_columns": null,
       "grid_template_rows": null,
       "height": null,
       "justify_content": null,
       "justify_items": null,
       "left": null,
       "margin": null,
       "max_height": null,
       "max_width": null,
       "min_height": null,
       "min_width": null,
       "object_fit": null,
       "object_position": null,
       "order": null,
       "overflow": null,
       "padding": null,
       "right": null,
       "top": null,
       "visibility": null,
       "width": null
      }
     },
     "bcb32087e90b4dde85b66c794798a9a9": {
      "model_module": "@jupyter-widgets/controls",
      "model_module_version": "2.0.0",
      "model_name": "HTMLModel",
      "state": {
       "_dom_classes": [],
       "_model_module": "@jupyter-widgets/controls",
       "_model_module_version": "2.0.0",
       "_model_name": "HTMLModel",
       "_view_count": null,
       "_view_module": "@jupyter-widgets/controls",
       "_view_module_version": "2.0.0",
       "_view_name": "HTMLView",
       "description": "",
       "description_allow_html": false,
       "layout": "IPY_MODEL_b9e65ac1074c4d6fa11ea538dea70818",
       "placeholder": "​",
       "style": "IPY_MODEL_8ffb25f711ef47d9b5c15eb12e3a5bcf",
       "tabbable": null,
       "tooltip": null,
       "value": "Executing:  41%"
      }
     },
     "d657ec34959749e39129e5fad57a8d86": {
      "model_module": "@jupyter-widgets/base",
      "model_module_version": "2.0.0",
      "model_name": "LayoutModel",
      "state": {
       "_model_module": "@jupyter-widgets/base",
       "_model_module_version": "2.0.0",
       "_model_name": "LayoutModel",
       "_view_count": null,
       "_view_module": "@jupyter-widgets/base",
       "_view_module_version": "2.0.0",
       "_view_name": "LayoutView",
       "align_content": null,
       "align_items": null,
       "align_self": null,
       "border_bottom": null,
       "border_left": null,
       "border_right": null,
       "border_top": null,
       "bottom": null,
       "display": null,
       "flex": null,
       "flex_flow": null,
       "grid_area": null,
       "grid_auto_columns": null,
       "grid_auto_flow": null,
       "grid_auto_rows": null,
       "grid_column": null,
       "grid_gap": null,
       "grid_row": null,
       "grid_template_areas": null,
       "grid_template_columns": null,
       "grid_template_rows": null,
       "height": null,
       "justify_content": null,
       "justify_items": null,
       "left": null,
       "margin": null,
       "max_height": null,
       "max_width": null,
       "min_height": null,
       "min_width": null,
       "object_fit": null,
       "object_position": null,
       "order": null,
       "overflow": null,
       "padding": null,
       "right": null,
       "top": null,
       "visibility": null,
       "width": null
      }
     },
     "dc29ad5251b34d358beed6bbb9c11b90": {
      "model_module": "@jupyter-widgets/controls",
      "model_module_version": "2.0.0",
      "model_name": "ProgressStyleModel",
      "state": {
       "_model_module": "@jupyter-widgets/controls",
       "_model_module_version": "2.0.0",
       "_model_name": "ProgressStyleModel",
       "_view_count": null,
       "_view_module": "@jupyter-widgets/base",
       "_view_module_version": "2.0.0",
       "_view_name": "StyleView",
       "bar_color": null,
       "description_width": ""
      }
     },
     "e3125e44c5a44a51854c235c8af7654d": {
      "model_module": "@jupyter-widgets/base",
      "model_module_version": "2.0.0",
      "model_name": "LayoutModel",
      "state": {
       "_model_module": "@jupyter-widgets/base",
       "_model_module_version": "2.0.0",
       "_model_name": "LayoutModel",
       "_view_count": null,
       "_view_module": "@jupyter-widgets/base",
       "_view_module_version": "2.0.0",
       "_view_name": "LayoutView",
       "align_content": null,
       "align_items": null,
       "align_self": null,
       "border_bottom": null,
       "border_left": null,
       "border_right": null,
       "border_top": null,
       "bottom": null,
       "display": null,
       "flex": null,
       "flex_flow": null,
       "grid_area": null,
       "grid_auto_columns": null,
       "grid_auto_flow": null,
       "grid_auto_rows": null,
       "grid_column": null,
       "grid_gap": null,
       "grid_row": null,
       "grid_template_areas": null,
       "grid_template_columns": null,
       "grid_template_rows": null,
       "height": null,
       "justify_content": null,
       "justify_items": null,
       "left": null,
       "margin": null,
       "max_height": null,
       "max_width": null,
       "min_height": null,
       "min_width": null,
       "object_fit": null,
       "object_position": null,
       "order": null,
       "overflow": null,
       "padding": null,
       "right": null,
       "top": null,
       "visibility": null,
       "width": null
      }
     },
     "fcb7d6227f484034b4623d6534c9e2dc": {
      "model_module": "@jupyter-widgets/controls",
      "model_module_version": "2.0.0",
      "model_name": "HBoxModel",
      "state": {
       "_dom_classes": [],
       "_model_module": "@jupyter-widgets/controls",
       "_model_module_version": "2.0.0",
       "_model_name": "HBoxModel",
       "_view_count": null,
       "_view_module": "@jupyter-widgets/controls",
       "_view_module_version": "2.0.0",
       "_view_name": "HBoxView",
       "box_style": "",
       "children": [
        "IPY_MODEL_bcb32087e90b4dde85b66c794798a9a9",
        "IPY_MODEL_9e697e24ea614a9984885a512c67f8a6",
        "IPY_MODEL_41247a58e34b4295a2268e89335170a5"
       ],
       "layout": "IPY_MODEL_e3125e44c5a44a51854c235c8af7654d",
       "tabbable": null,
       "tooltip": null
      }
     },
     "feebef350e424b1d8b789d3ca8a3fdcc": {
      "model_module": "@jupyter-widgets/base",
      "model_module_version": "2.0.0",
      "model_name": "LayoutModel",
      "state": {
       "_model_module": "@jupyter-widgets/base",
       "_model_module_version": "2.0.0",
       "_model_name": "LayoutModel",
       "_view_count": null,
       "_view_module": "@jupyter-widgets/base",
       "_view_module_version": "2.0.0",
       "_view_name": "LayoutView",
       "align_content": null,
       "align_items": null,
       "align_self": null,
       "border_bottom": null,
       "border_left": null,
       "border_right": null,
       "border_top": null,
       "bottom": null,
       "display": null,
       "flex": null,
       "flex_flow": null,
       "grid_area": null,
       "grid_auto_columns": null,
       "grid_auto_flow": null,
       "grid_auto_rows": null,
       "grid_column": null,
       "grid_gap": null,
       "grid_row": null,
       "grid_template_areas": null,
       "grid_template_columns": null,
       "grid_template_rows": null,
       "height": null,
       "justify_content": null,
       "justify_items": null,
       "left": null,
       "margin": null,
       "max_height": null,
       "max_width": null,
       "min_height": null,
       "min_width": null,
       "object_fit": null,
       "object_position": null,
       "order": null,
       "overflow": null,
       "padding": null,
       "right": null,
       "top": null,
       "visibility": null,
       "width": null
      }
     }
    },
    "version_major": 2,
    "version_minor": 0
   }
  }
 },
 "nbformat": 4,
 "nbformat_minor": 5
}