{
 "cells": [
  {
   "cell_type": "markdown",
   "id": "c75fc8b9-13f4-4c7d-b616-ff375a134672",
   "metadata": {
    "papermill": {
     "duration": 0.019316,
     "end_time": "2025-07-31T22:44:09.933684",
     "exception": false,
     "start_time": "2025-07-31T22:44:09.914368",
     "status": "completed"
    },
    "tags": []
   },
   "source": [
    "<h1 style=\"color:red;\">Data Loading, Exploration and Preprocessing</h1>"
   ]
  },
  {
   "cell_type": "code",
   "execution_count": 1,
   "id": "ceb7f003-ee26-480d-b0bd-c500ebf6df4f",
   "metadata": {
    "execution": {
     "iopub.execute_input": "2025-07-31T22:44:09.980854Z",
     "iopub.status.busy": "2025-07-31T22:44:09.979859Z",
     "iopub.status.idle": "2025-07-31T22:44:12.461606Z",
     "shell.execute_reply": "2025-07-31T22:44:12.460590Z"
    },
    "papermill": {
     "duration": 2.506589,
     "end_time": "2025-07-31T22:44:12.463788",
     "exception": false,
     "start_time": "2025-07-31T22:44:09.957199",
     "status": "completed"
    },
    "tags": []
   },
   "outputs": [
    {
     "name": "stderr",
     "output_type": "stream",
     "text": [
      "C:\\Users\\wiemb\\SnapReserve\\SnapReserve-Backend\\venv\\Lib\\site-packages\\lightfm\\_lightfm_fast.py:9: UserWarning: LightFM was compiled without OpenMP support. Only a single thread will be used.\n",
      "  warnings.warn(\n"
     ]
    }
   ],
   "source": [
    "import pandas as pd\n",
    "import numpy as np\n",
    "import matplotlib.pyplot as plt\n",
    "import seaborn as sns\n",
    "from sklearn.preprocessing import MinMaxScaler\n",
    "from lightfm.data import Dataset\n",
    "from lightfm.cross_validation import random_train_test_split\n",
    "import optuna\n",
    "from lightfm import LightFM\n",
    "from lightfm.evaluation import precision_at_k, recall_at_k, auc_score\n",
    "import joblib"
   ]
  },
  {
   "cell_type": "code",
   "execution_count": 2,
   "id": "1fdf0624-dd39-4c49-8d68-30de633b713f",
   "metadata": {
    "execution": {
     "iopub.execute_input": "2025-07-31T22:44:12.510908Z",
     "iopub.status.busy": "2025-07-31T22:44:12.509915Z",
     "iopub.status.idle": "2025-07-31T22:44:12.555943Z",
     "shell.execute_reply": "2025-07-31T22:44:12.555943Z"
    },
    "papermill": {
     "duration": 0.073549,
     "end_time": "2025-07-31T22:44:12.558955",
     "exception": false,
     "start_time": "2025-07-31T22:44:12.485406",
     "status": "completed"
    },
    "tags": []
   },
   "outputs": [
    {
     "name": "stdout",
     "output_type": "stream",
     "text": [
      "Users:\n",
      "  user_id  gender age_group      role\n",
      "0  user_0    male     26-35  attendee\n",
      "1  user_1  female     26-35  attendee\n",
      "2  user_2    male     26-35  attendee\n",
      "3  user_3    male     36-50  attendee\n",
      "4  user_4    male     26-35  attendee\n",
      "\n",
      "Events:\n",
      "  event_id category  popularity_score  event_date  is_weekend\n",
      "0  event_0   Sports              0.96  2025-09-06        True\n",
      "1  event_1    Movie              0.20  2025-08-04       False\n",
      "2  event_2    Movie              0.95  2025-07-29       False\n",
      "3  event_3    Movie              0.99  2025-09-13        True\n",
      "4  event_4  Theater              0.71  2025-08-14       False\n",
      "\n",
      "Interactions:\n",
      "    user_id   event_id\n",
      "0  user_870  event_209\n",
      "1  user_101  event_120\n",
      "2  user_628   event_19\n",
      "3  user_134  event_127\n",
      "4   user_57  event_190\n"
     ]
    }
   ],
   "source": [
    "users = pd.read_csv('synthetic_users.csv') \n",
    "events = pd.read_csv('synthetic_events.csv') \n",
    "interactions = pd.read_csv('synthetic_interactions.csv')  \n",
    "\n",
    "print(\"Users:\")\n",
    "print(users.head())\n",
    "print(\"\\nEvents:\")\n",
    "print(events.head())\n",
    "print(\"\\nInteractions:\")\n",
    "print(interactions.head())"
   ]
  },
  {
   "cell_type": "code",
   "execution_count": 3,
   "id": "f174dde1-c868-44e5-aba8-78431d4d3ca7",
   "metadata": {
    "execution": {
     "iopub.execute_input": "2025-07-31T22:44:12.599085Z",
     "iopub.status.busy": "2025-07-31T22:44:12.598034Z",
     "iopub.status.idle": "2025-07-31T22:44:12.609660Z",
     "shell.execute_reply": "2025-07-31T22:44:12.609104Z"
    },
    "papermill": {
     "duration": 0.034831,
     "end_time": "2025-07-31T22:44:12.611681",
     "exception": false,
     "start_time": "2025-07-31T22:44:12.576850",
     "status": "completed"
    },
    "tags": []
   },
   "outputs": [
    {
     "name": "stdout",
     "output_type": "stream",
     "text": [
      "<class 'pandas.core.frame.DataFrame'>\n",
      "RangeIndex: 1030 entries, 0 to 1029\n",
      "Data columns (total 4 columns):\n",
      " #   Column     Non-Null Count  Dtype \n",
      "---  ------     --------------  ----- \n",
      " 0   user_id    1030 non-null   object\n",
      " 1   gender     1030 non-null   object\n",
      " 2   age_group  1030 non-null   object\n",
      " 3   role       1030 non-null   object\n",
      "dtypes: object(4)\n",
      "memory usage: 32.3+ KB\n"
     ]
    }
   ],
   "source": [
    "users.info()"
   ]
  },
  {
   "cell_type": "code",
   "execution_count": 4,
   "id": "e5ac4894-dea5-4b90-8dbf-5afc7aa1010f",
   "metadata": {
    "execution": {
     "iopub.execute_input": "2025-07-31T22:44:12.651863Z",
     "iopub.status.busy": "2025-07-31T22:44:12.651863Z",
     "iopub.status.idle": "2025-07-31T22:44:12.663909Z",
     "shell.execute_reply": "2025-07-31T22:44:12.662385Z"
    },
    "papermill": {
     "duration": 0.034149,
     "end_time": "2025-07-31T22:44:12.665905",
     "exception": false,
     "start_time": "2025-07-31T22:44:12.631756",
     "status": "completed"
    },
    "tags": []
   },
   "outputs": [
    {
     "name": "stdout",
     "output_type": "stream",
     "text": [
      "<class 'pandas.core.frame.DataFrame'>\n",
      "RangeIndex: 519 entries, 0 to 518\n",
      "Data columns (total 5 columns):\n",
      " #   Column            Non-Null Count  Dtype  \n",
      "---  ------            --------------  -----  \n",
      " 0   event_id          519 non-null    object \n",
      " 1   category          519 non-null    object \n",
      " 2   popularity_score  519 non-null    float64\n",
      " 3   event_date        519 non-null    object \n",
      " 4   is_weekend        519 non-null    bool   \n",
      "dtypes: bool(1), float64(1), object(3)\n",
      "memory usage: 16.9+ KB\n"
     ]
    }
   ],
   "source": [
    "events.info()"
   ]
  },
  {
   "cell_type": "code",
   "execution_count": 5,
   "id": "921dc186-c9ad-4c1a-934c-21ae38105440",
   "metadata": {
    "execution": {
     "iopub.execute_input": "2025-07-31T22:44:12.694030Z",
     "iopub.status.busy": "2025-07-31T22:44:12.694030Z",
     "iopub.status.idle": "2025-07-31T22:44:12.704062Z",
     "shell.execute_reply": "2025-07-31T22:44:12.703546Z"
    },
    "papermill": {
     "duration": 0.028643,
     "end_time": "2025-07-31T22:44:12.706071",
     "exception": false,
     "start_time": "2025-07-31T22:44:12.677428",
     "status": "completed"
    },
    "tags": []
   },
   "outputs": [
    {
     "name": "stdout",
     "output_type": "stream",
     "text": [
      "<class 'pandas.core.frame.DataFrame'>\n",
      "RangeIndex: 10103 entries, 0 to 10102\n",
      "Data columns (total 2 columns):\n",
      " #   Column    Non-Null Count  Dtype \n",
      "---  ------    --------------  ----- \n",
      " 0   user_id   10103 non-null  object\n",
      " 1   event_id  10103 non-null  object\n",
      "dtypes: object(2)\n",
      "memory usage: 158.0+ KB\n"
     ]
    }
   ],
   "source": [
    "interactions.info()"
   ]
  },
  {
   "cell_type": "markdown",
   "id": "fe0aca21-b908-4178-a921-44cdde9122de",
   "metadata": {
    "papermill": {
     "duration": 0.013189,
     "end_time": "2025-07-31T22:44:12.732297",
     "exception": false,
     "start_time": "2025-07-31T22:44:12.719108",
     "status": "completed"
    },
    "tags": []
   },
   "source": [
    "<h2>Exploratory Data Analysis (EDA) - Users</h2>"
   ]
  },
  {
   "cell_type": "code",
   "execution_count": 6,
   "id": "c684c8b8-90b8-431d-821c-784774b30c78",
   "metadata": {
    "execution": {
     "iopub.execute_input": "2025-07-31T22:44:12.764173Z",
     "iopub.status.busy": "2025-07-31T22:44:12.763172Z",
     "iopub.status.idle": "2025-07-31T22:44:13.072661Z",
     "shell.execute_reply": "2025-07-31T22:44:13.071631Z"
    },
    "papermill": {
     "duration": 0.326045,
     "end_time": "2025-07-31T22:44:13.075652",
     "exception": false,
     "start_time": "2025-07-31T22:44:12.749607",
     "status": "completed"
    },
    "tags": []
   },
   "outputs": [
    {
     "data": {
      "image/png": "[encoded data removed]",
      "text/plain": [
       "<Figure size 1400x400 with 3 Axes>"
      ]
     },
     "metadata": {},
     "output_type": "display_data"
    }
   ],
   "source": [
    "plt.figure(figsize=(14, 4))\n",
    "\n",
    "plot_idx = 1\n",
    "\n",
    "if 'gender' in users.columns:\n",
    "    plt.subplot(1, 3, plot_idx)\n",
    "    sns.countplot(data=users, x='gender')\n",
    "    plt.title('Gender Distribution')\n",
    "    plot_idx += 1\n",
    "\n",
    "if 'age_group' in users.columns:\n",
    "    plt.subplot(1, 3, plot_idx)\n",
    "    sns.countplot(data=users, x='age_group')\n",
    "    plt.title('Age Group Distribution')\n",
    "    plot_idx += 1\n",
    "\n",
    "if 'role' in users.columns:\n",
    "    plt.subplot(1, 3, plot_idx)\n",
    "    sns.countplot(data=users, x='role')\n",
    "    plt.title('Role Distribution')\n",
    "    plot_idx += 1\n",
    "\n",
    "plt.tight_layout()\n",
    "plt.show()\n"
   ]
  },
  {
   "cell_type": "markdown",
   "id": "d7e30195-9cf2-43bd-beca-3c8b936d787b",
   "metadata": {
    "papermill": {
     "duration": 0.015521,
     "end_time": "2025-07-31T22:44:13.107365",
     "exception": false,
     "start_time": "2025-07-31T22:44:13.091844",
     "status": "completed"
    },
    "tags": []
   },
   "source": [
    "<h2>Exploratory Data Analysis (EDA) - Events</h2>"
   ]
  },
  {
   "cell_type": "code",
   "execution_count": 7,
   "id": "e35ebb92-58f6-450e-af54-4d4cc0300c88",
   "metadata": {
    "execution": {
     "iopub.execute_input": "2025-07-31T22:44:13.141944Z",
     "iopub.status.busy": "2025-07-31T22:44:13.140926Z",
     "iopub.status.idle": "2025-07-31T22:44:13.437459Z",
     "shell.execute_reply": "2025-07-31T22:44:13.437459Z"
    },
    "papermill": {
     "duration": 0.315581,
     "end_time": "2025-07-31T22:44:13.438988",
     "exception": false,
     "start_time": "2025-07-31T22:44:13.123407",
     "status": "completed"
    },
    "tags": []
   },
   "outputs": [
    {
     "name": "stdout",
     "output_type": "stream",
     "text": [
      "Columns in events: Index(['event_id', 'category', 'popularity_score', 'event_date', 'is_weekend'], dtype='object')\n",
      "Is 'category' column present? True\n",
      "Events DataFrame empty? False\n"
     ]
    },
    {
     "data": {
      "image/png": "[encoded data removed]",
      "text/plain": [
       "<Figure size 1000x400 with 2 Axes>"
      ]
     },
     "metadata": {},
     "output_type": "display_data"
    }
   ],
   "source": [
    "print(\"Columns in events:\", events.columns)\n",
    "print(\"Is 'category' column present?\", 'category' in events.columns)\n",
    "print(\"Events DataFrame empty?\", events.empty)\n",
    "\n",
    "plt.figure(figsize=(10,4))\n",
    "\n",
    "plt.subplot(1,2,1)\n",
    "if 'category' in events.columns and not events.empty:\n",
    "    sns.countplot(data=events, x='category')\n",
    "    plt.title('Event Category Distribution')\n",
    "    plt.xticks(rotation=45)\n",
    "else:\n",
    "    print(\"Skipping countplot: 'category' column missing or events is empty\")\n",
    "\n",
    "plt.subplot(1,2,2)\n",
    "if not events.empty:\n",
    "    sns.histplot(data=events, x='popularity_score', bins=20)\n",
    "    plt.title('Popularity Score Distribution')\n",
    "else:\n",
    "    print(\"Skipping histplot: events DataFrame is empty\")\n",
    "\n",
    "plt.tight_layout()\n",
    "plt.show()\n"
   ]
  },
  {
   "cell_type": "markdown",
   "id": "148da7f7-6a61-48f6-a0fb-9ebf04b5051a",
   "metadata": {
    "papermill": {
     "duration": 0.018055,
     "end_time": "2025-07-31T22:44:13.470972",
     "exception": false,
     "start_time": "2025-07-31T22:44:13.452917",
     "status": "completed"
    },
    "tags": []
   },
   "source": [
    "<h2>Interaction Counts Analysis</h2>"
   ]
  },
  {
   "cell_type": "code",
   "execution_count": 8,
   "id": "378ab920-924f-4672-a6e1-c01b19bec4db",
   "metadata": {
    "execution": {
     "iopub.execute_input": "2025-07-31T22:44:13.517268Z",
     "iopub.status.busy": "2025-07-31T22:44:13.517268Z",
     "iopub.status.idle": "2025-07-31T22:44:13.529316Z",
     "shell.execute_reply": "2025-07-31T22:44:13.528808Z"
    },
    "papermill": {
     "duration": 0.040502,
     "end_time": "2025-07-31T22:44:13.532674",
     "exception": false,
     "start_time": "2025-07-31T22:44:13.492172",
     "status": "completed"
    },
    "tags": []
   },
   "outputs": [
    {
     "name": "stdout",
     "output_type": "stream",
     "text": [
      "\n",
      "Interactions per user:\n",
      "count    1001.000000\n",
      "mean       10.092907\n",
      "std         4.258681\n",
      "min         2.000000\n",
      "25%         8.000000\n",
      "50%        10.000000\n",
      "75%        12.000000\n",
      "max       103.000000\n",
      "Name: count, dtype: float64\n",
      "\n",
      "Interactions per event:\n",
      "count    140.000000\n",
      "mean      72.164286\n",
      "std       82.606340\n",
      "min        1.000000\n",
      "25%        3.000000\n",
      "50%       31.000000\n",
      "75%      130.750000\n",
      "max      289.000000\n",
      "Name: count, dtype: float64\n"
     ]
    }
   ],
   "source": [
    "print(\"\\nInteractions per user:\")\n",
    "if 'user_id' in interactions.columns:\n",
    "    print(interactions['user_id'].value_counts().describe())\n",
    "else:\n",
    "    print(\" 'user_id' column is missing in interactions.\")\n",
    "\n",
    "print(\"\\nInteractions per event:\")\n",
    "if 'event_id' in interactions.columns:\n",
    "    print(interactions['event_id'].value_counts().describe())\n",
    "else:\n",
    "    print(\"'event_id' column is missing in interactions.\")\n"
   ]
  },
  {
   "cell_type": "markdown",
   "id": "e919a3c3-a7e1-4ef2-b4ca-265c26bad8d0",
   "metadata": {
    "papermill": {
     "duration": 0.016237,
     "end_time": "2025-07-31T22:44:13.566743",
     "exception": false,
     "start_time": "2025-07-31T22:44:13.550506",
     "status": "completed"
    },
    "tags": []
   },
   "source": [
    "<h2>Removing uneeded data (users with role organizer )  </h2>"
   ]
  },
  {
   "cell_type": "code",
   "execution_count": 9,
   "id": "fd87f8b0-4315-42f8-b284-2b6f6b2000f4",
   "metadata": {
    "execution": {
     "iopub.execute_input": "2025-07-31T22:44:13.604361Z",
     "iopub.status.busy": "2025-07-31T22:44:13.603340Z",
     "iopub.status.idle": "2025-07-31T22:44:13.612288Z",
     "shell.execute_reply": "2025-07-31T22:44:13.611277Z"
    },
    "papermill": {
     "duration": 0.027784,
     "end_time": "2025-07-31T22:44:13.614526",
     "exception": false,
     "start_time": "2025-07-31T22:44:13.586742",
     "status": "completed"
    },
    "tags": []
   },
   "outputs": [
    {
     "name": "stdout",
     "output_type": "stream",
     "text": [
      "Users after removing organizers: 938\n"
     ]
    }
   ],
   "source": [
    "users = users[users['role'] != 'organizer']\n",
    "print(f\"Users after removing organizers: {users.shape[0]}\")"
   ]
  },
  {
   "cell_type": "markdown",
   "id": "91fd0b68-489b-4c24-b8a9-07691f9ecd51",
   "metadata": {
    "papermill": {
     "duration": 0.013049,
     "end_time": "2025-07-31T22:44:13.640614",
     "exception": false,
     "start_time": "2025-07-31T22:44:13.627565",
     "status": "completed"
    },
    "tags": []
   },
   "source": [
    "<h2>Remove interactions related to removed users</h2>"
   ]
  },
  {
   "cell_type": "code",
   "execution_count": 10,
   "id": "2b5ec41f-2559-42cb-92be-24a54c288d8c",
   "metadata": {
    "execution": {
     "iopub.execute_input": "2025-07-31T22:44:13.672483Z",
     "iopub.status.busy": "2025-07-31T22:44:13.671466Z",
     "iopub.status.idle": "2025-07-31T22:44:13.681569Z",
     "shell.execute_reply": "2025-07-31T22:44:13.679552Z"
    },
    "papermill": {
     "duration": 0.028398,
     "end_time": "2025-07-31T22:44:13.683565",
     "exception": false,
     "start_time": "2025-07-31T22:44:13.655167",
     "status": "completed"
    },
    "tags": []
   },
   "outputs": [
    {
     "name": "stdout",
     "output_type": "stream",
     "text": [
      "Interactions after removing organizer-related ones: 9189\n"
     ]
    }
   ],
   "source": [
    "valid_user_ids = set(users['user_id'])\n",
    "interactions = interactions[interactions['user_id'].isin(valid_user_ids)]\n",
    "print(f\"Interactions after removing organizer-related ones: {interactions.shape[0]}\")"
   ]
  },
  {
   "cell_type": "markdown",
   "id": "8eefb547-96dc-40bb-a5a4-ec7fc6119ae5",
   "metadata": {
    "papermill": {
     "duration": 0.014444,
     "end_time": "2025-07-31T22:44:13.709046",
     "exception": false,
     "start_time": "2025-07-31T22:44:13.694602",
     "status": "completed"
    },
    "tags": []
   },
   "source": [
    "<h2>Encode categorical columns</h2>"
   ]
  },
  {
   "cell_type": "code",
   "execution_count": 11,
   "id": "a8062905-8f4d-45e4-8971-21b30cdecffc",
   "metadata": {
    "execution": {
     "iopub.execute_input": "2025-07-31T22:44:13.737630Z",
     "iopub.status.busy": "2025-07-31T22:44:13.736631Z",
     "iopub.status.idle": "2025-07-31T22:44:13.750833Z",
     "shell.execute_reply": "2025-07-31T22:44:13.749826Z"
    },
    "papermill": {
     "duration": 0.030273,
     "end_time": "2025-07-31T22:44:13.752373",
     "exception": false,
     "start_time": "2025-07-31T22:44:13.722100",
     "status": "completed"
    },
    "tags": []
   },
   "outputs": [
    {
     "name": "stdout",
     "output_type": "stream",
     "text": [
      "\n",
      "Encoded Users sample:\n",
      "  user_id  gender  age_group  role\n",
      "0  user_0       2          2     1\n",
      "1  user_1       1          2     1\n",
      "2  user_2       2          2     1\n",
      "3  user_3       2          3     1\n",
      "4  user_4       2          2     1\n",
      "\n",
      "Encoded Events sample:\n",
      "  event_id  category  popularity_score  event_date  is_weekend\n",
      "0  event_0         4              0.96  2025-09-06        True\n",
      "1  event_1         2              0.20  2025-08-04       False\n",
      "2  event_2         2              0.95  2025-07-29       False\n",
      "3  event_3         2              0.99  2025-09-13        True\n",
      "4  event_4         6              0.71  2025-08-14       False\n"
     ]
    }
   ],
   "source": [
    "users_encoded = users.copy()\n",
    "\n",
    "for col in ['gender', 'age_group', 'role']:\n",
    "    if col in users.columns:\n",
    "        users_encoded[col] = users_encoded[col].astype('category').cat.codes\n",
    "    else:\n",
    "        print(f\"Column '{col}' not found in users DataFrame.\")\n",
    "\n",
    "events_encoded = events.copy()  # this line is essential!\n",
    "\n",
    "if 'category' in events.columns:\n",
    "    events_encoded['category'] = events_encoded['category'].astype('category').cat.codes\n",
    "else:\n",
    "    print(\"Column 'category' not found in events DataFrame.\")\n",
    "\n",
    "print(\"\\nEncoded Users sample:\")\n",
    "print(users_encoded.head())\n",
    "\n",
    "print(\"\\nEncoded Events sample:\")\n",
    "print(events_encoded.head())\n"
   ]
  },
  {
   "cell_type": "markdown",
   "id": "fcee7feb-3031-4cff-b4b8-56b5cc97ec8d",
   "metadata": {
    "papermill": {
     "duration": 0.013533,
     "end_time": "2025-07-31T22:44:13.785001",
     "exception": false,
     "start_time": "2025-07-31T22:44:13.771468",
     "status": "completed"
    },
    "tags": []
   },
   "source": [
    "<h2>Scale popularity_score</h2>"
   ]
  },
  {
   "cell_type": "code",
   "execution_count": 12,
   "id": "9cb64092-ad59-42f8-b1cb-2eb966080bbb",
   "metadata": {
    "execution": {
     "iopub.execute_input": "2025-07-31T22:44:13.816134Z",
     "iopub.status.busy": "2025-07-31T22:44:13.815130Z",
     "iopub.status.idle": "2025-07-31T22:44:13.827636Z",
     "shell.execute_reply": "2025-07-31T22:44:13.826030Z"
    },
    "papermill": {
     "duration": 0.029617,
     "end_time": "2025-07-31T22:44:13.830187",
     "exception": false,
     "start_time": "2025-07-31T22:44:13.800570",
     "status": "completed"
    },
    "tags": []
   },
   "outputs": [],
   "source": [
    "scaler = MinMaxScaler()\n",
    "events_encoded['popularity_score'] = scaler.fit_transform(events_encoded[['popularity_score']])"
   ]
  },
  {
   "cell_type": "markdown",
   "id": "1da855b1-1837-4e25-83bd-4d25dc52c259",
   "metadata": {
    "papermill": {
     "duration": 0.016128,
     "end_time": "2025-07-31T22:44:13.860830",
     "exception": false,
     "start_time": "2025-07-31T22:44:13.844702",
     "status": "completed"
    },
    "tags": []
   },
   "source": [
    "<h2>Convert event_date to datetime format</h2>"
   ]
  },
  {
   "cell_type": "code",
   "execution_count": 13,
   "id": "770705cd-c184-4f25-98ca-a972f23c922e",
   "metadata": {
    "execution": {
     "iopub.execute_input": "2025-07-31T22:44:13.898064Z",
     "iopub.status.busy": "2025-07-31T22:44:13.897063Z",
     "iopub.status.idle": "2025-07-31T22:44:13.905668Z",
     "shell.execute_reply": "2025-07-31T22:44:13.905668Z"
    },
    "papermill": {
     "duration": 0.027311,
     "end_time": "2025-07-31T22:44:13.908187",
     "exception": false,
     "start_time": "2025-07-31T22:44:13.880876",
     "status": "completed"
    },
    "tags": []
   },
   "outputs": [],
   "source": [
    "events_encoded['event_date'] = pd.to_datetime(events_encoded['event_date'])"
   ]
  },
  {
   "cell_type": "markdown",
   "id": "cfd4e97c-8c02-4555-afc2-ad36577c3682",
   "metadata": {
    "papermill": {
     "duration": 0.014982,
     "end_time": "2025-07-31T22:44:13.938028",
     "exception": false,
     "start_time": "2025-07-31T22:44:13.923046",
     "status": "completed"
    },
    "tags": []
   },
   "source": [
    "<h2>Final check: print samples and shapes after cleaning and encoding</h2>"
   ]
  },
  {
   "cell_type": "code",
   "execution_count": 14,
   "id": "e4950393-bf35-45aa-9f42-b005ca92c4ca",
   "metadata": {
    "execution": {
     "iopub.execute_input": "2025-07-31T22:44:13.970092Z",
     "iopub.status.busy": "2025-07-31T22:44:13.969077Z",
     "iopub.status.idle": "2025-07-31T22:44:13.981855Z",
     "shell.execute_reply": "2025-07-31T22:44:13.980840Z"
    },
    "papermill": {
     "duration": 0.03075,
     "end_time": "2025-07-31T22:44:13.983906",
     "exception": false,
     "start_time": "2025-07-31T22:44:13.953156",
     "status": "completed"
    },
    "tags": []
   },
   "outputs": [
    {
     "name": "stdout",
     "output_type": "stream",
     "text": [
      "\n",
      "Cleaned Users Sample:\n",
      "  user_id  gender  age_group  role\n",
      "0  user_0       2          2     1\n",
      "1  user_1       1          2     1\n",
      "2  user_2       2          2     1\n",
      "3  user_3       2          3     1\n",
      "4  user_4       2          2     1\n",
      "\n",
      "Cleaned Events Sample:\n",
      "  event_id  category  popularity_score event_date  is_weekend\n",
      "0  event_0         4              0.96 2025-09-06        True\n",
      "1  event_1         2              0.20 2025-08-04       False\n",
      "2  event_2         2              0.95 2025-07-29       False\n",
      "3  event_3         2              0.99 2025-09-13        True\n",
      "4  event_4         6              0.71 2025-08-14       False\n",
      "\n",
      "Cleaned Interactions Sample:\n",
      "    user_id   event_id\n",
      "0  user_870  event_209\n",
      "1  user_101  event_120\n",
      "2  user_628   event_19\n",
      "4   user_57  event_190\n",
      "5  user_430    event_0\n"
     ]
    }
   ],
   "source": [
    "print(\"\\nCleaned Users Sample:\")\n",
    "print(users_encoded.head())\n",
    "\n",
    "print(\"\\nCleaned Events Sample:\")\n",
    "print(events_encoded.head())\n",
    "\n",
    "print(\"\\nCleaned Interactions Sample:\")\n",
    "print(interactions.head())"
   ]
  },
  {
   "cell_type": "markdown",
   "id": "674821bf-3c90-4ab6-883b-9d3f703d21fe",
   "metadata": {
    "papermill": {
     "duration": 0.014561,
     "end_time": "2025-07-31T22:44:14.017473",
     "exception": false,
     "start_time": "2025-07-31T22:44:14.002912",
     "status": "completed"
    },
    "tags": []
   },
   "source": [
    "<h1 style=\"color:red;\">LightFM Dataset Preparation</h1>"
   ]
  },
  {
   "cell_type": "markdown",
   "id": "4299a597-9187-4740-b7f5-69628b1f54fb",
   "metadata": {
    "papermill": {
     "duration": 0.01586,
     "end_time": "2025-07-31T22:44:14.044888",
     "exception": false,
     "start_time": "2025-07-31T22:44:14.029028",
     "status": "completed"
    },
    "tags": []
   },
   "source": [
    "<h2>Build interaction matrix from (user_id, event_id) pairs</h2> "
   ]
  },
  {
   "cell_type": "code",
   "execution_count": 15,
   "id": "8327ff8c-d597-4f73-9544-af0772cf85b9",
   "metadata": {
    "execution": {
     "iopub.execute_input": "2025-07-31T22:44:14.076094Z",
     "iopub.status.busy": "2025-07-31T22:44:14.076094Z",
     "iopub.status.idle": "2025-07-31T22:44:14.893917Z",
     "shell.execute_reply": "2025-07-31T22:44:14.892908Z"
    },
    "papermill": {
     "duration": 0.837887,
     "end_time": "2025-07-31T22:44:14.896920",
     "exception": false,
     "start_time": "2025-07-31T22:44:14.059033",
     "status": "completed"
    },
    "tags": []
   },
   "outputs": [
    {
     "name": "stdout",
     "output_type": "stream",
     "text": [
      "Interaction matrix shape: (910, 506)\n",
      "User features sparse: (910, 920)\n",
      "Item features sparse: (506, 516)\n"
     ]
    }
   ],
   "source": [
    "dataset = Dataset()\n",
    "\n",
    "user_ids = users_encoded['user_id'].unique()\n",
    "event_ids = events_encoded['event_id'].unique()\n",
    "\n",
    "user_features_raw = users_encoded.set_index('user_id')[['gender', 'age_group', 'role']]\n",
    "user_feature_tuples = [\n",
    "    (uid, [f\"gender:{g}\", f\"age_group:{a}\", f\"role:{r}\"])\n",
    "    for uid, g, a, r in zip(user_features_raw.index, user_features_raw['gender'], user_features_raw['age_group'], user_features_raw['role'])\n",
    "]\n",
    "\n",
    "event_features_raw = events_encoded.set_index('event_id')[['category', 'popularity_score', 'is_weekend']]\n",
    "event_feature_tuples = [\n",
    "    (eid, [f\"category:{c}\", f\"is_weekend:{w}\"])\n",
    "    for eid, c, w in zip(event_features_raw.index, event_features_raw['category'], event_features_raw['is_weekend'])\n",
    "]\n",
    "\n",
    "dataset.fit(\n",
    "    users=user_ids,\n",
    "    items=event_ids,\n",
    "    user_features=set(f for _, feats in user_feature_tuples for f in feats),\n",
    "    item_features=set(f for _, feats in event_feature_tuples for f in feats)\n",
    ")\n",
    "\n",
    "(interactions_matrix, weights) = dataset.build_interactions(\n",
    "    [(row['user_id'], row['event_id']) for idx, row in interactions.iterrows()]\n",
    ")\n",
    "print(f\"Interaction matrix shape: {interactions_matrix.shape}\")\n",
    "\n",
    "user_features = dataset.build_user_features(user_feature_tuples)\n",
    "item_features = dataset.build_item_features(event_feature_tuples)\n",
    "\n",
    "print(\"User features sparse:\", user_features.shape)\n",
    "print(\"Item features sparse:\", item_features.shape)\n"
   ]
  },
  {
   "cell_type": "markdown",
   "id": "f3c48d8b-b0a1-4000-9dd9-5c52b947fa59",
   "metadata": {
    "papermill": {
     "duration": 0.024669,
     "end_time": "2025-07-31T22:44:14.945818",
     "exception": false,
     "start_time": "2025-07-31T22:44:14.921149",
     "status": "completed"
    },
    "tags": []
   },
   "source": [
    "<h1 style=\"color:red;\">Training</h1>"
   ]
  },
  {
   "cell_type": "markdown",
   "id": "3c25d66b-2f1c-41db-b6cc-98065ed9f976",
   "metadata": {
    "papermill": {
     "duration": 0.021043,
     "end_time": "2025-07-31T22:44:14.984891",
     "exception": false,
     "start_time": "2025-07-31T22:44:14.963848",
     "status": "completed"
    },
    "tags": []
   },
   "source": [
    "<h2>Train-Test Split</h2>"
   ]
  },
  {
   "cell_type": "code",
   "execution_count": 16,
   "id": "a6182f4d-bb09-47d5-aef9-82943754a837",
   "metadata": {
    "execution": {
     "iopub.execute_input": "2025-07-31T22:44:15.033610Z",
     "iopub.status.busy": "2025-07-31T22:44:15.032611Z",
     "iopub.status.idle": "2025-07-31T22:44:15.046156Z",
     "shell.execute_reply": "2025-07-31T22:44:15.044148Z"
    },
    "papermill": {
     "duration": 0.041695,
     "end_time": "2025-07-31T22:44:15.049164",
     "exception": false,
     "start_time": "2025-07-31T22:44:15.007469",
     "status": "completed"
    },
    "tags": []
   },
   "outputs": [
    {
     "name": "stdout",
     "output_type": "stream",
     "text": [
      "Train interactions: 7351 | Test interactions: 1838\n"
     ]
    }
   ],
   "source": [
    "train, test = random_train_test_split(interactions_matrix, test_percentage=0.2, random_state=42)\n",
    "print(f\"Train interactions: {train.nnz} | Test interactions: {test.nnz}\")"
   ]
  },
  {
   "cell_type": "markdown",
   "id": "3d81d42b-9b69-4133-ad8d-e1c5e3fc14e5",
   "metadata": {
    "papermill": {
     "duration": 0.018569,
     "end_time": "2025-07-31T22:44:15.093943",
     "exception": false,
     "start_time": "2025-07-31T22:44:15.075374",
     "status": "completed"
    },
    "tags": []
   },
   "source": [
    "<h2>Hyperparameter Tuning with Optuna</h2>\n",
    "<p>We use Optuna to automatically and efficiently find the best hyperparameters for the LightFM model. Optuna intelligently explores the parameter space by learning from previous trials, allowing faster convergence to optimal values compared to manual or random searches. This results in improved model performance with fewer training iterations and less computational effort.</p>"
   ]
  },
  {
   "cell_type": "code",
   "execution_count": 17,
   "id": "c8478bc9-6876-4d55-80a6-6e7ced261335",
   "metadata": {
    "execution": {
     "iopub.execute_input": "2025-07-31T22:44:15.137575Z",
     "iopub.status.busy": "2025-07-31T22:44:15.136571Z",
     "iopub.status.idle": "2025-07-31T22:45:41.303878Z",
     "shell.execute_reply": "2025-07-31T22:45:41.303878Z"
    },
    "papermill": {
     "duration": 86.189601,
     "end_time": "2025-07-31T22:45:41.305917",
     "exception": false,
     "start_time": "2025-07-31T22:44:15.116316",
     "status": "completed"
    },
    "tags": []
   },
   "outputs": [
    {
     "name": "stderr",
     "output_type": "stream",
     "text": [
      "[I 2025-07-31 23:44:15,144] A new study created in memory with name: no-name-3385394f-8b7e-4381-8753-527da7d3af9a\n"
     ]
    },
    {
     "name": "stderr",
     "output_type": "stream",
     "text": [
      "[I 2025-07-31 23:44:19,608] Trial 0 finished with value: 0.047368425875902176 and parameters: {'no_components': 59, 'learning_rate': 0.00023031947118431882, 'item_alpha': 3.666174665892833e-06, 'user_alpha': 5.4042105657238896e-06}. Best is trial 0 with value: 0.047368425875902176.\n"
     ]
    },
    {
     "name": "stderr",
     "output_type": "stream",
     "text": [
      "[I 2025-07-31 23:44:23,545] Trial 1 finished with value: 0.047368425875902176 and parameters: {'no_components': 48, 'learning_rate': 0.0005910841039435394, 'item_alpha': 4.573336678992504e-05, 'user_alpha': 0.0003527574908539674}. Best is trial 0 with value: 0.047368425875902176.\n"
     ]
    },
    {
     "name": "stderr",
     "output_type": "stream",
     "text": [
      "[I 2025-07-31 23:44:29,782] Trial 2 finished with value: 0.047368425875902176 and parameters: {'no_components': 84, 'learning_rate': 0.0004910924038163324, 'item_alpha': 1.7753346912069324e-05, 'user_alpha': 1.0605297133200575e-06}. Best is trial 0 with value: 0.047368425875902176.\n"
     ]
    },
    {
     "name": "stderr",
     "output_type": "stream",
     "text": [
      "[I 2025-07-31 23:44:32,534] Trial 3 finished with value: 0.05263157933950424 and parameters: {'no_components': 32, 'learning_rate': 0.0006274390952856026, 'item_alpha': 3.047002648768092e-05, 'user_alpha': 1.222584599570803e-05}. Best is trial 3 with value: 0.05263157933950424.\n"
     ]
    },
    {
     "name": "stderr",
     "output_type": "stream",
     "text": [
      "[I 2025-07-31 23:44:36,083] Trial 4 finished with value: 0.047368425875902176 and parameters: {'no_components': 44, 'learning_rate': 0.013299721158126674, 'item_alpha': 4.6030151204278405e-05, 'user_alpha': 0.00017130219686527242}. Best is trial 3 with value: 0.05263157933950424.\n"
     ]
    },
    {
     "name": "stderr",
     "output_type": "stream",
     "text": [
      "[I 2025-07-31 23:44:41,893] Trial 5 finished with value: 0.047368425875902176 and parameters: {'no_components': 88, 'learning_rate': 0.023905524079209924, 'item_alpha': 2.102221241406999e-06, 'user_alpha': 0.00100127824696802}. Best is trial 3 with value: 0.05263157933950424.\n"
     ]
    },
    {
     "name": "stderr",
     "output_type": "stream",
     "text": [
      "[I 2025-07-31 23:44:46,338] Trial 6 finished with value: 0.047368425875902176 and parameters: {'no_components': 65, 'learning_rate': 0.00020381375145145668, 'item_alpha': 0.000992304945536789, 'user_alpha': 0.00018789533356970023}. Best is trial 3 with value: 0.05263157933950424.\n"
     ]
    },
    {
     "name": "stderr",
     "output_type": "stream",
     "text": [
      "[I 2025-07-31 23:44:48,132] Trial 7 finished with value: 0.047368425875902176 and parameters: {'no_components': 25, 'learning_rate': 0.06926992315014198, 'item_alpha': 0.004994412801949031, 'user_alpha': 4.575426895499072e-06}. Best is trial 3 with value: 0.05263157933950424.\n"
     ]
    },
    {
     "name": "stderr",
     "output_type": "stream",
     "text": [
      "[I 2025-07-31 23:44:52,474] Trial 8 finished with value: 0.0566416010260582 and parameters: {'no_components': 71, 'learning_rate': 0.026952151661404255, 'item_alpha': 0.004416425180521416, 'user_alpha': 0.009864712647266072}. Best is trial 8 with value: 0.0566416010260582.\n"
     ]
    },
    {
     "name": "stderr",
     "output_type": "stream",
     "text": [
      "[I 2025-07-31 23:44:57,172] Trial 9 finished with value: 0.047368425875902176 and parameters: {'no_components': 71, 'learning_rate': 0.00033400553853336147, 'item_alpha': 3.0207923133007306e-05, 'user_alpha': 0.00017561253412147777}. Best is trial 8 with value: 0.0566416010260582.\n"
     ]
    },
    {
     "name": "stderr",
     "output_type": "stream",
     "text": [
      "[I 2025-07-31 23:45:03,101] Trial 10 finished with value: 0.047368425875902176 and parameters: {'no_components': 94, 'learning_rate': 0.003702014780445891, 'item_alpha': 0.0006350766447695883, 'user_alpha': 0.0031101791858336642}. Best is trial 8 with value: 0.0566416010260582.\n"
     ]
    },
    {
     "name": "stderr",
     "output_type": "stream",
     "text": [
      "[I 2025-07-31 23:45:05,117] Trial 11 finished with value: 0.047368425875902176 and parameters: {'no_components': 20, 'learning_rate': 0.001702498137340575, 'item_alpha': 0.00031933443888408235, 'user_alpha': 1.770166447227682e-05}. Best is trial 8 with value: 0.0566416010260582.\n"
     ]
    },
    {
     "name": "stderr",
     "output_type": "stream",
     "text": [
      "[I 2025-07-31 23:45:08,157] Trial 12 finished with value: 0.047368425875902176 and parameters: {'no_components': 36, 'learning_rate': 0.0027593719068125374, 'item_alpha': 0.004683965928479268, 'user_alpha': 0.008379449473907017}. Best is trial 8 with value: 0.0566416010260582.\n"
     ]
    },
    {
     "name": "stderr",
     "output_type": "stream",
     "text": [
      "[I 2025-07-31 23:45:12,903] Trial 13 finished with value: 0.03609022870659828 and parameters: {'no_components': 80, 'learning_rate': 0.09963057466287552, 'item_alpha': 0.0001796837264271963, 'user_alpha': 3.6323087033696416e-05}. Best is trial 8 with value: 0.0566416010260582.\n"
     ]
    },
    {
     "name": "stderr",
     "output_type": "stream",
     "text": [
      "[I 2025-07-31 23:45:16,493] Trial 14 finished with value: 0.047368425875902176 and parameters: {'no_components': 55, 'learning_rate': 0.00915468362183431, 'item_alpha': 5.750231887356036e-06, 'user_alpha': 3.277417991928608e-05}. Best is trial 8 with value: 0.0566416010260582.\n"
     ]
    },
    {
     "name": "stderr",
     "output_type": "stream",
     "text": [
      "[I 2025-07-31 23:45:21,431] Trial 15 finished with value: 0.0566416010260582 and parameters: {'no_components': 74, 'learning_rate': 0.0011074988825205542, 'item_alpha': 0.001980926201251334, 'user_alpha': 0.0009444993532321824}. Best is trial 8 with value: 0.0566416010260582.\n"
     ]
    },
    {
     "name": "stderr",
     "output_type": "stream",
     "text": [
      "[I 2025-07-31 23:45:26,404] Trial 16 finished with value: 0.047368425875902176 and parameters: {'no_components': 74, 'learning_rate': 0.00010414038711271858, 'item_alpha': 0.0017197534557519961, 'user_alpha': 0.001801688927007441}. Best is trial 8 with value: 0.0566416010260582.\n"
     ]
    },
    {
     "name": "stderr",
     "output_type": "stream",
     "text": [
      "[I 2025-07-31 23:45:32,145] Trial 17 finished with value: 0.047368425875902176 and parameters: {'no_components': 95, 'learning_rate': 0.0014276977205083122, 'item_alpha': 0.002281832139183929, 'user_alpha': 0.009894858964569197}. Best is trial 8 with value: 0.0566416010260582.\n"
     ]
    },
    {
     "name": "stderr",
     "output_type": "stream",
     "text": [
      "[I 2025-07-31 23:45:36,321] Trial 18 finished with value: 0.05639097839593887 and parameters: {'no_components': 69, 'learning_rate': 0.033814966211282986, 'item_alpha': 0.008624888979414661, 'user_alpha': 0.0006029694127521483}. Best is trial 8 with value: 0.0566416010260582.\n"
     ]
    },
    {
     "name": "stderr",
     "output_type": "stream",
     "text": [
      "[I 2025-07-31 23:45:41,298] Trial 19 finished with value: 0.047368425875902176 and parameters: {'no_components': 78, 'learning_rate': 0.005577252451892459, 'item_alpha': 0.0003742990440111377, 'user_alpha': 0.003163854684920354}. Best is trial 8 with value: 0.0566416010260582.\n"
     ]
    },
    {
     "name": "stdout",
     "output_type": "stream",
     "text": [
      "Best parameters: {'no_components': 71, 'learning_rate': 0.026952151661404255, 'item_alpha': 0.004416425180521416, 'user_alpha': 0.009864712647266072}\n",
      "Best Precision@5: 0.0566416010260582\n"
     ]
    }
   ],
   "source": [
    "def objective(trial):\n",
    "\n",
    "    model = LightFM(\n",
    "        no_components=trial.suggest_int(\"no_components\", 20, 100),\n",
    "        learning_rate=trial.suggest_float(\"learning_rate\", 1e-4, 1e-1, log=True),\n",
    "        item_alpha=trial.suggest_float(\"item_alpha\", 1e-6, 1e-2, log=True),\n",
    "        user_alpha=trial.suggest_float(\"user_alpha\", 1e-6, 1e-2, log=True),\n",
    "        loss=\"logistic\",\n",
    "        random_state=42\n",
    "    )\n",
    "\n",
    " \n",
    "    model.fit(train,\n",
    "              user_features=user_features,\n",
    "              item_features=item_features,\n",
    "              epochs=20,\n",
    "              num_threads=4,\n",
    "              verbose=False)\n",
    "\n",
    "\n",
    "    precision = precision_at_k(model, test,\n",
    "                               user_features=user_features,\n",
    "                               item_features=item_features,\n",
    "                               k=5).mean()\n",
    "    return precision\n",
    "\n",
    "\n",
    "study = optuna.create_study(direction=\"maximize\")\n",
    "study.optimize(objective, n_trials=20)\n",
    "\n",
    "print(\"Best parameters:\", study.best_params)\n",
    "print(\"Best Precision@5:\", study.best_value)"
   ]
  },
  {
   "cell_type": "markdown",
   "id": "c8d5969f-8b74-4477-9aba-43f5d4ef8481",
   "metadata": {
    "papermill": {
     "duration": 0.018389,
     "end_time": "2025-07-31T22:45:41.341631",
     "exception": false,
     "start_time": "2025-07-31T22:45:41.323242",
     "status": "completed"
    },
    "tags": []
   },
   "source": [
    "<h2> Train Final Model with Best Parameters</h2>"
   ]
  },
  {
   "cell_type": "code",
   "execution_count": 18,
   "id": "fe715b8d-ce1b-44d0-ab11-6707f1100cb7",
   "metadata": {
    "execution": {
     "iopub.execute_input": "2025-07-31T22:45:41.375037Z",
     "iopub.status.busy": "2025-07-31T22:45:41.374031Z",
     "iopub.status.idle": "2025-07-31T22:45:44.626243Z",
     "shell.execute_reply": "2025-07-31T22:45:44.626243Z"
    },
    "papermill": {
     "duration": 3.271868,
     "end_time": "2025-07-31T22:45:44.628777",
     "exception": false,
     "start_time": "2025-07-31T22:45:41.356909",
     "status": "completed"
    },
    "tags": []
   },
   "outputs": [
    {
     "data": {
      "text/plain": [
       "<lightfm.lightfm.LightFM at 0x2439da8e960>"
      ]
     },
     "execution_count": 18,
     "metadata": {},
     "output_type": "execute_result"
    }
   ],
   "source": [
    "best_params = study.best_params\n",
    "model = LightFM(**best_params, random_state=42)\n",
    "\n",
    "model.fit(train,\n",
    "          user_features=user_features,\n",
    "          item_features=item_features,\n",
    "          epochs=20,\n",
    "          num_threads=4)"
   ]
  },
  {
   "cell_type": "markdown",
   "id": "473dda97-072a-4ddf-8419-c77032bf3f43",
   "metadata": {
    "papermill": {
     "duration": 0.019822,
     "end_time": "2025-07-31T22:45:44.668852",
     "exception": false,
     "start_time": "2025-07-31T22:45:44.649030",
     "status": "completed"
    },
    "tags": []
   },
   "source": [
    "<h1 style=\"color:red;\">Evaluation</h1>\n",
    "<ol>\n",
    "    <li> <b>Precision@5: 0.0541</b>\n",
    "This means that, on average, about 5.4% of the top 5 recommendations for a user are relevant or actually interacted with by the user. It reflects the accuracy of the top recommendations.</li>\n",
    "    <li> <b>Recall@5: 0.1214</b>\n",
    "This indicates that the system is able to retrieve around 12.1% of all relevant items (items the user interacted with) within the top 5 recommendations. It shows how well the system covers the user’s interests.</li>\n",
    "    <li><b> AUC Score: 0.7430</b>\n",
    "       \n",
    "The Area Under the Curve (AUC) score of 0.743 means the model has a good overall ability to distinguish between items a user will interact with and those they will not. A score closer to 1 is better, so 0.743 shows solid predictive performance.\n",
    "\n",
    "</li>\n",
    "</ol>"
   ]
  },
  {
   "cell_type": "code",
   "execution_count": 19,
   "id": "cdf3bb08-b714-45ef-823c-9110a68ae32e",
   "metadata": {
    "execution": {
     "iopub.execute_input": "2025-07-31T22:45:44.703996Z",
     "iopub.status.busy": "2025-07-31T22:45:44.703996Z",
     "iopub.status.idle": "2025-07-31T22:45:46.108984Z",
     "shell.execute_reply": "2025-07-31T22:45:46.107969Z"
    },
    "papermill": {
     "duration": 1.424221,
     "end_time": "2025-07-31T22:45:46.110541",
     "exception": false,
     "start_time": "2025-07-31T22:45:44.686320",
     "status": "completed"
    },
    "tags": []
   },
   "outputs": [
    {
     "name": "stdout",
     "output_type": "stream",
     "text": [
      "Precision@5: 0.0566\n",
      "Recall@5: 0.1260\n",
      "AUC Score: 0.6128\n"
     ]
    }
   ],
   "source": [
    "precision = precision_at_k(model, test,\n",
    "                           user_features=user_features,\n",
    "                           item_features=item_features,\n",
    "                           k=5).mean()\n",
    "recall = recall_at_k(model, test,\n",
    "                     user_features=user_features,\n",
    "                     item_features=item_features,\n",
    "                     k=5).mean()\n",
    "auc = auc_score(model, test,\n",
    "                user_features=user_features,\n",
    "                item_features=item_features).mean()\n",
    "\n",
    "print(f\"Precision@5: {precision:.4f}\")\n",
    "print(f\"Recall@5: {recall:.4f}\")\n",
    "print(f\"AUC Score: {auc:.4f}\")\n"
   ]
  },
  {
   "cell_type": "markdown",
   "id": "24be664c-6852-45fa-8e44-5ee6e6ae4883",
   "metadata": {
    "papermill": {
     "duration": 0.026102,
     "end_time": "2025-07-31T22:45:46.166426",
     "exception": false,
     "start_time": "2025-07-31T22:45:46.140324",
     "status": "completed"
    },
    "tags": []
   },
   "source": [
    "<h2>Generate Top-N Recommendations</h2>"
   ]
  },
  {
   "cell_type": "code",
   "execution_count": 20,
   "id": "31c00220-ad4c-436c-9354-9c2d16d63e0d",
   "metadata": {
    "execution": {
     "iopub.execute_input": "2025-07-31T22:45:46.206105Z",
     "iopub.status.busy": "2025-07-31T22:45:46.205111Z",
     "iopub.status.idle": "2025-07-31T22:45:46.213960Z",
     "shell.execute_reply": "2025-07-31T22:45:46.212955Z"
    },
    "papermill": {
     "duration": 0.02963,
     "end_time": "2025-07-31T22:45:46.215976",
     "exception": false,
     "start_time": "2025-07-31T22:45:46.186346",
     "status": "completed"
    },
    "tags": []
   },
   "outputs": [],
   "source": [
    "def generate_recommendations(model, user_ids, interactions_matrix, user_features, item_features, n=5):\n",
    "    n_users, n_items = interactions_matrix.shape\n",
    "    recommendations = {}\n",
    "\n",
    "    for user_idx in range(n_users):\n",
    "        scores = model.predict(user_ids=user_idx,\n",
    "                               item_ids=np.arange(n_items),\n",
    "                               user_features=user_features,\n",
    "                               item_features=item_features)\n",
    "\n",
    "        known_items = interactions_matrix.tocsr()[user_idx].indices\n",
    "        scores[known_items] = -np.inf \n",
    "\n",
    "        top_items = np.argsort(-scores)[:n]\n",
    "        recommendations[user_ids[user_idx]] = top_items\n",
    "\n",
    "    return recommendations"
   ]
  },
  {
   "cell_type": "markdown",
   "id": "8345703d-659d-4efd-aac5-67892467de89",
   "metadata": {
    "papermill": {
     "duration": 0.015078,
     "end_time": "2025-07-31T22:45:46.249143",
     "exception": false,
     "start_time": "2025-07-31T22:45:46.234065",
     "status": "completed"
    },
    "tags": []
   },
   "source": [
    "<h2>Mapping & Displaying Recommendations (for user with id 0 )</h2> <p>this is used to have a better insight about the recommendation performance and the pattern followed</p>"
   ]
  },
  {
   "cell_type": "code",
   "execution_count": 21,
   "id": "0745943d-4a14-48a7-b382-9907488b9fb1",
   "metadata": {
    "execution": {
     "iopub.execute_input": "2025-07-31T22:45:46.285899Z",
     "iopub.status.busy": "2025-07-31T22:45:46.284669Z",
     "iopub.status.idle": "2025-07-31T22:45:46.301469Z",
     "shell.execute_reply": "2025-07-31T22:45:46.300872Z"
    },
    "papermill": {
     "duration": 0.035463,
     "end_time": "2025-07-31T22:45:46.303005",
     "exception": false,
     "start_time": "2025-07-31T22:45:46.267542",
     "status": "completed"
    },
    "tags": []
   },
   "outputs": [
    {
     "name": "stdout",
     "output_type": "stream",
     "text": [
      "Internal user ID 0 corresponds to user_id: user_0\n",
      "Events user interacted with:\n",
      "     user_id   event_id\n",
      "61    user_0   event_99\n",
      "1310  user_0  event_310\n",
      "2927  user_0  event_405\n",
      "3228  user_0  event_199\n",
      "3373  user_0  event_355\n",
      "5340  user_0  event_127\n",
      "7251  user_0   event_19\n",
      "7598  user_0  event_269\n",
      "9849  user_0  event_269\n",
      "  user_id   event_id  category  popularity_score  event_date  is_weekend\n",
      "0  user_0   event_99      Tech              0.94  2025-08-10        True\n",
      "1  user_0  event_310      Tech              0.98  2025-08-01       False\n",
      "2  user_0  event_405      Tech              0.91  2025-08-26       False\n",
      "3  user_0  event_199    Sports              0.97  2025-09-14        True\n",
      "4  user_0  event_355      Tech              0.92  2025-09-17       False\n",
      "5  user_0  event_127  Workshop              0.97  2025-07-31       False\n",
      "6  user_0   event_19    Sports              0.98  2025-08-02        True\n",
      "7  user_0  event_269  Workshop              0.97  2025-09-01       False\n",
      "8  user_0  event_269  Workshop              0.97  2025-09-01       False\n"
     ]
    }
   ],
   "source": [
    "user_id_map, user_feature_map, item_id_map, item_feature_map = dataset.mapping()\n",
    "inv_user_id_map = {v: k for k, v in user_id_map.items()}\n",
    "real_user_id = inv_user_id_map[0]\n",
    "print(f\"Internal user ID 0 corresponds to user_id: {real_user_id}\")\n",
    "user_interactions = interactions[interactions['user_id'] == real_user_id]\n",
    "print(\"Events user interacted with:\")\n",
    "print(user_interactions)\n",
    "interacted_event_info = user_interactions.merge(events, on='event_id', how='left')\n",
    "print(interacted_event_info)"
   ]
  },
  {
   "cell_type": "markdown",
   "id": "6116b03a-616e-4753-8872-4ea249d63843",
   "metadata": {
    "papermill": {
     "duration": 0.016732,
     "end_time": "2025-07-31T22:45:46.334284",
     "exception": false,
     "start_time": "2025-07-31T22:45:46.317552",
     "status": "completed"
    },
    "tags": []
   },
   "source": [
    "<h2>Exploring Recommendation Diversity and Novelty</h2> <p>To evaluate the quality of our recommendation system beyond accuracy, we analyze how diverse (varied) and serendipitous (unexpected but relevant) the suggested items are. This helps ensure users receive a mix of familiar and novel content that keeps the experience engaging and personalized.</p>\n",
    "<ol>\n",
    "    <li>A lower value of Diversity means less variation in content types.\n",
    "</li>\n",
    "<li>A high Serendipity score means that many of the recommended items are new to the user and highly popular, indicating that the system is effectively introducing appealing and unexpected content.</li>\n",
    "</ol>"
   ]
  },
  {
   "cell_type": "code",
   "execution_count": 22,
   "id": "88dd5311-0a7c-443d-986c-2874e714bdfd",
   "metadata": {
    "execution": {
     "iopub.execute_input": "2025-07-31T22:45:46.366241Z",
     "iopub.status.busy": "2025-07-31T22:45:46.365249Z",
     "iopub.status.idle": "2025-07-31T22:45:46.372887Z",
     "shell.execute_reply": "2025-07-31T22:45:46.372887Z"
    },
    "papermill": {
     "duration": 0.026579,
     "end_time": "2025-07-31T22:45:46.375410",
     "exception": false,
     "start_time": "2025-07-31T22:45:46.348831",
     "status": "completed"
    },
    "tags": []
   },
   "outputs": [],
   "source": [
    "def get_recommendations_for_user(user_id, model, dataset, user_features, item_features, events_df, top_n=10):\n",
    "    user_mapping = dataset.mapping()[0]\n",
    "    event_mapping = dataset.mapping()[2] \n",
    "    inv_event_mapping = {v: k for k, v in event_mapping.items()}\n",
    "\n",
    "    if user_id not in user_mapping:\n",
    "        raise ValueError(f\"User {user_id} not in dataset.\")\n",
    "\n",
    "    user_internal_id = user_mapping[user_id]\n",
    "\n",
    "    scores = model.predict(user_internal_id, np.arange(len(event_mapping)), user_features=user_features, item_features=item_features)\n",
    "\n",
    "    top_items_idx = np.argsort(-scores)[:top_n]\n",
    "    \n",
    "    recommended_event_ids = [inv_event_mapping[i] for i in top_items_idx]\n",
    "\n",
    "    return recommended_event_ids, scores[top_items_idx]"
   ]
  },
  {
   "cell_type": "code",
   "execution_count": 23,
   "id": "db11b851-b0bf-49af-80fc-433421827c17",
   "metadata": {
    "execution": {
     "iopub.execute_input": "2025-07-31T22:45:46.409141Z",
     "iopub.status.busy": "2025-07-31T22:45:46.409141Z",
     "iopub.status.idle": "2025-07-31T22:45:46.417621Z",
     "shell.execute_reply": "2025-07-31T22:45:46.416566Z"
    },
    "papermill": {
     "duration": 0.027624,
     "end_time": "2025-07-31T22:45:46.419138",
     "exception": false,
     "start_time": "2025-07-31T22:45:46.391514",
     "status": "completed"
    },
    "tags": []
   },
   "outputs": [
    {
     "name": "stdout",
     "output_type": "stream",
     "text": [
      "Recommended Event IDs: ['event_120', 'event_17', 'event_177', 'event_5', 'event_2']\n",
      "Scores: [1.9713734 1.9700029 1.9664929 1.9651498 1.9635036]\n"
     ]
    }
   ],
   "source": [
    "# Set the user ID to test\n",
    "test_user_id = \"user_2\"\n",
    "\n",
    "# Call the function\n",
    "try:\n",
    "    recommended_ids, scores = get_recommendations_for_user(\n",
    "        user_id=test_user_id,\n",
    "        model=model,\n",
    "        dataset=dataset,\n",
    "        user_features=user_features,\n",
    "        item_features=item_features,\n",
    "        events_df=events_encoded,  \n",
    "        top_n=5\n",
    "    )\n",
    "\n",
    "    print(\"Recommended Event IDs:\", recommended_ids)\n",
    "    print(\"Scores:\", scores)\n",
    "\n",
    "except ValueError as e:\n",
    "    print(\"Error:\", e)\n"
   ]
  },
  {
   "cell_type": "code",
   "execution_count": 24,
   "id": "6b4fe7b4-0a2c-48c4-a284-03f1d8d05f0e",
   "metadata": {
    "execution": {
     "iopub.execute_input": "2025-07-31T22:45:46.454335Z",
     "iopub.status.busy": "2025-07-31T22:45:46.454335Z",
     "iopub.status.idle": "2025-07-31T22:45:46.462756Z",
     "shell.execute_reply": "2025-07-31T22:45:46.461731Z"
    },
    "papermill": {
     "duration": 0.029075,
     "end_time": "2025-07-31T22:45:46.463815",
     "exception": false,
     "start_time": "2025-07-31T22:45:46.434740",
     "status": "completed"
    },
    "tags": []
   },
   "outputs": [],
   "source": [
    "\n",
    "def diversity(recommendations, events_df):\n",
    "    categories = events_df[events_df['event_id'].isin(recommendations)]['category']\n",
    "    if len(categories) == 0:\n",
    "        return 0\n",
    "    return categories.nunique() / len(categories)"
   ]
  },
  {
   "cell_type": "code",
   "execution_count": 25,
   "id": "11f3a41c-4c21-4e3a-879b-cc6eea7250cb",
   "metadata": {
    "execution": {
     "iopub.execute_input": "2025-07-31T22:45:46.497479Z",
     "iopub.status.busy": "2025-07-31T22:45:46.496476Z",
     "iopub.status.idle": "2025-07-31T22:45:46.502576Z",
     "shell.execute_reply": "2025-07-31T22:45:46.502576Z"
    },
    "papermill": {
     "duration": 0.025787,
     "end_time": "2025-07-31T22:45:46.504616",
     "exception": false,
     "start_time": "2025-07-31T22:45:46.478829",
     "status": "completed"
    },
    "tags": []
   },
   "outputs": [],
   "source": [
    "def serendipity(recommendations, user_history, events_df):\n",
    "    novel_items = set(recommendations) - set(user_history)\n",
    "    if len(recommendations) == 0:\n",
    "        return 0\n",
    "    top_serendipitous = events_df[\n",
    "        (events_df['event_id'].isin(novel_items)) & \n",
    "        (events_df['popularity_score'] > 0.9)\n",
    "    ]\n",
    "    return len(top_serendipitous) / len(recommendations)"
   ]
  },
  {
   "cell_type": "code",
   "execution_count": 26,
   "id": "026fd917-1623-4080-9b9a-ea98705424f2",
   "metadata": {
    "execution": {
     "iopub.execute_input": "2025-07-31T22:45:46.542281Z",
     "iopub.status.busy": "2025-07-31T22:45:46.541269Z",
     "iopub.status.idle": "2025-07-31T22:45:46.556747Z",
     "shell.execute_reply": "2025-07-31T22:45:46.555730Z"
    },
    "papermill": {
     "duration": 0.035273,
     "end_time": "2025-07-31T22:45:46.557750",
     "exception": false,
     "start_time": "2025-07-31T22:45:46.522477",
     "status": "completed"
    },
    "tags": []
   },
   "outputs": [
    {
     "name": "stdout",
     "output_type": "stream",
     "text": [
      "Recommendations for user_0: ['event_120', 'event_17', 'event_177', 'event_5', 'event_2', 'cmdryoz04000bgb6s6v26zjyr', 'event_329', 'event_139', 'event_497', 'event_420']\n",
      "Diversity: 0.100\n",
      "Serendipity: 0.600\n"
     ]
    }
   ],
   "source": [
    "user_to_test = 'user_0'\n",
    "\n",
    "user_history = interactions[interactions['user_id'] == user_to_test]['event_id'].tolist()\n",
    "\n",
    "recommended_events, rec_scores = get_recommendations_for_user(\n",
    "    user_id=user_to_test,\n",
    "    model=model,\n",
    "    dataset=dataset,\n",
    "    user_features=user_features,\n",
    "    item_features=item_features,\n",
    "    events_df=events_encoded,\n",
    "    top_n=10\n",
    ")\n",
    "\n",
    "div_score = diversity(recommended_events, events_encoded)\n",
    "ser_score = serendipity(recommended_events, user_history, events_encoded)\n",
    "\n",
    "print(f\"Recommendations for {user_to_test}: {recommended_events}\")\n",
    "print(f\"Diversity: {div_score:.3f}\")\n",
    "print(f\"Serendipity: {ser_score:.3f}\")\n"
   ]
  },
  {
   "cell_type": "markdown",
   "id": "b7e0393a-941c-4db0-8bf5-c063a0804c28",
   "metadata": {
    "papermill": {
     "duration": 0.017024,
     "end_time": "2025-07-31T22:45:46.591122",
     "exception": false,
     "start_time": "2025-07-31T22:45:46.574098",
     "status": "completed"
    },
    "tags": []
   },
   "source": [
    "<h2>Import the model</h2>"
   ]
  },
  {
   "cell_type": "code",
   "execution_count": 27,
   "id": "46e6caf6-7467-4fb5-a883-d22213e1ab6c",
   "metadata": {
    "execution": {
     "iopub.execute_input": "2025-07-31T22:45:46.625773Z",
     "iopub.status.busy": "2025-07-31T22:45:46.624783Z",
     "iopub.status.idle": "2025-07-31T22:45:46.661653Z",
     "shell.execute_reply": "2025-07-31T22:45:46.660635Z"
    },
    "papermill": {
     "duration": 0.057285,
     "end_time": "2025-07-31T22:45:46.663649",
     "exception": false,
     "start_time": "2025-07-31T22:45:46.606364",
     "status": "completed"
    },
    "tags": []
   },
   "outputs": [
    {
     "data": {
      "text/plain": [
       "['recommendation_dataset.pkl']"
      ]
     },
     "execution_count": 27,
     "metadata": {},
     "output_type": "execute_result"
    }
   ],
   "source": [
    "joblib.dump(model, 'recommendation_model.pkl')\n",
    "joblib.dump(scaler, 'recommendation_scaler.pkl')\n",
    "joblib.dump(user_features, 'recommendation_user_features.pkl')\n",
    "joblib.dump(item_features, 'recommendation_item_features.pkl')\n",
    "joblib.dump(dataset, 'recommendation_dataset.pkl')\n"
   ]
  }
 ],
 "metadata": {
  "kernelspec": {
   "display_name": "Python [conda env:base] *",
   "language": "python",
   "name": "conda-base-py"
  },
  "language_info": {
   "codemirror_mode": {
    "name": "ipython",
    "version": 3
   },
   "file_extension": ".py",
   "mimetype": "text/x-python",
   "name": "python",
   "nbconvert_exporter": "python",
   "pygments_lexer": "ipython3",
   "version": "3.12.7"
  },
  "papermill": {
   "default_parameters": {},
   "duration": 99.551254,
   "end_time": "2025-07-31T22:45:47.358216",
   "environment_variables": {},
   "exception": null,
   "input_path": "lightFM_hybrid_recommendation_system.ipynb",
   "output_path": "train_model_out.ipynb",
   "parameters": {},
   "start_time": "2025-07-31T22:44:07.806962",
   "version": "2.6.0"
  }
 },
 "nbformat": 4,
 "nbformat_minor": 5
}